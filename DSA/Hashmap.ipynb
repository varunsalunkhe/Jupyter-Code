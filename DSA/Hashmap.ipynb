{
 "cells": [
  {
   "cell_type": "code",
   "execution_count": 1,
   "id": "37b9db2c-e220-43e0-89b8-8dc9cac953c5",
   "metadata": {},
   "outputs": [
    {
     "data": {
      "text/plain": [
       "(0, 3)"
      ]
     },
     "execution_count": 1,
     "metadata": {},
     "output_type": "execute_result"
    }
   ],
   "source": [
    "#sum of 2 number is k\n",
    "\n",
    "def sum_ind(lst, k, dic):\n",
    "    for i , n in enumerate(lst):\n",
    "        if k - lst[i] in dic:\n",
    "            return dic[k - lst[i]],i\n",
    "        else:\n",
    "            dic[n] =i\n",
    "    \n",
    "        \n",
    "sum_ind([2,4,5,1], 3, {})   "
   ]
  },
  {
   "cell_type": "code",
   "execution_count": null,
   "id": "470b2e61-a31b-494f-9ebf-40daf91de78c",
   "metadata": {},
   "outputs": [],
   "source": []
  }
 ],
 "metadata": {
  "kernelspec": {
   "display_name": "Python 3 (ipykernel)",
   "language": "python",
   "name": "python3"
  },
  "language_info": {
   "codemirror_mode": {
    "name": "ipython",
    "version": 3
   },
   "file_extension": ".py",
   "mimetype": "text/x-python",
   "name": "python",
   "nbconvert_exporter": "python",
   "pygments_lexer": "ipython3",
   "version": "3.12.7"
  }
 },
 "nbformat": 4,
 "nbformat_minor": 5
}
