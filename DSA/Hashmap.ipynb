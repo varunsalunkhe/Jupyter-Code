{
 "cells": [
  {
   "cell_type": "code",
   "execution_count": 1,
   "id": "37b9db2c-e220-43e0-89b8-8dc9cac953c5",
   "metadata": {},
   "outputs": [
    {
     "data": {
      "text/plain": [
       "(0, 3)"
      ]
     },
     "execution_count": 1,
     "metadata": {},
     "output_type": "execute_result"
    }
   ],
   "source": [
    "#sum of 2 number is k\n",
    "\n",
    "def sum_ind(lst, k, dic):\n",
    "    for i , n in enumerate(lst):\n",
    "        if k - lst[i] in dic:\n",
    "            return dic[k - lst[i]],i\n",
    "        else:\n",
    "            dic[n] =i\n",
    "    \n",
    "        \n",
    "sum_ind([2,4,5,1], 3, {})   "
   ]
  },
  {
   "cell_type": "code",
   "execution_count": 16,
   "id": "470b2e61-a31b-494f-9ebf-40daf91de78c",
   "metadata": {},
   "outputs": [
    {
     "name": "stdout",
     "output_type": "stream",
     "text": [
      "{'f': 5, 'h': 2, 'g': 4, 'j': 1, 'd': 1}\n",
      "0\n",
      "5\n"
     ]
    }
   ],
   "source": [
    "s = \"fhgjghgfffdfg\"\n",
    "\n",
    "div = {}\n",
    "for i in s:\n",
    "    if i in div:\n",
    "        div[i]+=1\n",
    "    else:\n",
    "        div[i] = 1\n",
    "print(div)\n",
    "\n",
    "maxa = 0\n",
    "ind = -1\n",
    "print(maxa)\n",
    "for i , n in div.items():\n",
    "    if n > maxa:\n",
    "        maxa = n\n",
    "        ind = i\n",
    "\n",
    "print(div[ind])\n",
    "    "
   ]
  },
  {
   "cell_type": "code",
   "execution_count": 7,
   "id": "41a6e132-e8b3-43c7-970d-f94b9a2fa65a",
   "metadata": {},
   "outputs": [
    {
     "data": {
      "text/plain": [
       "dict_items([('a', 1), ('b', 2)])"
      ]
     },
     "execution_count": 7,
     "metadata": {},
     "output_type": "execute_result"
    }
   ],
   "source": [
    "dic = {\"a\":1, \"b\":2}\n",
    "\n",
    "dic.items()"
   ]
  },
  {
   "cell_type": "code",
   "execution_count": null,
   "id": "9b8f5fb8-9f5f-4b27-bb71-b22187833663",
   "metadata": {},
   "outputs": [],
   "source": []
  }
 ],
 "metadata": {
  "kernelspec": {
   "display_name": "Python 3 (ipykernel)",
   "language": "python",
   "name": "python3"
  },
  "language_info": {
   "codemirror_mode": {
    "name": "ipython",
    "version": 3
   },
   "file_extension": ".py",
   "mimetype": "text/x-python",
   "name": "python",
   "nbconvert_exporter": "python",
   "pygments_lexer": "ipython3",
   "version": "3.12.7"
  }
 },
 "nbformat": 4,
 "nbformat_minor": 5
}
