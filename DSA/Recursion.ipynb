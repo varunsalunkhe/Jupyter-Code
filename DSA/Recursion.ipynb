{
 "cells": [
  {
   "cell_type": "code",
   "execution_count": 18,
   "id": "07c22cec-b2bb-4952-880d-41cbf82c30a8",
   "metadata": {},
   "outputs": [
    {
     "name": "stdout",
     "output_type": "stream",
     "text": [
      "[5, 2, 4, 1]\n"
     ]
    }
   ],
   "source": [
    "# Reverse a string\n",
    "\n",
    "def rev_str(i,s):\n",
    "    if i>len(s)/2:\n",
    "        return s\n",
    "    (s[i],s[len(s)-1-i]) = (s[len(s)-1-i], s[i])\n",
    "    return rev_str(i+1,s)\n",
    "\n",
    "    \n",
    "s = [1,2,4,5]\n",
    "print(rev_str(0,s))"
   ]
  },
  {
   "cell_type": "code",
   "execution_count": 17,
   "id": "f1e9d100-7198-42ae-a19c-e2e75c17ea44",
   "metadata": {},
   "outputs": [
    {
     "name": "stdin",
     "output_type": "stream",
     "text": [
      " madam\n"
     ]
    },
    {
     "name": "stdout",
     "output_type": "stream",
     "text": [
      "True\n"
     ]
    }
   ],
   "source": [
    "# pallindrom\n",
    "\n",
    "def check_pallin(i,s):\n",
    "    if i >= len(s)/2:\n",
    "        return True\n",
    "    elif s[i] != s[len(s)-1-i]:\n",
    "        return False\n",
    "    return check_pallin(i+1,s)\n",
    "    \n",
    "s = [i for i in input()]\n",
    "print(check_pallin(0,s))"
   ]
  },
  {
   "cell_type": "code",
   "execution_count": 38,
   "id": "de2936ac-721e-4bcc-9985-ca005c98df5c",
   "metadata": {},
   "outputs": [
    {
     "name": "stdout",
     "output_type": "stream",
     "text": [
      "[3, 6, 2, 1]\n",
      "[3, 6, 2]\n",
      "[3, 6, 1]\n",
      "[3, 6]\n",
      "[3, 2, 1]\n",
      "[3, 2]\n",
      "[3, 1]\n",
      "[3]\n",
      "[6, 2, 1]\n",
      "[6, 2]\n",
      "[6, 1]\n",
      "[6]\n",
      "[2, 1]\n",
      "[2]\n",
      "[1]\n",
      "[]\n"
     ]
    }
   ],
   "source": [
    "# printing all subsequenses\n",
    "\n",
    "def sub_seq(i, empty, n, lst):\n",
    "\n",
    "    if i == n:\n",
    "        print(empty)\n",
    "        return\n",
    "    empty.append(lst[i])\n",
    "    sub_seq(i+1,empty,n, lst)\n",
    "    # empty.remove[lst[i]]\n",
    "    empty.pop()\n",
    "    sub_seq(i+1,empty,n, lst)\n",
    "    \n",
    "sub_seq(0,[],4, [3,6,2,1])"
   ]
  },
  {
   "cell_type": "code",
   "execution_count": 54,
   "id": "3df00379-afe5-4611-942d-bbefb8c34d7f",
   "metadata": {},
   "outputs": [
    {
     "name": "stdout",
     "output_type": "stream",
     "text": [
      "[3]\n",
      "[2, 1]\n"
     ]
    }
   ],
   "source": [
    "# printing all subsequenses whose sum is K\n",
    "\n",
    "def sub_seq_sum(i, empty,summ,k, n, lst):\n",
    "\n",
    "    if i == n:\n",
    "        if summ == k:\n",
    "            print(empty)\n",
    "        return\n",
    "    empty.append(lst[i])\n",
    "    summ = summ + lst[i]\n",
    "    sub_seq_sum(i+1,empty,summ,k,n, lst)\n",
    "    # empty.remove[lst[i]]\n",
    "    empty.pop()\n",
    "    summ = summ - lst[i]\n",
    "    sub_seq_sum(i+1,empty,summ,k,n, lst)\n",
    "    \n",
    "sub_seq_sum(0,[], 0 , 3, 4, [3,6,2,1])"
   ]
  },
  {
   "cell_type": "code",
   "execution_count": 53,
   "id": "2f7934c6-bd99-4bb8-a09e-e794d22f034c",
   "metadata": {},
   "outputs": [
    {
     "name": "stdout",
     "output_type": "stream",
     "text": [
      "[3]\n"
     ]
    },
    {
     "data": {
      "text/plain": [
       "True"
      ]
     },
     "execution_count": 53,
     "metadata": {},
     "output_type": "execute_result"
    }
   ],
   "source": [
    "# printing only one subsequenses whose sum is K\n",
    "\n",
    "def sub_seq_sum(i, empty,summ,k, n, lst):\n",
    "\n",
    "    if i == n:\n",
    "        if summ == k:\n",
    "            print(empty)\n",
    "            return True\n",
    "        return\n",
    "    empty.append(lst[i])\n",
    "    summ = summ + lst[i]\n",
    "    if sub_seq_sum(i+1,empty,summ,k,n, lst) == True:\n",
    "        return True\n",
    "    # empty.remove[lst[i]]\n",
    "    empty.pop()\n",
    "    summ = summ - lst[i]\n",
    "    if sub_seq_sum(i+1,empty,summ,k,n, lst) == True:\n",
    "        return True\n",
    "    return False\n",
    "    \n",
    "sub_seq_sum(0,[], 0 , 3, 4, [3,6,2,1])"
   ]
  },
  {
   "cell_type": "code",
   "execution_count": 58,
   "id": "5d1335fe-0580-475e-a969-4b18b26ee84f",
   "metadata": {},
   "outputs": [
    {
     "data": {
      "text/plain": [
       "2"
      ]
     },
     "execution_count": 58,
     "metadata": {},
     "output_type": "execute_result"
    }
   ],
   "source": [
    "# printing count subsequenses whose sum is K\n",
    "\n",
    "def sub_seq_sum(i,summ,k, n, lst):\n",
    "    \n",
    "    if i == n:\n",
    "        if summ == k:\n",
    "            return 1\n",
    "            \n",
    "        else:\n",
    "            return 0\n",
    "    \n",
    "    summ = summ + lst[i]\n",
    "    r = sub_seq_sum(i+1,summ,k,n, lst)\n",
    "    # empty.remove[lst[i]]\n",
    "  \n",
    "    summ = summ - lst[i]\n",
    "    l = sub_seq_sum(i+1,summ,k,n, lst)\n",
    "    return r + l\n",
    "    \n",
    "sub_seq_sum(0, 0 , 3, 4, [3,6,2,1])"
   ]
  },
  {
   "cell_type": "code",
   "execution_count": 62,
   "id": "daacae49-e965-4599-9370-b67b40cfbd45",
   "metadata": {},
   "outputs": [
    {
     "name": "stdout",
     "output_type": "stream",
     "text": [
      "[0, 1, 2, 3, 4, 5]\n",
      "[1, 2, 3, 4, 5]\n",
      "[2, 3, 4, 5]\n",
      "[3, 4, 5]\n",
      "[4, 5]\n",
      "[5]\n"
     ]
    }
   ],
   "source": [
    "def print_pat(i , n):\n",
    "    if i > n:\n",
    "        return\n",
    "    a = [i for i in range(i , n+1)]\n",
    "    print(a)\n",
    "    print_pat(i+1, n)\n",
    "\n",
    "print_pat(0,5)"
   ]
  },
  {
   "cell_type": "code",
   "execution_count": 65,
   "id": "dfae2c11-bb68-4fa9-b995-451978bf6e26",
   "metadata": {},
   "outputs": [
    {
     "name": "stdout",
     "output_type": "stream",
     "text": [
      "[5]\n",
      "[4, 5]\n",
      "[3, 4, 5]\n",
      "[2, 3, 4, 5]\n",
      "[1, 2, 3, 4, 5]\n",
      "[0, 1, 2, 3, 4, 5]\n"
     ]
    }
   ],
   "source": [
    "def print_pat(i , n):\n",
    "    if i > n:\n",
    "        return\n",
    "    print_pat(i+1, n)\n",
    "    a = [i for i in range(i , n+1)]\n",
    "    print(a)\n",
    "   \n",
    "\n",
    "print_pat(0,5)"
   ]
  },
  {
   "cell_type": "code",
   "execution_count": null,
   "id": "fca46162-85f4-4878-a123-624f0c3d42fb",
   "metadata": {},
   "outputs": [],
   "source": [
    "#Printing N numbers with using recusion\n",
    "li= []\n",
    "\n",
    "def printNos(x):\n",
    "  if x==0:\n",
    "    return\n",
    "  else:\n",
    "\n",
    "    li.insert(0,x)\n",
    "    print(li)\n",
    "    x = x - 1\n",
    "    printNos(x)\n",
    "  return li\n",
    "\n",
    "print(printNos(5))"
   ]
  },
  {
   "cell_type": "code",
   "execution_count": null,
   "id": "3d62b25d-f9a8-475e-a3f2-d0be995ec592",
   "metadata": {},
   "outputs": [],
   "source": [
    "# printing natural numbers\n",
    "\n",
    "li = []\n",
    "def printnum(x):\n",
    "    if x==0:\n",
    "        return\n",
    "    else:\n",
    "        li.insert(0,x)\n",
    "        printnum(x-1)\n",
    "    return li\n",
    "print(printnum(10))"
   ]
  },
  {
   "cell_type": "code",
   "execution_count": null,
   "id": "b6d57efc-2a60-4de9-ae2c-2d2b703603d4",
   "metadata": {},
   "outputs": [],
   "source": [
    "#backtracking\n",
    "li =[]\n",
    "def backtrack(x):\n",
    "  if x<1:\n",
    "    return\n",
    "  else:\n",
    "    backtrack(x-1)\n",
    "    li.insert(0,x)\n",
    "    print(x)\n",
    "  return li\n",
    "print(backtrack(5))"
   ]
  },
  {
   "cell_type": "code",
   "execution_count": null,
   "id": "b3bd0959-5ff5-4702-a383-678f9ac5ba21",
   "metadata": {},
   "outputs": [],
   "source": [
    "#printing name without using loop\n",
    "li = []\n",
    "def printNtimes(n):\n",
    "    if n == 0:\n",
    "        return\n",
    "    else:\n",
    "        li.append(\"Coding Ninjas\")\n",
    "        printNtimes(n-1)\n",
    "    return li\n",
    "\n",
    "print(printNtimes(4))"
   ]
  },
  {
   "cell_type": "code",
   "execution_count": null,
   "id": "ac534cfa-962b-4d63-b704-a93f5779569c",
   "metadata": {},
   "outputs": [],
   "source": [
    "\n",
    "#summation of first n numbers\n",
    "#functional way\n",
    "\n",
    "def summation(n):\n",
    "  if n==0:\n",
    "    return 0\n",
    "  return n + summation(n-1)\n",
    "\n",
    "print(summation(3))"
   ]
  },
  {
   "cell_type": "code",
   "execution_count": null,
   "id": "717864e5-2492-425d-9249-3e2345ae0167",
   "metadata": {},
   "outputs": [],
   "source": [
    "#factorial of first n numbers\n",
    "#functional way\n",
    "\n",
    "def fact(n):\n",
    "  if n==1:\n",
    "    return 1\n",
    "  return n * fact(n-1)\n",
    "\n",
    "print(fact(3))\n",
    "     "
   ]
  }
 ],
 "metadata": {
  "kernelspec": {
   "display_name": "Python 3 (ipykernel)",
   "language": "python",
   "name": "python3"
  },
  "language_info": {
   "codemirror_mode": {
    "name": "ipython",
    "version": 3
   },
   "file_extension": ".py",
   "mimetype": "text/x-python",
   "name": "python",
   "nbconvert_exporter": "python",
   "pygments_lexer": "ipython3",
   "version": "3.12.7"
  }
 },
 "nbformat": 4,
 "nbformat_minor": 5
}
