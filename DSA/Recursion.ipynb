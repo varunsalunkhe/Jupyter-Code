{
 "cells": [
  {
   "cell_type": "code",
   "execution_count": 18,
   "id": "07c22cec-b2bb-4952-880d-41cbf82c30a8",
   "metadata": {},
   "outputs": [
    {
     "name": "stdout",
     "output_type": "stream",
     "text": [
      "[5, 2, 4, 1]\n"
     ]
    }
   ],
   "source": [
    "# Reverse a string\n",
    "\n",
    "def rev_str(i,s):\n",
    "    if i>len(s)/2:\n",
    "        return s\n",
    "    (s[i],s[len(s)-1-i]) = (s[len(s)-1-i], s[i])\n",
    "    return rev_str(i+1,s)\n",
    "\n",
    "    \n",
    "s = [1,2,4,5]\n",
    "print(rev_str(0,s))"
   ]
  },
  {
   "cell_type": "code",
   "execution_count": 17,
   "id": "f1e9d100-7198-42ae-a19c-e2e75c17ea44",
   "metadata": {},
   "outputs": [
    {
     "name": "stdin",
     "output_type": "stream",
     "text": [
      " madam\n"
     ]
    },
    {
     "name": "stdout",
     "output_type": "stream",
     "text": [
      "True\n"
     ]
    }
   ],
   "source": [
    "# pallindrom\n",
    "\n",
    "def check_pallin(i,s):\n",
    "    if i >= len(s)/2:\n",
    "        return True\n",
    "    elif s[i] != s[len(s)-1-i]:\n",
    "        return False\n",
    "    return check_pallin(i+1,s)\n",
    "    \n",
    "s = [i for i in input()]\n",
    "print(check_pallin(0,s))"
   ]
  },
  {
   "cell_type": "code",
   "execution_count": 38,
   "id": "de2936ac-721e-4bcc-9985-ca005c98df5c",
   "metadata": {},
   "outputs": [
    {
     "name": "stdout",
     "output_type": "stream",
     "text": [
      "[3, 6, 2, 1]\n",
      "[3, 6, 2]\n",
      "[3, 6, 1]\n",
      "[3, 6]\n",
      "[3, 2, 1]\n",
      "[3, 2]\n",
      "[3, 1]\n",
      "[3]\n",
      "[6, 2, 1]\n",
      "[6, 2]\n",
      "[6, 1]\n",
      "[6]\n",
      "[2, 1]\n",
      "[2]\n",
      "[1]\n",
      "[]\n"
     ]
    }
   ],
   "source": [
    "# printing all subsequenses\n",
    "\n",
    "def sub_seq(i, empty, n, lst):\n",
    "\n",
    "    if i == n:\n",
    "        print(empty)\n",
    "        return\n",
    "    empty.append(lst[i])\n",
    "    sub_seq(i+1,empty,n, lst)\n",
    "    # empty.remove[lst[i]]\n",
    "    empty.pop()\n",
    "    sub_seq(i+1,empty,n, lst)\n",
    "    \n",
    "sub_seq(0,[],4, [3,6,2,1])"
   ]
  },
  {
   "cell_type": "code",
   "execution_count": null,
   "id": "3df00379-afe5-4611-942d-bbefb8c34d7f",
   "metadata": {},
   "outputs": [],
   "source": []
  }
 ],
 "metadata": {
  "kernelspec": {
   "display_name": "Python 3 (ipykernel)",
   "language": "python",
   "name": "python3"
  },
  "language_info": {
   "codemirror_mode": {
    "name": "ipython",
    "version": 3
   },
   "file_extension": ".py",
   "mimetype": "text/x-python",
   "name": "python",
   "nbconvert_exporter": "python",
   "pygments_lexer": "ipython3",
   "version": "3.12.7"
  }
 },
 "nbformat": 4,
 "nbformat_minor": 5
}
