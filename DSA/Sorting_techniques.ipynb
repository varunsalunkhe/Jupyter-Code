{
 "cells": [
  {
   "cell_type": "code",
   "execution_count": 2,
   "id": "e9d4092e-a29d-4152-afaf-6f8e83990bb8",
   "metadata": {},
   "outputs": [
    {
     "name": "stdout",
     "output_type": "stream",
     "text": [
      "[2, 2, 4, 5, 19]\n"
     ]
    }
   ],
   "source": [
    "#selection sort\n",
    "\n",
    "def selection_sort(lst):\n",
    "    l = len(lst)\n",
    "    \n",
    "    for i in range(l):\n",
    "        min_ind = i\n",
    "        for j in range(i+1, l):\n",
    "            if lst[i] > lst[j]:\n",
    "                min_ind = j\n",
    "        (lst[min_ind], lst[i]) = (lst[i] ,lst[min_ind])\n",
    "    return lst\n",
    "\n",
    "print(selection_sort([5,4,2,19,2]))"
   ]
  },
  {
   "cell_type": "code",
   "execution_count": 7,
   "id": "bfec8534-9828-450c-9792-5b1c21ad1049",
   "metadata": {},
   "outputs": [
    {
     "name": "stdout",
     "output_type": "stream",
     "text": [
      "[0, 2, 2, 4, 5, 19]\n"
     ]
    }
   ],
   "source": [
    "#Bubble sort\n",
    "\n",
    "def bubble_sort(lst):\n",
    "    l = len(lst)\n",
    "\n",
    "    swapped = 0\n",
    "    while  l>0:\n",
    "        for i in range(l-1):\n",
    "            if lst[i] > lst[i+1]:\n",
    "                (lst[i], lst[i+1]) = (lst[i+1], lst[i])\n",
    "                swapped = 1\n",
    "        if swapped ==0:\n",
    "            break\n",
    "        l-=1\n",
    "    return lst\n",
    "\n",
    "\n",
    "print(bubble_sort([5,4,2,19,2,0]))"
   ]
  },
  {
   "cell_type": "code",
   "execution_count": 24,
   "id": "e244aecb-d65d-43d7-9c6f-c47bbf8f53bd",
   "metadata": {},
   "outputs": [
    {
     "name": "stdout",
     "output_type": "stream",
     "text": [
      "[0, 2, 2, 4, 5, 19]\n"
     ]
    }
   ],
   "source": [
    "#Insertion sort\n",
    "\n",
    "def insertion_sort(lst):\n",
    "    l = len(lst)\n",
    "    for i in range(1,l):\n",
    "        key =lst[i]\n",
    "        j = i-1\n",
    "        while j>=0 and lst[j] > key :\n",
    "            lst[j+1]= lst[j]\n",
    "            j-=1       \n",
    "        lst[j+1] = key\n",
    "    return lst\n",
    "    \n",
    "print(insertion_sort([5,4,2,19,2,0]))"
   ]
  },
  {
   "cell_type": "code",
   "execution_count": 31,
   "id": "c952c6f6-ef7f-4c77-877c-04933e8237aa",
   "metadata": {},
   "outputs": [
    {
     "ename": "IndexError",
     "evalue": "list index out of range",
     "output_type": "error",
     "traceback": [
      "\u001b[1;31m---------------------------------------------------------------------------\u001b[0m",
      "\u001b[1;31mIndexError\u001b[0m                                Traceback (most recent call last)",
      "Cell \u001b[1;32mIn[31], line 35\u001b[0m\n\u001b[0;32m     32\u001b[0m     \u001b[38;5;28;01mfor\u001b[39;00m i \u001b[38;5;129;01min\u001b[39;00m \u001b[38;5;28mrange\u001b[39m(l, h\u001b[38;5;241m+\u001b[39m\u001b[38;5;241m1\u001b[39m):\n\u001b[0;32m     33\u001b[0m         lst[i] \u001b[38;5;241m=\u001b[39m temp[i\u001b[38;5;241m-\u001b[39ml]\n\u001b[1;32m---> 35\u001b[0m \u001b[38;5;28mprint\u001b[39m(merge_sort([\u001b[38;5;241m5\u001b[39m,\u001b[38;5;241m4\u001b[39m,\u001b[38;5;241m2\u001b[39m,\u001b[38;5;241m45\u001b[39m,\u001b[38;5;241m6\u001b[39m], \u001b[38;5;241m0\u001b[39m, \u001b[38;5;241m4\u001b[39m))\n",
      "Cell \u001b[1;32mIn[31], line 9\u001b[0m, in \u001b[0;36mmerge_sort\u001b[1;34m(lst, l, h)\u001b[0m\n\u001b[0;32m      7\u001b[0m merge_sort(lst, l , mid)\n\u001b[0;32m      8\u001b[0m merge_sort(lst, mid\u001b[38;5;241m+\u001b[39m\u001b[38;5;241m1\u001b[39m , h)\n\u001b[1;32m----> 9\u001b[0m merge(lst, l , mid, h)\n\u001b[0;32m     10\u001b[0m \u001b[38;5;28;01mreturn\u001b[39;00m lst\n",
      "Cell \u001b[1;32mIn[31], line 33\u001b[0m, in \u001b[0;36mmerge\u001b[1;34m(lst, l, mid, h)\u001b[0m\n\u001b[0;32m     30\u001b[0m     b \u001b[38;5;241m=\u001b[39m b\u001b[38;5;241m+\u001b[39m\u001b[38;5;241m1\u001b[39m\n\u001b[0;32m     32\u001b[0m \u001b[38;5;28;01mfor\u001b[39;00m i \u001b[38;5;129;01min\u001b[39;00m \u001b[38;5;28mrange\u001b[39m(l, h\u001b[38;5;241m+\u001b[39m\u001b[38;5;241m1\u001b[39m):\n\u001b[1;32m---> 33\u001b[0m     lst[i] \u001b[38;5;241m=\u001b[39m temp[i\u001b[38;5;241m-\u001b[39ml]\n",
      "\u001b[1;31mIndexError\u001b[0m: list index out of range"
     ]
    }
   ],
   "source": [
    "#Merge sort\n",
    "\n",
    "def merge_sort(lst, l , h):\n",
    "    if l == h:\n",
    "        return\n",
    "    mid = (l+h)//2\n",
    "    merge_sort(lst, l , mid)\n",
    "    merge_sort(lst, mid+1 , h)\n",
    "    merge(lst, l , mid, h)\n",
    "    return lst\n",
    "\n",
    "def merge(lst, l , mid, h):\n",
    "    temp = []\n",
    "    a = l\n",
    "    b = mid+1\n",
    "    while a<=mid and b<=h:\n",
    "        if lst[a] <= lst[b]:\n",
    "            temp.append(lst[a])\n",
    "            a = a+1\n",
    "        else:\n",
    "            temp.append(lst[b])\n",
    "            b= b+1\n",
    "\n",
    "    while a<=mid:\n",
    "        temp.append(lst[a])\n",
    "        a = a+1\n",
    "\n",
    "    while b<=mid:\n",
    "        temp.append(lst[b])\n",
    "        b = b+1\n",
    "\n",
    "    for i in range(l, h+1):\n",
    "        lst[i] = temp[i-l]\n",
    "    \n",
    "print(merge_sort([5,4,2,45,6], 0, 4))         "
   ]
  },
  {
   "cell_type": "code",
   "execution_count": 32,
   "id": "707766f6-fe70-4145-8220-faf2d47be064",
   "metadata": {},
   "outputs": [
    {
     "name": "stdout",
     "output_type": "stream",
     "text": [
      "Sorted array: [-13, -10, 3, 6, 7, 15, 23.5, 55]\n"
     ]
    }
   ],
   "source": [
    "def mergeSort(arr):\n",
    "    if len(arr) <= 1:\n",
    "        return arr\n",
    "\n",
    "    mid = len(arr) // 2\n",
    "    leftHalf = arr[:mid]\n",
    "    rightHalf = arr[mid:]\n",
    "\n",
    "    sortedLeft = mergeSort(leftHalf)\n",
    "    sortedRight = mergeSort(rightHalf)\n",
    "\n",
    "    return merge(sortedLeft, sortedRight)\n",
    "\n",
    "def merge(left, right):\n",
    "    result = []\n",
    "    i = j = 0\n",
    "\n",
    "    while i < len(left) and j < len(right):\n",
    "        if left[i] < right[j]:\n",
    "            result.append(left[i])\n",
    "            i += 1\n",
    "        else:\n",
    "            result.append(right[j])\n",
    "            j += 1\n",
    "\n",
    "    result.extend(left[i:])\n",
    "    result.extend(right[j:])\n",
    "\n",
    "    return result\n",
    "\n",
    "unsortedArr = [3, 7, 6, -10, 15, 23.5, 55, -13]\n",
    "sortedArr = mergeSort(unsortedArr)\n",
    "print(\"Sorted array:\", sortedArr)"
   ]
  },
  {
   "cell_type": "code",
   "execution_count": 49,
   "id": "b7c2e91a-c1c7-4f1a-bfd3-fc1491c9f0ca",
   "metadata": {},
   "outputs": [
    {
     "name": "stdout",
     "output_type": "stream",
     "text": [
      "[1, 2, 4, 5, 7, 9]\n"
     ]
    }
   ],
   "source": [
    "#Quick sort\n",
    "\n",
    "def quick_sort(lst, l , h):\n",
    "    if l<h:\n",
    "        partition = quick(lst , l, h)\n",
    "        quick_sort(lst, l , partition-1)\n",
    "        quick_sort(lst, partition+1, h)\n",
    "\n",
    "    return lst\n",
    "\n",
    "def quick(lst , left, high):\n",
    "    pivot = lst[left]\n",
    "    l = left\n",
    "    h = high\n",
    "    while l < h:\n",
    "        while pivot >= lst[l] and left <= h:\n",
    "            l+= 1\n",
    "        while pivot < lst[h] and high >= l:\n",
    "            h-= 1\n",
    "        if l < h:\n",
    "            (lst[l] , lst[h]) = (lst[h] , lst[l])\n",
    "    \n",
    "    (lst[left] , lst[h]) = (lst[h] , lst[left])\n",
    "\n",
    "    return h\n",
    "\n",
    "\n",
    "print(quick_sort([5,4,7,2,1,9], 0 , 5))"
   ]
  },
  {
   "cell_type": "code",
   "execution_count": null,
   "id": "db819b9b-f98b-4f52-ad4a-014acf2b3821",
   "metadata": {},
   "outputs": [],
   "source": [
    "\n"
   ]
  }
 ],
 "metadata": {
  "kernelspec": {
   "display_name": "Python 3 (ipykernel)",
   "language": "python",
   "name": "python3"
  },
  "language_info": {
   "codemirror_mode": {
    "name": "ipython",
    "version": 3
   },
   "file_extension": ".py",
   "mimetype": "text/x-python",
   "name": "python",
   "nbconvert_exporter": "python",
   "pygments_lexer": "ipython3",
   "version": "3.12.7"
  }
 },
 "nbformat": 4,
 "nbformat_minor": 5
}
