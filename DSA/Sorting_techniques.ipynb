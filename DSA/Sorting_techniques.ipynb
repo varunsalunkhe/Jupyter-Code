{
 "cells": [
  {
   "cell_type": "code",
   "execution_count": 2,
   "id": "e9d4092e-a29d-4152-afaf-6f8e83990bb8",
   "metadata": {},
   "outputs": [
    {
     "name": "stdout",
     "output_type": "stream",
     "text": [
      "[2, 2, 4, 5, 19]\n"
     ]
    }
   ],
   "source": [
    "#selection sort\n",
    "\n",
    "def selection_sort(lst):\n",
    "    l = len(lst)\n",
    "    \n",
    "    for i in range(l):\n",
    "        min_ind = i\n",
    "        for j in range(i+1, l):\n",
    "            if lst[i] > lst[j]:\n",
    "                min_ind = j\n",
    "        (lst[min_ind], lst[i]) = (lst[i] ,lst[min_ind])\n",
    "    return lst\n",
    "\n",
    "print(selection_sort([5,4,2,19,2]))"
   ]
  },
  {
   "cell_type": "code",
   "execution_count": 7,
   "id": "bfec8534-9828-450c-9792-5b1c21ad1049",
   "metadata": {},
   "outputs": [
    {
     "name": "stdout",
     "output_type": "stream",
     "text": [
      "[0, 2, 2, 4, 5, 19]\n"
     ]
    }
   ],
   "source": [
    "#Bubble sort\n",
    "\n",
    "def bubble_sort(lst):\n",
    "    l = len(lst)\n",
    "\n",
    "    swapped = 0\n",
    "    while  l>0:\n",
    "        for i in range(l-1):\n",
    "            if lst[i] > lst[i+1]:\n",
    "                (lst[i], lst[i+1]) = (lst[i+1], lst[i])\n",
    "                swapped = 1\n",
    "        if swapped ==0:\n",
    "            break\n",
    "        l-=1\n",
    "    return lst\n",
    "\n",
    "\n",
    "print(bubble_sort([5,4,2,19,2,0]))"
   ]
  },
  {
   "cell_type": "code",
   "execution_count": 24,
   "id": "e244aecb-d65d-43d7-9c6f-c47bbf8f53bd",
   "metadata": {},
   "outputs": [
    {
     "name": "stdout",
     "output_type": "stream",
     "text": [
      "[0, 2, 2, 4, 5, 19]\n"
     ]
    }
   ],
   "source": [
    "#Insertion sort\n",
    "\n",
    "def insertion_sort(lst):\n",
    "    l = len(lst)\n",
    "    for i in range(1,l):\n",
    "        key =lst[i]\n",
    "        j = i-1\n",
    "        while j>=0 and lst[j] > key :\n",
    "            lst[j+1]= lst[j]\n",
    "            j-=1       \n",
    "        lst[j+1] = key\n",
    "    return lst\n",
    "    \n",
    "print(insertion_sort([5,4,2,19,2,0]))"
   ]
  },
  {
   "cell_type": "code",
   "execution_count": 17,
   "id": "c952c6f6-ef7f-4c77-877c-04933e8237aa",
   "metadata": {},
   "outputs": [
    {
     "name": "stdout",
     "output_type": "stream",
     "text": [
      "Sorted Array in Ascending Order:\n",
      "[1, 3, 4, 5, 9]\n"
     ]
    }
   ],
   "source": []
  },
  {
   "cell_type": "code",
   "execution_count": 19,
   "id": "707766f6-fe70-4145-8220-faf2d47be064",
   "metadata": {},
   "outputs": [
    {
     "name": "stdout",
     "output_type": "stream",
     "text": [
      "-1\n"
     ]
    }
   ],
   "source": [
    "j = 0\n",
    "j-=1\n",
    "print(j)"
   ]
  },
  {
   "cell_type": "code",
   "execution_count": null,
   "id": "b7c2e91a-c1c7-4f1a-bfd3-fc1491c9f0ca",
   "metadata": {},
   "outputs": [],
   "source": []
  }
 ],
 "metadata": {
  "kernelspec": {
   "display_name": "Python 3 (ipykernel)",
   "language": "python",
   "name": "python3"
  },
  "language_info": {
   "codemirror_mode": {
    "name": "ipython",
    "version": 3
   },
   "file_extension": ".py",
   "mimetype": "text/x-python",
   "name": "python",
   "nbconvert_exporter": "python",
   "pygments_lexer": "ipython3",
   "version": "3.12.7"
  }
 },
 "nbformat": 4,
 "nbformat_minor": 5
}
