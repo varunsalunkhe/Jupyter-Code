{
  "nbformat": 4,
  "nbformat_minor": 0,
  "metadata": {
    "colab": {
      "provenance": []
    },
    "kernelspec": {
      "name": "python3",
      "display_name": "Python 3"
    },
    "language_info": {
      "name": "python"
    }
  },
  "cells": [
    {
      "cell_type": "code",
      "execution_count": null,
      "metadata": {
        "id": "hHvE1FZoJN3Y"
      },
      "outputs": [],
      "source": [
        "#1. simple Queue\n",
        "\n",
        "simple_queue = []\n",
        "f=r=-1\n",
        "n=4\n",
        "\n",
        "def enqueue(a):\n",
        "  global r\n",
        "  global f\n",
        "  if r == n-1:\n",
        "    print(\"Queue is full\")\n",
        "  else:\n",
        "    r =r+1\n",
        "    simple_queue.append(a)\n",
        "    print(\"Enqueue : \",a)\n",
        "    if f==-1:\n",
        "      f=0\n",
        "\n",
        "def dequeue():\n",
        "  global r\n",
        "  global f\n",
        "  if f==-1:\n",
        "    print(\"Queue is empty\")\n",
        "  else:\n",
        "    print(\"Dequeue : \",simple_queue[f])\n",
        "    f = f+1\n",
        "    if f>r:\n",
        "      r=f=-1"
      ]
    },
    {
      "cell_type": "code",
      "source": [
        "enqueue(10)"
      ],
      "metadata": {
        "colab": {
          "base_uri": "https://localhost:8080/"
        },
        "id": "uFxtzlfwM9x8",
        "outputId": "3f12b375-4199-4e41-c92b-1d9f2ec761f0"
      },
      "execution_count": null,
      "outputs": [
        {
          "output_type": "stream",
          "name": "stdout",
          "text": [
            "Enqueue :  10\n"
          ]
        }
      ]
    },
    {
      "cell_type": "code",
      "source": [
        "enqueue(20)"
      ],
      "metadata": {
        "colab": {
          "base_uri": "https://localhost:8080/"
        },
        "id": "OoesWEHqNIGz",
        "outputId": "7d42c465-9ce9-4fcd-915c-d6fde5718156"
      },
      "execution_count": null,
      "outputs": [
        {
          "output_type": "stream",
          "name": "stdout",
          "text": [
            "Enqueue :  20\n"
          ]
        }
      ]
    },
    {
      "cell_type": "code",
      "source": [
        "dequeue()"
      ],
      "metadata": {
        "colab": {
          "base_uri": "https://localhost:8080/"
        },
        "id": "ma6xyUEINde0",
        "outputId": "5d31adb5-156f-4695-8fb8-bfe946df5dac"
      },
      "execution_count": null,
      "outputs": [
        {
          "output_type": "stream",
          "name": "stdout",
          "text": [
            "Dequeue :  10\n"
          ]
        }
      ]
    },
    {
      "cell_type": "code",
      "source": [
        "r"
      ],
      "metadata": {
        "colab": {
          "base_uri": "https://localhost:8080/"
        },
        "id": "tWGMhihXNgXJ",
        "outputId": "9220c2c4-842a-4826-86c2-bb54cd061a2b"
      },
      "execution_count": null,
      "outputs": [
        {
          "output_type": "execute_result",
          "data": {
            "text/plain": [
              "1"
            ]
          },
          "metadata": {},
          "execution_count": 35
        }
      ]
    },
    {
      "cell_type": "code",
      "source": [
        "f"
      ],
      "metadata": {
        "colab": {
          "base_uri": "https://localhost:8080/"
        },
        "id": "01tblkTWNl9l",
        "outputId": "0e4d363d-a41a-4d47-d851-e96c235909e2"
      },
      "execution_count": null,
      "outputs": [
        {
          "output_type": "execute_result",
          "data": {
            "text/plain": [
              "1"
            ]
          },
          "metadata": {},
          "execution_count": 36
        }
      ]
    },
    {
      "cell_type": "code",
      "source": [
        "dequeue()"
      ],
      "metadata": {
        "colab": {
          "base_uri": "https://localhost:8080/"
        },
        "id": "YPxu4EKRNnQF",
        "outputId": "72c10316-6f4c-46ea-8b2a-17c2c34a7f01"
      },
      "execution_count": null,
      "outputs": [
        {
          "output_type": "stream",
          "name": "stdout",
          "text": [
            "Dequeue :  20\n"
          ]
        }
      ]
    },
    {
      "cell_type": "code",
      "source": [
        "r"
      ],
      "metadata": {
        "colab": {
          "base_uri": "https://localhost:8080/"
        },
        "id": "MJ4ajX4FNqQi",
        "outputId": "31dd435a-31ba-4780-9785-131198dbe291"
      },
      "execution_count": null,
      "outputs": [
        {
          "output_type": "execute_result",
          "data": {
            "text/plain": [
              "-1"
            ]
          },
          "metadata": {},
          "execution_count": 38
        }
      ]
    },
    {
      "cell_type": "code",
      "source": [
        "f"
      ],
      "metadata": {
        "colab": {
          "base_uri": "https://localhost:8080/"
        },
        "id": "N4Sg1Q-dNrKM",
        "outputId": "7b721253-5f83-4046-ad3f-28bd8b141d04"
      },
      "execution_count": null,
      "outputs": [
        {
          "output_type": "execute_result",
          "data": {
            "text/plain": [
              "-1"
            ]
          },
          "metadata": {},
          "execution_count": 39
        }
      ]
    },
    {
      "cell_type": "code",
      "source": [
        "dequeue()"
      ],
      "metadata": {
        "colab": {
          "base_uri": "https://localhost:8080/"
        },
        "id": "Io4iETbnNsH4",
        "outputId": "3bd30563-6923-4c61-a6c4-b0901627d8ad"
      },
      "execution_count": null,
      "outputs": [
        {
          "output_type": "stream",
          "name": "stdout",
          "text": [
            "Queue is empty\n"
          ]
        }
      ]
    },
    {
      "cell_type": "code",
      "source": [],
      "metadata": {
        "id": "cWelZufTNtxE"
      },
      "execution_count": null,
      "outputs": []
    },
    {
      "cell_type": "code",
      "source": [
        "#1. Circular Queue\n",
        "\n",
        "circle_queue = []\n",
        "f=r=-1\n",
        "n=3\n",
        "\n",
        "def enqueue(a):\n",
        "  global r\n",
        "  global f\n",
        "  if f == (r+1)%n:\n",
        "    print(\"Queue is full\")\n",
        "  else:\n",
        "    r =(r+1)%n\n",
        "    circle_queue.append(a)\n",
        "    print(\"Enqueue : \",a)\n",
        "    if f==-1:\n",
        "      f=0\n",
        "\n",
        "def dequeue():\n",
        "  global r\n",
        "  global f\n",
        "  if f==-1:\n",
        "    print(\"Queue is empty\")\n",
        "  else:\n",
        "    print(\"Dequeue : \",circle_queue[f])\n",
        "    f = (f+1)%n\n",
        "    if f>r:\n",
        "      r=f=-1"
      ],
      "metadata": {
        "id": "MxPAGkVMNvjD"
      },
      "execution_count": null,
      "outputs": []
    },
    {
      "cell_type": "code",
      "source": [
        "enqueue(10)"
      ],
      "metadata": {
        "colab": {
          "base_uri": "https://localhost:8080/"
        },
        "id": "mn8-LxSuNvlU",
        "outputId": "ba4d1ee3-cf0f-428c-83da-44a6f7b9621a"
      },
      "execution_count": null,
      "outputs": [
        {
          "output_type": "stream",
          "name": "stdout",
          "text": [
            "Enqueue :  10\n"
          ]
        }
      ]
    },
    {
      "cell_type": "code",
      "source": [
        "enqueue(20)\n",
        "enqueue(30)\n"
      ],
      "metadata": {
        "colab": {
          "base_uri": "https://localhost:8080/"
        },
        "id": "pMFqngK3OQEE",
        "outputId": "a47a2d28-a814-47fe-bee7-5898e53f88ad"
      },
      "execution_count": null,
      "outputs": [
        {
          "output_type": "stream",
          "name": "stdout",
          "text": [
            "Enqueue :  20\n",
            "Enqueue :  30\n"
          ]
        }
      ]
    },
    {
      "cell_type": "code",
      "source": [
        "enqueue(50)"
      ],
      "metadata": {
        "colab": {
          "base_uri": "https://localhost:8080/"
        },
        "id": "WoIXY_vZOTnF",
        "outputId": "24abee6c-16cc-4f0b-96f6-68fe1d8ac5bb"
      },
      "execution_count": null,
      "outputs": [
        {
          "output_type": "stream",
          "name": "stdout",
          "text": [
            "Queue is full\n"
          ]
        }
      ]
    },
    {
      "cell_type": "code",
      "source": [
        "dequeue()\n",
        "dequeue()\n"
      ],
      "metadata": {
        "colab": {
          "base_uri": "https://localhost:8080/"
        },
        "id": "XcSAjfY2OVO5",
        "outputId": "f2fc1ef2-18c0-4565-a910-5770b49bb3f1"
      },
      "execution_count": null,
      "outputs": [
        {
          "output_type": "stream",
          "name": "stdout",
          "text": [
            "Dequeue :  10\n",
            "Dequeue :  20\n"
          ]
        }
      ]
    },
    {
      "cell_type": "code",
      "source": [
        "r, f"
      ],
      "metadata": {
        "colab": {
          "base_uri": "https://localhost:8080/"
        },
        "id": "QM9r3zOfOi6C",
        "outputId": "a20a4ef2-429c-490c-e305-a6b0ebff3ccc"
      },
      "execution_count": null,
      "outputs": [
        {
          "output_type": "execute_result",
          "data": {
            "text/plain": [
              "(2, 2)"
            ]
          },
          "metadata": {},
          "execution_count": 56
        }
      ]
    },
    {
      "cell_type": "code",
      "source": [
        "enqueue(60)"
      ],
      "metadata": {
        "colab": {
          "base_uri": "https://localhost:8080/"
        },
        "id": "3D1p7dQeOuyh",
        "outputId": "bd11d9f7-b273-414d-cff3-60a07a6d85da"
      },
      "execution_count": null,
      "outputs": [
        {
          "output_type": "stream",
          "name": "stdout",
          "text": [
            "Enqueue :  60\n"
          ]
        }
      ]
    },
    {
      "cell_type": "code",
      "source": [
        "r"
      ],
      "metadata": {
        "colab": {
          "base_uri": "https://localhost:8080/"
        },
        "id": "Ppzh9yskPyH2",
        "outputId": "292694fc-e3cd-4875-ab0a-a1b489e98d3b"
      },
      "execution_count": null,
      "outputs": [
        {
          "output_type": "execute_result",
          "data": {
            "text/plain": [
              "0"
            ]
          },
          "metadata": {},
          "execution_count": 58
        }
      ]
    },
    {
      "cell_type": "code",
      "source": [
        "dequeue()\n",
        "\n"
      ],
      "metadata": {
        "colab": {
          "base_uri": "https://localhost:8080/"
        },
        "id": "VNAu91RLO2dL",
        "outputId": "abafef9d-89c1-4b5a-cd1c-f4729fdc60fe"
      },
      "execution_count": null,
      "outputs": [
        {
          "output_type": "stream",
          "name": "stdout",
          "text": [
            "Dequeue :  30\n"
          ]
        }
      ]
    },
    {
      "cell_type": "code",
      "source": [
        "r, f\n"
      ],
      "metadata": {
        "colab": {
          "base_uri": "https://localhost:8080/"
        },
        "id": "nSVIITOjO5Tw",
        "outputId": "64fa4acd-47df-46b1-a766-c096ce9a1311"
      },
      "execution_count": null,
      "outputs": [
        {
          "output_type": "execute_result",
          "data": {
            "text/plain": [
              "(0, 0)"
            ]
          },
          "metadata": {},
          "execution_count": 60
        }
      ]
    },
    {
      "cell_type": "code",
      "source": [
        "dequeue()"
      ],
      "metadata": {
        "colab": {
          "base_uri": "https://localhost:8080/"
        },
        "id": "gwn5eqa7PQTP",
        "outputId": "fd875e76-e6ad-4892-8ad1-446ece701cac"
      },
      "execution_count": null,
      "outputs": [
        {
          "output_type": "stream",
          "name": "stdout",
          "text": [
            "Dequeue :  10\n"
          ]
        }
      ]
    },
    {
      "cell_type": "code",
      "source": [
        "enqueue(20)\n",
        "enqueue(30)"
      ],
      "metadata": {
        "colab": {
          "base_uri": "https://localhost:8080/"
        },
        "id": "N7IxjQOHPRSE",
        "outputId": "1a1b9dbd-a50d-471b-e3d2-83b8ca6d3cd4"
      },
      "execution_count": null,
      "outputs": [
        {
          "output_type": "stream",
          "name": "stdout",
          "text": [
            "Enqueue :  20\n",
            "Enqueue :  30\n"
          ]
        }
      ]
    },
    {
      "cell_type": "code",
      "source": [
        "r, f"
      ],
      "metadata": {
        "colab": {
          "base_uri": "https://localhost:8080/"
        },
        "id": "tEqRm7T6QDua",
        "outputId": "dc54a25d-fc6a-48d8-b6dc-6618221e6073"
      },
      "execution_count": null,
      "outputs": [
        {
          "output_type": "execute_result",
          "data": {
            "text/plain": [
              "(1, 0)"
            ]
          },
          "metadata": {},
          "execution_count": 63
        }
      ]
    },
    {
      "cell_type": "code",
      "source": [
        "dequeue()"
      ],
      "metadata": {
        "colab": {
          "base_uri": "https://localhost:8080/"
        },
        "id": "f3vZGxUAQGab",
        "outputId": "066bd1f4-2f6c-4dbc-f7d1-a9ea88ccf7d6"
      },
      "execution_count": null,
      "outputs": [
        {
          "output_type": "stream",
          "name": "stdout",
          "text": [
            "Dequeue :  10\n"
          ]
        }
      ]
    },
    {
      "cell_type": "code",
      "source": [
        "r, f"
      ],
      "metadata": {
        "colab": {
          "base_uri": "https://localhost:8080/"
        },
        "id": "r4lbSPYrQNqo",
        "outputId": "3c9249bf-7655-421e-c8b8-efdfc31acca1"
      },
      "execution_count": null,
      "outputs": [
        {
          "output_type": "execute_result",
          "data": {
            "text/plain": [
              "(1, 1)"
            ]
          },
          "metadata": {},
          "execution_count": 65
        }
      ]
    },
    {
      "cell_type": "code",
      "source": [
        "dequeue()"
      ],
      "metadata": {
        "id": "ewwh9M7dQPbu",
        "outputId": "9d4cd3d3-338d-480d-bedb-dae0c71c19a1",
        "colab": {
          "base_uri": "https://localhost:8080/"
        }
      },
      "execution_count": null,
      "outputs": [
        {
          "output_type": "stream",
          "name": "stdout",
          "text": [
            "Dequeue :  20\n"
          ]
        }
      ]
    },
    {
      "cell_type": "code",
      "source": [
        "r, f"
      ],
      "metadata": {
        "id": "3u-4ddVsQRGD",
        "outputId": "ae15e2c9-f893-4f86-9f40-2f02d84a1c8a",
        "colab": {
          "base_uri": "https://localhost:8080/"
        }
      },
      "execution_count": null,
      "outputs": [
        {
          "output_type": "execute_result",
          "data": {
            "text/plain": [
              "(-1, -1)"
            ]
          },
          "metadata": {},
          "execution_count": 67
        }
      ]
    },
    {
      "cell_type": "code",
      "source": [],
      "metadata": {
        "id": "Ehnr2lQNQTmS"
      },
      "execution_count": null,
      "outputs": []
    }
  ]
}