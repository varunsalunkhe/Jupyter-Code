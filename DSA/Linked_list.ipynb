{
 "cells": [
  {
   "cell_type": "code",
   "execution_count": 427,
   "id": "92fb0a3f-2cd5-4049-853f-0efd973eb1a2",
   "metadata": {},
   "outputs": [],
   "source": [
    "#Creating LL\n",
    "\n",
    "\n",
    "class node:\n",
    "    def __init__(self, data, next=None):\n",
    "        self.data = data\n",
    "        self.next = next\n",
    "\n",
    "class linked_list:\n",
    "    def __init__(self):\n",
    "        self.head = None\n",
    "        \n",
    "# Inserting element at beggining\n",
    "\n",
    "    def insert_beggining(self,data):\n",
    "        new_node = node(data, self.head)\n",
    "        self.head = new_node\n",
    "\n",
    "#Accessing all the elements of ll\n",
    "    def traverse(self):\n",
    "        if self.head == None:\n",
    "            print(\"Empty Linked List\")\n",
    "        else:\n",
    "            temp = self.head\n",
    "            while temp.next is not None:\n",
    "                print(temp.data, end=\"-->\")\n",
    "                temp=temp.next\n",
    "            print(temp.data)\n",
    "\n",
    "# Inserting element at end\n",
    "    def insert_end(self,data):\n",
    "        new_node = node(data)\n",
    "\n",
    "        if self.head == None:\n",
    "            self.head = new_node\n",
    "        else:\n",
    "            temp = self.head\n",
    "            while temp.next is not None:\n",
    "                temp=temp.next\n",
    "            temp.next = new_node\n",
    "\n",
    "# Inserting element at mid\n",
    "    def insert_mid(self,ind,data):\n",
    "        new_node = node(data)\n",
    "\n",
    "        if self.head == None:\n",
    "            print(\"empty LL\")\n",
    "        else:\n",
    "            temp = self.head\n",
    "            count = 1\n",
    "            while temp.next is not None:\n",
    "                count +=1\n",
    "                if ind == count:\n",
    "                    nxt = temp.next \n",
    "                    temp.next = new_node\n",
    "                    new_node.next = nxt\n",
    "                temp=temp.next    \n",
    "\n",
    "#Inserting list of elements\n",
    "\n",
    "    def insert_list(self,lst):\n",
    "        if self.head == None:\n",
    "            for i in lst:\n",
    "                self.insert_beggining(i)\n",
    "        else:\n",
    "            for i in lst:\n",
    "                self.insert_end(i)\n",
    "\n",
    "#Search key in ll\n",
    "\n",
    "    def search_key(self , key):\n",
    "        if self.head == None:\n",
    "            print(\"Empty Linked List\")\n",
    "        else:\n",
    "            temp = self.head\n",
    "            count = 1\n",
    "            while temp.next is not None:\n",
    "                if temp.data == key:\n",
    "                    break\n",
    "                \n",
    "                temp=temp.next\n",
    "                count +=1\n",
    "        return count\n",
    "\n",
    "#Reversing ll\n",
    "\n",
    "    def reverse_ll(self):\n",
    "        if self.head == None:\n",
    "            print(\"Empty Linked List\")\n",
    "        else:\n",
    "            temp = self.head\n",
    "            pre = None\n",
    "            while temp.next:\n",
    "                nxt = temp.next\n",
    "                temp.next = pre\n",
    "                pre = temp\n",
    "                temp = nxt \n",
    "            temp.next = pre\n",
    "            self.head = temp\n",
    "\n",
    "#Deletion operations\n",
    "\n",
    "#Deletion at the first\n",
    "\n",
    "    def delete_first(self):\n",
    "        temp = self.head\n",
    "        if self.head == None:\n",
    "            print(\"LL is Empty.\")\n",
    "        elif self.head.next ==None:\n",
    "            self.head = None\n",
    "            temp = None\n",
    "        else:\n",
    "            \n",
    "            self.head = temp.next\n",
    "            temp = None\n",
    "\n",
    "#Deletion at the last\n",
    "\n",
    "    def delete_last(self):\n",
    "        temp = self.head\n",
    "        if self.head == None:\n",
    "            print(\"LL is Empty.\")\n",
    "        elif self.head.next ==None:\n",
    "            self.head = None\n",
    "            temp = None\n",
    "        else:\n",
    "            while temp.next.next is not None:\n",
    "                temp=temp.next\n",
    "            temp1 = temp.next\n",
    "            temp.next = None\n",
    "            temp1 = None\n",
    "\n",
    "#Deletion at middle\n",
    "\n",
    "    def delete_mid(self,n):\n",
    "        temp = self.head\n",
    "        if self.head == None:\n",
    "            print(\"LL is Empty.\")\n",
    "        elif self.head.next ==None:\n",
    "            self.head = None\n",
    "            temp = None\n",
    "        else:\n",
    "            count = 1\n",
    "            while temp.next is not None:               \n",
    "                if count==n-1:\n",
    "                    break\n",
    "                temp=temp.next\n",
    "                count +=1\n",
    "            temp1 = temp.next\n",
    "            temp.next = temp.next.next\n",
    "            temp1 = None"
   ]
  },
  {
   "cell_type": "code",
   "execution_count": 428,
   "id": "f944a92d-6178-4954-9ab0-37c0dcb2b4bd",
   "metadata": {},
   "outputs": [
    {
     "name": "stdout",
     "output_type": "stream",
     "text": [
      "10\n"
     ]
    }
   ],
   "source": [
    "ll = linked_list()\n",
    "\n",
    "ll.insert_beggining(10)\n",
    "print(ll.head.data)"
   ]
  },
  {
   "cell_type": "code",
   "execution_count": 429,
   "id": "0e64a9c8-6a8f-4888-850c-9c4ee8d3d571",
   "metadata": {},
   "outputs": [
    {
     "name": "stdout",
     "output_type": "stream",
     "text": [
      "30\n"
     ]
    }
   ],
   "source": [
    "ll.insert_beggining(20)\n",
    "ll.insert_beggining(30)\n",
    "print(ll.head.data)"
   ]
  },
  {
   "cell_type": "code",
   "execution_count": 430,
   "id": "745c2c00-074b-42a3-b621-7a557629b9f2",
   "metadata": {},
   "outputs": [
    {
     "name": "stdout",
     "output_type": "stream",
     "text": [
      "<__main__.node object at 0x000001C80A537500>\n"
     ]
    }
   ],
   "source": [
    "print(ll.head.next.next)"
   ]
  },
  {
   "cell_type": "code",
   "execution_count": 431,
   "id": "85dcbd09-8877-473d-8f08-5ba9327dc451",
   "metadata": {},
   "outputs": [
    {
     "name": "stdout",
     "output_type": "stream",
     "text": [
      "30-->20-->10\n"
     ]
    }
   ],
   "source": [
    "ll.traverse()"
   ]
  },
  {
   "cell_type": "code",
   "execution_count": 432,
   "id": "3489e013-169f-4273-83eb-ed892cf0d7cd",
   "metadata": {},
   "outputs": [],
   "source": [
    "ll.insert_end(40)\n",
    "ll.insert_end(50)"
   ]
  },
  {
   "cell_type": "code",
   "execution_count": 433,
   "id": "ef6774ee-6a9e-4a04-a3fb-faf865e91ba2",
   "metadata": {},
   "outputs": [
    {
     "name": "stdout",
     "output_type": "stream",
     "text": [
      "30-->20-->10-->40-->50\n"
     ]
    }
   ],
   "source": [
    "ll.traverse()"
   ]
  },
  {
   "cell_type": "code",
   "execution_count": 434,
   "id": "6bf89982-ce2e-442e-8e0a-6a4abc083798",
   "metadata": {},
   "outputs": [],
   "source": [
    "ll.insert_list([100,200,300])"
   ]
  },
  {
   "cell_type": "code",
   "execution_count": 435,
   "id": "fecb06b3-0237-4177-bc68-1e091d83dbe5",
   "metadata": {},
   "outputs": [
    {
     "name": "stdout",
     "output_type": "stream",
     "text": [
      "30-->20-->10-->40-->50-->100-->200-->300\n"
     ]
    }
   ],
   "source": [
    "ll.traverse()"
   ]
  },
  {
   "cell_type": "code",
   "execution_count": 436,
   "id": "7809c90e-dee2-4adb-9fad-d9acc4e4d5f4",
   "metadata": {},
   "outputs": [
    {
     "name": "stdout",
     "output_type": "stream",
     "text": [
      "4\n"
     ]
    }
   ],
   "source": [
    "print(ll.search_key(40))"
   ]
  },
  {
   "cell_type": "code",
   "execution_count": 437,
   "id": "c99d712a-70ca-48b2-b361-a4f441833a0b",
   "metadata": {},
   "outputs": [
    {
     "name": "stdout",
     "output_type": "stream",
     "text": [
      "30-->20-->10-->40-->50-->100-->200-->300\n"
     ]
    }
   ],
   "source": [
    "ll.traverse()"
   ]
  },
  {
   "cell_type": "code",
   "execution_count": 438,
   "id": "031c7060-70ca-4c63-97d9-8de625f5b7cc",
   "metadata": {},
   "outputs": [],
   "source": [
    "ll.reverse_ll()\n",
    "\n"
   ]
  },
  {
   "cell_type": "code",
   "execution_count": 439,
   "id": "758d9596-4cc8-43df-a8b5-3bc349335968",
   "metadata": {},
   "outputs": [
    {
     "name": "stdout",
     "output_type": "stream",
     "text": [
      "300-->200-->100-->50-->40-->10-->20-->30\n"
     ]
    }
   ],
   "source": [
    "ll.traverse()"
   ]
  },
  {
   "cell_type": "code",
   "execution_count": 440,
   "id": "ff7f79f2-3fd3-4cf3-888d-43f71bec7cc8",
   "metadata": {},
   "outputs": [],
   "source": [
    "ll.insert_mid(4,1000)"
   ]
  },
  {
   "cell_type": "code",
   "execution_count": 441,
   "id": "3ae7d74e-b93c-44b5-a586-572dac615f73",
   "metadata": {},
   "outputs": [
    {
     "name": "stdout",
     "output_type": "stream",
     "text": [
      "300-->200-->100-->1000-->50-->40-->10-->20-->30\n"
     ]
    }
   ],
   "source": [
    "ll.traverse()"
   ]
  },
  {
   "cell_type": "code",
   "execution_count": 442,
   "id": "d8e1ed30-9797-4b4c-b0b9-a5344e4f512c",
   "metadata": {},
   "outputs": [
    {
     "name": "stdout",
     "output_type": "stream",
     "text": [
      "200-->100-->1000-->50-->40-->10-->20-->30\n"
     ]
    }
   ],
   "source": [
    "ll.delete_first()\n",
    "ll.traverse()"
   ]
  },
  {
   "cell_type": "code",
   "execution_count": 443,
   "id": "2bb48c20-2283-414f-a88f-8ea36a60b8d8",
   "metadata": {},
   "outputs": [
    {
     "name": "stdout",
     "output_type": "stream",
     "text": [
      "200-->100-->1000-->50-->40-->10-->20\n"
     ]
    }
   ],
   "source": [
    "ll.delete_last()\n",
    "ll.traverse()"
   ]
  },
  {
   "cell_type": "code",
   "execution_count": 444,
   "id": "cb39a976-503f-4e03-b7f5-fd8fc71a3a96",
   "metadata": {},
   "outputs": [
    {
     "name": "stdout",
     "output_type": "stream",
     "text": [
      "200-->100-->50-->40-->10-->20\n"
     ]
    }
   ],
   "source": [
    "ll.delete_mid(3)\n",
    "ll.traverse()"
   ]
  },
  {
   "cell_type": "code",
   "execution_count": null,
   "id": "21860423-a37f-428d-9271-5f5e261a3842",
   "metadata": {},
   "outputs": [],
   "source": []
  },
  {
   "cell_type": "code",
   "execution_count": 445,
   "id": "974ba863-f841-4305-8eaf-37a7515791a6",
   "metadata": {},
   "outputs": [],
   "source": [
    "#Creating DLL\n",
    "\n",
    "class node:\n",
    "    def __init__(self, data):\n",
    "        self.data = data\n",
    "        self.next = None\n",
    "        self.prev = None\n",
    "\n",
    "class Dlinked_list:\n",
    "    def __init__(self):\n",
    "        self.head = None\n",
    "        \n",
    "# Inserting element at beggining\n",
    "\n",
    "    def insert_beggining(self,data):\n",
    "        \n",
    "        new_node = node(data)\n",
    "        new_node.next=self.head\n",
    "        if new_node.next is not None: \n",
    "            new_node.next.prev = new_node\n",
    "        new_node.prev=None\n",
    "        self.head = new_node\n",
    "        \n",
    "\n",
    "#Accessing all the elements of ll\n",
    "    def traverse(self):\n",
    "        if self.head == None:\n",
    "            print(\"Empty Linked List\")\n",
    "        else:\n",
    "            temp = self.head\n",
    "            while temp.next is not None:\n",
    "                print(temp.data, end=\"-->\")\n",
    "                temp=temp.next\n",
    "            print(temp.data)\n",
    "\n",
    "# Inserting element at end\n",
    "    def insert_end(self,data):\n",
    "        new_node = node(data)\n",
    "\n",
    "        if self.head == None:\n",
    "            self.head = new_node\n",
    "        else:\n",
    "            temp = self.head\n",
    "            while temp.next is not None:\n",
    "                temp=temp.next\n",
    "            temp.next = new_node\n",
    "            new_node.pre = temp\n",
    "\n",
    "\n",
    "# Inserting element at end\n",
    "    def insert_mid(self,ind,data):\n",
    "        new_node = node(data)\n",
    "\n",
    "        if self.head == None:\n",
    "            print(\"empty DLL\")\n",
    "        else:\n",
    "            temp = self.head\n",
    "            count = 1\n",
    "            while temp.next is not None:\n",
    "                count +=1\n",
    "                if ind == count:\n",
    "                    break\n",
    "                temp=temp.next    \n",
    "            nxt = temp.next \n",
    "            temp.next = new_node\n",
    "            new_node.prev= temp\n",
    "            new_node.next = nxt\n",
    "\n",
    "#Inserting list of elements\n",
    "\n",
    "    def insert_list(self,lst):\n",
    "        if self.head == None:\n",
    "            for i in lst:\n",
    "                self.insert_beggining(i)\n",
    "        else:\n",
    "            for i in lst:\n",
    "                self.insert_end(i)\n",
    "\n",
    "#Reversing ll\n",
    "\n",
    "    def reverse_ll(self):\n",
    "        if self.head == None:\n",
    "            print(\"Empty Linked List\")\n",
    "        else:\n",
    "            temp = self.head\n",
    "            pre = None\n",
    "            while temp.next:\n",
    "                nxt = temp.next\n",
    "                temp.next = pre\n",
    "                pre = temp\n",
    "                temp = nxt \n",
    "            temp.next = pre\n",
    "            self.head = temp\n",
    "\n",
    "#Deletion operations\n",
    "\n",
    "#Deletion at the first\n",
    "\n",
    "    def delete_first(self):\n",
    "        temp = self.head\n",
    "        if self.head == None:\n",
    "            print(\"DLL is Empty.\")\n",
    "        elif self.head.next ==None:\n",
    "            self.head = None\n",
    "            temp = None\n",
    "        else:\n",
    "            self.head = temp.next\n",
    "            temp.next.prev = None\n",
    "            temp = None\n",
    "\n",
    "#Deletion at the last\n",
    "    def delete_last(self):\n",
    "        temp = self.head\n",
    "        if self.head == None:\n",
    "            print(\"LL is Empty.\")\n",
    "        elif self.head.next ==None:\n",
    "            self.head = None\n",
    "            temp = None\n",
    "        else:\n",
    "            while temp.next.next is not None:\n",
    "                temp=temp.next\n",
    "            temp.next.prev = None\n",
    "            temp1 = temp.next       \n",
    "            temp.next = None\n",
    "\n",
    "            temp1 = None\n",
    "\n",
    "#Deletion at middle\n",
    "\n",
    "    def delete_mid(self,n):\n",
    "        temp = self.head\n",
    "        if self.head == None:\n",
    "            print(\"LL is Empty.\")\n",
    "        elif self.head.next ==None:\n",
    "            self.head = None\n",
    "            temp = None\n",
    "        else:\n",
    "            count = 1\n",
    "            while temp.next is not None:               \n",
    "                if count==n-1:\n",
    "                    break\n",
    "                temp=temp.next\n",
    "                count +=1\n",
    "            temp1 = temp.next\n",
    "            temp.next = temp.next.next\n",
    "            temp.next.next.prev= None\n",
    "            temp1 = None"
   ]
  },
  {
   "cell_type": "code",
   "execution_count": 446,
   "id": "ce679bf9-314b-47d5-8c13-ab2a126e9bc3",
   "metadata": {},
   "outputs": [
    {
     "name": "stdout",
     "output_type": "stream",
     "text": [
      "10\n"
     ]
    }
   ],
   "source": [
    "dll = Dlinked_list()\n",
    "\n",
    "dll.insert_beggining(10)\n",
    "print(dll.head.data)"
   ]
  },
  {
   "cell_type": "code",
   "execution_count": 447,
   "id": "2156f117-82fc-424e-9d73-40fdb8e5d1ea",
   "metadata": {},
   "outputs": [
    {
     "name": "stdout",
     "output_type": "stream",
     "text": [
      "30\n"
     ]
    }
   ],
   "source": [
    "dll.insert_beggining(20)\n",
    "dll.insert_beggining(30)\n",
    "print(dll.head.data)"
   ]
  },
  {
   "cell_type": "code",
   "execution_count": 448,
   "id": "fbeaf033-33ed-415e-815c-b106ac1554b5",
   "metadata": {},
   "outputs": [
    {
     "name": "stdout",
     "output_type": "stream",
     "text": [
      "30-->20-->10\n"
     ]
    }
   ],
   "source": [
    "dll.traverse()"
   ]
  },
  {
   "cell_type": "code",
   "execution_count": 449,
   "id": "6c317d29-8d4e-43fe-a00a-f8ac8d4f87e2",
   "metadata": {},
   "outputs": [
    {
     "name": "stdout",
     "output_type": "stream",
     "text": [
      "30-->20-->10-->40-->50\n"
     ]
    }
   ],
   "source": [
    "dll.insert_end(40)\n",
    "dll.insert_end(50)\n",
    "dll.traverse()"
   ]
  },
  {
   "cell_type": "code",
   "execution_count": 450,
   "id": "21c70378-82f1-4500-906c-4fceb9034e59",
   "metadata": {},
   "outputs": [
    {
     "name": "stdout",
     "output_type": "stream",
     "text": [
      "30-->20-->10-->1000-->40-->50\n"
     ]
    }
   ],
   "source": [
    "dll.insert_mid(4,1000)\n",
    "dll.traverse()"
   ]
  },
  {
   "cell_type": "code",
   "execution_count": 451,
   "id": "ba285a9d-c7b2-4b7b-8a3f-4a1a37385bfb",
   "metadata": {},
   "outputs": [
    {
     "name": "stdout",
     "output_type": "stream",
     "text": [
      "30-->20-->10-->1000-->40-->50-->100-->200-->300\n"
     ]
    }
   ],
   "source": [
    "dll.insert_list([100,200,300])\n",
    "dll.traverse()"
   ]
  },
  {
   "cell_type": "code",
   "execution_count": 452,
   "id": "076a9140-01ac-453d-a581-ce5e9b243b0d",
   "metadata": {},
   "outputs": [
    {
     "name": "stdout",
     "output_type": "stream",
     "text": [
      "20-->10-->1000-->40-->50-->100-->200-->300\n"
     ]
    }
   ],
   "source": [
    "dll.delete_first()\n",
    "dll.traverse()"
   ]
  },
  {
   "cell_type": "code",
   "execution_count": 453,
   "id": "228b5249-0f6c-40b6-9f50-70af3ec555e5",
   "metadata": {},
   "outputs": [
    {
     "name": "stdout",
     "output_type": "stream",
     "text": [
      "20-->10-->1000-->40-->50-->100-->200\n"
     ]
    }
   ],
   "source": [
    "dll.delete_last()\n",
    "dll.traverse()"
   ]
  },
  {
   "cell_type": "code",
   "execution_count": 454,
   "id": "0f41d8dc-2ac0-45d7-856a-63c5d9e8ee9d",
   "metadata": {},
   "outputs": [
    {
     "name": "stdout",
     "output_type": "stream",
     "text": [
      "20-->10-->40-->50-->100-->200\n"
     ]
    }
   ],
   "source": [
    "dll.delete_mid(3)\n",
    "dll.traverse()"
   ]
  },
  {
   "cell_type": "code",
   "execution_count": null,
   "id": "53364578-a0eb-418d-b81c-45f9b9055cf4",
   "metadata": {},
   "outputs": [],
   "source": []
  },
  {
   "cell_type": "code",
   "execution_count": 455,
   "id": "e14ac619-23bf-4cd4-a50b-24107d4d242c",
   "metadata": {},
   "outputs": [
    {
     "name": "stdout",
     "output_type": "stream",
     "text": [
      "Traversing Circular Linked List:\n",
      "1 -> 2 -> 3 -> "
     ]
    }
   ],
   "source": [
    "#Circular ll\n",
    "\n",
    "# Python Program of Traversal of Circular Linked List\n",
    "class Node:\n",
    "    def __init__(self, data):\n",
    "        # Initialize a node with data and next pointer\n",
    "        self.data = data\n",
    "        self.next = None\n",
    "\n",
    "class CircularLinkedList:\n",
    "    def __init__(self):\n",
    "        # Initialize an empty circular linked list with head pointer pointing to None\n",
    "        self.head = None\n",
    "        \n",
    "\n",
    "    def append(self, data):\n",
    "        # Append a new node with data to the end of the circular linked list\n",
    "        new_node = Node(data)\n",
    "        if not self.head:\n",
    "            # If the list is empty, make the new node point to itself\n",
    "            new_node.next = new_node\n",
    "            self.head = new_node\n",
    "        else:\n",
    "            current = self.head\n",
    "            while current.next != self.head:\n",
    "                # Traverse the list until the last node\n",
    "                current = current.next\n",
    "            # Make the last node point to the new node\n",
    "            current.next = new_node\n",
    "            # Make the new node point back to the head\n",
    "            new_node.next = self.head\n",
    "\n",
    "    def traverse(self):\n",
    "        # Traverse and display the elements of the circular linked list\n",
    "        if not self.head:\n",
    "            print(\"Circular Linked List is empty\")\n",
    "            return\n",
    "        current = self.head\n",
    "        while True:\n",
    "            print(current.data, end=\" -> \")\n",
    "            current = current.next\n",
    "            if current == self.head:\n",
    "                # Break the loop when we reach the head again\n",
    "                break\n",
    "\n",
    "# Driver Code\n",
    "circular_list = CircularLinkedList()\n",
    "circular_list.append(1)\n",
    "circular_list.append(2)\n",
    "circular_list.append(3)\n",
    "\n",
    "print(\"Traversing Circular Linked List:\")\n",
    "circular_list.traverse()"
   ]
  },
  {
   "cell_type": "code",
   "execution_count": null,
   "id": "26fa24c2-623d-42bf-b475-acb92498835f",
   "metadata": {},
   "outputs": [],
   "source": []
  },
  {
   "cell_type": "code",
   "execution_count": 456,
   "id": "05462691-a977-44f4-a69c-0a75c9dc07e0",
   "metadata": {},
   "outputs": [
    {
     "name": "stdout",
     "output_type": "stream",
     "text": [
      "5 10 20 30 \n"
     ]
    }
   ],
   "source": [
    "# Python code of insert node at begin in \n",
    "# doubly Circular linked list.\n",
    "\n",
    "class Node:\n",
    "    def __init__(self, x):\n",
    "        self.data = x\n",
    "        self.next = None\n",
    "        self.prev = None\n",
    "\n",
    "def insertAtBeginning(head, newData):\n",
    "    newNode = Node(newData)\n",
    "    \n",
    "    if head is None:\n",
    "      \n",
    "        # List is empty\n",
    "        newNode.next = newNode.prev = newNode\n",
    "        head = newNode\n",
    "    else:\n",
    "      \n",
    "        # List is not empty\n",
    "        last = head.prev \n",
    "\n",
    "        # Insert new node\n",
    "        newNode.next = head\n",
    "        newNode.prev = last\n",
    "        head.prev = newNode\n",
    "        last.next = newNode\n",
    "        \n",
    "        # Update head\n",
    "        head = newNode\n",
    "    \n",
    "    return head\n",
    "\n",
    "def printList(head):\n",
    "    if not head:\n",
    "        return\n",
    "    curr = head\n",
    "    while True:\n",
    "        print(curr.data, end=\" \")\n",
    "        curr = curr.next\n",
    "        if curr == head:\n",
    "            break\n",
    "    print()\n",
    "\n",
    "# Linked List : 10<->20<->30\n",
    "head = Node(10)\n",
    "head.next = Node(20)\n",
    "head.next.prev = head\n",
    "head.next.next = Node(30)\n",
    "head.next.next.prev = head.next\n",
    "head.next.next.next = head\n",
    "head.prev = head.next.next\n",
    "\n",
    "head = insertAtBeginning(head, 5)\n",
    "printList(head)"
   ]
  },
  {
   "cell_type": "code",
   "execution_count": null,
   "id": "c16625cf-af19-44bb-b4c0-9c7d70e42647",
   "metadata": {},
   "outputs": [],
   "source": []
  }
 ],
 "metadata": {
  "kernelspec": {
   "display_name": "Python 3 (ipykernel)",
   "language": "python",
   "name": "python3"
  },
  "language_info": {
   "codemirror_mode": {
    "name": "ipython",
    "version": 3
   },
   "file_extension": ".py",
   "mimetype": "text/x-python",
   "name": "python",
   "nbconvert_exporter": "python",
   "pygments_lexer": "ipython3",
   "version": "3.12.7"
  }
 },
 "nbformat": 4,
 "nbformat_minor": 5
}
