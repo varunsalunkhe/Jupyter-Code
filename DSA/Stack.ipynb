{
 "cells": [
  {
   "cell_type": "code",
   "execution_count": 30,
   "id": "fe53e261-695e-4c44-bd42-82c5b677531e",
   "metadata": {},
   "outputs": [
    {
     "name": "stdin",
     "output_type": "stream",
     "text": [
      "Enter the number of list :  5\n"
     ]
    }
   ],
   "source": [
    "n = int(input(\"Enter the number of list : \"))\n",
    "top = -1\n",
    "l = []\n",
    "\n",
    "def push(a):\n",
    "    global top\n",
    "    if top == n-1:\n",
    "        print(\"stack overflow\")\n",
    "    else:\n",
    "        top = top+1\n",
    "        l.append(a)\n",
    "        print(\"pushed :\",a)\n",
    "\n",
    "def pop():\n",
    "    global top\n",
    "    if top == -1:\n",
    "        print(\"stack underflow\")\n",
    "    else:\n",
    "        print(\"popped :\",l[top])\n",
    "        top = top-1\n",
    "    \n",
    "\n",
    "def seek():\n",
    "    if top == -1:\n",
    "        print(\"stack underflow\")\n",
    "    else:\n",
    "        print(\"size of stack filled : \", top+1)\n",
    "        print(\"last entered element : \", l[top])\n",
    "\n"
   ]
  },
  {
   "cell_type": "code",
   "execution_count": 31,
   "id": "87310bab-8d66-462b-95ad-4addbb9f49e1",
   "metadata": {},
   "outputs": [
    {
     "name": "stdout",
     "output_type": "stream",
     "text": [
      "pushed : 10\n",
      "pushed : 20\n",
      "pushed : 30\n",
      "pushed : 40\n"
     ]
    }
   ],
   "source": [
    "push(10)\n",
    "push(20)\n",
    "push(30)\n",
    "push(40)"
   ]
  },
  {
   "cell_type": "code",
   "execution_count": 32,
   "id": "067f62e8-e5e7-4537-b289-913e29599426",
   "metadata": {},
   "outputs": [
    {
     "name": "stdout",
     "output_type": "stream",
     "text": [
      "pushed : 50\n"
     ]
    }
   ],
   "source": [
    "push(50)"
   ]
  },
  {
   "cell_type": "code",
   "execution_count": 33,
   "id": "cd27e4fd-a787-4f74-b236-03f5ab411b51",
   "metadata": {},
   "outputs": [
    {
     "name": "stdout",
     "output_type": "stream",
     "text": [
      "size of stack filled :  5\n",
      "last entered element :  50\n"
     ]
    }
   ],
   "source": [
    "seek()"
   ]
  },
  {
   "cell_type": "code",
   "execution_count": 34,
   "id": "17b06eb8-3069-4fdd-bdef-410f33e66613",
   "metadata": {},
   "outputs": [
    {
     "name": "stdout",
     "output_type": "stream",
     "text": [
      "stack overflow\n"
     ]
    }
   ],
   "source": [
    "push(20)"
   ]
  },
  {
   "cell_type": "code",
   "execution_count": 35,
   "id": "792cb6b4-68c5-47aa-8b95-1c63b5c6aca5",
   "metadata": {},
   "outputs": [
    {
     "name": "stdout",
     "output_type": "stream",
     "text": [
      "popped : 50\n"
     ]
    }
   ],
   "source": [
    "pop()"
   ]
  },
  {
   "cell_type": "code",
   "execution_count": 36,
   "id": "981f6903-e810-4bd7-8d7c-61568512bcad",
   "metadata": {},
   "outputs": [
    {
     "name": "stdout",
     "output_type": "stream",
     "text": [
      "popped : 40\n"
     ]
    }
   ],
   "source": [
    "pop()"
   ]
  },
  {
   "cell_type": "code",
   "execution_count": 37,
   "id": "0564423f-3b64-4406-9f00-d1fafe20c9dd",
   "metadata": {},
   "outputs": [
    {
     "name": "stdout",
     "output_type": "stream",
     "text": [
      "size of stack filled :  3\n",
      "last entered element :  30\n"
     ]
    }
   ],
   "source": [
    "seek()"
   ]
  },
  {
   "cell_type": "code",
   "execution_count": 38,
   "id": "b3697498-dad3-4250-a230-56c9c1b67177",
   "metadata": {},
   "outputs": [
    {
     "name": "stdout",
     "output_type": "stream",
     "text": [
      "popped : 30\n"
     ]
    }
   ],
   "source": [
    "pop()"
   ]
  },
  {
   "cell_type": "code",
   "execution_count": 39,
   "id": "af8d1c4d-df5f-4cf8-86fd-2fdaf278e4f6",
   "metadata": {},
   "outputs": [
    {
     "name": "stdout",
     "output_type": "stream",
     "text": [
      "popped : 20\n"
     ]
    }
   ],
   "source": [
    "pop()"
   ]
  },
  {
   "cell_type": "code",
   "execution_count": 40,
   "id": "7fb1bed6-34ca-48f6-a70b-1df4403d7d1b",
   "metadata": {},
   "outputs": [
    {
     "name": "stdout",
     "output_type": "stream",
     "text": [
      "popped : 10\n"
     ]
    }
   ],
   "source": [
    "pop()"
   ]
  },
  {
   "cell_type": "code",
   "execution_count": null,
   "id": "4d59b179-90ef-4fc2-9a4f-1ac967a4f046",
   "metadata": {},
   "outputs": [],
   "source": []
  },
  {
   "cell_type": "code",
   "execution_count": null,
   "id": "350c82ab-8381-4d14-96fc-9248db559fb1",
   "metadata": {},
   "outputs": [],
   "source": []
  },
  {
   "cell_type": "code",
   "execution_count": 41,
   "id": "bdc3e08e-9a69-457f-9ab4-866cdc01a1bc",
   "metadata": {},
   "outputs": [
    {
     "name": "stdin",
     "output_type": "stream",
     "text": [
      "Enter the expression (a+b)*(a-b)\n"
     ]
    },
    {
     "name": "stdout",
     "output_type": "stream",
     "text": [
      "(a+b)*(a-b)\n",
      "ab+ab-*\n"
     ]
    }
   ],
   "source": [
    "# infix 2 postfix\n",
    "\n",
    "oper = [ \"+\" , \"-\" , \"^\" ,\"/\", \"*\",\"(\",\")\"]\n",
    "oper_imp = {\"^\" : 3 , \"-\":1 , \"+\" : 1 ,\"/\" : 2, \"*\" : 2}\n",
    "\n",
    "s = []\n",
    "output = \"\"\n",
    "expre = input(\"Enter the expression\")\n",
    "\n",
    "for i in expre:\n",
    "  # print(i)\n",
    "  if i not in oper:\n",
    "    output += i\n",
    "\n",
    "  elif i == \"(\":\n",
    "    s.append(i)\n",
    "\n",
    "  elif i == \")\":\n",
    "    while s and s[-1] != \"(\":\n",
    "      output += s.pop()\n",
    "      # print(s)\n",
    "    s.pop()\n",
    "\n",
    "  elif not s:\n",
    "    s.append(i)\n",
    "    # print(s)\n",
    "\n",
    "  else:\n",
    "    if s[-1] == \"(\":\n",
    "      s.append(i)\n",
    "    elif oper_imp[i] > oper_imp[s[-1]]:\n",
    "      s.append(i)\n",
    "    else:\n",
    "      # print(\"entered\")\n",
    "      # print(oper_imp[i])\n",
    "      # print(oper_imp[s[-1]])\n",
    "      while s and (s[-1] == \"(\" or oper_imp[i] <= oper_imp[s[-1]]):\n",
    "        # print(\"entered\")\n",
    "        output += s.pop()\n",
    "      s.append(i)\n",
    "\n",
    "while s:\n",
    "  output += s.pop()\n",
    "\n",
    "print(expre)\n",
    "print(output)"
   ]
  },
  {
   "cell_type": "code",
   "execution_count": null,
   "id": "8801400b-ad92-4dc7-91ce-f26526f7132a",
   "metadata": {},
   "outputs": [],
   "source": []
  },
  {
   "cell_type": "code",
   "execution_count": 42,
   "id": "77fd52ed-968a-44f8-843c-47f3183eced7",
   "metadata": {},
   "outputs": [
    {
     "name": "stdin",
     "output_type": "stream",
     "text": [
      "Enter the expression (A + B) * (C + D)\n"
     ]
    },
    {
     "name": "stdout",
     "output_type": "stream",
     "text": [
      "(A + B) * (C + D)\n",
      "*+A  B  +C  D\n"
     ]
    }
   ],
   "source": [
    "# infix 2 prefix\n",
    "\n",
    "oper = [ \"+\" , \"-\" , \"^\" ,\"/\", \"*\",\"(\",\")\"]\n",
    "oper_imp = {\"^\" : 3 , \"-\":1 , \"+\" : 1 ,\"/\" : 2, \"*\" : 2}\n",
    "\n",
    "s = []\n",
    "output = \"\"\n",
    "expre = input(\"Enter the expression\")\n",
    "expre1 = expre[::-1]\n",
    "\n",
    "for i in expre1:\n",
    "  # print(i)\n",
    "  if i not in oper:\n",
    "    output += i\n",
    "\n",
    "  elif i == \")\":\n",
    "    s.append(i)\n",
    "\n",
    "  elif i == \"(\":\n",
    "    while s and s[-1] != \")\":\n",
    "      output += s.pop()\n",
    "      # print(s)\n",
    "    s.pop()\n",
    "\n",
    "  elif not s:\n",
    "    s.append(i)\n",
    "    # print(s)\n",
    "\n",
    "  else:\n",
    "    if s[-1] == \")\":\n",
    "      s.append(i)\n",
    "    elif oper_imp[i] > oper_imp[s[-1]]:\n",
    "      s.append(i)\n",
    "    else:\n",
    "      # print(\"entered\")\n",
    "      # print(oper_imp[i])\n",
    "      # print(oper_imp[s[-1]])\n",
    "      while s and (s[-1] == \")\" or oper_imp[i] <= oper_imp[s[-1]]):\n",
    "        # print(\"entered\")\n",
    "        output += s.pop()\n",
    "      s.append(i)\n",
    "\n",
    "while s:\n",
    "  output += s.pop()\n",
    "\n",
    "print(expre)\n",
    "print(output[::-1])"
   ]
  },
  {
   "cell_type": "code",
   "execution_count": null,
   "id": "6efec831-1d57-4132-a319-5e85ec72a29c",
   "metadata": {},
   "outputs": [],
   "source": []
  },
  {
   "cell_type": "code",
   "execution_count": 43,
   "id": "e1ae7fa4-280c-4875-9272-874d6d22db3d",
   "metadata": {},
   "outputs": [
    {
     "name": "stdin",
     "output_type": "stream",
     "text": [
      "enter the expression :  53-4*2/765+*+\n"
     ]
    },
    {
     "name": "stdout",
     "output_type": "stream",
     "text": [
      "81.0\n"
     ]
    }
   ],
   "source": [
    "#post fix expression evaluation\n",
    "\n",
    "def postfix_eval(expression):\n",
    "  stack = []\n",
    "  oper = [ \"+\" , \"-\" , \"^\" ,\"/\", \"*\"]\n",
    "  for i in expression:\n",
    "    if i not in oper:\n",
    "      stack.append(int(i))\n",
    "\n",
    "    else:\n",
    "      b = stack.pop()\n",
    "      a = stack.pop()\n",
    "      if i == \"+\":\n",
    "        stack.append(a+b)\n",
    "      elif i == \"-\":\n",
    "        stack.append(a-b)\n",
    "      elif i == \"*\":\n",
    "        stack.append(a*b)\n",
    "      elif i == \"/\":\n",
    "        stack.append(a/b)\n",
    "      elif i == \"^\":\n",
    "        stack.append(a**b)\n",
    "  return stack.pop()\n",
    "\n",
    "expression = input(\"enter the expression : \")\n",
    "print(postfix_eval(expression))\n"
   ]
  },
  {
   "cell_type": "code",
   "execution_count": 44,
   "id": "5ed2965d-eee6-4727-a0f8-2d59ba094968",
   "metadata": {},
   "outputs": [
    {
     "name": "stdin",
     "output_type": "stream",
     "text": [
      "enter the expression :  +*+*/+2734542\n"
     ]
    },
    {
     "name": "stdout",
     "output_type": "stream",
     "text": [
      "70.0\n"
     ]
    }
   ],
   "source": [
    "#Pre fix expression evaluation\n",
    "\n",
    "def prefix_eval(expression):\n",
    "  expression = expression[::-1]\n",
    "  stack = []\n",
    "  oper = [ \"+\" , \"-\" , \"^\" ,\"/\", \"*\"]\n",
    "  for i in expression:\n",
    "    if i not in oper:\n",
    "      stack.append(int(i))\n",
    "\n",
    "    else:\n",
    "      a = stack.pop()\n",
    "      b = stack.pop()\n",
    "      if i == \"+\":\n",
    "        stack.append(a+b)\n",
    "      elif i == \"-\":\n",
    "        stack.append(a-b)\n",
    "      elif i == \"*\":\n",
    "        stack.append(a*b)\n",
    "      elif i == \"/\":\n",
    "        stack.append(a/b)\n",
    "      elif i == \"^\":\n",
    "        stack.append(a**b)\n",
    "  return stack.pop()\n",
    "\n",
    "expression = input(\"enter the expression : \")\n",
    "print(prefix_eval(expression))"
   ]
  }
 ],
 "metadata": {
  "kernelspec": {
   "display_name": "Python 3 (ipykernel)",
   "language": "python",
   "name": "python3"
  },
  "language_info": {
   "codemirror_mode": {
    "name": "ipython",
    "version": 3
   },
   "file_extension": ".py",
   "mimetype": "text/x-python",
   "name": "python",
   "nbconvert_exporter": "python",
   "pygments_lexer": "ipython3",
   "version": "3.12.7"
  }
 },
 "nbformat": 4,
 "nbformat_minor": 5
}
