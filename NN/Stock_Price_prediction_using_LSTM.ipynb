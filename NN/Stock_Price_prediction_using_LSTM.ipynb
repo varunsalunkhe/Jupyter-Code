{
 "cells": [
  {
   "cell_type": "markdown",
   "metadata": {
    "id": "Z7HM9DxwlF8v"
   },
   "source": [
    "#Importing Apple stock data using pandas_datareader library\n",
    "1. Go through the documnetation of pandas_datareader library\n",
    "https://pandas-datareader.readthedocs.io/en/latest/remote_data.html\n",
    "2. Sign in/sign up in Tiingo,\n",
    "3. And get your own key in authenticaton section."
   ]
  },
  {
   "cell_type": "code",
   "execution_count": null,
   "metadata": {
    "colab": {
     "base_uri": "https://localhost:8080/",
     "height": 380
    },
    "id": "e5O28vFSdg-9",
    "outputId": "070c56c0-eaf2-448e-ba60-b3e22a12b6f2"
   },
   "outputs": [
    {
     "name": "stderr",
     "output_type": "stream",
     "text": [
      "<ipython-input-14-ea6459b1719b>:4: FutureWarning: In a future version of pandas all arguments of concat except for the argument 'objs' will be keyword-only.\n",
      "  df = pdr.get_data_tiingo('AAPL', api_key=key)\n"
     ]
    },
    {
     "data": {
      "text/html": [
       "\n",
       "  <div id=\"df-7b2d85a2-f43d-4c57-82e3-4089bd6fa3a7\" class=\"colab-df-container\">\n",
       "    <div>\n",
       "<style scoped>\n",
       "    .dataframe tbody tr th:only-of-type {\n",
       "        vertical-align: middle;\n",
       "    }\n",
       "\n",
       "    .dataframe tbody tr th {\n",
       "        vertical-align: top;\n",
       "    }\n",
       "\n",
       "    .dataframe thead th {\n",
       "        text-align: right;\n",
       "    }\n",
       "</style>\n",
       "<table border=\"1\" class=\"dataframe\">\n",
       "  <thead>\n",
       "    <tr style=\"text-align: right;\">\n",
       "      <th></th>\n",
       "      <th></th>\n",
       "      <th>close</th>\n",
       "      <th>high</th>\n",
       "      <th>low</th>\n",
       "      <th>open</th>\n",
       "      <th>volume</th>\n",
       "      <th>adjClose</th>\n",
       "      <th>adjHigh</th>\n",
       "      <th>adjLow</th>\n",
       "      <th>adjOpen</th>\n",
       "      <th>adjVolume</th>\n",
       "      <th>divCash</th>\n",
       "      <th>splitFactor</th>\n",
       "    </tr>\n",
       "    <tr>\n",
       "      <th>symbol</th>\n",
       "      <th>date</th>\n",
       "      <th></th>\n",
       "      <th></th>\n",
       "      <th></th>\n",
       "      <th></th>\n",
       "      <th></th>\n",
       "      <th></th>\n",
       "      <th></th>\n",
       "      <th></th>\n",
       "      <th></th>\n",
       "      <th></th>\n",
       "      <th></th>\n",
       "      <th></th>\n",
       "    </tr>\n",
       "  </thead>\n",
       "  <tbody>\n",
       "    <tr>\n",
       "      <th rowspan=\"5\" valign=\"top\">AAPL</th>\n",
       "      <th>2019-02-04 00:00:00+00:00</th>\n",
       "      <td>171.25</td>\n",
       "      <td>171.66</td>\n",
       "      <td>167.28</td>\n",
       "      <td>167.41</td>\n",
       "      <td>31495582</td>\n",
       "      <td>41.090613</td>\n",
       "      <td>41.188990</td>\n",
       "      <td>40.138031</td>\n",
       "      <td>40.169223</td>\n",
       "      <td>125982328</td>\n",
       "      <td>0.00</td>\n",
       "      <td>1.0</td>\n",
       "    </tr>\n",
       "    <tr>\n",
       "      <th>2019-02-05 00:00:00+00:00</th>\n",
       "      <td>174.18</td>\n",
       "      <td>175.08</td>\n",
       "      <td>172.35</td>\n",
       "      <td>172.86</td>\n",
       "      <td>36101628</td>\n",
       "      <td>41.793652</td>\n",
       "      <td>42.009603</td>\n",
       "      <td>41.354553</td>\n",
       "      <td>41.476925</td>\n",
       "      <td>144406512</td>\n",
       "      <td>0.00</td>\n",
       "      <td>1.0</td>\n",
       "    </tr>\n",
       "    <tr>\n",
       "      <th>2019-02-06 00:00:00+00:00</th>\n",
       "      <td>174.24</td>\n",
       "      <td>175.57</td>\n",
       "      <td>172.85</td>\n",
       "      <td>174.65</td>\n",
       "      <td>28239591</td>\n",
       "      <td>41.808049</td>\n",
       "      <td>42.127176</td>\n",
       "      <td>41.474525</td>\n",
       "      <td>41.906427</td>\n",
       "      <td>112958364</td>\n",
       "      <td>0.00</td>\n",
       "      <td>1.0</td>\n",
       "    </tr>\n",
       "    <tr>\n",
       "      <th>2019-02-07 00:00:00+00:00</th>\n",
       "      <td>170.94</td>\n",
       "      <td>173.94</td>\n",
       "      <td>170.34</td>\n",
       "      <td>172.40</td>\n",
       "      <td>31741690</td>\n",
       "      <td>41.016230</td>\n",
       "      <td>41.736066</td>\n",
       "      <td>40.872263</td>\n",
       "      <td>41.366550</td>\n",
       "      <td>126966760</td>\n",
       "      <td>0.00</td>\n",
       "      <td>1.0</td>\n",
       "    </tr>\n",
       "    <tr>\n",
       "      <th>2019-02-08 00:00:00+00:00</th>\n",
       "      <td>170.41</td>\n",
       "      <td>170.66</td>\n",
       "      <td>168.42</td>\n",
       "      <td>168.99</td>\n",
       "      <td>23819966</td>\n",
       "      <td>41.064219</td>\n",
       "      <td>41.124462</td>\n",
       "      <td>40.584683</td>\n",
       "      <td>40.722037</td>\n",
       "      <td>95279864</td>\n",
       "      <td>0.73</td>\n",
       "      <td>1.0</td>\n",
       "    </tr>\n",
       "  </tbody>\n",
       "</table>\n",
       "</div>\n",
       "    <div class=\"colab-df-buttons\">\n",
       "\n",
       "  <div class=\"colab-df-container\">\n",
       "    <button class=\"colab-df-convert\" onclick=\"convertToInteractive('df-7b2d85a2-f43d-4c57-82e3-4089bd6fa3a7')\"\n",
       "            title=\"Convert this dataframe to an interactive table.\"\n",
       "            style=\"display:none;\">\n",
       "\n",
       "  <svg xmlns=\"http://www.w3.org/2000/svg\" height=\"24px\" viewBox=\"0 -960 960 960\">\n",
       "    <path d=\"M120-120v-720h720v720H120Zm60-500h600v-160H180v160Zm220 220h160v-160H400v160Zm0 220h160v-160H400v160ZM180-400h160v-160H180v160Zm440 0h160v-160H620v160ZM180-180h160v-160H180v160Zm440 0h160v-160H620v160Z\"/>\n",
       "  </svg>\n",
       "    </button>\n",
       "\n",
       "  <style>\n",
       "    .colab-df-container {\n",
       "      display:flex;\n",
       "      gap: 12px;\n",
       "    }\n",
       "\n",
       "    .colab-df-convert {\n",
       "      background-color: #E8F0FE;\n",
       "      border: none;\n",
       "      border-radius: 50%;\n",
       "      cursor: pointer;\n",
       "      display: none;\n",
       "      fill: #1967D2;\n",
       "      height: 32px;\n",
       "      padding: 0 0 0 0;\n",
       "      width: 32px;\n",
       "    }\n",
       "\n",
       "    .colab-df-convert:hover {\n",
       "      background-color: #E2EBFA;\n",
       "      box-shadow: 0px 1px 2px rgba(60, 64, 67, 0.3), 0px 1px 3px 1px rgba(60, 64, 67, 0.15);\n",
       "      fill: #174EA6;\n",
       "    }\n",
       "\n",
       "    .colab-df-buttons div {\n",
       "      margin-bottom: 4px;\n",
       "    }\n",
       "\n",
       "    [theme=dark] .colab-df-convert {\n",
       "      background-color: #3B4455;\n",
       "      fill: #D2E3FC;\n",
       "    }\n",
       "\n",
       "    [theme=dark] .colab-df-convert:hover {\n",
       "      background-color: #434B5C;\n",
       "      box-shadow: 0px 1px 3px 1px rgba(0, 0, 0, 0.15);\n",
       "      filter: drop-shadow(0px 1px 2px rgba(0, 0, 0, 0.3));\n",
       "      fill: #FFFFFF;\n",
       "    }\n",
       "  </style>\n",
       "\n",
       "    <script>\n",
       "      const buttonEl =\n",
       "        document.querySelector('#df-7b2d85a2-f43d-4c57-82e3-4089bd6fa3a7 button.colab-df-convert');\n",
       "      buttonEl.style.display =\n",
       "        google.colab.kernel.accessAllowed ? 'block' : 'none';\n",
       "\n",
       "      async function convertToInteractive(key) {\n",
       "        const element = document.querySelector('#df-7b2d85a2-f43d-4c57-82e3-4089bd6fa3a7');\n",
       "        const dataTable =\n",
       "          await google.colab.kernel.invokeFunction('convertToInteractive',\n",
       "                                                    [key], {});\n",
       "        if (!dataTable) return;\n",
       "\n",
       "        const docLinkHtml = 'Like what you see? Visit the ' +\n",
       "          '<a target=\"_blank\" href=https://colab.research.google.com/notebooks/data_table.ipynb>data table notebook</a>'\n",
       "          + ' to learn more about interactive tables.';\n",
       "        element.innerHTML = '';\n",
       "        dataTable['output_type'] = 'display_data';\n",
       "        await google.colab.output.renderOutput(dataTable, element);\n",
       "        const docLink = document.createElement('div');\n",
       "        docLink.innerHTML = docLinkHtml;\n",
       "        element.appendChild(docLink);\n",
       "      }\n",
       "    </script>\n",
       "  </div>\n",
       "\n",
       "\n",
       "<div id=\"df-57db1a61-959d-4ce6-99d5-1f9519040c2c\">\n",
       "  <button class=\"colab-df-quickchart\" onclick=\"quickchart('df-57db1a61-959d-4ce6-99d5-1f9519040c2c')\"\n",
       "            title=\"Suggest charts\"\n",
       "            style=\"display:none;\">\n",
       "\n",
       "<svg xmlns=\"http://www.w3.org/2000/svg\" height=\"24px\"viewBox=\"0 0 24 24\"\n",
       "     width=\"24px\">\n",
       "    <g>\n",
       "        <path d=\"M19 3H5c-1.1 0-2 .9-2 2v14c0 1.1.9 2 2 2h14c1.1 0 2-.9 2-2V5c0-1.1-.9-2-2-2zM9 17H7v-7h2v7zm4 0h-2V7h2v10zm4 0h-2v-4h2v4z\"/>\n",
       "    </g>\n",
       "</svg>\n",
       "  </button>\n",
       "\n",
       "<style>\n",
       "  .colab-df-quickchart {\n",
       "      --bg-color: #E8F0FE;\n",
       "      --fill-color: #1967D2;\n",
       "      --hover-bg-color: #E2EBFA;\n",
       "      --hover-fill-color: #174EA6;\n",
       "      --disabled-fill-color: #AAA;\n",
       "      --disabled-bg-color: #DDD;\n",
       "  }\n",
       "\n",
       "  [theme=dark] .colab-df-quickchart {\n",
       "      --bg-color: #3B4455;\n",
       "      --fill-color: #D2E3FC;\n",
       "      --hover-bg-color: #434B5C;\n",
       "      --hover-fill-color: #FFFFFF;\n",
       "      --disabled-bg-color: #3B4455;\n",
       "      --disabled-fill-color: #666;\n",
       "  }\n",
       "\n",
       "  .colab-df-quickchart {\n",
       "    background-color: var(--bg-color);\n",
       "    border: none;\n",
       "    border-radius: 50%;\n",
       "    cursor: pointer;\n",
       "    display: none;\n",
       "    fill: var(--fill-color);\n",
       "    height: 32px;\n",
       "    padding: 0;\n",
       "    width: 32px;\n",
       "  }\n",
       "\n",
       "  .colab-df-quickchart:hover {\n",
       "    background-color: var(--hover-bg-color);\n",
       "    box-shadow: 0 1px 2px rgba(60, 64, 67, 0.3), 0 1px 3px 1px rgba(60, 64, 67, 0.15);\n",
       "    fill: var(--button-hover-fill-color);\n",
       "  }\n",
       "\n",
       "  .colab-df-quickchart-complete:disabled,\n",
       "  .colab-df-quickchart-complete:disabled:hover {\n",
       "    background-color: var(--disabled-bg-color);\n",
       "    fill: var(--disabled-fill-color);\n",
       "    box-shadow: none;\n",
       "  }\n",
       "\n",
       "  .colab-df-spinner {\n",
       "    border: 2px solid var(--fill-color);\n",
       "    border-color: transparent;\n",
       "    border-bottom-color: var(--fill-color);\n",
       "    animation:\n",
       "      spin 1s steps(1) infinite;\n",
       "  }\n",
       "\n",
       "  @keyframes spin {\n",
       "    0% {\n",
       "      border-color: transparent;\n",
       "      border-bottom-color: var(--fill-color);\n",
       "      border-left-color: var(--fill-color);\n",
       "    }\n",
       "    20% {\n",
       "      border-color: transparent;\n",
       "      border-left-color: var(--fill-color);\n",
       "      border-top-color: var(--fill-color);\n",
       "    }\n",
       "    30% {\n",
       "      border-color: transparent;\n",
       "      border-left-color: var(--fill-color);\n",
       "      border-top-color: var(--fill-color);\n",
       "      border-right-color: var(--fill-color);\n",
       "    }\n",
       "    40% {\n",
       "      border-color: transparent;\n",
       "      border-right-color: var(--fill-color);\n",
       "      border-top-color: var(--fill-color);\n",
       "    }\n",
       "    60% {\n",
       "      border-color: transparent;\n",
       "      border-right-color: var(--fill-color);\n",
       "    }\n",
       "    80% {\n",
       "      border-color: transparent;\n",
       "      border-right-color: var(--fill-color);\n",
       "      border-bottom-color: var(--fill-color);\n",
       "    }\n",
       "    90% {\n",
       "      border-color: transparent;\n",
       "      border-bottom-color: var(--fill-color);\n",
       "    }\n",
       "  }\n",
       "</style>\n",
       "\n",
       "  <script>\n",
       "    async function quickchart(key) {\n",
       "      const quickchartButtonEl =\n",
       "        document.querySelector('#' + key + ' button');\n",
       "      quickchartButtonEl.disabled = true;  // To prevent multiple clicks.\n",
       "      quickchartButtonEl.classList.add('colab-df-spinner');\n",
       "      try {\n",
       "        const charts = await google.colab.kernel.invokeFunction(\n",
       "            'suggestCharts', [key], {});\n",
       "      } catch (error) {\n",
       "        console.error('Error during call to suggestCharts:', error);\n",
       "      }\n",
       "      quickchartButtonEl.classList.remove('colab-df-spinner');\n",
       "      quickchartButtonEl.classList.add('colab-df-quickchart-complete');\n",
       "    }\n",
       "    (() => {\n",
       "      let quickchartButtonEl =\n",
       "        document.querySelector('#df-57db1a61-959d-4ce6-99d5-1f9519040c2c button');\n",
       "      quickchartButtonEl.style.display =\n",
       "        google.colab.kernel.accessAllowed ? 'block' : 'none';\n",
       "    })();\n",
       "  </script>\n",
       "</div>\n",
       "\n",
       "    </div>\n",
       "  </div>\n"
      ],
      "text/plain": [
       "                                   close    high     low    open    volume  \\\n",
       "symbol date                                                                  \n",
       "AAPL   2019-02-04 00:00:00+00:00  171.25  171.66  167.28  167.41  31495582   \n",
       "       2019-02-05 00:00:00+00:00  174.18  175.08  172.35  172.86  36101628   \n",
       "       2019-02-06 00:00:00+00:00  174.24  175.57  172.85  174.65  28239591   \n",
       "       2019-02-07 00:00:00+00:00  170.94  173.94  170.34  172.40  31741690   \n",
       "       2019-02-08 00:00:00+00:00  170.41  170.66  168.42  168.99  23819966   \n",
       "\n",
       "                                   adjClose    adjHigh     adjLow    adjOpen  \\\n",
       "symbol date                                                                    \n",
       "AAPL   2019-02-04 00:00:00+00:00  41.090613  41.188990  40.138031  40.169223   \n",
       "       2019-02-05 00:00:00+00:00  41.793652  42.009603  41.354553  41.476925   \n",
       "       2019-02-06 00:00:00+00:00  41.808049  42.127176  41.474525  41.906427   \n",
       "       2019-02-07 00:00:00+00:00  41.016230  41.736066  40.872263  41.366550   \n",
       "       2019-02-08 00:00:00+00:00  41.064219  41.124462  40.584683  40.722037   \n",
       "\n",
       "                                  adjVolume  divCash  splitFactor  \n",
       "symbol date                                                        \n",
       "AAPL   2019-02-04 00:00:00+00:00  125982328     0.00          1.0  \n",
       "       2019-02-05 00:00:00+00:00  144406512     0.00          1.0  \n",
       "       2019-02-06 00:00:00+00:00  112958364     0.00          1.0  \n",
       "       2019-02-07 00:00:00+00:00  126966760     0.00          1.0  \n",
       "       2019-02-08 00:00:00+00:00   95279864     0.73          1.0  "
      ]
     },
     "execution_count": 14,
     "metadata": {},
     "output_type": "execute_result"
    }
   ],
   "source": [
    "import pandas_datareader as pdr\n",
    "key = \"71033ea893dd82e0f80d38aee621aae2d94ca2a6\"\n",
    "# key = \"---------------------------------------\"\n",
    "df = pdr.get_data_tiingo('AAPL', api_key=key)\n",
    "df.head()"
   ]
  },
  {
   "cell_type": "code",
   "execution_count": null,
   "metadata": {
    "id": "3RYF30SHdhkU"
   },
   "outputs": [],
   "source": [
    "import pandas as pd\n",
    "import numpy as np\n",
    "import seaborn as sns\n",
    "from matplotlib import pyplot as plt\n",
    "\n",
    "df.to_csv(\"apple.csv\")"
   ]
  },
  {
   "cell_type": "code",
   "execution_count": null,
   "metadata": {
    "colab": {
     "base_uri": "https://localhost:8080/",
     "height": 313
    },
    "id": "MJQHpvZvfHXF",
    "outputId": "970bae3b-b221-4a7a-8d00-490a23715069"
   },
   "outputs": [
    {
     "data": {
      "text/html": [
       "\n",
       "  <div id=\"df-90acbb97-f039-4bd3-9046-fe7ba2db5df5\" class=\"colab-df-container\">\n",
       "    <div>\n",
       "<style scoped>\n",
       "    .dataframe tbody tr th:only-of-type {\n",
       "        vertical-align: middle;\n",
       "    }\n",
       "\n",
       "    .dataframe tbody tr th {\n",
       "        vertical-align: top;\n",
       "    }\n",
       "\n",
       "    .dataframe thead th {\n",
       "        text-align: right;\n",
       "    }\n",
       "</style>\n",
       "<table border=\"1\" class=\"dataframe\">\n",
       "  <thead>\n",
       "    <tr style=\"text-align: right;\">\n",
       "      <th></th>\n",
       "      <th>symbol</th>\n",
       "      <th>date</th>\n",
       "      <th>close</th>\n",
       "      <th>high</th>\n",
       "      <th>low</th>\n",
       "      <th>open</th>\n",
       "      <th>volume</th>\n",
       "      <th>adjClose</th>\n",
       "      <th>adjHigh</th>\n",
       "      <th>adjLow</th>\n",
       "      <th>adjOpen</th>\n",
       "      <th>adjVolume</th>\n",
       "      <th>divCash</th>\n",
       "      <th>splitFactor</th>\n",
       "    </tr>\n",
       "  </thead>\n",
       "  <tbody>\n",
       "    <tr>\n",
       "      <th>1254</th>\n",
       "      <td>AAPL</td>\n",
       "      <td>2024-01-29 00:00:00+00:00</td>\n",
       "      <td>191.73</td>\n",
       "      <td>192.200</td>\n",
       "      <td>189.58</td>\n",
       "      <td>192.010</td>\n",
       "      <td>47145622</td>\n",
       "      <td>191.73</td>\n",
       "      <td>192.200</td>\n",
       "      <td>189.58</td>\n",
       "      <td>192.010</td>\n",
       "      <td>47145622</td>\n",
       "      <td>0.0</td>\n",
       "      <td>1.0</td>\n",
       "    </tr>\n",
       "    <tr>\n",
       "      <th>1255</th>\n",
       "      <td>AAPL</td>\n",
       "      <td>2024-01-30 00:00:00+00:00</td>\n",
       "      <td>188.04</td>\n",
       "      <td>191.800</td>\n",
       "      <td>187.47</td>\n",
       "      <td>190.940</td>\n",
       "      <td>55859370</td>\n",
       "      <td>188.04</td>\n",
       "      <td>191.800</td>\n",
       "      <td>187.47</td>\n",
       "      <td>190.940</td>\n",
       "      <td>55859370</td>\n",
       "      <td>0.0</td>\n",
       "      <td>1.0</td>\n",
       "    </tr>\n",
       "    <tr>\n",
       "      <th>1256</th>\n",
       "      <td>AAPL</td>\n",
       "      <td>2024-01-31 00:00:00+00:00</td>\n",
       "      <td>184.40</td>\n",
       "      <td>187.095</td>\n",
       "      <td>184.35</td>\n",
       "      <td>187.040</td>\n",
       "      <td>55467803</td>\n",
       "      <td>184.40</td>\n",
       "      <td>187.095</td>\n",
       "      <td>184.35</td>\n",
       "      <td>187.040</td>\n",
       "      <td>55467803</td>\n",
       "      <td>0.0</td>\n",
       "      <td>1.0</td>\n",
       "    </tr>\n",
       "    <tr>\n",
       "      <th>1257</th>\n",
       "      <td>AAPL</td>\n",
       "      <td>2024-02-01 00:00:00+00:00</td>\n",
       "      <td>186.86</td>\n",
       "      <td>186.950</td>\n",
       "      <td>183.82</td>\n",
       "      <td>183.985</td>\n",
       "      <td>64885408</td>\n",
       "      <td>186.86</td>\n",
       "      <td>186.950</td>\n",
       "      <td>183.82</td>\n",
       "      <td>183.985</td>\n",
       "      <td>64885408</td>\n",
       "      <td>0.0</td>\n",
       "      <td>1.0</td>\n",
       "    </tr>\n",
       "    <tr>\n",
       "      <th>1258</th>\n",
       "      <td>AAPL</td>\n",
       "      <td>2024-02-02 00:00:00+00:00</td>\n",
       "      <td>185.85</td>\n",
       "      <td>187.330</td>\n",
       "      <td>179.25</td>\n",
       "      <td>179.860</td>\n",
       "      <td>102551680</td>\n",
       "      <td>185.85</td>\n",
       "      <td>187.330</td>\n",
       "      <td>179.25</td>\n",
       "      <td>179.860</td>\n",
       "      <td>102551680</td>\n",
       "      <td>0.0</td>\n",
       "      <td>1.0</td>\n",
       "    </tr>\n",
       "  </tbody>\n",
       "</table>\n",
       "</div>\n",
       "    <div class=\"colab-df-buttons\">\n",
       "\n",
       "  <div class=\"colab-df-container\">\n",
       "    <button class=\"colab-df-convert\" onclick=\"convertToInteractive('df-90acbb97-f039-4bd3-9046-fe7ba2db5df5')\"\n",
       "            title=\"Convert this dataframe to an interactive table.\"\n",
       "            style=\"display:none;\">\n",
       "\n",
       "  <svg xmlns=\"http://www.w3.org/2000/svg\" height=\"24px\" viewBox=\"0 -960 960 960\">\n",
       "    <path d=\"M120-120v-720h720v720H120Zm60-500h600v-160H180v160Zm220 220h160v-160H400v160Zm0 220h160v-160H400v160ZM180-400h160v-160H180v160Zm440 0h160v-160H620v160ZM180-180h160v-160H180v160Zm440 0h160v-160H620v160Z\"/>\n",
       "  </svg>\n",
       "    </button>\n",
       "\n",
       "  <style>\n",
       "    .colab-df-container {\n",
       "      display:flex;\n",
       "      gap: 12px;\n",
       "    }\n",
       "\n",
       "    .colab-df-convert {\n",
       "      background-color: #E8F0FE;\n",
       "      border: none;\n",
       "      border-radius: 50%;\n",
       "      cursor: pointer;\n",
       "      display: none;\n",
       "      fill: #1967D2;\n",
       "      height: 32px;\n",
       "      padding: 0 0 0 0;\n",
       "      width: 32px;\n",
       "    }\n",
       "\n",
       "    .colab-df-convert:hover {\n",
       "      background-color: #E2EBFA;\n",
       "      box-shadow: 0px 1px 2px rgba(60, 64, 67, 0.3), 0px 1px 3px 1px rgba(60, 64, 67, 0.15);\n",
       "      fill: #174EA6;\n",
       "    }\n",
       "\n",
       "    .colab-df-buttons div {\n",
       "      margin-bottom: 4px;\n",
       "    }\n",
       "\n",
       "    [theme=dark] .colab-df-convert {\n",
       "      background-color: #3B4455;\n",
       "      fill: #D2E3FC;\n",
       "    }\n",
       "\n",
       "    [theme=dark] .colab-df-convert:hover {\n",
       "      background-color: #434B5C;\n",
       "      box-shadow: 0px 1px 3px 1px rgba(0, 0, 0, 0.15);\n",
       "      filter: drop-shadow(0px 1px 2px rgba(0, 0, 0, 0.3));\n",
       "      fill: #FFFFFF;\n",
       "    }\n",
       "  </style>\n",
       "\n",
       "    <script>\n",
       "      const buttonEl =\n",
       "        document.querySelector('#df-90acbb97-f039-4bd3-9046-fe7ba2db5df5 button.colab-df-convert');\n",
       "      buttonEl.style.display =\n",
       "        google.colab.kernel.accessAllowed ? 'block' : 'none';\n",
       "\n",
       "      async function convertToInteractive(key) {\n",
       "        const element = document.querySelector('#df-90acbb97-f039-4bd3-9046-fe7ba2db5df5');\n",
       "        const dataTable =\n",
       "          await google.colab.kernel.invokeFunction('convertToInteractive',\n",
       "                                                    [key], {});\n",
       "        if (!dataTable) return;\n",
       "\n",
       "        const docLinkHtml = 'Like what you see? Visit the ' +\n",
       "          '<a target=\"_blank\" href=https://colab.research.google.com/notebooks/data_table.ipynb>data table notebook</a>'\n",
       "          + ' to learn more about interactive tables.';\n",
       "        element.innerHTML = '';\n",
       "        dataTable['output_type'] = 'display_data';\n",
       "        await google.colab.output.renderOutput(dataTable, element);\n",
       "        const docLink = document.createElement('div');\n",
       "        docLink.innerHTML = docLinkHtml;\n",
       "        element.appendChild(docLink);\n",
       "      }\n",
       "    </script>\n",
       "  </div>\n",
       "\n",
       "\n",
       "<div id=\"df-2d7d5ce5-a40e-4a2b-b874-5cff2f9bb8ad\">\n",
       "  <button class=\"colab-df-quickchart\" onclick=\"quickchart('df-2d7d5ce5-a40e-4a2b-b874-5cff2f9bb8ad')\"\n",
       "            title=\"Suggest charts\"\n",
       "            style=\"display:none;\">\n",
       "\n",
       "<svg xmlns=\"http://www.w3.org/2000/svg\" height=\"24px\"viewBox=\"0 0 24 24\"\n",
       "     width=\"24px\">\n",
       "    <g>\n",
       "        <path d=\"M19 3H5c-1.1 0-2 .9-2 2v14c0 1.1.9 2 2 2h14c1.1 0 2-.9 2-2V5c0-1.1-.9-2-2-2zM9 17H7v-7h2v7zm4 0h-2V7h2v10zm4 0h-2v-4h2v4z\"/>\n",
       "    </g>\n",
       "</svg>\n",
       "  </button>\n",
       "\n",
       "<style>\n",
       "  .colab-df-quickchart {\n",
       "      --bg-color: #E8F0FE;\n",
       "      --fill-color: #1967D2;\n",
       "      --hover-bg-color: #E2EBFA;\n",
       "      --hover-fill-color: #174EA6;\n",
       "      --disabled-fill-color: #AAA;\n",
       "      --disabled-bg-color: #DDD;\n",
       "  }\n",
       "\n",
       "  [theme=dark] .colab-df-quickchart {\n",
       "      --bg-color: #3B4455;\n",
       "      --fill-color: #D2E3FC;\n",
       "      --hover-bg-color: #434B5C;\n",
       "      --hover-fill-color: #FFFFFF;\n",
       "      --disabled-bg-color: #3B4455;\n",
       "      --disabled-fill-color: #666;\n",
       "  }\n",
       "\n",
       "  .colab-df-quickchart {\n",
       "    background-color: var(--bg-color);\n",
       "    border: none;\n",
       "    border-radius: 50%;\n",
       "    cursor: pointer;\n",
       "    display: none;\n",
       "    fill: var(--fill-color);\n",
       "    height: 32px;\n",
       "    padding: 0;\n",
       "    width: 32px;\n",
       "  }\n",
       "\n",
       "  .colab-df-quickchart:hover {\n",
       "    background-color: var(--hover-bg-color);\n",
       "    box-shadow: 0 1px 2px rgba(60, 64, 67, 0.3), 0 1px 3px 1px rgba(60, 64, 67, 0.15);\n",
       "    fill: var(--button-hover-fill-color);\n",
       "  }\n",
       "\n",
       "  .colab-df-quickchart-complete:disabled,\n",
       "  .colab-df-quickchart-complete:disabled:hover {\n",
       "    background-color: var(--disabled-bg-color);\n",
       "    fill: var(--disabled-fill-color);\n",
       "    box-shadow: none;\n",
       "  }\n",
       "\n",
       "  .colab-df-spinner {\n",
       "    border: 2px solid var(--fill-color);\n",
       "    border-color: transparent;\n",
       "    border-bottom-color: var(--fill-color);\n",
       "    animation:\n",
       "      spin 1s steps(1) infinite;\n",
       "  }\n",
       "\n",
       "  @keyframes spin {\n",
       "    0% {\n",
       "      border-color: transparent;\n",
       "      border-bottom-color: var(--fill-color);\n",
       "      border-left-color: var(--fill-color);\n",
       "    }\n",
       "    20% {\n",
       "      border-color: transparent;\n",
       "      border-left-color: var(--fill-color);\n",
       "      border-top-color: var(--fill-color);\n",
       "    }\n",
       "    30% {\n",
       "      border-color: transparent;\n",
       "      border-left-color: var(--fill-color);\n",
       "      border-top-color: var(--fill-color);\n",
       "      border-right-color: var(--fill-color);\n",
       "    }\n",
       "    40% {\n",
       "      border-color: transparent;\n",
       "      border-right-color: var(--fill-color);\n",
       "      border-top-color: var(--fill-color);\n",
       "    }\n",
       "    60% {\n",
       "      border-color: transparent;\n",
       "      border-right-color: var(--fill-color);\n",
       "    }\n",
       "    80% {\n",
       "      border-color: transparent;\n",
       "      border-right-color: var(--fill-color);\n",
       "      border-bottom-color: var(--fill-color);\n",
       "    }\n",
       "    90% {\n",
       "      border-color: transparent;\n",
       "      border-bottom-color: var(--fill-color);\n",
       "    }\n",
       "  }\n",
       "</style>\n",
       "\n",
       "  <script>\n",
       "    async function quickchart(key) {\n",
       "      const quickchartButtonEl =\n",
       "        document.querySelector('#' + key + ' button');\n",
       "      quickchartButtonEl.disabled = true;  // To prevent multiple clicks.\n",
       "      quickchartButtonEl.classList.add('colab-df-spinner');\n",
       "      try {\n",
       "        const charts = await google.colab.kernel.invokeFunction(\n",
       "            'suggestCharts', [key], {});\n",
       "      } catch (error) {\n",
       "        console.error('Error during call to suggestCharts:', error);\n",
       "      }\n",
       "      quickchartButtonEl.classList.remove('colab-df-spinner');\n",
       "      quickchartButtonEl.classList.add('colab-df-quickchart-complete');\n",
       "    }\n",
       "    (() => {\n",
       "      let quickchartButtonEl =\n",
       "        document.querySelector('#df-2d7d5ce5-a40e-4a2b-b874-5cff2f9bb8ad button');\n",
       "      quickchartButtonEl.style.display =\n",
       "        google.colab.kernel.accessAllowed ? 'block' : 'none';\n",
       "    })();\n",
       "  </script>\n",
       "</div>\n",
       "\n",
       "    </div>\n",
       "  </div>\n"
      ],
      "text/plain": [
       "     symbol                       date   close     high     low     open  \\\n",
       "1254   AAPL  2024-01-29 00:00:00+00:00  191.73  192.200  189.58  192.010   \n",
       "1255   AAPL  2024-01-30 00:00:00+00:00  188.04  191.800  187.47  190.940   \n",
       "1256   AAPL  2024-01-31 00:00:00+00:00  184.40  187.095  184.35  187.040   \n",
       "1257   AAPL  2024-02-01 00:00:00+00:00  186.86  186.950  183.82  183.985   \n",
       "1258   AAPL  2024-02-02 00:00:00+00:00  185.85  187.330  179.25  179.860   \n",
       "\n",
       "         volume  adjClose  adjHigh  adjLow  adjOpen  adjVolume  divCash  \\\n",
       "1254   47145622    191.73  192.200  189.58  192.010   47145622      0.0   \n",
       "1255   55859370    188.04  191.800  187.47  190.940   55859370      0.0   \n",
       "1256   55467803    184.40  187.095  184.35  187.040   55467803      0.0   \n",
       "1257   64885408    186.86  186.950  183.82  183.985   64885408      0.0   \n",
       "1258  102551680    185.85  187.330  179.25  179.860  102551680      0.0   \n",
       "\n",
       "      splitFactor  \n",
       "1254          1.0  \n",
       "1255          1.0  \n",
       "1256          1.0  \n",
       "1257          1.0  \n",
       "1258          1.0  "
      ]
     },
     "execution_count": 16,
     "metadata": {},
     "output_type": "execute_result"
    }
   ],
   "source": [
    "data = pd.read_csv(\"apple.csv\")\n",
    "data.tail()"
   ]
  },
  {
   "cell_type": "code",
   "execution_count": null,
   "metadata": {
    "colab": {
     "base_uri": "https://localhost:8080/"
    },
    "id": "QzsdcOfJfYaR",
    "outputId": "b72451bf-3e55-403b-cd3d-02c3de73718f"
   },
   "outputs": [
    {
     "name": "stdout",
     "output_type": "stream",
     "text": [
      "<class 'pandas.core.frame.DataFrame'>\n",
      "RangeIndex: 1259 entries, 0 to 1258\n",
      "Data columns (total 14 columns):\n",
      " #   Column       Non-Null Count  Dtype  \n",
      "---  ------       --------------  -----  \n",
      " 0   symbol       1259 non-null   object \n",
      " 1   date         1259 non-null   object \n",
      " 2   close        1259 non-null   float64\n",
      " 3   high         1259 non-null   float64\n",
      " 4   low          1259 non-null   float64\n",
      " 5   open         1259 non-null   float64\n",
      " 6   volume       1259 non-null   int64  \n",
      " 7   adjClose     1259 non-null   float64\n",
      " 8   adjHigh      1259 non-null   float64\n",
      " 9   adjLow       1259 non-null   float64\n",
      " 10  adjOpen      1259 non-null   float64\n",
      " 11  adjVolume    1259 non-null   int64  \n",
      " 12  divCash      1259 non-null   float64\n",
      " 13  splitFactor  1259 non-null   float64\n",
      "dtypes: float64(10), int64(2), object(2)\n",
      "memory usage: 137.8+ KB\n"
     ]
    }
   ],
   "source": [
    "data.info()"
   ]
  },
  {
   "cell_type": "code",
   "execution_count": null,
   "metadata": {
    "colab": {
     "base_uri": "https://localhost:8080/"
    },
    "id": "UMi3TKqJfb3h",
    "outputId": "589e4226-6f3d-42bc-cca0-bfa1e839a91d"
   },
   "outputs": [
    {
     "name": "stdout",
     "output_type": "stream",
     "text": [
      "(759,)\n"
     ]
    },
    {
     "data": {
      "text/plain": [
       "0    137.09\n",
       "1    131.96\n",
       "2    134.14\n",
       "3    134.99\n",
       "4    133.94\n",
       "Name: close, dtype: float64"
      ]
     },
     "execution_count": 18,
     "metadata": {},
     "output_type": "execute_result"
    }
   ],
   "source": [
    "#working on \"close\" column\n",
    "\n",
    "dataset = data[\"close\"][500:].reset_index(drop=True)\n",
    "dataset_copy = dataset\n",
    "print(dataset.shape)\n",
    "dataset.head()"
   ]
  },
  {
   "cell_type": "code",
   "execution_count": null,
   "metadata": {
    "colab": {
     "base_uri": "https://localhost:8080/",
     "height": 448
    },
    "id": "PfhJ09nof4SV",
    "outputId": "b1c0a613-eb78-456f-8973-e4f8c353de34"
   },
   "outputs": [
    {
     "data": {
      "text/plain": [
       "[<matplotlib.lines.Line2D at 0x7b864ce59450>]"
      ]
     },
     "execution_count": 19,
     "metadata": {},
     "output_type": "execute_result"
    },
    {
     "data": {
      "image/png": "[encoded data removed]",
      "text/plain": [
       "<Figure size 640x480 with 1 Axes>"
      ]
     },
     "metadata": {},
     "output_type": "display_data"
    }
   ],
   "source": [
    "plt.plot(dataset)"
   ]
  },
  {
   "cell_type": "code",
   "execution_count": null,
   "metadata": {
    "colab": {
     "base_uri": "https://localhost:8080/"
    },
    "id": "Ka0xZjJSgEFo",
    "outputId": "79609e47-bb98-40ab-e9c1-f0291a7d5762"
   },
   "outputs": [
    {
     "data": {
      "text/plain": [
       "(759, 1)"
      ]
     },
     "execution_count": 20,
     "metadata": {},
     "output_type": "execute_result"
    }
   ],
   "source": [
    "from sklearn.preprocessing import MinMaxScaler\n",
    "scale = MinMaxScaler()\n",
    "dataset= scale.fit_transform(np.array(dataset).reshape(-1,1))\n",
    "dataset.shape"
   ]
  },
  {
   "cell_type": "code",
   "execution_count": null,
   "metadata": {
    "id": "WBSqV51wiH9Q"
   },
   "outputs": [],
   "source": []
  },
  {
   "cell_type": "markdown",
   "metadata": {
    "id": "Kk54SjkNmJ3i"
   },
   "source": [
    "#Spliting the data for train and test\n"
   ]
  },
  {
   "cell_type": "code",
   "execution_count": null,
   "metadata": {
    "colab": {
     "base_uri": "https://localhost:8080/"
    },
    "id": "29JsuiTTig7h",
    "outputId": "cc68f561-6780-488e-a771-628cdbc899db"
   },
   "outputs": [
    {
     "data": {
      "text/plain": [
       "((531, 1), (228, 1))"
      ]
     },
     "execution_count": 21,
     "metadata": {},
     "output_type": "execute_result"
    }
   ],
   "source": [
    "\n",
    "train = dataset[:int(len(dataset)*0.7),:]\n",
    "test = dataset[int(len(dataset)*0.7):,:]\n",
    "train.shape, test.shape"
   ]
  },
  {
   "cell_type": "code",
   "execution_count": null,
   "metadata": {
    "id": "J5fas8nDig-Y"
   },
   "outputs": [],
   "source": [
    "def create_data(data, stepsize):\n",
    "  fetures = []\n",
    "  target = []\n",
    "  for i in range(len(data)-stepsize):\n",
    "    fetures.append(data[i:i+stepsize])\n",
    "    target.append(data[i+stepsize,0])\n",
    "  return np.array(fetures), np.array(target)"
   ]
  },
  {
   "cell_type": "code",
   "execution_count": null,
   "metadata": {
    "colab": {
     "base_uri": "https://localhost:8080/"
    },
    "id": "AE2RmfqSihBQ",
    "outputId": "8a61d9ce-8069-4361-cf72-91e86fde4a0c"
   },
   "outputs": [
    {
     "data": {
      "text/plain": [
       "((451, 80, 1), (451,))"
      ]
     },
     "execution_count": 23,
     "metadata": {},
     "output_type": "execute_result"
    }
   ],
   "source": [
    "step =80\n",
    "train_x, train_y = create_data(train, step)\n",
    "train_x.shape, train_y.shape"
   ]
  },
  {
   "cell_type": "code",
   "execution_count": null,
   "metadata": {
    "colab": {
     "base_uri": "https://localhost:8080/"
    },
    "id": "nrypaEiuktGX",
    "outputId": "35f73b64-5088-4ca0-a923-34324e79bb7e"
   },
   "outputs": [
    {
     "data": {
      "text/plain": [
       "((148, 80, 1), (148,))"
      ]
     },
     "execution_count": 24,
     "metadata": {},
     "output_type": "execute_result"
    }
   ],
   "source": [
    "test_x, test_y = create_data(test, step)\n",
    "test_x.shape, test_y.shape"
   ]
  },
  {
   "cell_type": "code",
   "execution_count": null,
   "metadata": {
    "id": "PrcYSHXvljOF"
   },
   "outputs": [],
   "source": []
  },
  {
   "cell_type": "markdown",
   "metadata": {
    "id": "868Cae4tmiC5"
   },
   "source": [
    "#Creating model"
   ]
  },
  {
   "cell_type": "code",
   "execution_count": null,
   "metadata": {
    "colab": {
     "base_uri": "https://localhost:8080/"
    },
    "id": "nNGMCcyfl8qo",
    "outputId": "25be380e-67ee-422e-baf5-369ade96b4f6"
   },
   "outputs": [
    {
     "name": "stdout",
     "output_type": "stream",
     "text": [
      "Model: \"sequential_1\"\n",
      "_________________________________________________________________\n",
      " Layer (type)                Output Shape              Param #   \n",
      "=================================================================\n",
      " lstm_3 (LSTM)               (None, 80, 100)           40800     \n",
      "                                                                 \n",
      " lstm_4 (LSTM)               (None, 80, 100)           80400     \n",
      "                                                                 \n",
      " lstm_5 (LSTM)               (None, 100)               80400     \n",
      "                                                                 \n",
      " dense_1 (Dense)             (None, 1)                 101       \n",
      "                                                                 \n",
      "=================================================================\n",
      "Total params: 201701 (787.89 KB)\n",
      "Trainable params: 201701 (787.89 KB)\n",
      "Non-trainable params: 0 (0.00 Byte)\n",
      "_________________________________________________________________\n"
     ]
    }
   ],
   "source": [
    "\n",
    "from keras.models import Sequential\n",
    "from keras.layers import Dense, LSTM\n",
    "\n",
    "model = Sequential()\n",
    "model.add(LSTM(100 , return_sequences=True, input_shape = (80,1)))\n",
    "model.add(LSTM(100,return_sequences=True))\n",
    "model.add(LSTM(100))\n",
    "model.add(Dense(1))\n",
    "model.compile(optimizer=\"adam\", loss =\"mse\")\n",
    "model.summary()"
   ]
  },
  {
   "cell_type": "code",
   "execution_count": null,
   "metadata": {
    "colab": {
     "base_uri": "https://localhost:8080/"
    },
    "id": "iRQ6SXvzm-Zq",
    "outputId": "a344a4a7-806a-4bab-a477-88ff0769996e"
   },
   "outputs": [
    {
     "name": "stdout",
     "output_type": "stream",
     "text": [
      "Epoch 1/100\n",
      "8/8 [==============================] - 6s 174ms/step - loss: 0.0618 - val_loss: 0.1192\n",
      "Epoch 2/100\n",
      "8/8 [==============================] - 0s 24ms/step - loss: 0.0192 - val_loss: 0.0082\n",
      "Epoch 3/100\n",
      "8/8 [==============================] - 0s 20ms/step - loss: 0.0109 - val_loss: 0.0444\n",
      "Epoch 4/100\n",
      "8/8 [==============================] - 0s 18ms/step - loss: 0.0105 - val_loss: 0.0256\n",
      "Epoch 5/100\n",
      "8/8 [==============================] - 0s 25ms/step - loss: 0.0094 - val_loss: 0.0291\n",
      "Epoch 6/100\n",
      "8/8 [==============================] - 0s 31ms/step - loss: 0.0079 - val_loss: 0.0154\n",
      "Epoch 7/100\n",
      "8/8 [==============================] - 0s 32ms/step - loss: 0.0075 - val_loss: 0.0084\n",
      "Epoch 8/100\n",
      "8/8 [==============================] - 0s 27ms/step - loss: 0.0071 - val_loss: 0.0192\n",
      "Epoch 9/100\n",
      "8/8 [==============================] - 0s 27ms/step - loss: 0.0065 - val_loss: 0.0077\n",
      "Epoch 10/100\n",
      "8/8 [==============================] - 0s 25ms/step - loss: 0.0056 - val_loss: 0.0118\n",
      "Epoch 11/100\n",
      "8/8 [==============================] - 0s 30ms/step - loss: 0.0053 - val_loss: 0.0060\n",
      "Epoch 12/100\n",
      "8/8 [==============================] - 0s 32ms/step - loss: 0.0054 - val_loss: 0.0113\n",
      "Epoch 13/100\n",
      "8/8 [==============================] - 0s 28ms/step - loss: 0.0050 - val_loss: 0.0109\n",
      "Epoch 14/100\n",
      "8/8 [==============================] - 0s 20ms/step - loss: 0.0049 - val_loss: 0.0151\n",
      "Epoch 15/100\n",
      "8/8 [==============================] - 0s 19ms/step - loss: 0.0051 - val_loss: 0.0213\n",
      "Epoch 16/100\n",
      "8/8 [==============================] - 0s 19ms/step - loss: 0.0055 - val_loss: 0.0106\n",
      "Epoch 17/100\n",
      "8/8 [==============================] - 0s 21ms/step - loss: 0.0057 - val_loss: 0.0057\n",
      "Epoch 18/100\n",
      "8/8 [==============================] - 0s 19ms/step - loss: 0.0054 - val_loss: 0.0045\n",
      "Epoch 19/100\n",
      "8/8 [==============================] - 0s 19ms/step - loss: 0.0053 - val_loss: 0.0065\n",
      "Epoch 20/100\n",
      "8/8 [==============================] - 0s 19ms/step - loss: 0.0044 - val_loss: 0.0082\n",
      "Epoch 21/100\n",
      "8/8 [==============================] - 0s 18ms/step - loss: 0.0042 - val_loss: 0.0090\n",
      "Epoch 22/100\n",
      "8/8 [==============================] - 0s 18ms/step - loss: 0.0045 - val_loss: 0.0042\n",
      "Epoch 23/100\n",
      "8/8 [==============================] - 0s 19ms/step - loss: 0.0045 - val_loss: 0.0053\n",
      "Epoch 24/100\n",
      "8/8 [==============================] - 0s 19ms/step - loss: 0.0044 - val_loss: 0.0049\n",
      "Epoch 25/100\n",
      "8/8 [==============================] - 0s 19ms/step - loss: 0.0040 - val_loss: 0.0043\n",
      "Epoch 26/100\n",
      "8/8 [==============================] - 0s 19ms/step - loss: 0.0039 - val_loss: 0.0123\n",
      "Epoch 27/100\n",
      "8/8 [==============================] - 0s 20ms/step - loss: 0.0039 - val_loss: 0.0057\n",
      "Epoch 28/100\n",
      "8/8 [==============================] - 0s 19ms/step - loss: 0.0040 - val_loss: 0.0049\n",
      "Epoch 29/100\n",
      "8/8 [==============================] - 0s 18ms/step - loss: 0.0042 - val_loss: 0.0031\n",
      "Epoch 30/100\n",
      "8/8 [==============================] - 0s 21ms/step - loss: 0.0044 - val_loss: 0.0031\n",
      "Epoch 31/100\n",
      "8/8 [==============================] - 0s 19ms/step - loss: 0.0049 - val_loss: 0.0085\n",
      "Epoch 32/100\n",
      "8/8 [==============================] - 0s 20ms/step - loss: 0.0038 - val_loss: 0.0129\n",
      "Epoch 33/100\n",
      "8/8 [==============================] - 0s 20ms/step - loss: 0.0040 - val_loss: 0.0055\n",
      "Epoch 34/100\n",
      "8/8 [==============================] - 0s 21ms/step - loss: 0.0040 - val_loss: 0.0027\n",
      "Epoch 35/100\n",
      "8/8 [==============================] - 0s 19ms/step - loss: 0.0033 - val_loss: 0.0065\n",
      "Epoch 36/100\n",
      "8/8 [==============================] - 0s 19ms/step - loss: 0.0032 - val_loss: 0.0028\n",
      "Epoch 37/100\n",
      "8/8 [==============================] - 0s 19ms/step - loss: 0.0031 - val_loss: 0.0053\n",
      "Epoch 38/100\n",
      "8/8 [==============================] - 0s 19ms/step - loss: 0.0030 - val_loss: 0.0022\n",
      "Epoch 39/100\n",
      "8/8 [==============================] - 0s 19ms/step - loss: 0.0031 - val_loss: 0.0022\n",
      "Epoch 40/100\n",
      "8/8 [==============================] - 0s 18ms/step - loss: 0.0029 - val_loss: 0.0029\n",
      "Epoch 41/100\n",
      "8/8 [==============================] - 0s 18ms/step - loss: 0.0028 - val_loss: 0.0048\n",
      "Epoch 42/100\n",
      "8/8 [==============================] - 0s 19ms/step - loss: 0.0030 - val_loss: 0.0032\n",
      "Epoch 43/100\n",
      "8/8 [==============================] - 0s 20ms/step - loss: 0.0032 - val_loss: 0.0032\n",
      "Epoch 44/100\n",
      "8/8 [==============================] - 0s 19ms/step - loss: 0.0032 - val_loss: 0.0058\n",
      "Epoch 45/100\n",
      "8/8 [==============================] - 0s 19ms/step - loss: 0.0048 - val_loss: 0.0033\n",
      "Epoch 46/100\n",
      "8/8 [==============================] - 0s 19ms/step - loss: 0.0040 - val_loss: 0.0194\n",
      "Epoch 47/100\n",
      "8/8 [==============================] - 0s 19ms/step - loss: 0.0040 - val_loss: 0.0030\n",
      "Epoch 48/100\n",
      "8/8 [==============================] - 0s 19ms/step - loss: 0.0026 - val_loss: 0.0047\n",
      "Epoch 49/100\n",
      "8/8 [==============================] - 0s 18ms/step - loss: 0.0027 - val_loss: 0.0033\n",
      "Epoch 50/100\n",
      "8/8 [==============================] - 0s 20ms/step - loss: 0.0028 - val_loss: 0.0035\n",
      "Epoch 51/100\n",
      "8/8 [==============================] - 0s 18ms/step - loss: 0.0032 - val_loss: 0.0016\n",
      "Epoch 52/100\n",
      "8/8 [==============================] - 0s 18ms/step - loss: 0.0026 - val_loss: 0.0031\n",
      "Epoch 53/100\n",
      "8/8 [==============================] - 0s 18ms/step - loss: 0.0024 - val_loss: 0.0035\n",
      "Epoch 54/100\n",
      "8/8 [==============================] - 0s 19ms/step - loss: 0.0026 - val_loss: 0.0014\n",
      "Epoch 55/100\n",
      "8/8 [==============================] - 0s 18ms/step - loss: 0.0022 - val_loss: 0.0027\n",
      "Epoch 56/100\n",
      "8/8 [==============================] - 0s 22ms/step - loss: 0.0022 - val_loss: 0.0016\n",
      "Epoch 57/100\n",
      "8/8 [==============================] - 0s 22ms/step - loss: 0.0022 - val_loss: 0.0060\n",
      "Epoch 58/100\n",
      "8/8 [==============================] - 0s 19ms/step - loss: 0.0026 - val_loss: 0.0023\n",
      "Epoch 59/100\n",
      "8/8 [==============================] - 0s 19ms/step - loss: 0.0024 - val_loss: 0.0020\n",
      "Epoch 60/100\n",
      "8/8 [==============================] - 0s 19ms/step - loss: 0.0023 - val_loss: 0.0022\n",
      "Epoch 61/100\n",
      "8/8 [==============================] - 0s 19ms/step - loss: 0.0022 - val_loss: 0.0021\n",
      "Epoch 62/100\n",
      "8/8 [==============================] - 0s 20ms/step - loss: 0.0022 - val_loss: 0.0024\n",
      "Epoch 63/100\n",
      "8/8 [==============================] - 0s 21ms/step - loss: 0.0020 - val_loss: 0.0012\n",
      "Epoch 64/100\n",
      "8/8 [==============================] - 0s 19ms/step - loss: 0.0020 - val_loss: 0.0021\n",
      "Epoch 65/100\n",
      "8/8 [==============================] - 0s 20ms/step - loss: 0.0021 - val_loss: 0.0022\n",
      "Epoch 66/100\n",
      "8/8 [==============================] - 0s 21ms/step - loss: 0.0020 - val_loss: 0.0012\n",
      "Epoch 67/100\n",
      "8/8 [==============================] - 0s 19ms/step - loss: 0.0023 - val_loss: 0.0014\n",
      "Epoch 68/100\n",
      "8/8 [==============================] - 0s 19ms/step - loss: 0.0020 - val_loss: 0.0012\n",
      "Epoch 69/100\n",
      "8/8 [==============================] - 0s 19ms/step - loss: 0.0021 - val_loss: 0.0017\n",
      "Epoch 70/100\n",
      "8/8 [==============================] - 0s 23ms/step - loss: 0.0024 - val_loss: 0.0032\n",
      "Epoch 71/100\n",
      "8/8 [==============================] - 0s 20ms/step - loss: 0.0022 - val_loss: 0.0050\n",
      "Epoch 72/100\n",
      "8/8 [==============================] - 0s 19ms/step - loss: 0.0021 - val_loss: 0.0010\n",
      "Epoch 73/100\n",
      "8/8 [==============================] - 0s 18ms/step - loss: 0.0019 - val_loss: 0.0011\n",
      "Epoch 74/100\n",
      "8/8 [==============================] - 0s 19ms/step - loss: 0.0020 - val_loss: 0.0010\n",
      "Epoch 75/100\n",
      "8/8 [==============================] - 0s 20ms/step - loss: 0.0019 - val_loss: 0.0065\n",
      "Epoch 76/100\n",
      "8/8 [==============================] - 0s 20ms/step - loss: 0.0032 - val_loss: 0.0014\n",
      "Epoch 77/100\n",
      "8/8 [==============================] - 0s 18ms/step - loss: 0.0018 - val_loss: 0.0012\n",
      "Epoch 78/100\n",
      "8/8 [==============================] - 0s 26ms/step - loss: 0.0019 - val_loss: 9.5425e-04\n",
      "Epoch 79/100\n",
      "8/8 [==============================] - 0s 28ms/step - loss: 0.0020 - val_loss: 0.0026\n",
      "Epoch 80/100\n",
      "8/8 [==============================] - 0s 26ms/step - loss: 0.0018 - val_loss: 9.7072e-04\n",
      "Epoch 81/100\n",
      "8/8 [==============================] - 0s 27ms/step - loss: 0.0018 - val_loss: 0.0028\n",
      "Epoch 82/100\n",
      "8/8 [==============================] - 0s 24ms/step - loss: 0.0018 - val_loss: 0.0011\n",
      "Epoch 83/100\n",
      "8/8 [==============================] - 0s 26ms/step - loss: 0.0018 - val_loss: 0.0010\n",
      "Epoch 84/100\n",
      "8/8 [==============================] - 0s 26ms/step - loss: 0.0018 - val_loss: 8.9193e-04\n",
      "Epoch 85/100\n",
      "8/8 [==============================] - 0s 31ms/step - loss: 0.0020 - val_loss: 0.0028\n",
      "Epoch 86/100\n",
      "8/8 [==============================] - 0s 29ms/step - loss: 0.0019 - val_loss: 9.8157e-04\n",
      "Epoch 87/100\n",
      "8/8 [==============================] - 0s 25ms/step - loss: 0.0018 - val_loss: 0.0033\n",
      "Epoch 88/100\n",
      "8/8 [==============================] - 0s 19ms/step - loss: 0.0022 - val_loss: 9.7004e-04\n",
      "Epoch 89/100\n",
      "8/8 [==============================] - 0s 20ms/step - loss: 0.0017 - val_loss: 0.0029\n",
      "Epoch 90/100\n",
      "8/8 [==============================] - 0s 19ms/step - loss: 0.0020 - val_loss: 0.0018\n",
      "Epoch 91/100\n",
      "8/8 [==============================] - 0s 19ms/step - loss: 0.0022 - val_loss: 0.0045\n",
      "Epoch 92/100\n",
      "8/8 [==============================] - 0s 20ms/step - loss: 0.0023 - val_loss: 9.0368e-04\n",
      "Epoch 93/100\n",
      "8/8 [==============================] - 0s 19ms/step - loss: 0.0017 - val_loss: 0.0016\n",
      "Epoch 94/100\n",
      "8/8 [==============================] - 0s 19ms/step - loss: 0.0017 - val_loss: 0.0022\n",
      "Epoch 95/100\n",
      "8/8 [==============================] - 0s 19ms/step - loss: 0.0017 - val_loss: 0.0022\n",
      "Epoch 96/100\n",
      "8/8 [==============================] - 0s 19ms/step - loss: 0.0017 - val_loss: 8.1724e-04\n",
      "Epoch 97/100\n",
      "8/8 [==============================] - 0s 19ms/step - loss: 0.0016 - val_loss: 0.0010\n",
      "Epoch 98/100\n",
      "8/8 [==============================] - 0s 19ms/step - loss: 0.0017 - val_loss: 0.0031\n",
      "Epoch 99/100\n",
      "8/8 [==============================] - 0s 19ms/step - loss: 0.0016 - val_loss: 0.0015\n",
      "Epoch 100/100\n",
      "8/8 [==============================] - 0s 19ms/step - loss: 0.0015 - val_loss: 0.0015\n"
     ]
    },
    {
     "data": {
      "text/plain": [
       "<keras.src.callbacks.History at 0x7b86c00a80a0>"
      ]
     },
     "execution_count": 26,
     "metadata": {},
     "output_type": "execute_result"
    }
   ],
   "source": [
    "model.fit(train_x, train_y, epochs = 100 , batch_size = 64, validation_data=(test_x, test_y), verbose =1)"
   ]
  },
  {
   "cell_type": "code",
   "execution_count": null,
   "metadata": {
    "colab": {
     "base_uri": "https://localhost:8080/"
    },
    "id": "qtqgHkKZnivB",
    "outputId": "631f2031-21e3-4a0d-e52e-bb739e257657"
   },
   "outputs": [
    {
     "name": "stdout",
     "output_type": "stream",
     "text": [
      "15/15 [==============================] - 0s 10ms/step\n",
      "5/5 [==============================] - 0s 8ms/step\n"
     ]
    },
    {
     "data": {
      "text/plain": [
       "((451, 1), (148, 1))"
      ]
     },
     "execution_count": 52,
     "metadata": {},
     "output_type": "execute_result"
    }
   ],
   "source": [
    "#Predicting for train as well as test data\n",
    "\n",
    "train_pred = model.predict(train_x)\n",
    "test_pred = model.predict(test_x)\n",
    "train_pred.shape, test_pred.shape"
   ]
  },
  {
   "cell_type": "code",
   "execution_count": null,
   "metadata": {
    "colab": {
     "base_uri": "https://localhost:8080/"
    },
    "id": "3mN7Ne4rog0r",
    "outputId": "1819a449-035c-48b2-b191-769a0378b793"
   },
   "outputs": [
    {
     "name": "stdout",
     "output_type": "stream",
     "text": [
      "RMSE for train_data :  0.03865316590898607\n",
      "RMSE for test_data :  0.03811485944619281\n"
     ]
    }
   ],
   "source": [
    "#Calculating RMSE\n",
    "\n",
    "import math\n",
    "from sklearn.metrics import mean_squared_error\n",
    "print(\"RMSE for train_data : \", math.sqrt(mean_squared_error(train_y, train_pred)))\n",
    "print(\"RMSE for test_data : \", math.sqrt(mean_squared_error(test_y,test_pred)))"
   ]
  },
  {
   "cell_type": "code",
   "execution_count": null,
   "metadata": {
    "id": "a66v5cyrw4_-"
   },
   "outputs": [],
   "source": [
    "# Inversing the scaling\n",
    "train_pred = scale.inverse_transform(train_pred)\n",
    "test_pred = scale.inverse_transform(test_pred)"
   ]
  },
  {
   "cell_type": "code",
   "execution_count": null,
   "metadata": {
    "id": "pdr0B_Xww5F6"
   },
   "outputs": [],
   "source": []
  },
  {
   "cell_type": "code",
   "execution_count": null,
   "metadata": {
    "colab": {
     "base_uri": "https://localhost:8080/",
     "height": 448
    },
    "id": "wAfv1lveouAJ",
    "outputId": "320247e4-5d42-4191-d5e3-6088bc7709cd"
   },
   "outputs": [
    {
     "data": {
      "text/plain": [
       "<matplotlib.legend.Legend at 0x7b86286264d0>"
      ]
     },
     "execution_count": 76,
     "metadata": {},
     "output_type": "execute_result"
    },
    {
     "data": {
      "image/png": "[encoded data removed]",
      "text/plain": [
       "<Figure size 640x480 with 1 Axes>"
      ]
     },
     "metadata": {},
     "output_type": "display_data"
    }
   ],
   "source": [
    "#plotting\n",
    "\n",
    "# for predicted train data\n",
    "step = 80\n",
    "plot_train_predict = np.empty_like(dataset_copy)\n",
    "plot_train_predict[:,] = np.nan\n",
    "plot_train_predict[step:len(train),] = train_pred.reshape(-1,)\n",
    "\n",
    "# for predicted test data\n",
    "plot_test_predict = np.empty_like(dataset_copy)\n",
    "plot_test_predict[:,] = np.nan\n",
    "plot_test_predict[len(train)+step:len(dataset_copy),] = test_pred.reshape(-1,)\n",
    "\n",
    "plt.style.use(\"ggplot\")\n",
    "plt.plot(dataset_copy, label = \"Original Data\")\n",
    "plt.plot(plot_train_predict, label = \"Predicted train Data\")\n",
    "plt.plot(plot_test_predict, label = \"Predicted test Data\")\n",
    "plt.legend()"
   ]
  },
  {
   "cell_type": "code",
   "execution_count": null,
   "metadata": {
    "id": "f0Q03S2Gp0xH"
   },
   "outputs": [],
   "source": []
  },
  {
   "cell_type": "markdown",
   "metadata": {
    "id": "U0Y0zOzpyJ3I"
   },
   "source": [
    "#Predicting 30 further more points"
   ]
  },
  {
   "cell_type": "code",
   "execution_count": null,
   "metadata": {
    "colab": {
     "base_uri": "https://localhost:8080/"
    },
    "id": "HSiFTJBfyROS",
    "outputId": "4c48a6c8-6f95-434c-9a59-41a68796f922"
   },
   "outputs": [
    {
     "data": {
      "text/plain": [
       "[[184.18319702148438],\n",
       " [182.32569885253906],\n",
       " [180.5236358642578],\n",
       " [178.85079956054688],\n",
       " [177.26681518554688],\n",
       " [175.73574829101562],\n",
       " [174.2375946044922],\n",
       " [172.7625732421875],\n",
       " [171.306640625],\n",
       " [169.869140625],\n",
       " [168.4512481689453],\n",
       " [167.0551300048828],\n",
       " [165.683349609375],\n",
       " [164.33859252929688],\n",
       " [163.0234375],\n",
       " [161.74038696289062],\n",
       " [160.49176025390625],\n",
       " [159.27967834472656],\n",
       " [158.1061553955078],\n",
       " [156.97296142578125],\n",
       " [155.88177490234375],\n",
       " [154.833984375],\n",
       " [153.83082580566406],\n",
       " [152.873291015625],\n",
       " [151.96214294433594],\n",
       " [151.09788513183594],\n",
       " [150.2808074951172],\n",
       " [149.51092529296875],\n",
       " [148.78807067871094],\n",
       " [148.11180114746094]]"
      ]
     },
     "execution_count": 132,
     "metadata": {},
     "output_type": "execute_result"
    }
   ],
   "source": [
    "test_copy = test\n",
    "test_another = test\n",
    "test_data = test[-80:,].reshape(1,80,1)\n",
    "\n",
    "step = 80\n",
    "i = 0\n",
    "answer = []\n",
    "while i < 30:\n",
    "  prediction = model.predict(test_data[-80:,].reshape(1,80,1), verbose = 0)\n",
    "  test_data = np.append(test_data,prediction)\n",
    "  test_copy = np.append(test_copy,prediction)\n",
    "  answer.append(scale.inverse_transform(prediction).reshape(-1,).tolist())\n",
    "  i = i+1\n",
    "answer"
   ]
  },
  {
   "cell_type": "code",
   "execution_count": null,
   "metadata": {
    "id": "rcu7sChByRRo"
   },
   "outputs": [],
   "source": [
    "test_copy = scale.inverse_transform(test_copy.reshape(-1, 1)).reshape(-1, )\n",
    "test_data = scale.inverse_transform(test_data.reshape(-1, 1)).reshape(-1, )\n",
    "test_another = scale.inverse_transform(test_another.reshape(-1, 1)).reshape(-1, )"
   ]
  },
  {
   "cell_type": "code",
   "execution_count": null,
   "metadata": {
    "colab": {
     "base_uri": "https://localhost:8080/",
     "height": 449
    },
    "id": "y10EMzbh1a4Y",
    "outputId": "8a204e98-136c-4163-93fa-eaa7f153114d"
   },
   "outputs": [
    {
     "data": {
      "text/plain": [
       "<matplotlib.legend.Legend at 0x7b861ceb31c0>"
      ]
     },
     "execution_count": 134,
     "metadata": {},
     "output_type": "execute_result"
    },
    {
     "data": {
      "image/png": "[encoded data removed]",
      "text/plain": [
       "<Figure size 640x480 with 1 Axes>"
      ]
     },
     "metadata": {},
     "output_type": "display_data"
    }
   ],
   "source": [
    "final = np.empty_like(test_copy)\n",
    "final[:,] = np.nan\n",
    "final[-30: ,] = test_data[-30:]\n",
    "plt.plot(final, label = \"predicted\")\n",
    "plt.plot(test_another, label = \"reference data\")\n",
    "\n",
    "plt.legend()"
   ]
  },
  {
   "cell_type": "code",
   "execution_count": null,
   "metadata": {
    "id": "aJx-eaLIysUQ"
   },
   "outputs": [],
   "source": []
  },
  {
   "cell_type": "code",
   "execution_count": null,
   "metadata": {
    "id": "bm7GP8622FXE"
   },
   "outputs": [],
   "source": []
  }
 ],
 "metadata": {
  "accelerator": "GPU",
  "colab": {
   "gpuType": "T4",
   "provenance": []
  },
  "kernelspec": {
   "display_name": "Python 3 (ipykernel)",
   "language": "python",
   "name": "python3"
  },
  "language_info": {
   "codemirror_mode": {
    "name": "ipython",
    "version": 3
   },
   "file_extension": ".py",
   "mimetype": "text/x-python",
   "name": "python",
   "nbconvert_exporter": "python",
   "pygments_lexer": "ipython3",
   "version": "3.12.7"
  }
 },
 "nbformat": 4,
 "nbformat_minor": 4
}
