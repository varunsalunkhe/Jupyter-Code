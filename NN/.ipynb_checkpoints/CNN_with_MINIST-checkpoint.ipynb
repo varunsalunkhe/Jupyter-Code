{
  "cells": [
    {
      "cell_type": "code",
      "execution_count": null,
      "metadata": {
        "id": "ks308RqnQOn1"
      },
      "outputs": [],
      "source": [
        "from keras.layers import Dense, Conv2D, Flatten, MaxPooling2D, Dropout\n",
        "from keras.models import Sequential\n",
        "from keras.datasets import mnist"
      ]
    },
    {
      "cell_type": "code",
      "execution_count": null,
      "metadata": {
        "id": "TDyKEGjlQgAl",
        "colab": {
          "base_uri": "https://localhost:8080/"
        },
        "outputId": "db8ef7b9-1dd3-4622-cdfc-0557d95a18b4"
      },
      "outputs": [
        {
          "output_type": "stream",
          "name": "stdout",
          "text": [
            "Downloading data from https://storage.googleapis.com/tensorflow/tf-keras-datasets/mnist.npz\n",
            "11490434/11490434 [==============================] - 0s 0us/step\n"
          ]
        }
      ],
      "source": [
        "(train_x,test_x),(train_y, test_y) = mnist.load_data()"
      ]
    },
    {
      "cell_type": "code",
      "execution_count": null,
      "metadata": {
        "id": "CVxqNo42RJXJ",
        "colab": {
          "base_uri": "https://localhost:8080/"
        },
        "outputId": "5a770619-7ed3-489c-d947-631995f512a7"
      },
      "outputs": [
        {
          "output_type": "execute_result",
          "data": {
            "text/plain": [
              "((60000, 28, 28), (60000,), (10000, 28, 28), (10000,))"
            ]
          },
          "metadata": {},
          "execution_count": 3
        }
      ],
      "source": [
        "train_x.shape,test_x.shape, train_y.shape, test_y.shape"
      ]
    },
    {
      "cell_type": "code",
      "execution_count": null,
      "metadata": {
        "id": "WetAaoRCRSKI",
        "colab": {
          "base_uri": "https://localhost:8080/"
        },
        "outputId": "d124249b-0cc6-4699-fbd6-e1ec54bc4378"
      },
      "outputs": [
        {
          "output_type": "execute_result",
          "data": {
            "text/plain": [
              "array([0, 0, 0, 0, 0, 0, 0, 0, 0, 0, 0, 0, 0, 0, 0, 0, 0, 0, 0, 0, 0, 0,\n",
              "       0, 0, 0, 0, 0, 0], dtype=uint8)"
            ]
          },
          "metadata": {},
          "execution_count": 4
        }
      ],
      "source": [
        "train_x[0][0]"
      ]
    },
    {
      "cell_type": "code",
      "execution_count": null,
      "metadata": {
        "id": "S-TN4IoVRUvq",
        "colab": {
          "base_uri": "https://localhost:8080/"
        },
        "outputId": "d0a23717-a7a4-42a1-ae48-1b3ff21d3406"
      },
      "outputs": [
        {
          "output_type": "execute_result",
          "data": {
            "text/plain": [
              "5"
            ]
          },
          "metadata": {},
          "execution_count": 5
        }
      ],
      "source": [
        "test_x[0]"
      ]
    },
    {
      "cell_type": "code",
      "execution_count": null,
      "metadata": {
        "id": "RhZBSKT6Rhn8",
        "colab": {
          "base_uri": "https://localhost:8080/"
        },
        "outputId": "4e68795d-4228-4c94-b2c8-1139031348a5"
      },
      "outputs": [
        {
          "output_type": "stream",
          "name": "stderr",
          "text": [
            "WARNING:matplotlib.legend:No artists with labels found to put in legend.  Note that artists whose label start with an underscore are ignored when legend() is called with no argument.\n",
            "WARNING:matplotlib.legend:No artists with labels found to put in legend.  Note that artists whose label start with an underscore are ignored when legend() is called with no argument.\n",
            "WARNING:matplotlib.legend:No artists with labels found to put in legend.  Note that artists whose label start with an underscore are ignored when legend() is called with no argument.\n",
            "WARNING:matplotlib.legend:No artists with labels found to put in legend.  Note that artists whose label start with an underscore are ignored when legend() is called with no argument.\n",
            "WARNING:matplotlib.legend:No artists with labels found to put in legend.  Note that artists whose label start with an underscore are ignored when legend() is called with no argument.\n"
          ]
        },
        {
          "output_type": "display_data",
          "data": {
            "text/plain": [
              "<Figure size 640x480 with 5 Axes>"
            ],
            "image/png": "[encoded data removed]"
          },
          "metadata": {}
        }
      ],
      "source": [
        "from matplotlib import pyplot as plt\n",
        "import numpy as np\n",
        "import warnings\n",
        "warnings.filterwarnings(\"ignore\", category=DeprecationWarning)\n",
        "for i in range(0,5):\n",
        "  ind = np.where(test_x==5)\n",
        "  ax = plt.subplot(1,5,i+1)\n",
        "  ax.imshow(train_x[ind][i],label = test_x[ind])\n",
        "  plt.legend();"
      ]
    },
    {
      "cell_type": "code",
      "execution_count": null,
      "metadata": {
        "id": "q0Y0gK3USQ5v",
        "colab": {
          "base_uri": "https://localhost:8080/"
        },
        "outputId": "86faedf8-0f73-4e14-c4d7-349fabf1e448"
      },
      "outputs": [
        {
          "output_type": "execute_result",
          "data": {
            "text/plain": [
              "((60000, 28, 28, 1), (10000, 28, 28, 1))"
            ]
          },
          "metadata": {},
          "execution_count": 7
        }
      ],
      "source": [
        "train_x, train_y = train_x.reshape(-1, 28, 28,1), train_y.reshape(-1, 28, 28,1)\n",
        "train_x.shape, train_y.shape"
      ]
    },
    {
      "cell_type": "code",
      "execution_count": null,
      "metadata": {
        "id": "pnM3ezU3USct",
        "colab": {
          "base_uri": "https://localhost:8080/"
        },
        "outputId": "bb933b76-f9ab-47ed-80ae-7801a7d21ea7"
      },
      "outputs": [
        {
          "output_type": "execute_result",
          "data": {
            "text/plain": [
              "((60000, 10), (10000, 10))"
            ]
          },
          "metadata": {},
          "execution_count": 8
        }
      ],
      "source": [
        "from keras.utils import to_categorical\n",
        "test_x, test_y = to_categorical(test_x), to_categorical(test_y)\n",
        "test_x.shape, test_y.shape"
      ]
    },
    {
      "cell_type": "code",
      "execution_count": null,
      "metadata": {
        "id": "lREmRrH5Up2S",
        "colab": {
          "base_uri": "https://localhost:8080/"
        },
        "outputId": "a3c102cd-841f-42b8-9fca-7c513d5a840c"
      },
      "outputs": [
        {
          "output_type": "stream",
          "name": "stdout",
          "text": [
            "Model: \"sequential\"\n",
            "_________________________________________________________________\n",
            " Layer (type)                Output Shape              Param #   \n",
            "=================================================================\n",
            " conv2d (Conv2D)             (None, 26, 26, 32)        320       \n",
            "                                                                 \n",
            " conv2d_1 (Conv2D)           (None, 24, 24, 64)        18496     \n",
            "                                                                 \n",
            " max_pooling2d (MaxPooling2  (None, 12, 12, 64)        0         \n",
            " D)                                                              \n",
            "                                                                 \n",
            " dropout (Dropout)           (None, 12, 12, 64)        0         \n",
            "                                                                 \n",
            " flatten (Flatten)           (None, 9216)              0         \n",
            "                                                                 \n",
            " dense (Dense)               (None, 128)               1179776   \n",
            "                                                                 \n",
            " dense_1 (Dense)             (None, 10)                1290      \n",
            "                                                                 \n",
            "=================================================================\n",
            "Total params: 1199882 (4.58 MB)\n",
            "Trainable params: 1199882 (4.58 MB)\n",
            "Non-trainable params: 0 (0.00 Byte)\n",
            "_________________________________________________________________\n"
          ]
        }
      ],
      "source": [
        "from keras.optimizers import SGD\n",
        "\n",
        "model = Sequential()\n",
        "model.add(Conv2D(32, kernel_size=(3,3), activation = 'relu', input_shape = (28,28,1)))\n",
        "model.add(Conv2D(64, kernel_size=(3,3), activation = 'relu'))\n",
        "model.add(MaxPooling2D(pool_size = (2,2)))\n",
        "model.add(Dropout(0.5))\n",
        "model.add(Flatten())\n",
        "model.add(Dense(128, activation= \"relu\"))\n",
        "model.add(Dense(10, activation= \"softmax\"))\n",
        "model.compile(optimizer= SGD(0.01), loss = \"categorical_crossentropy\", metrics = \"accuracy\")\n",
        "model.summary()"
      ]
    },
    {
      "cell_type": "code",
      "execution_count": null,
      "metadata": {
        "colab": {
          "base_uri": "https://localhost:8080/"
        },
        "id": "6p6KtQdnWRDf",
        "outputId": "0b6e41d7-b43d-4d26-d5e3-ba6ab5efadd8"
      },
      "outputs": [
        {
          "output_type": "stream",
          "name": "stdout",
          "text": [
            "Epoch 1/10\n",
            "1875/1875 [==============================] - 148s 78ms/step - loss: 0.5893 - accuracy: 0.8205 - val_loss: 0.1440 - val_accuracy: 0.9526\n",
            "Epoch 2/10\n",
            "1875/1875 [==============================] - 138s 74ms/step - loss: 0.1573 - accuracy: 0.9504 - val_loss: 0.0911 - val_accuracy: 0.9695\n",
            "Epoch 3/10\n",
            "1875/1875 [==============================] - 136s 72ms/step - loss: 0.1063 - accuracy: 0.9656 - val_loss: 0.0719 - val_accuracy: 0.9769\n",
            "Epoch 4/10\n",
            "1875/1875 [==============================] - 138s 73ms/step - loss: 0.0843 - accuracy: 0.9734 - val_loss: 0.0734 - val_accuracy: 0.9761\n",
            "Epoch 5/10\n",
            "1875/1875 [==============================] - 144s 77ms/step - loss: 0.0697 - accuracy: 0.9779 - val_loss: 0.0475 - val_accuracy: 0.9830\n",
            "Epoch 6/10\n",
            "1875/1875 [==============================] - 140s 75ms/step - loss: 0.0594 - accuracy: 0.9805 - val_loss: 0.0498 - val_accuracy: 0.9832\n",
            "Epoch 7/10\n",
            "1875/1875 [==============================] - 141s 75ms/step - loss: 0.0494 - accuracy: 0.9838 - val_loss: 0.0529 - val_accuracy: 0.9836\n",
            "Epoch 8/10\n",
            "1875/1875 [==============================] - 140s 75ms/step - loss: 0.0449 - accuracy: 0.9855 - val_loss: 0.0453 - val_accuracy: 0.9849\n",
            "Epoch 9/10\n",
            "1875/1875 [==============================] - 139s 74ms/step - loss: 0.0371 - accuracy: 0.9875 - val_loss: 0.0528 - val_accuracy: 0.9831\n",
            "Epoch 10/10\n",
            "1875/1875 [==============================] - 138s 74ms/step - loss: 0.0366 - accuracy: 0.9879 - val_loss: 0.0467 - val_accuracy: 0.9865\n"
          ]
        },
        {
          "output_type": "execute_result",
          "data": {
            "text/plain": [
              "<keras.src.callbacks.History at 0x7a89d538d0c0>"
            ]
          },
          "metadata": {},
          "execution_count": 10
        }
      ],
      "source": [
        "model.fit(train_x,test_x, epochs = 10, batch_size =32, validation_data=(train_y,test_y))"
      ]
    },
    {
      "cell_type": "code",
      "execution_count": null,
      "metadata": {
        "id": "5Ul1-L-XWtlW"
      },
      "outputs": [],
      "source": []
    }
  ],
  "metadata": {
    "colab": {
      "provenance": []
    },
    "kernelspec": {
      "display_name": "Python 3",
      "name": "python3"
    },
    "language_info": {
      "name": "python"
    }
  },
  "nbformat": 4,
  "nbformat_minor": 0
}