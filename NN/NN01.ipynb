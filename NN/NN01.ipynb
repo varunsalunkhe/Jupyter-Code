{
 "cells": [
  {
   "cell_type": "code",
   "execution_count": 1,
   "id": "e355d1fd-8e83-48a0-8b55-d0a8e9ee936d",
   "metadata": {},
   "outputs": [
    {
     "name": "stdout",
     "output_type": "stream",
     "text": [
      "Requirement already satisfied: keras in c:\\users\\varun salunkhe\\anaconda3\\lib\\site-packages (2.9.0)\n",
      "Note: you may need to restart the kernel to use updated packages.\n"
     ]
    }
   ],
   "source": [
    "pip install keras\n"
   ]
  },
  {
   "cell_type": "code",
   "execution_count": 2,
   "id": "948b064b-f6d4-4bd8-acfd-1f5f6709bd80",
   "metadata": {},
   "outputs": [
    {
     "name": "stdout",
     "output_type": "stream",
     "text": [
      "Requirement already satisfied: tensorflow in c:\\users\\varun salunkhe\\anaconda3\\lib\\site-packages (2.9.1)\n",
      "Requirement already satisfied: h5py>=2.9.0 in c:\\users\\varun salunkhe\\anaconda3\\lib\\site-packages (from tensorflow) (3.2.1)\n",
      "Requirement already satisfied: packaging in c:\\users\\varun salunkhe\\anaconda3\\lib\\site-packages (from tensorflow) (21.0)\n",
      "Requirement already satisfied: protobuf<3.20,>=3.9.2 in c:\\users\\varun salunkhe\\anaconda3\\lib\\site-packages (from tensorflow) (3.19.4)\n",
      "Requirement already satisfied: google-pasta>=0.1.1 in c:\\users\\varun salunkhe\\anaconda3\\lib\\site-packages (from tensorflow) (0.2.0)\n",
      "Requirement already satisfied: astunparse>=1.6.0 in c:\\users\\varun salunkhe\\anaconda3\\lib\\site-packages (from tensorflow) (1.6.3)\n",
      "Requirement already satisfied: flatbuffers<2,>=1.12 in c:\\users\\varun salunkhe\\anaconda3\\lib\\site-packages (from tensorflow) (1.12)\n",
      "Requirement already satisfied: typing-extensions>=3.6.6 in c:\\users\\varun salunkhe\\anaconda3\\lib\\site-packages (from tensorflow) (3.10.0.2)\n",
      "Requirement already satisfied: libclang>=13.0.0 in c:\\users\\varun salunkhe\\anaconda3\\lib\\site-packages (from tensorflow) (14.0.1)\n",
      "Requirement already satisfied: opt-einsum>=2.3.2 in c:\\users\\varun salunkhe\\anaconda3\\lib\\site-packages (from tensorflow) (3.3.0)\n",
      "Requirement already satisfied: absl-py>=1.0.0 in c:\\users\\varun salunkhe\\anaconda3\\lib\\site-packages (from tensorflow) (1.0.0)\n",
      "Requirement already satisfied: tensorboard<2.10,>=2.9 in c:\\users\\varun salunkhe\\anaconda3\\lib\\site-packages (from tensorflow) (2.9.0)\n",
      "Requirement already satisfied: tensorflow-estimator<2.10.0,>=2.9.0rc0 in c:\\users\\varun salunkhe\\anaconda3\\lib\\site-packages (from tensorflow) (2.9.0)\n",
      "Requirement already satisfied: gast<=0.4.0,>=0.2.1 in c:\\users\\varun salunkhe\\anaconda3\\lib\\site-packages (from tensorflow) (0.4.0)\n",
      "Requirement already satisfied: setuptools in c:\\users\\varun salunkhe\\anaconda3\\lib\\site-packages (from tensorflow) (58.0.4)\n",
      "Requirement already satisfied: six>=1.12.0 in c:\\users\\varun salunkhe\\anaconda3\\lib\\site-packages (from tensorflow) (1.16.0)\n",
      "Requirement already satisfied: termcolor>=1.1.0 in c:\\users\\varun salunkhe\\anaconda3\\lib\\site-packages (from tensorflow) (1.1.0)\n",
      "Requirement already satisfied: wrapt>=1.11.0 in c:\\users\\varun salunkhe\\anaconda3\\lib\\site-packages (from tensorflow) (1.12.1)\n",
      "Requirement already satisfied: keras<2.10.0,>=2.9.0rc0 in c:\\users\\varun salunkhe\\anaconda3\\lib\\site-packages (from tensorflow) (2.9.0)\n",
      "Requirement already satisfied: tensorflow-io-gcs-filesystem>=0.23.1 in c:\\users\\varun salunkhe\\anaconda3\\lib\\site-packages (from tensorflow) (0.26.0)\n",
      "Requirement already satisfied: grpcio<2.0,>=1.24.3 in c:\\users\\varun salunkhe\\anaconda3\\lib\\site-packages (from tensorflow) (1.46.3)\n",
      "Requirement already satisfied: numpy>=1.20 in c:\\users\\varun salunkhe\\anaconda3\\lib\\site-packages (from tensorflow) (1.20.3)\n",
      "Requirement already satisfied: keras-preprocessing>=1.1.1 in c:\\users\\varun salunkhe\\anaconda3\\lib\\site-packages (from tensorflow) (1.1.2)\n",
      "Requirement already satisfied: wheel<1.0,>=0.23.0 in c:\\users\\varun salunkhe\\anaconda3\\lib\\site-packages (from astunparse>=1.6.0->tensorflow) (0.37.0)\n",
      "Requirement already satisfied: tensorboard-plugin-wit>=1.6.0 in c:\\users\\varun salunkhe\\anaconda3\\lib\\site-packages (from tensorboard<2.10,>=2.9->tensorflow) (1.8.1)\n",
      "Requirement already satisfied: requests<3,>=2.21.0 in c:\\users\\varun salunkhe\\anaconda3\\lib\\site-packages (from tensorboard<2.10,>=2.9->tensorflow) (2.26.0)\n",
      "Requirement already satisfied: tensorboard-data-server<0.7.0,>=0.6.0 in c:\\users\\varun salunkhe\\anaconda3\\lib\\site-packages (from tensorboard<2.10,>=2.9->tensorflow) (0.6.1)\n",
      "Requirement already satisfied: markdown>=2.6.8 in c:\\users\\varun salunkhe\\anaconda3\\lib\\site-packages (from tensorboard<2.10,>=2.9->tensorflow) (3.3.7)\n",
      "Requirement already satisfied: google-auth-oauthlib<0.5,>=0.4.1 in c:\\users\\varun salunkhe\\anaconda3\\lib\\site-packages (from tensorboard<2.10,>=2.9->tensorflow) (0.4.6)\n",
      "Requirement already satisfied: google-auth<3,>=1.6.3 in c:\\users\\varun salunkhe\\anaconda3\\lib\\site-packages (from tensorboard<2.10,>=2.9->tensorflow) (2.6.6)\n",
      "Requirement already satisfied: werkzeug>=1.0.1 in c:\\users\\varun salunkhe\\anaconda3\\lib\\site-packages (from tensorboard<2.10,>=2.9->tensorflow) (2.0.2)\n",
      "Requirement already satisfied: rsa<5,>=3.1.4 in c:\\users\\varun salunkhe\\anaconda3\\lib\\site-packages (from google-auth<3,>=1.6.3->tensorboard<2.10,>=2.9->tensorflow) (4.8)\n",
      "Requirement already satisfied: cachetools<6.0,>=2.0.0 in c:\\users\\varun salunkhe\\anaconda3\\lib\\site-packages (from google-auth<3,>=1.6.3->tensorboard<2.10,>=2.9->tensorflow) (5.1.0)\n",
      "Requirement already satisfied: pyasn1-modules>=0.2.1 in c:\\users\\varun salunkhe\\anaconda3\\lib\\site-packages (from google-auth<3,>=1.6.3->tensorboard<2.10,>=2.9->tensorflow) (0.2.8)\n",
      "Requirement already satisfied: requests-oauthlib>=0.7.0 in c:\\users\\varun salunkhe\\anaconda3\\lib\\site-packages (from google-auth-oauthlib<0.5,>=0.4.1->tensorboard<2.10,>=2.9->tensorflow) (1.3.1)\n",
      "Requirement already satisfied: importlib-metadata>=4.4 in c:\\users\\varun salunkhe\\anaconda3\\lib\\site-packages (from markdown>=2.6.8->tensorboard<2.10,>=2.9->tensorflow) (4.8.1)\n",
      "Requirement already satisfied: zipp>=0.5 in c:\\users\\varun salunkhe\\anaconda3\\lib\\site-packages (from importlib-metadata>=4.4->markdown>=2.6.8->tensorboard<2.10,>=2.9->tensorflow) (3.6.0)\n",
      "Requirement already satisfied: pyasn1<0.5.0,>=0.4.6 in c:\\users\\varun salunkhe\\anaconda3\\lib\\site-packages (from pyasn1-modules>=0.2.1->google-auth<3,>=1.6.3->tensorboard<2.10,>=2.9->tensorflow) (0.4.8)\n",
      "Requirement already satisfied: urllib3<1.27,>=1.21.1 in c:\\users\\varun salunkhe\\anaconda3\\lib\\site-packages (from requests<3,>=2.21.0->tensorboard<2.10,>=2.9->tensorflow) (1.26.7)\n",
      "Requirement already satisfied: certifi>=2017.4.17 in c:\\users\\varun salunkhe\\anaconda3\\lib\\site-packages (from requests<3,>=2.21.0->tensorboard<2.10,>=2.9->tensorflow) (2021.10.8)\n",
      "Requirement already satisfied: charset-normalizer~=2.0.0 in c:\\users\\varun salunkhe\\anaconda3\\lib\\site-packages (from requests<3,>=2.21.0->tensorboard<2.10,>=2.9->tensorflow) (2.0.4)\n",
      "Requirement already satisfied: idna<4,>=2.5 in c:\\users\\varun salunkhe\\anaconda3\\lib\\site-packages (from requests<3,>=2.21.0->tensorboard<2.10,>=2.9->tensorflow) (3.2)\n",
      "Requirement already satisfied: oauthlib>=3.0.0 in c:\\users\\varun salunkhe\\anaconda3\\lib\\site-packages (from requests-oauthlib>=0.7.0->google-auth-oauthlib<0.5,>=0.4.1->tensorboard<2.10,>=2.9->tensorflow) (3.2.0)\n",
      "Requirement already satisfied: pyparsing>=2.0.2 in c:\\users\\varun salunkhe\\anaconda3\\lib\\site-packages (from packaging->tensorflow) (3.0.4)\n",
      "Note: you may need to restart the kernel to use updated packages.\n"
     ]
    }
   ],
   "source": [
    "pip install tensorflow"
   ]
  },
  {
   "cell_type": "code",
   "execution_count": 3,
   "id": "dcc486c4-c79a-4d75-bf84-1987bbf053ff",
   "metadata": {},
   "outputs": [],
   "source": [
    "import numpy as np\n",
    "\n",
    "from keras.models import Sequential\n",
    "from keras.layers import Dense\n",
    "\n",
    "import tensorflow as tf"
   ]
  },
  {
   "cell_type": "code",
   "execution_count": 4,
   "id": "18f24130-7b87-4748-ab58-484abda8ee47",
   "metadata": {},
   "outputs": [],
   "source": [
    "data=np.random.random((1000,100))\n",
    "labels=np.random.randint(2, size=(1000,1))"
   ]
  },
  {
   "cell_type": "code",
   "execution_count": 20,
   "id": "2f981a48-66cb-4d98-b338-492ccecbdb9b",
   "metadata": {},
   "outputs": [
    {
     "data": {
      "text/plain": [
       "((1000, 100), (1000, 1))"
      ]
     },
     "execution_count": 20,
     "metadata": {},
     "output_type": "execute_result"
    }
   ],
   "source": [
    "#Neural network\n",
    "data.shape,labels.shape"
   ]
  },
  {
   "cell_type": "code",
   "execution_count": 6,
   "id": "009d6e6b-77c3-4021-a6a2-120007854003",
   "metadata": {},
   "outputs": [],
   "source": [
    "model = Sequential()\n",
    "model.add(Dense(32, activation='sigmoid',input_dim=(100)))\n",
    "model.add(Dense(1, activation='sigmoid'))  #forward propagation"
   ]
  },
  {
   "cell_type": "code",
   "execution_count": 7,
   "id": "81cb2cf7-ecff-445a-8f34-4cc253918b1c",
   "metadata": {},
   "outputs": [],
   "source": [
    "model.compile(optimizer='sgd', loss='mse',metrics='accuracy')  #backward propagation\n"
   ]
  },
  {
   "cell_type": "code",
   "execution_count": 8,
   "id": "55e1c940-0e2b-4e16-82ab-3ca2a7563b6f",
   "metadata": {},
   "outputs": [
    {
     "name": "stdout",
     "output_type": "stream",
     "text": [
      "Model: \"sequential\"\n",
      "_________________________________________________________________\n",
      " Layer (type)                Output Shape              Param #   \n",
      "=================================================================\n",
      " dense (Dense)               (None, 32)                3232      \n",
      "                                                                 \n",
      " dense_1 (Dense)             (None, 1)                 33        \n",
      "                                                                 \n",
      "=================================================================\n",
      "Total params: 3,265\n",
      "Trainable params: 3,265\n",
      "Non-trainable params: 0\n",
      "_________________________________________________________________\n"
     ]
    }
   ],
   "source": [
    "model.summary()"
   ]
  },
  {
   "cell_type": "code",
   "execution_count": 28,
   "id": "56ea2c95-3ed8-4259-bd51-05275528f581",
   "metadata": {},
   "outputs": [
    {
     "data": {
      "text/plain": [
       "(1000, 2)"
      ]
     },
     "execution_count": 28,
     "metadata": {},
     "output_type": "execute_result"
    }
   ],
   "source": [
    "from tensorflow.keras.utils import to_categorical\n",
    "labels_cat=to_categorical(labels)\n",
    "labels_cat.shape\n"
   ]
  },
  {
   "cell_type": "code",
   "execution_count": 27,
   "id": "128782a8-dd56-4452-9f25-234ca3806cf9",
   "metadata": {},
   "outputs": [
    {
     "data": {
      "text/plain": [
       "array([[1., 0.],\n",
       "       [0., 1.],\n",
       "       [0., 1.],\n",
       "       ...,\n",
       "       [1., 0.],\n",
       "       [1., 0.],\n",
       "       [0., 1.]], dtype=float32)"
      ]
     },
     "execution_count": 27,
     "metadata": {},
     "output_type": "execute_result"
    }
   ],
   "source": [
    "labels_cat"
   ]
  },
  {
   "cell_type": "code",
   "execution_count": 30,
   "id": "fad2c54b-a7c6-414f-8ba2-a83a35243359",
   "metadata": {},
   "outputs": [
    {
     "name": "stdout",
     "output_type": "stream",
     "text": [
      "Epoch 1/100\n",
      "16/16 [==============================] - 0s 1ms/step - loss: 0.2501 - accuracy: 0.5050\n",
      "Epoch 2/100\n",
      "16/16 [==============================] - 0s 1ms/step - loss: 0.2501 - accuracy: 0.5000\n",
      "Epoch 3/100\n",
      "16/16 [==============================] - 0s 1ms/step - loss: 0.2501 - accuracy: 0.5000\n",
      "Epoch 4/100\n",
      "16/16 [==============================] - 0s 1ms/step - loss: 0.2501 - accuracy: 0.5070\n",
      "Epoch 5/100\n",
      "16/16 [==============================] - 0s 2ms/step - loss: 0.2501 - accuracy: 0.5010\n",
      "Epoch 6/100\n",
      "16/16 [==============================] - 0s 1ms/step - loss: 0.2501 - accuracy: 0.5010\n",
      "Epoch 7/100\n",
      "16/16 [==============================] - 0s 1ms/step - loss: 0.2501 - accuracy: 0.4960\n",
      "Epoch 8/100\n",
      "16/16 [==============================] - 0s 1ms/step - loss: 0.2501 - accuracy: 0.5070\n",
      "Epoch 9/100\n",
      "16/16 [==============================] - 0s 1ms/step - loss: 0.2501 - accuracy: 0.5050\n",
      "Epoch 10/100\n",
      "16/16 [==============================] - 0s 2ms/step - loss: 0.2501 - accuracy: 0.5020\n",
      "Epoch 11/100\n",
      "16/16 [==============================] - 0s 2ms/step - loss: 0.2501 - accuracy: 0.5040\n",
      "Epoch 12/100\n",
      "16/16 [==============================] - 0s 1ms/step - loss: 0.2500 - accuracy: 0.5010\n",
      "Epoch 13/100\n",
      "16/16 [==============================] - 0s 1ms/step - loss: 0.2500 - accuracy: 0.5050\n",
      "Epoch 14/100\n",
      "16/16 [==============================] - 0s 1ms/step - loss: 0.2500 - accuracy: 0.5040\n",
      "Epoch 15/100\n",
      "16/16 [==============================] - 0s 1ms/step - loss: 0.2500 - accuracy: 0.5080\n",
      "Epoch 16/100\n",
      "16/16 [==============================] - 0s 1ms/step - loss: 0.2500 - accuracy: 0.5030\n",
      "Epoch 17/100\n",
      "16/16 [==============================] - 0s 1ms/step - loss: 0.2500 - accuracy: 0.4960\n",
      "Epoch 18/100\n",
      "16/16 [==============================] - 0s 1ms/step - loss: 0.2500 - accuracy: 0.5000\n",
      "Epoch 19/100\n",
      "16/16 [==============================] - 0s 1ms/step - loss: 0.2500 - accuracy: 0.5020\n",
      "Epoch 20/100\n",
      "16/16 [==============================] - 0s 1ms/step - loss: 0.2500 - accuracy: 0.4950\n",
      "Epoch 21/100\n",
      "16/16 [==============================] - 0s 1ms/step - loss: 0.2500 - accuracy: 0.5020\n",
      "Epoch 22/100\n",
      "16/16 [==============================] - 0s 1ms/step - loss: 0.2500 - accuracy: 0.5020\n",
      "Epoch 23/100\n",
      "16/16 [==============================] - 0s 2ms/step - loss: 0.2500 - accuracy: 0.5030\n",
      "Epoch 24/100\n",
      "16/16 [==============================] - 0s 1ms/step - loss: 0.2499 - accuracy: 0.5000\n",
      "Epoch 25/100\n",
      "16/16 [==============================] - 0s 1ms/step - loss: 0.2499 - accuracy: 0.5020\n",
      "Epoch 26/100\n",
      "16/16 [==============================] - 0s 1ms/step - loss: 0.2499 - accuracy: 0.5100\n",
      "Epoch 27/100\n",
      "16/16 [==============================] - 0s 1ms/step - loss: 0.2499 - accuracy: 0.5040\n",
      "Epoch 28/100\n",
      "16/16 [==============================] - 0s 2ms/step - loss: 0.2499 - accuracy: 0.5060\n",
      "Epoch 29/100\n",
      "16/16 [==============================] - 0s 1ms/step - loss: 0.2499 - accuracy: 0.5000\n",
      "Epoch 30/100\n",
      "16/16 [==============================] - 0s 1ms/step - loss: 0.2499 - accuracy: 0.5040\n",
      "Epoch 31/100\n",
      "16/16 [==============================] - 0s 1ms/step - loss: 0.2499 - accuracy: 0.5070\n",
      "Epoch 32/100\n",
      "16/16 [==============================] - 0s 1ms/step - loss: 0.2499 - accuracy: 0.5020\n",
      "Epoch 33/100\n",
      "16/16 [==============================] - 0s 1ms/step - loss: 0.2499 - accuracy: 0.5080\n",
      "Epoch 34/100\n",
      "16/16 [==============================] - 0s 1ms/step - loss: 0.2499 - accuracy: 0.5050\n",
      "Epoch 35/100\n",
      "16/16 [==============================] - 0s 1ms/step - loss: 0.2499 - accuracy: 0.5080\n",
      "Epoch 36/100\n",
      "16/16 [==============================] - 0s 1ms/step - loss: 0.2499 - accuracy: 0.5030\n",
      "Epoch 37/100\n",
      "16/16 [==============================] - 0s 1ms/step - loss: 0.2498 - accuracy: 0.5070\n",
      "Epoch 38/100\n",
      "16/16 [==============================] - 0s 1ms/step - loss: 0.2498 - accuracy: 0.5020\n",
      "Epoch 39/100\n",
      "16/16 [==============================] - 0s 1ms/step - loss: 0.2498 - accuracy: 0.5010\n",
      "Epoch 40/100\n",
      "16/16 [==============================] - 0s 1ms/step - loss: 0.2498 - accuracy: 0.5000\n",
      "Epoch 41/100\n",
      "16/16 [==============================] - 0s 2ms/step - loss: 0.2498 - accuracy: 0.5120\n",
      "Epoch 42/100\n",
      "16/16 [==============================] - 0s 2ms/step - loss: 0.2498 - accuracy: 0.5090\n",
      "Epoch 43/100\n",
      "16/16 [==============================] - 0s 2ms/step - loss: 0.2498 - accuracy: 0.5000\n",
      "Epoch 44/100\n",
      "16/16 [==============================] - 0s 2ms/step - loss: 0.2498 - accuracy: 0.5010\n",
      "Epoch 45/100\n",
      "16/16 [==============================] - 0s 2ms/step - loss: 0.2498 - accuracy: 0.5010\n",
      "Epoch 46/100\n",
      "16/16 [==============================] - 0s 2ms/step - loss: 0.2498 - accuracy: 0.5110\n",
      "Epoch 47/100\n",
      "16/16 [==============================] - 0s 2ms/step - loss: 0.2498 - accuracy: 0.5040\n",
      "Epoch 48/100\n",
      "16/16 [==============================] - 0s 2ms/step - loss: 0.2498 - accuracy: 0.5160\n",
      "Epoch 49/100\n",
      "16/16 [==============================] - 0s 1ms/step - loss: 0.2497 - accuracy: 0.5080\n",
      "Epoch 50/100\n",
      "16/16 [==============================] - 0s 2ms/step - loss: 0.2497 - accuracy: 0.5170\n",
      "Epoch 51/100\n",
      "16/16 [==============================] - 0s 2ms/step - loss: 0.2498 - accuracy: 0.5050\n",
      "Epoch 52/100\n",
      "16/16 [==============================] - 0s 1ms/step - loss: 0.2497 - accuracy: 0.5090\n",
      "Epoch 53/100\n",
      "16/16 [==============================] - 0s 1ms/step - loss: 0.2497 - accuracy: 0.5130\n",
      "Epoch 54/100\n",
      "16/16 [==============================] - 0s 2ms/step - loss: 0.2497 - accuracy: 0.5110\n",
      "Epoch 55/100\n",
      "16/16 [==============================] - 0s 2ms/step - loss: 0.2497 - accuracy: 0.5060\n",
      "Epoch 56/100\n",
      "16/16 [==============================] - 0s 2ms/step - loss: 0.2497 - accuracy: 0.5060\n",
      "Epoch 57/100\n",
      "16/16 [==============================] - 0s 1ms/step - loss: 0.2497 - accuracy: 0.5130\n",
      "Epoch 58/100\n",
      "16/16 [==============================] - 0s 2ms/step - loss: 0.2497 - accuracy: 0.5020\n",
      "Epoch 59/100\n",
      "16/16 [==============================] - 0s 1ms/step - loss: 0.2497 - accuracy: 0.5040\n",
      "Epoch 60/100\n",
      "16/16 [==============================] - 0s 1ms/step - loss: 0.2497 - accuracy: 0.5100\n",
      "Epoch 61/100\n",
      "16/16 [==============================] - 0s 2ms/step - loss: 0.2497 - accuracy: 0.5070\n",
      "Epoch 62/100\n",
      "16/16 [==============================] - 0s 2ms/step - loss: 0.2497 - accuracy: 0.5040\n",
      "Epoch 63/100\n",
      "16/16 [==============================] - 0s 2ms/step - loss: 0.2496 - accuracy: 0.5170\n",
      "Epoch 64/100\n",
      "16/16 [==============================] - 0s 2ms/step - loss: 0.2497 - accuracy: 0.5090\n",
      "Epoch 65/100\n",
      "16/16 [==============================] - 0s 1ms/step - loss: 0.2496 - accuracy: 0.5040\n",
      "Epoch 66/100\n",
      "16/16 [==============================] - 0s 2ms/step - loss: 0.2496 - accuracy: 0.5060\n",
      "Epoch 67/100\n",
      "16/16 [==============================] - 0s 1ms/step - loss: 0.2496 - accuracy: 0.5080\n",
      "Epoch 68/100\n",
      "16/16 [==============================] - 0s 1ms/step - loss: 0.2496 - accuracy: 0.5070\n",
      "Epoch 69/100\n",
      "16/16 [==============================] - 0s 1ms/step - loss: 0.2496 - accuracy: 0.5140\n",
      "Epoch 70/100\n",
      "16/16 [==============================] - 0s 2ms/step - loss: 0.2496 - accuracy: 0.5140\n",
      "Epoch 71/100\n",
      "16/16 [==============================] - 0s 2ms/step - loss: 0.2496 - accuracy: 0.5080\n",
      "Epoch 72/100\n",
      "16/16 [==============================] - 0s 2ms/step - loss: 0.2496 - accuracy: 0.5070\n",
      "Epoch 73/100\n",
      "16/16 [==============================] - 0s 1ms/step - loss: 0.2495 - accuracy: 0.5130\n",
      "Epoch 74/100\n",
      "16/16 [==============================] - 0s 1ms/step - loss: 0.2495 - accuracy: 0.5150\n",
      "Epoch 75/100\n",
      "16/16 [==============================] - 0s 1ms/step - loss: 0.2496 - accuracy: 0.5080\n",
      "Epoch 76/100\n",
      "16/16 [==============================] - 0s 1ms/step - loss: 0.2495 - accuracy: 0.5130\n",
      "Epoch 77/100\n",
      "16/16 [==============================] - 0s 2ms/step - loss: 0.2495 - accuracy: 0.5110\n",
      "Epoch 78/100\n",
      "16/16 [==============================] - 0s 1ms/step - loss: 0.2495 - accuracy: 0.5170\n",
      "Epoch 79/100\n",
      "16/16 [==============================] - 0s 1ms/step - loss: 0.2495 - accuracy: 0.5130\n",
      "Epoch 80/100\n",
      "16/16 [==============================] - 0s 1ms/step - loss: 0.2495 - accuracy: 0.5160\n",
      "Epoch 81/100\n",
      "16/16 [==============================] - 0s 1ms/step - loss: 0.2495 - accuracy: 0.5170\n",
      "Epoch 82/100\n",
      "16/16 [==============================] - 0s 1ms/step - loss: 0.2495 - accuracy: 0.5150\n",
      "Epoch 83/100\n",
      "16/16 [==============================] - 0s 2ms/step - loss: 0.2495 - accuracy: 0.5130\n",
      "Epoch 84/100\n",
      "16/16 [==============================] - 0s 2ms/step - loss: 0.2495 - accuracy: 0.5070\n",
      "Epoch 85/100\n",
      "16/16 [==============================] - 0s 2ms/step - loss: 0.2495 - accuracy: 0.5130\n",
      "Epoch 86/100\n",
      "16/16 [==============================] - 0s 2ms/step - loss: 0.2495 - accuracy: 0.5160\n",
      "Epoch 87/100\n",
      "16/16 [==============================] - 0s 2ms/step - loss: 0.2495 - accuracy: 0.5130\n",
      "Epoch 88/100\n",
      "16/16 [==============================] - 0s 2ms/step - loss: 0.2495 - accuracy: 0.5110\n",
      "Epoch 89/100\n",
      "16/16 [==============================] - 0s 1ms/step - loss: 0.2494 - accuracy: 0.5120\n",
      "Epoch 90/100\n",
      "16/16 [==============================] - 0s 2ms/step - loss: 0.2494 - accuracy: 0.5120\n",
      "Epoch 91/100\n",
      "16/16 [==============================] - 0s 1ms/step - loss: 0.2494 - accuracy: 0.5160\n",
      "Epoch 92/100\n",
      "16/16 [==============================] - 0s 1ms/step - loss: 0.2494 - accuracy: 0.5210\n",
      "Epoch 93/100\n",
      "16/16 [==============================] - 0s 1ms/step - loss: 0.2494 - accuracy: 0.5170\n",
      "Epoch 94/100\n",
      "16/16 [==============================] - 0s 1ms/step - loss: 0.2494 - accuracy: 0.5100\n",
      "Epoch 95/100\n",
      "16/16 [==============================] - 0s 1ms/step - loss: 0.2494 - accuracy: 0.5210\n",
      "Epoch 96/100\n",
      "16/16 [==============================] - 0s 1ms/step - loss: 0.2494 - accuracy: 0.5160\n",
      "Epoch 97/100\n",
      "16/16 [==============================] - 0s 1ms/step - loss: 0.2494 - accuracy: 0.5150\n",
      "Epoch 98/100\n",
      "16/16 [==============================] - 0s 1ms/step - loss: 0.2493 - accuracy: 0.5190\n",
      "Epoch 99/100\n",
      "16/16 [==============================] - 0s 2ms/step - loss: 0.2494 - accuracy: 0.5120\n",
      "Epoch 100/100\n",
      "16/16 [==============================] - 0s 1ms/step - loss: 0.2493 - accuracy: 0.5160\n"
     ]
    }
   ],
   "source": [
    "history=model.fit(data, labels, epochs=100, batch_size=64)"
   ]
  },
  {
   "cell_type": "code",
   "execution_count": 11,
   "id": "29818812-df08-4b80-9abc-7e3489840556",
   "metadata": {},
   "outputs": [
    {
     "data": {
      "text/plain": [
       "[0.25518614053726196,\n",
       " 0.2537285387516022,\n",
       " 0.2527342438697815,\n",
       " 0.25214388966560364,\n",
       " 0.2517545819282532,\n",
       " 0.2514913082122803,\n",
       " 0.25128209590911865,\n",
       " 0.25117793679237366,\n",
       " 0.2510908842086792,\n",
       " 0.251039981842041,\n",
       " 0.2510337829589844,\n",
       " 0.25098729133605957,\n",
       " 0.2509436309337616,\n",
       " 0.25095102190971375,\n",
       " 0.250914603471756,\n",
       " 0.25091415643692017,\n",
       " 0.2509241998195648,\n",
       " 0.2508978247642517,\n",
       " 0.25089362263679504,\n",
       " 0.25088873505592346,\n",
       " 0.25086626410484314,\n",
       " 0.2508496046066284,\n",
       " 0.2508448362350464,\n",
       " 0.2508872151374817,\n",
       " 0.250861793756485,\n",
       " 0.25083306431770325,\n",
       " 0.2508203685283661,\n",
       " 0.25080230832099915,\n",
       " 0.2507949471473694,\n",
       " 0.25080767273902893,\n",
       " 0.25077420473098755,\n",
       " 0.25082048773765564,\n",
       " 0.25075700879096985,\n",
       " 0.2507611811161041,\n",
       " 0.25073540210723877,\n",
       " 0.2507723867893219,\n",
       " 0.2507287561893463,\n",
       " 0.2507394552230835,\n",
       " 0.25070255994796753,\n",
       " 0.25073978304862976,\n",
       " 0.2507020831108093,\n",
       " 0.2507074475288391,\n",
       " 0.25070586800575256,\n",
       " 0.2506713569164276,\n",
       " 0.2506962716579437,\n",
       " 0.25062352418899536,\n",
       " 0.25063514709472656,\n",
       " 0.25062835216522217,\n",
       " 0.25062140822410583,\n",
       " 0.2506083846092224,\n",
       " 0.25060203671455383,\n",
       " 0.25059789419174194,\n",
       " 0.2506001591682434,\n",
       " 0.250568151473999,\n",
       " 0.2505441904067993,\n",
       " 0.2505602538585663,\n",
       " 0.25055551528930664,\n",
       " 0.25054311752319336,\n",
       " 0.2505429685115814,\n",
       " 0.2505313456058502,\n",
       " 0.25052568316459656,\n",
       " 0.25051265954971313,\n",
       " 0.250499427318573,\n",
       " 0.2504989802837372,\n",
       " 0.2504958510398865,\n",
       " 0.2504560947418213,\n",
       " 0.25049954652786255,\n",
       " 0.2504461705684662,\n",
       " 0.25043773651123047,\n",
       " 0.2504440248012543,\n",
       " 0.25041478872299194,\n",
       " 0.25047460198402405,\n",
       " 0.25044724345207214,\n",
       " 0.2504391074180603,\n",
       " 0.2503988742828369,\n",
       " 0.2503863573074341,\n",
       " 0.25037240982055664,\n",
       " 0.25038039684295654,\n",
       " 0.2503771185874939,\n",
       " 0.2503342628479004,\n",
       " 0.25035926699638367,\n",
       " 0.25031089782714844,\n",
       " 0.2503158748149872,\n",
       " 0.2503206431865692,\n",
       " 0.2503003180027008,\n",
       " 0.25031936168670654,\n",
       " 0.25026431679725647,\n",
       " 0.25030118227005005,\n",
       " 0.25027111172676086,\n",
       " 0.2502645254135132,\n",
       " 0.2502833604812622,\n",
       " 0.25024330615997314,\n",
       " 0.25023385882377625,\n",
       " 0.25024092197418213,\n",
       " 0.25019919872283936,\n",
       " 0.2502046227455139,\n",
       " 0.2502036690711975,\n",
       " 0.2502269148826599,\n",
       " 0.25019174814224243,\n",
       " 0.2501835823059082]"
      ]
     },
     "execution_count": 11,
     "metadata": {},
     "output_type": "execute_result"
    }
   ],
   "source": [
    "history.history['loss']"
   ]
  },
  {
   "cell_type": "code",
   "execution_count": 12,
   "id": "bdda2dc0-c714-4c01-9ebb-725936791ac2",
   "metadata": {},
   "outputs": [],
   "source": [
    "from matplotlib import pyplot as plt\n",
    "%matplotlib inline"
   ]
  },
  {
   "cell_type": "code",
   "execution_count": 13,
   "id": "5fbe0318-e70a-420a-b4d6-f79127b68d97",
   "metadata": {},
   "outputs": [
    {
     "data": {
      "text/plain": [
       "[<matplotlib.lines.Line2D at 0x2033ae176d0>]"
      ]
     },
     "execution_count": 13,
     "metadata": {},
     "output_type": "execute_result"
    },
    {
     "data": {
      "image/png": "[encoded data removed]",
      "text/plain": [
       "<Figure size 432x288 with 1 Axes>"
      ]
     },
     "metadata": {
      "needs_background": "light"
     },
     "output_type": "display_data"
    }
   ],
   "source": [
    "plt.plot(history.history['loss'])"
   ]
  },
  {
   "cell_type": "code",
   "execution_count": 14,
   "id": "dbeb62da-08b9-4654-a329-142f5309e9fe",
   "metadata": {},
   "outputs": [
    {
     "data": {
      "text/plain": [
       "[<matplotlib.lines.Line2D at 0x2033af03880>]"
      ]
     },
     "execution_count": 14,
     "metadata": {},
     "output_type": "execute_result"
    },
    {
     "data": {
      "image/png": "[encoded data removed]",
      "text/plain": [
       "<Figure size 432x288 with 1 Axes>"
      ]
     },
     "metadata": {
      "needs_background": "light"
     },
     "output_type": "display_data"
    }
   ],
   "source": [
    "plt.plot(history.history['accuracy'])"
   ]
  },
  {
   "cell_type": "code",
   "execution_count": 15,
   "id": "1f788a53-14cd-4f08-90cf-cd30a291299e",
   "metadata": {},
   "outputs": [],
   "source": [
    "model.save('sampleKerasMLP.h5')"
   ]
  },
  {
   "cell_type": "code",
   "execution_count": 16,
   "id": "9054757a-0f21-4cb4-92be-85e56026f339",
   "metadata": {},
   "outputs": [],
   "source": [
    "import keras"
   ]
  },
  {
   "cell_type": "code",
   "execution_count": 17,
   "id": "1db9aaec-69b9-42bd-b3aa-ba7c15dcef8a",
   "metadata": {},
   "outputs": [],
   "source": [
    "rec_model=keras.models.load_model('sampleKerasMLP.h5')"
   ]
  },
  {
   "cell_type": "code",
   "execution_count": 18,
   "id": "bb5e4b7e-acf3-4c9f-8938-4f74c53a6b5f",
   "metadata": {},
   "outputs": [
    {
     "name": "stdout",
     "output_type": "stream",
     "text": [
      "32/32 [==============================] - 0s 1ms/step - loss: 0.2506 - accuracy: 0.5000\n"
     ]
    },
    {
     "data": {
      "text/plain": [
       "[0.25060930848121643, 0.5]"
      ]
     },
     "execution_count": 18,
     "metadata": {},
     "output_type": "execute_result"
    }
   ],
   "source": [
    "rec_model.evaluate(data,labels_cat)"
   ]
  },
  {
   "cell_type": "code",
   "execution_count": null,
   "id": "f3875d5e-6c1e-48ed-b302-b6414bce4fbd",
   "metadata": {},
   "outputs": [],
   "source": []
  }
 ],
 "metadata": {
  "kernelspec": {
   "display_name": "Python 3 (ipykernel)",
   "language": "python",
   "name": "python3"
  },
  "language_info": {
   "codemirror_mode": {
    "name": "ipython",
    "version": 3
   },
   "file_extension": ".py",
   "mimetype": "text/x-python",
   "name": "python",
   "nbconvert_exporter": "python",
   "pygments_lexer": "ipython3",
   "version": "3.12.7"
  }
 },
 "nbformat": 4,
 "nbformat_minor": 5
}
