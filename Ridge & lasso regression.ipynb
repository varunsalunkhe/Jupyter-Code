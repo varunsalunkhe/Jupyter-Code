{
 "cells": [
  {
   "cell_type": "code",
   "execution_count": 1,
   "id": "1e84cca5-e9f4-4fc8-817e-8e44249a99eb",
   "metadata": {},
   "outputs": [],
   "source": [
    "import pandas as pd\n",
    "import numpy as np\n",
    "from matplotlib import pyplot as plt\n",
    "%matplotlib inline\n",
    "import seaborn as sns"
   ]
  },
  {
   "cell_type": "code",
   "execution_count": 2,
   "id": "6a344582-4ecd-4ab7-8b93-880a37474a8d",
   "metadata": {},
   "outputs": [],
   "source": [
    "import warnings \n",
    "warnings.filterwarnings('ignore')"
   ]
  },
  {
   "cell_type": "code",
   "execution_count": 3,
   "id": "bed8774d-6401-45c5-abb3-7583747909b6",
   "metadata": {},
   "outputs": [],
   "source": [
    "from sklearn.model_selection import train_test_split\n",
    "from sklearn.linear_model import LinearRegression, Ridge, Lasso\n",
    "from sklearn.preprocessing import StandardScaler, PolynomialFeatures"
   ]
  },
  {
   "cell_type": "code",
   "execution_count": 4,
   "id": "6074ac78-63ee-4b60-89b6-efed58d1a8b5",
   "metadata": {},
   "outputs": [
    {
     "data": {
      "text/html": [
       "<div>\n",
       "<style scoped>\n",
       "    .dataframe tbody tr th:only-of-type {\n",
       "        vertical-align: middle;\n",
       "    }\n",
       "\n",
       "    .dataframe tbody tr th {\n",
       "        vertical-align: top;\n",
       "    }\n",
       "\n",
       "    .dataframe thead th {\n",
       "        text-align: right;\n",
       "    }\n",
       "</style>\n",
       "<table border=\"1\" class=\"dataframe\">\n",
       "  <thead>\n",
       "    <tr style=\"text-align: right;\">\n",
       "      <th></th>\n",
       "      <th>Country</th>\n",
       "      <th>Region</th>\n",
       "      <th>Population</th>\n",
       "      <th>Under15</th>\n",
       "      <th>Over60</th>\n",
       "      <th>FertilityRate</th>\n",
       "      <th>LifeExpectancy</th>\n",
       "      <th>ChildMortality</th>\n",
       "      <th>CellularSubscribers</th>\n",
       "      <th>LiteracyRate</th>\n",
       "      <th>GNI</th>\n",
       "      <th>PrimarySchoolEnrollmentMale</th>\n",
       "      <th>PrimarySchoolEnrollmentFemale</th>\n",
       "    </tr>\n",
       "  </thead>\n",
       "  <tbody>\n",
       "    <tr>\n",
       "      <th>0</th>\n",
       "      <td>Afghanistan</td>\n",
       "      <td>Eastern Mediterranean</td>\n",
       "      <td>29825</td>\n",
       "      <td>47.42</td>\n",
       "      <td>3.82</td>\n",
       "      <td>5.40</td>\n",
       "      <td>60</td>\n",
       "      <td>98.5</td>\n",
       "      <td>54.26</td>\n",
       "      <td>0.0</td>\n",
       "      <td>1140</td>\n",
       "      <td>0.0</td>\n",
       "      <td>0.0</td>\n",
       "    </tr>\n",
       "    <tr>\n",
       "      <th>1</th>\n",
       "      <td>Albania</td>\n",
       "      <td>Europe</td>\n",
       "      <td>3162</td>\n",
       "      <td>21.33</td>\n",
       "      <td>14.93</td>\n",
       "      <td>1.75</td>\n",
       "      <td>74</td>\n",
       "      <td>16.7</td>\n",
       "      <td>96.39</td>\n",
       "      <td>0.0</td>\n",
       "      <td>8820</td>\n",
       "      <td>0.0</td>\n",
       "      <td>0.0</td>\n",
       "    </tr>\n",
       "    <tr>\n",
       "      <th>2</th>\n",
       "      <td>Algeria</td>\n",
       "      <td>Africa</td>\n",
       "      <td>38482</td>\n",
       "      <td>27.42</td>\n",
       "      <td>7.17</td>\n",
       "      <td>2.83</td>\n",
       "      <td>73</td>\n",
       "      <td>20.0</td>\n",
       "      <td>98.99</td>\n",
       "      <td>0.0</td>\n",
       "      <td>8310</td>\n",
       "      <td>98.2</td>\n",
       "      <td>96.4</td>\n",
       "    </tr>\n",
       "    <tr>\n",
       "      <th>3</th>\n",
       "      <td>Andorra</td>\n",
       "      <td>Europe</td>\n",
       "      <td>78</td>\n",
       "      <td>15.20</td>\n",
       "      <td>22.86</td>\n",
       "      <td>0.00</td>\n",
       "      <td>82</td>\n",
       "      <td>3.2</td>\n",
       "      <td>75.49</td>\n",
       "      <td>0.0</td>\n",
       "      <td>0</td>\n",
       "      <td>78.4</td>\n",
       "      <td>79.4</td>\n",
       "    </tr>\n",
       "    <tr>\n",
       "      <th>4</th>\n",
       "      <td>Angola</td>\n",
       "      <td>Africa</td>\n",
       "      <td>20821</td>\n",
       "      <td>47.58</td>\n",
       "      <td>3.84</td>\n",
       "      <td>6.10</td>\n",
       "      <td>51</td>\n",
       "      <td>163.5</td>\n",
       "      <td>48.38</td>\n",
       "      <td>70.1</td>\n",
       "      <td>5230</td>\n",
       "      <td>93.1</td>\n",
       "      <td>78.2</td>\n",
       "    </tr>\n",
       "  </tbody>\n",
       "</table>\n",
       "</div>"
      ],
      "text/plain": [
       "       Country                 Region  Population  Under15  Over60  \\\n",
       "0  Afghanistan  Eastern Mediterranean       29825    47.42    3.82   \n",
       "1      Albania                 Europe        3162    21.33   14.93   \n",
       "2      Algeria                 Africa       38482    27.42    7.17   \n",
       "3      Andorra                 Europe          78    15.20   22.86   \n",
       "4       Angola                 Africa       20821    47.58    3.84   \n",
       "\n",
       "   FertilityRate  LifeExpectancy  ChildMortality  CellularSubscribers  \\\n",
       "0           5.40              60            98.5                54.26   \n",
       "1           1.75              74            16.7                96.39   \n",
       "2           2.83              73            20.0                98.99   \n",
       "3           0.00              82             3.2                75.49   \n",
       "4           6.10              51           163.5                48.38   \n",
       "\n",
       "   LiteracyRate   GNI  PrimarySchoolEnrollmentMale  \\\n",
       "0           0.0  1140                          0.0   \n",
       "1           0.0  8820                          0.0   \n",
       "2           0.0  8310                         98.2   \n",
       "3           0.0     0                         78.4   \n",
       "4          70.1  5230                         93.1   \n",
       "\n",
       "   PrimarySchoolEnrollmentFemale  \n",
       "0                            0.0  \n",
       "1                            0.0  \n",
       "2                           96.4  \n",
       "3                           79.4  \n",
       "4                           78.2  "
      ]
     },
     "execution_count": 4,
     "metadata": {},
     "output_type": "execute_result"
    }
   ],
   "source": [
    "data=pd.read_csv('WHO.csv')\n",
    "data.head()"
   ]
  },
  {
   "cell_type": "code",
   "execution_count": 5,
   "id": "0623a8c7-a677-46a4-985b-8a04f44aeebd",
   "metadata": {},
   "outputs": [
    {
     "name": "stdout",
     "output_type": "stream",
     "text": [
      "<class 'pandas.core.frame.DataFrame'>\n",
      "RangeIndex: 194 entries, 0 to 193\n",
      "Data columns (total 13 columns):\n",
      " #   Column                         Non-Null Count  Dtype  \n",
      "---  ------                         --------------  -----  \n",
      " 0   Country                        194 non-null    object \n",
      " 1   Region                         194 non-null    object \n",
      " 2   Population                     194 non-null    int64  \n",
      " 3   Under15                        194 non-null    float64\n",
      " 4   Over60                         194 non-null    float64\n",
      " 5   FertilityRate                  194 non-null    float64\n",
      " 6   LifeExpectancy                 194 non-null    int64  \n",
      " 7   ChildMortality                 194 non-null    float64\n",
      " 8   CellularSubscribers            194 non-null    float64\n",
      " 9   LiteracyRate                   194 non-null    float64\n",
      " 10  GNI                            194 non-null    int64  \n",
      " 11  PrimarySchoolEnrollmentMale    194 non-null    float64\n",
      " 12  PrimarySchoolEnrollmentFemale  194 non-null    float64\n",
      "dtypes: float64(8), int64(3), object(2)\n",
      "memory usage: 19.8+ KB\n"
     ]
    }
   ],
   "source": [
    "data.info()"
   ]
  },
  {
   "cell_type": "code",
   "execution_count": 6,
   "id": "0bc035c2-234e-4517-81c3-85cd6fe3ca56",
   "metadata": {},
   "outputs": [],
   "source": [
    "data.drop(['FertilityRate','PrimarySchoolEnrollmentMale','PrimarySchoolEnrollmentFemale'], axis=1, inplace=True)\n"
   ]
  },
  {
   "cell_type": "code",
   "execution_count": 7,
   "id": "432302a1-4bdf-4c6e-906e-db38a930e84a",
   "metadata": {},
   "outputs": [
    {
     "data": {
      "text/html": [
       "<div>\n",
       "<style scoped>\n",
       "    .dataframe tbody tr th:only-of-type {\n",
       "        vertical-align: middle;\n",
       "    }\n",
       "\n",
       "    .dataframe tbody tr th {\n",
       "        vertical-align: top;\n",
       "    }\n",
       "\n",
       "    .dataframe thead th {\n",
       "        text-align: right;\n",
       "    }\n",
       "</style>\n",
       "<table border=\"1\" class=\"dataframe\">\n",
       "  <thead>\n",
       "    <tr style=\"text-align: right;\">\n",
       "      <th></th>\n",
       "      <th>Country</th>\n",
       "      <th>Region</th>\n",
       "      <th>Population</th>\n",
       "      <th>Under15</th>\n",
       "      <th>Over60</th>\n",
       "      <th>LifeExpectancy</th>\n",
       "      <th>ChildMortality</th>\n",
       "      <th>CellularSubscribers</th>\n",
       "      <th>LiteracyRate</th>\n",
       "      <th>GNI</th>\n",
       "    </tr>\n",
       "  </thead>\n",
       "  <tbody>\n",
       "    <tr>\n",
       "      <th>0</th>\n",
       "      <td>Afghanistan</td>\n",
       "      <td>Eastern Mediterranean</td>\n",
       "      <td>29825</td>\n",
       "      <td>47.42</td>\n",
       "      <td>3.82</td>\n",
       "      <td>60</td>\n",
       "      <td>98.5</td>\n",
       "      <td>54.26</td>\n",
       "      <td>0.0</td>\n",
       "      <td>1140</td>\n",
       "    </tr>\n",
       "    <tr>\n",
       "      <th>1</th>\n",
       "      <td>Albania</td>\n",
       "      <td>Europe</td>\n",
       "      <td>3162</td>\n",
       "      <td>21.33</td>\n",
       "      <td>14.93</td>\n",
       "      <td>74</td>\n",
       "      <td>16.7</td>\n",
       "      <td>96.39</td>\n",
       "      <td>0.0</td>\n",
       "      <td>8820</td>\n",
       "    </tr>\n",
       "    <tr>\n",
       "      <th>2</th>\n",
       "      <td>Algeria</td>\n",
       "      <td>Africa</td>\n",
       "      <td>38482</td>\n",
       "      <td>27.42</td>\n",
       "      <td>7.17</td>\n",
       "      <td>73</td>\n",
       "      <td>20.0</td>\n",
       "      <td>98.99</td>\n",
       "      <td>0.0</td>\n",
       "      <td>8310</td>\n",
       "    </tr>\n",
       "    <tr>\n",
       "      <th>3</th>\n",
       "      <td>Andorra</td>\n",
       "      <td>Europe</td>\n",
       "      <td>78</td>\n",
       "      <td>15.20</td>\n",
       "      <td>22.86</td>\n",
       "      <td>82</td>\n",
       "      <td>3.2</td>\n",
       "      <td>75.49</td>\n",
       "      <td>0.0</td>\n",
       "      <td>0</td>\n",
       "    </tr>\n",
       "    <tr>\n",
       "      <th>4</th>\n",
       "      <td>Angola</td>\n",
       "      <td>Africa</td>\n",
       "      <td>20821</td>\n",
       "      <td>47.58</td>\n",
       "      <td>3.84</td>\n",
       "      <td>51</td>\n",
       "      <td>163.5</td>\n",
       "      <td>48.38</td>\n",
       "      <td>70.1</td>\n",
       "      <td>5230</td>\n",
       "    </tr>\n",
       "  </tbody>\n",
       "</table>\n",
       "</div>"
      ],
      "text/plain": [
       "       Country                 Region  Population  Under15  Over60  \\\n",
       "0  Afghanistan  Eastern Mediterranean       29825    47.42    3.82   \n",
       "1      Albania                 Europe        3162    21.33   14.93   \n",
       "2      Algeria                 Africa       38482    27.42    7.17   \n",
       "3      Andorra                 Europe          78    15.20   22.86   \n",
       "4       Angola                 Africa       20821    47.58    3.84   \n",
       "\n",
       "   LifeExpectancy  ChildMortality  CellularSubscribers  LiteracyRate   GNI  \n",
       "0              60            98.5                54.26           0.0  1140  \n",
       "1              74            16.7                96.39           0.0  8820  \n",
       "2              73            20.0                98.99           0.0  8310  \n",
       "3              82             3.2                75.49           0.0     0  \n",
       "4              51           163.5                48.38          70.1  5230  "
      ]
     },
     "execution_count": 7,
     "metadata": {},
     "output_type": "execute_result"
    }
   ],
   "source": [
    "data.head()"
   ]
  },
  {
   "cell_type": "code",
   "execution_count": 8,
   "id": "d7c6402f-1130-429b-b7af-99713ed16c50",
   "metadata": {},
   "outputs": [
    {
     "data": {
      "text/plain": [
       "<AxesSubplot:ylabel='Density'>"
      ]
     },
     "execution_count": 8,
     "metadata": {},
     "output_type": "execute_result"
    },
    {
     "data": {
      "image/png": "[encoded data removed]",
      "text/plain": [
       "<Figure size 432x288 with 1 Axes>"
      ]
     },
     "metadata": {
      "needs_background": "light"
     },
     "output_type": "display_data"
    }
   ],
   "source": [
    "data['GNI'].plot(kind='kde')"
   ]
  },
  {
   "cell_type": "code",
   "execution_count": 9,
   "id": "a4cebc65-c35c-4ba4-a0a8-953dcdfce22f",
   "metadata": {},
   "outputs": [
    {
     "data": {
      "text/plain": [
       "<AxesSubplot:xlabel='GNI', ylabel='Density'>"
      ]
     },
     "execution_count": 9,
     "metadata": {},
     "output_type": "execute_result"
    },
    {
     "data": {
      "image/png": "[encoded data removed]",
      "text/plain": [
       "<Figure size 432x288 with 1 Axes>"
      ]
     },
     "metadata": {
      "needs_background": "light"
     },
     "output_type": "display_data"
    }
   ],
   "source": [
    "sns.distplot(data['GNI'])"
   ]
  },
  {
   "cell_type": "code",
   "execution_count": 10,
   "id": "00068f92-d862-4e00-b00b-0d3432a818f4",
   "metadata": {},
   "outputs": [
    {
     "data": {
      "text/html": [
       "<div>\n",
       "<style scoped>\n",
       "    .dataframe tbody tr th:only-of-type {\n",
       "        vertical-align: middle;\n",
       "    }\n",
       "\n",
       "    .dataframe tbody tr th {\n",
       "        vertical-align: top;\n",
       "    }\n",
       "\n",
       "    .dataframe thead th {\n",
       "        text-align: right;\n",
       "    }\n",
       "</style>\n",
       "<table border=\"1\" class=\"dataframe\">\n",
       "  <thead>\n",
       "    <tr style=\"text-align: right;\">\n",
       "      <th></th>\n",
       "      <th>Population</th>\n",
       "      <th>Under15</th>\n",
       "      <th>Over60</th>\n",
       "      <th>LifeExpectancy</th>\n",
       "      <th>ChildMortality</th>\n",
       "      <th>CellularSubscribers</th>\n",
       "      <th>LiteracyRate</th>\n",
       "      <th>GNI</th>\n",
       "    </tr>\n",
       "  </thead>\n",
       "  <tbody>\n",
       "    <tr>\n",
       "      <th>count</th>\n",
       "      <td>1.940000e+02</td>\n",
       "      <td>194.000000</td>\n",
       "      <td>194.000000</td>\n",
       "      <td>194.000000</td>\n",
       "      <td>194.000000</td>\n",
       "      <td>194.000000</td>\n",
       "      <td>194.000000</td>\n",
       "      <td>194.000000</td>\n",
       "    </tr>\n",
       "    <tr>\n",
       "      <th>mean</th>\n",
       "      <td>3.635997e+04</td>\n",
       "      <td>28.732423</td>\n",
       "      <td>11.163660</td>\n",
       "      <td>70.010309</td>\n",
       "      <td>36.148969</td>\n",
       "      <td>88.814639</td>\n",
       "      <td>44.444330</td>\n",
       "      <td>11123.659794</td>\n",
       "    </tr>\n",
       "    <tr>\n",
       "      <th>std</th>\n",
       "      <td>1.379031e+05</td>\n",
       "      <td>10.534573</td>\n",
       "      <td>7.149331</td>\n",
       "      <td>9.259075</td>\n",
       "      <td>37.992935</td>\n",
       "      <td>45.344327</td>\n",
       "      <td>43.779317</td>\n",
       "      <td>14735.106629</td>\n",
       "    </tr>\n",
       "    <tr>\n",
       "      <th>min</th>\n",
       "      <td>1.000000e+00</td>\n",
       "      <td>13.120000</td>\n",
       "      <td>0.810000</td>\n",
       "      <td>47.000000</td>\n",
       "      <td>2.200000</td>\n",
       "      <td>0.000000</td>\n",
       "      <td>0.000000</td>\n",
       "      <td>0.000000</td>\n",
       "    </tr>\n",
       "    <tr>\n",
       "      <th>25%</th>\n",
       "      <td>1.695750e+03</td>\n",
       "      <td>18.717500</td>\n",
       "      <td>5.200000</td>\n",
       "      <td>64.000000</td>\n",
       "      <td>8.425000</td>\n",
       "      <td>56.147500</td>\n",
       "      <td>0.000000</td>\n",
       "      <td>1195.000000</td>\n",
       "    </tr>\n",
       "    <tr>\n",
       "      <th>50%</th>\n",
       "      <td>7.790000e+03</td>\n",
       "      <td>28.650000</td>\n",
       "      <td>8.530000</td>\n",
       "      <td>72.500000</td>\n",
       "      <td>18.600000</td>\n",
       "      <td>94.315000</td>\n",
       "      <td>52.100000</td>\n",
       "      <td>4885.000000</td>\n",
       "    </tr>\n",
       "    <tr>\n",
       "      <th>75%</th>\n",
       "      <td>2.453525e+04</td>\n",
       "      <td>37.752500</td>\n",
       "      <td>16.687500</td>\n",
       "      <td>76.000000</td>\n",
       "      <td>55.975000</td>\n",
       "      <td>117.980000</td>\n",
       "      <td>92.125000</td>\n",
       "      <td>14617.500000</td>\n",
       "    </tr>\n",
       "    <tr>\n",
       "      <th>max</th>\n",
       "      <td>1.390000e+06</td>\n",
       "      <td>49.990000</td>\n",
       "      <td>31.920000</td>\n",
       "      <td>83.000000</td>\n",
       "      <td>181.600000</td>\n",
       "      <td>196.410000</td>\n",
       "      <td>99.800000</td>\n",
       "      <td>86440.000000</td>\n",
       "    </tr>\n",
       "  </tbody>\n",
       "</table>\n",
       "</div>"
      ],
      "text/plain": [
       "         Population     Under15      Over60  LifeExpectancy  ChildMortality  \\\n",
       "count  1.940000e+02  194.000000  194.000000      194.000000      194.000000   \n",
       "mean   3.635997e+04   28.732423   11.163660       70.010309       36.148969   \n",
       "std    1.379031e+05   10.534573    7.149331        9.259075       37.992935   \n",
       "min    1.000000e+00   13.120000    0.810000       47.000000        2.200000   \n",
       "25%    1.695750e+03   18.717500    5.200000       64.000000        8.425000   \n",
       "50%    7.790000e+03   28.650000    8.530000       72.500000       18.600000   \n",
       "75%    2.453525e+04   37.752500   16.687500       76.000000       55.975000   \n",
       "max    1.390000e+06   49.990000   31.920000       83.000000      181.600000   \n",
       "\n",
       "       CellularSubscribers  LiteracyRate           GNI  \n",
       "count           194.000000    194.000000    194.000000  \n",
       "mean             88.814639     44.444330  11123.659794  \n",
       "std              45.344327     43.779317  14735.106629  \n",
       "min               0.000000      0.000000      0.000000  \n",
       "25%              56.147500      0.000000   1195.000000  \n",
       "50%              94.315000     52.100000   4885.000000  \n",
       "75%             117.980000     92.125000  14617.500000  \n",
       "max             196.410000     99.800000  86440.000000  "
      ]
     },
     "execution_count": 10,
     "metadata": {},
     "output_type": "execute_result"
    }
   ],
   "source": [
    "data.describe()"
   ]
  },
  {
   "cell_type": "code",
   "execution_count": 11,
   "id": "ecdb7a58-b6da-4e84-bff1-00a28e147e87",
   "metadata": {},
   "outputs": [],
   "source": [
    "def iqr(df):\n",
    "    q1,q3=np.percentile(df,[25,75])\n",
    "    iqr=q3-q1\n",
    "    return iqr,q3"
   ]
  },
  {
   "cell_type": "code",
   "execution_count": 12,
   "id": "dfe0a1f2-3cb4-4588-b0af-c82a6500b88e",
   "metadata": {},
   "outputs": [],
   "source": [
    "iqr,q3=iqr(data['GNI'])\n"
   ]
  },
  {
   "cell_type": "code",
   "execution_count": null,
   "id": "11443def-f8c8-434c-b9b2-8fa82e0d2c06",
   "metadata": {},
   "outputs": [],
   "source": []
  },
  {
   "cell_type": "code",
   "execution_count": 13,
   "id": "b072441b-4a3a-4150-a93c-8e4c6ef44175",
   "metadata": {},
   "outputs": [
    {
     "data": {
      "text/plain": [
       "<AxesSubplot:xlabel='GNI'>"
      ]
     },
     "execution_count": 13,
     "metadata": {},
     "output_type": "execute_result"
    },
    {
     "data": {
      "image/png": "[encoded data removed]",
      "text/plain": [
       "<Figure size 432x288 with 1 Axes>"
      ]
     },
     "metadata": {
      "needs_background": "light"
     },
     "output_type": "display_data"
    }
   ],
   "source": [
    "sns.boxplot(data['GNI'])"
   ]
  },
  {
   "cell_type": "code",
   "execution_count": 14,
   "id": "c69c9635-38da-4e75-813a-a89e4ea52c28",
   "metadata": {},
   "outputs": [
    {
     "data": {
      "text/plain": [
       "34751.25"
      ]
     },
     "execution_count": 14,
     "metadata": {},
     "output_type": "execute_result"
    }
   ],
   "source": [
    "q3+1.5*iqr"
   ]
  },
  {
   "cell_type": "code",
   "execution_count": 15,
   "id": "8efac889-3490-4308-88a8-4057f43af2ce",
   "metadata": {},
   "outputs": [
    {
     "data": {
      "text/html": [
       "<div>\n",
       "<style scoped>\n",
       "    .dataframe tbody tr th:only-of-type {\n",
       "        vertical-align: middle;\n",
       "    }\n",
       "\n",
       "    .dataframe tbody tr th {\n",
       "        vertical-align: top;\n",
       "    }\n",
       "\n",
       "    .dataframe thead th {\n",
       "        text-align: right;\n",
       "    }\n",
       "</style>\n",
       "<table border=\"1\" class=\"dataframe\">\n",
       "  <thead>\n",
       "    <tr style=\"text-align: right;\">\n",
       "      <th></th>\n",
       "      <th>Country</th>\n",
       "      <th>Region</th>\n",
       "      <th>Population</th>\n",
       "      <th>Under15</th>\n",
       "      <th>Over60</th>\n",
       "      <th>LifeExpectancy</th>\n",
       "      <th>ChildMortality</th>\n",
       "      <th>CellularSubscribers</th>\n",
       "      <th>LiteracyRate</th>\n",
       "      <th>GNI</th>\n",
       "    </tr>\n",
       "  </thead>\n",
       "  <tbody>\n",
       "    <tr>\n",
       "      <th>0</th>\n",
       "      <td>Afghanistan</td>\n",
       "      <td>Eastern Mediterranean</td>\n",
       "      <td>29825</td>\n",
       "      <td>47.42</td>\n",
       "      <td>3.82</td>\n",
       "      <td>60</td>\n",
       "      <td>98.5</td>\n",
       "      <td>54.26</td>\n",
       "      <td>0.0</td>\n",
       "      <td>1140</td>\n",
       "    </tr>\n",
       "    <tr>\n",
       "      <th>1</th>\n",
       "      <td>Albania</td>\n",
       "      <td>Europe</td>\n",
       "      <td>3162</td>\n",
       "      <td>21.33</td>\n",
       "      <td>14.93</td>\n",
       "      <td>74</td>\n",
       "      <td>16.7</td>\n",
       "      <td>96.39</td>\n",
       "      <td>0.0</td>\n",
       "      <td>8820</td>\n",
       "    </tr>\n",
       "    <tr>\n",
       "      <th>2</th>\n",
       "      <td>Algeria</td>\n",
       "      <td>Africa</td>\n",
       "      <td>38482</td>\n",
       "      <td>27.42</td>\n",
       "      <td>7.17</td>\n",
       "      <td>73</td>\n",
       "      <td>20.0</td>\n",
       "      <td>98.99</td>\n",
       "      <td>0.0</td>\n",
       "      <td>8310</td>\n",
       "    </tr>\n",
       "    <tr>\n",
       "      <th>3</th>\n",
       "      <td>Andorra</td>\n",
       "      <td>Europe</td>\n",
       "      <td>78</td>\n",
       "      <td>15.20</td>\n",
       "      <td>22.86</td>\n",
       "      <td>82</td>\n",
       "      <td>3.2</td>\n",
       "      <td>75.49</td>\n",
       "      <td>0.0</td>\n",
       "      <td>0</td>\n",
       "    </tr>\n",
       "    <tr>\n",
       "      <th>4</th>\n",
       "      <td>Angola</td>\n",
       "      <td>Africa</td>\n",
       "      <td>20821</td>\n",
       "      <td>47.58</td>\n",
       "      <td>3.84</td>\n",
       "      <td>51</td>\n",
       "      <td>163.5</td>\n",
       "      <td>48.38</td>\n",
       "      <td>70.1</td>\n",
       "      <td>5230</td>\n",
       "    </tr>\n",
       "  </tbody>\n",
       "</table>\n",
       "</div>"
      ],
      "text/plain": [
       "       Country                 Region  Population  Under15  Over60  \\\n",
       "0  Afghanistan  Eastern Mediterranean       29825    47.42    3.82   \n",
       "1      Albania                 Europe        3162    21.33   14.93   \n",
       "2      Algeria                 Africa       38482    27.42    7.17   \n",
       "3      Andorra                 Europe          78    15.20   22.86   \n",
       "4       Angola                 Africa       20821    47.58    3.84   \n",
       "\n",
       "   LifeExpectancy  ChildMortality  CellularSubscribers  LiteracyRate   GNI  \n",
       "0              60            98.5                54.26           0.0  1140  \n",
       "1              74            16.7                96.39           0.0  8820  \n",
       "2              73            20.0                98.99           0.0  8310  \n",
       "3              82             3.2                75.49           0.0     0  \n",
       "4              51           163.5                48.38          70.1  5230  "
      ]
     },
     "execution_count": 15,
     "metadata": {},
     "output_type": "execute_result"
    }
   ],
   "source": [
    "new_d=data[data['GNI']< q3+1.5*iqr]\n",
    "new_d.head()"
   ]
  },
  {
   "cell_type": "code",
   "execution_count": 16,
   "id": "aa911d65-5774-428d-86e1-daae679675e6",
   "metadata": {},
   "outputs": [
    {
     "name": "stdout",
     "output_type": "stream",
     "text": [
      "<class 'pandas.core.frame.DataFrame'>\n",
      "Int64Index: 175 entries, 0 to 193\n",
      "Data columns (total 10 columns):\n",
      " #   Column               Non-Null Count  Dtype  \n",
      "---  ------               --------------  -----  \n",
      " 0   Country              175 non-null    object \n",
      " 1   Region               175 non-null    object \n",
      " 2   Population           175 non-null    int64  \n",
      " 3   Under15              175 non-null    float64\n",
      " 4   Over60               175 non-null    float64\n",
      " 5   LifeExpectancy       175 non-null    int64  \n",
      " 6   ChildMortality       175 non-null    float64\n",
      " 7   CellularSubscribers  175 non-null    float64\n",
      " 8   LiteracyRate         175 non-null    float64\n",
      " 9   GNI                  175 non-null    int64  \n",
      "dtypes: float64(5), int64(3), object(2)\n",
      "memory usage: 15.0+ KB\n"
     ]
    }
   ],
   "source": [
    "new_d.info()"
   ]
  },
  {
   "cell_type": "code",
   "execution_count": 17,
   "id": "737e3b09-45af-4971-b570-41a37b00270e",
   "metadata": {},
   "outputs": [],
   "source": [
    "Q1,Q3=np.percentile(data['Population'],[25,75])"
   ]
  },
  {
   "cell_type": "code",
   "execution_count": 18,
   "id": "7373ec79-44bd-4598-91b4-c5e3454aa583",
   "metadata": {},
   "outputs": [],
   "source": [
    "IQR=Q3-Q1"
   ]
  },
  {
   "cell_type": "code",
   "execution_count": 19,
   "id": "45ed723e-b03c-41df-bfd4-e147e781ff93",
   "metadata": {},
   "outputs": [],
   "source": [
    "new_data=new_d[data['Population']< Q3+ 1.5*IQR]"
   ]
  },
  {
   "cell_type": "code",
   "execution_count": 20,
   "id": "a95f889b-dd07-4031-ad32-c7cafce40188",
   "metadata": {},
   "outputs": [
    {
     "data": {
      "text/plain": [
       "(157, 10)"
      ]
     },
     "execution_count": 20,
     "metadata": {},
     "output_type": "execute_result"
    }
   ],
   "source": [
    "new_data.shape"
   ]
  },
  {
   "cell_type": "code",
   "execution_count": 21,
   "id": "19f1a1e4-d7f9-4ef0-a312-7e389fb612f7",
   "metadata": {},
   "outputs": [
    {
     "data": {
      "text/html": [
       "<div>\n",
       "<style scoped>\n",
       "    .dataframe tbody tr th:only-of-type {\n",
       "        vertical-align: middle;\n",
       "    }\n",
       "\n",
       "    .dataframe tbody tr th {\n",
       "        vertical-align: top;\n",
       "    }\n",
       "\n",
       "    .dataframe thead th {\n",
       "        text-align: right;\n",
       "    }\n",
       "</style>\n",
       "<table border=\"1\" class=\"dataframe\">\n",
       "  <thead>\n",
       "    <tr style=\"text-align: right;\">\n",
       "      <th></th>\n",
       "      <th>Country</th>\n",
       "      <th>Region</th>\n",
       "      <th>Population</th>\n",
       "      <th>Under15</th>\n",
       "      <th>Over60</th>\n",
       "      <th>LifeExpectancy</th>\n",
       "      <th>ChildMortality</th>\n",
       "      <th>CellularSubscribers</th>\n",
       "      <th>LiteracyRate</th>\n",
       "      <th>GNI</th>\n",
       "    </tr>\n",
       "  </thead>\n",
       "  <tbody>\n",
       "    <tr>\n",
       "      <th>0</th>\n",
       "      <td>Afghanistan</td>\n",
       "      <td>Eastern Mediterranean</td>\n",
       "      <td>29825</td>\n",
       "      <td>47.42</td>\n",
       "      <td>3.82</td>\n",
       "      <td>60</td>\n",
       "      <td>98.5</td>\n",
       "      <td>54.26</td>\n",
       "      <td>0.0</td>\n",
       "      <td>1140</td>\n",
       "    </tr>\n",
       "    <tr>\n",
       "      <th>1</th>\n",
       "      <td>Albania</td>\n",
       "      <td>Europe</td>\n",
       "      <td>3162</td>\n",
       "      <td>21.33</td>\n",
       "      <td>14.93</td>\n",
       "      <td>74</td>\n",
       "      <td>16.7</td>\n",
       "      <td>96.39</td>\n",
       "      <td>0.0</td>\n",
       "      <td>8820</td>\n",
       "    </tr>\n",
       "    <tr>\n",
       "      <th>2</th>\n",
       "      <td>Algeria</td>\n",
       "      <td>Africa</td>\n",
       "      <td>38482</td>\n",
       "      <td>27.42</td>\n",
       "      <td>7.17</td>\n",
       "      <td>73</td>\n",
       "      <td>20.0</td>\n",
       "      <td>98.99</td>\n",
       "      <td>0.0</td>\n",
       "      <td>8310</td>\n",
       "    </tr>\n",
       "    <tr>\n",
       "      <th>3</th>\n",
       "      <td>Andorra</td>\n",
       "      <td>Europe</td>\n",
       "      <td>78</td>\n",
       "      <td>15.20</td>\n",
       "      <td>22.86</td>\n",
       "      <td>82</td>\n",
       "      <td>3.2</td>\n",
       "      <td>75.49</td>\n",
       "      <td>0.0</td>\n",
       "      <td>0</td>\n",
       "    </tr>\n",
       "    <tr>\n",
       "      <th>4</th>\n",
       "      <td>Angola</td>\n",
       "      <td>Africa</td>\n",
       "      <td>20821</td>\n",
       "      <td>47.58</td>\n",
       "      <td>3.84</td>\n",
       "      <td>51</td>\n",
       "      <td>163.5</td>\n",
       "      <td>48.38</td>\n",
       "      <td>70.1</td>\n",
       "      <td>5230</td>\n",
       "    </tr>\n",
       "  </tbody>\n",
       "</table>\n",
       "</div>"
      ],
      "text/plain": [
       "       Country                 Region  Population  Under15  Over60  \\\n",
       "0  Afghanistan  Eastern Mediterranean       29825    47.42    3.82   \n",
       "1      Albania                 Europe        3162    21.33   14.93   \n",
       "2      Algeria                 Africa       38482    27.42    7.17   \n",
       "3      Andorra                 Europe          78    15.20   22.86   \n",
       "4       Angola                 Africa       20821    47.58    3.84   \n",
       "\n",
       "   LifeExpectancy  ChildMortality  CellularSubscribers  LiteracyRate   GNI  \n",
       "0              60            98.5                54.26           0.0  1140  \n",
       "1              74            16.7                96.39           0.0  8820  \n",
       "2              73            20.0                98.99           0.0  8310  \n",
       "3              82             3.2                75.49           0.0     0  \n",
       "4              51           163.5                48.38          70.1  5230  "
      ]
     },
     "execution_count": 21,
     "metadata": {},
     "output_type": "execute_result"
    }
   ],
   "source": [
    "new_data.head()"
   ]
  },
  {
   "cell_type": "code",
   "execution_count": 47,
   "id": "c0f784f1-f1c2-46bf-9e6e-625d2f4252f9",
   "metadata": {},
   "outputs": [
    {
     "data": {
      "text/plain": [
       "(157, 9)"
      ]
     },
     "execution_count": 47,
     "metadata": {},
     "output_type": "execute_result"
    }
   ],
   "source": [
    "y=new_data['LifeExpectancy']\n",
    "x=new_data.loc[:,data.columns!='LifeExpectancy']\n",
    "x.shape"
   ]
  },
  {
   "cell_type": "code",
   "execution_count": 49,
   "id": "acf3c8e8-0a20-4f0a-b892-e962bac6fb9c",
   "metadata": {},
   "outputs": [
    {
     "data": {
      "text/plain": [
       "Country        Region               \n",
       "Afghanistan    Eastern Mediterranean    1\n",
       "Peru           Americas                 1\n",
       "Niger          Africa                   1\n",
       "Niue           Western Pacific          1\n",
       "Oman           Eastern Mediterranean    1\n",
       "                                       ..\n",
       "Grenada        Americas                 1\n",
       "Guatemala      Americas                 1\n",
       "Guinea         Africa                   1\n",
       "Guinea-Bissau  Africa                   1\n",
       "Zimbabwe       Africa                   1\n",
       "Length: 157, dtype: int64"
      ]
     },
     "execution_count": 49,
     "metadata": {},
     "output_type": "execute_result"
    }
   ],
   "source": [
    "x.select_dtypes('O').value_counts()"
   ]
  },
  {
   "cell_type": "code",
   "execution_count": 27,
   "id": "0d3c46ed-6efa-4cc7-bf1d-2faa29e02db9",
   "metadata": {},
   "outputs": [
    {
     "data": {
      "text/html": [
       "<div>\n",
       "<style scoped>\n",
       "    .dataframe tbody tr th:only-of-type {\n",
       "        vertical-align: middle;\n",
       "    }\n",
       "\n",
       "    .dataframe tbody tr th {\n",
       "        vertical-align: top;\n",
       "    }\n",
       "\n",
       "    .dataframe thead th {\n",
       "        text-align: right;\n",
       "    }\n",
       "</style>\n",
       "<table border=\"1\" class=\"dataframe\">\n",
       "  <thead>\n",
       "    <tr style=\"text-align: right;\">\n",
       "      <th></th>\n",
       "      <th>Population</th>\n",
       "      <th>Under15</th>\n",
       "      <th>Over60</th>\n",
       "      <th>ChildMortality</th>\n",
       "      <th>CellularSubscribers</th>\n",
       "      <th>LiteracyRate</th>\n",
       "      <th>GNI</th>\n",
       "      <th>Country_Afghanistan</th>\n",
       "      <th>Country_Albania</th>\n",
       "      <th>Country_Algeria</th>\n",
       "      <th>...</th>\n",
       "      <th>Country_Venezuela (Bolivarian Republic of)</th>\n",
       "      <th>Country_Yemen</th>\n",
       "      <th>Country_Zambia</th>\n",
       "      <th>Country_Zimbabwe</th>\n",
       "      <th>Region_Africa</th>\n",
       "      <th>Region_Americas</th>\n",
       "      <th>Region_Eastern Mediterranean</th>\n",
       "      <th>Region_Europe</th>\n",
       "      <th>Region_South-East Asia</th>\n",
       "      <th>Region_Western Pacific</th>\n",
       "    </tr>\n",
       "  </thead>\n",
       "  <tbody>\n",
       "    <tr>\n",
       "      <th>0</th>\n",
       "      <td>29825</td>\n",
       "      <td>47.42</td>\n",
       "      <td>3.82</td>\n",
       "      <td>98.5</td>\n",
       "      <td>54.26</td>\n",
       "      <td>0.0</td>\n",
       "      <td>1140</td>\n",
       "      <td>1</td>\n",
       "      <td>0</td>\n",
       "      <td>0</td>\n",
       "      <td>...</td>\n",
       "      <td>0</td>\n",
       "      <td>0</td>\n",
       "      <td>0</td>\n",
       "      <td>0</td>\n",
       "      <td>0</td>\n",
       "      <td>0</td>\n",
       "      <td>1</td>\n",
       "      <td>0</td>\n",
       "      <td>0</td>\n",
       "      <td>0</td>\n",
       "    </tr>\n",
       "    <tr>\n",
       "      <th>1</th>\n",
       "      <td>3162</td>\n",
       "      <td>21.33</td>\n",
       "      <td>14.93</td>\n",
       "      <td>16.7</td>\n",
       "      <td>96.39</td>\n",
       "      <td>0.0</td>\n",
       "      <td>8820</td>\n",
       "      <td>0</td>\n",
       "      <td>1</td>\n",
       "      <td>0</td>\n",
       "      <td>...</td>\n",
       "      <td>0</td>\n",
       "      <td>0</td>\n",
       "      <td>0</td>\n",
       "      <td>0</td>\n",
       "      <td>0</td>\n",
       "      <td>0</td>\n",
       "      <td>0</td>\n",
       "      <td>1</td>\n",
       "      <td>0</td>\n",
       "      <td>0</td>\n",
       "    </tr>\n",
       "    <tr>\n",
       "      <th>2</th>\n",
       "      <td>38482</td>\n",
       "      <td>27.42</td>\n",
       "      <td>7.17</td>\n",
       "      <td>20.0</td>\n",
       "      <td>98.99</td>\n",
       "      <td>0.0</td>\n",
       "      <td>8310</td>\n",
       "      <td>0</td>\n",
       "      <td>0</td>\n",
       "      <td>1</td>\n",
       "      <td>...</td>\n",
       "      <td>0</td>\n",
       "      <td>0</td>\n",
       "      <td>0</td>\n",
       "      <td>0</td>\n",
       "      <td>1</td>\n",
       "      <td>0</td>\n",
       "      <td>0</td>\n",
       "      <td>0</td>\n",
       "      <td>0</td>\n",
       "      <td>0</td>\n",
       "    </tr>\n",
       "    <tr>\n",
       "      <th>3</th>\n",
       "      <td>78</td>\n",
       "      <td>15.20</td>\n",
       "      <td>22.86</td>\n",
       "      <td>3.2</td>\n",
       "      <td>75.49</td>\n",
       "      <td>0.0</td>\n",
       "      <td>0</td>\n",
       "      <td>0</td>\n",
       "      <td>0</td>\n",
       "      <td>0</td>\n",
       "      <td>...</td>\n",
       "      <td>0</td>\n",
       "      <td>0</td>\n",
       "      <td>0</td>\n",
       "      <td>0</td>\n",
       "      <td>0</td>\n",
       "      <td>0</td>\n",
       "      <td>0</td>\n",
       "      <td>1</td>\n",
       "      <td>0</td>\n",
       "      <td>0</td>\n",
       "    </tr>\n",
       "    <tr>\n",
       "      <th>4</th>\n",
       "      <td>20821</td>\n",
       "      <td>47.58</td>\n",
       "      <td>3.84</td>\n",
       "      <td>163.5</td>\n",
       "      <td>48.38</td>\n",
       "      <td>70.1</td>\n",
       "      <td>5230</td>\n",
       "      <td>0</td>\n",
       "      <td>0</td>\n",
       "      <td>0</td>\n",
       "      <td>...</td>\n",
       "      <td>0</td>\n",
       "      <td>0</td>\n",
       "      <td>0</td>\n",
       "      <td>0</td>\n",
       "      <td>1</td>\n",
       "      <td>0</td>\n",
       "      <td>0</td>\n",
       "      <td>0</td>\n",
       "      <td>0</td>\n",
       "      <td>0</td>\n",
       "    </tr>\n",
       "  </tbody>\n",
       "</table>\n",
       "<p>5 rows × 170 columns</p>\n",
       "</div>"
      ],
      "text/plain": [
       "   Population  Under15  Over60  ChildMortality  CellularSubscribers  \\\n",
       "0       29825    47.42    3.82            98.5                54.26   \n",
       "1        3162    21.33   14.93            16.7                96.39   \n",
       "2       38482    27.42    7.17            20.0                98.99   \n",
       "3          78    15.20   22.86             3.2                75.49   \n",
       "4       20821    47.58    3.84           163.5                48.38   \n",
       "\n",
       "   LiteracyRate   GNI  Country_Afghanistan  Country_Albania  Country_Algeria  \\\n",
       "0           0.0  1140                    1                0                0   \n",
       "1           0.0  8820                    0                1                0   \n",
       "2           0.0  8310                    0                0                1   \n",
       "3           0.0     0                    0                0                0   \n",
       "4          70.1  5230                    0                0                0   \n",
       "\n",
       "   ...  Country_Venezuela (Bolivarian Republic of)  Country_Yemen  \\\n",
       "0  ...                                           0              0   \n",
       "1  ...                                           0              0   \n",
       "2  ...                                           0              0   \n",
       "3  ...                                           0              0   \n",
       "4  ...                                           0              0   \n",
       "\n",
       "   Country_Zambia  Country_Zimbabwe  Region_Africa  Region_Americas  \\\n",
       "0               0                 0              0                0   \n",
       "1               0                 0              0                0   \n",
       "2               0                 0              1                0   \n",
       "3               0                 0              0                0   \n",
       "4               0                 0              1                0   \n",
       "\n",
       "   Region_Eastern Mediterranean  Region_Europe  Region_South-East Asia  \\\n",
       "0                             1              0                       0   \n",
       "1                             0              1                       0   \n",
       "2                             0              0                       0   \n",
       "3                             0              1                       0   \n",
       "4                             0              0                       0   \n",
       "\n",
       "   Region_Western Pacific  \n",
       "0                       0  \n",
       "1                       0  \n",
       "2                       0  \n",
       "3                       0  \n",
       "4                       0  \n",
       "\n",
       "[5 rows x 170 columns]"
      ]
     },
     "execution_count": 27,
     "metadata": {},
     "output_type": "execute_result"
    }
   ],
   "source": [
    "x_d=pd.get_dummies(x)\n",
    "x_d.head()"
   ]
  },
  {
   "cell_type": "code",
   "execution_count": 30,
   "id": "70001790-f35b-4d10-83f4-b1b8b9f2a7ec",
   "metadata": {},
   "outputs": [
    {
     "name": "stdout",
     "output_type": "stream",
     "text": [
      "<class 'pandas.core.frame.DataFrame'>\n",
      "Int64Index: 157 entries, 0 to 193\n",
      "Columns: 170 entries, Population to Region_Western Pacific\n",
      "dtypes: float64(5), int64(2), uint8(163)\n",
      "memory usage: 34.8 KB\n"
     ]
    }
   ],
   "source": [
    "x_d.info()"
   ]
  },
  {
   "cell_type": "code",
   "execution_count": 31,
   "id": "9d9a296e-2c78-4263-a4ef-4279f8ff6653",
   "metadata": {},
   "outputs": [],
   "source": [
    "x_d.reset_index(drop=True, inplace= True)"
   ]
  },
  {
   "cell_type": "code",
   "execution_count": 35,
   "id": "93c00a4a-223a-4731-9f00-96abc1d82836",
   "metadata": {},
   "outputs": [
    {
     "data": {
      "text/html": [
       "<div>\n",
       "<style scoped>\n",
       "    .dataframe tbody tr th:only-of-type {\n",
       "        vertical-align: middle;\n",
       "    }\n",
       "\n",
       "    .dataframe tbody tr th {\n",
       "        vertical-align: top;\n",
       "    }\n",
       "\n",
       "    .dataframe thead th {\n",
       "        text-align: right;\n",
       "    }\n",
       "</style>\n",
       "<table border=\"1\" class=\"dataframe\">\n",
       "  <thead>\n",
       "    <tr style=\"text-align: right;\">\n",
       "      <th></th>\n",
       "      <th>Country_Afghanistan</th>\n",
       "      <th>Country_Albania</th>\n",
       "      <th>Country_Algeria</th>\n",
       "      <th>Country_Andorra</th>\n",
       "      <th>Country_Angola</th>\n",
       "      <th>Country_Antigua and Barbuda</th>\n",
       "      <th>Country_Argentina</th>\n",
       "      <th>Country_Armenia</th>\n",
       "      <th>Country_Azerbaijan</th>\n",
       "      <th>Country_Bahamas</th>\n",
       "      <th>...</th>\n",
       "      <th>Country_Venezuela (Bolivarian Republic of)</th>\n",
       "      <th>Country_Yemen</th>\n",
       "      <th>Country_Zambia</th>\n",
       "      <th>Country_Zimbabwe</th>\n",
       "      <th>Region_Africa</th>\n",
       "      <th>Region_Americas</th>\n",
       "      <th>Region_Eastern Mediterranean</th>\n",
       "      <th>Region_Europe</th>\n",
       "      <th>Region_South-East Asia</th>\n",
       "      <th>Region_Western Pacific</th>\n",
       "    </tr>\n",
       "  </thead>\n",
       "  <tbody>\n",
       "    <tr>\n",
       "      <th>0</th>\n",
       "      <td>1</td>\n",
       "      <td>0</td>\n",
       "      <td>0</td>\n",
       "      <td>0</td>\n",
       "      <td>0</td>\n",
       "      <td>0</td>\n",
       "      <td>0</td>\n",
       "      <td>0</td>\n",
       "      <td>0</td>\n",
       "      <td>0</td>\n",
       "      <td>...</td>\n",
       "      <td>0</td>\n",
       "      <td>0</td>\n",
       "      <td>0</td>\n",
       "      <td>0</td>\n",
       "      <td>0</td>\n",
       "      <td>0</td>\n",
       "      <td>1</td>\n",
       "      <td>0</td>\n",
       "      <td>0</td>\n",
       "      <td>0</td>\n",
       "    </tr>\n",
       "    <tr>\n",
       "      <th>1</th>\n",
       "      <td>0</td>\n",
       "      <td>1</td>\n",
       "      <td>0</td>\n",
       "      <td>0</td>\n",
       "      <td>0</td>\n",
       "      <td>0</td>\n",
       "      <td>0</td>\n",
       "      <td>0</td>\n",
       "      <td>0</td>\n",
       "      <td>0</td>\n",
       "      <td>...</td>\n",
       "      <td>0</td>\n",
       "      <td>0</td>\n",
       "      <td>0</td>\n",
       "      <td>0</td>\n",
       "      <td>0</td>\n",
       "      <td>0</td>\n",
       "      <td>0</td>\n",
       "      <td>1</td>\n",
       "      <td>0</td>\n",
       "      <td>0</td>\n",
       "    </tr>\n",
       "    <tr>\n",
       "      <th>2</th>\n",
       "      <td>0</td>\n",
       "      <td>0</td>\n",
       "      <td>1</td>\n",
       "      <td>0</td>\n",
       "      <td>0</td>\n",
       "      <td>0</td>\n",
       "      <td>0</td>\n",
       "      <td>0</td>\n",
       "      <td>0</td>\n",
       "      <td>0</td>\n",
       "      <td>...</td>\n",
       "      <td>0</td>\n",
       "      <td>0</td>\n",
       "      <td>0</td>\n",
       "      <td>0</td>\n",
       "      <td>1</td>\n",
       "      <td>0</td>\n",
       "      <td>0</td>\n",
       "      <td>0</td>\n",
       "      <td>0</td>\n",
       "      <td>0</td>\n",
       "    </tr>\n",
       "    <tr>\n",
       "      <th>3</th>\n",
       "      <td>0</td>\n",
       "      <td>0</td>\n",
       "      <td>0</td>\n",
       "      <td>1</td>\n",
       "      <td>0</td>\n",
       "      <td>0</td>\n",
       "      <td>0</td>\n",
       "      <td>0</td>\n",
       "      <td>0</td>\n",
       "      <td>0</td>\n",
       "      <td>...</td>\n",
       "      <td>0</td>\n",
       "      <td>0</td>\n",
       "      <td>0</td>\n",
       "      <td>0</td>\n",
       "      <td>0</td>\n",
       "      <td>0</td>\n",
       "      <td>0</td>\n",
       "      <td>1</td>\n",
       "      <td>0</td>\n",
       "      <td>0</td>\n",
       "    </tr>\n",
       "    <tr>\n",
       "      <th>4</th>\n",
       "      <td>0</td>\n",
       "      <td>0</td>\n",
       "      <td>0</td>\n",
       "      <td>0</td>\n",
       "      <td>1</td>\n",
       "      <td>0</td>\n",
       "      <td>0</td>\n",
       "      <td>0</td>\n",
       "      <td>0</td>\n",
       "      <td>0</td>\n",
       "      <td>...</td>\n",
       "      <td>0</td>\n",
       "      <td>0</td>\n",
       "      <td>0</td>\n",
       "      <td>0</td>\n",
       "      <td>1</td>\n",
       "      <td>0</td>\n",
       "      <td>0</td>\n",
       "      <td>0</td>\n",
       "      <td>0</td>\n",
       "      <td>0</td>\n",
       "    </tr>\n",
       "  </tbody>\n",
       "</table>\n",
       "<p>5 rows × 163 columns</p>\n",
       "</div>"
      ],
      "text/plain": [
       "   Country_Afghanistan  Country_Albania  Country_Algeria  Country_Andorra  \\\n",
       "0                    1                0                0                0   \n",
       "1                    0                1                0                0   \n",
       "2                    0                0                1                0   \n",
       "3                    0                0                0                1   \n",
       "4                    0                0                0                0   \n",
       "\n",
       "   Country_Angola  Country_Antigua and Barbuda  Country_Argentina  \\\n",
       "0               0                            0                  0   \n",
       "1               0                            0                  0   \n",
       "2               0                            0                  0   \n",
       "3               0                            0                  0   \n",
       "4               1                            0                  0   \n",
       "\n",
       "   Country_Armenia  Country_Azerbaijan  Country_Bahamas  ...  \\\n",
       "0                0                   0                0  ...   \n",
       "1                0                   0                0  ...   \n",
       "2                0                   0                0  ...   \n",
       "3                0                   0                0  ...   \n",
       "4                0                   0                0  ...   \n",
       "\n",
       "   Country_Venezuela (Bolivarian Republic of)  Country_Yemen  Country_Zambia  \\\n",
       "0                                           0              0               0   \n",
       "1                                           0              0               0   \n",
       "2                                           0              0               0   \n",
       "3                                           0              0               0   \n",
       "4                                           0              0               0   \n",
       "\n",
       "   Country_Zimbabwe  Region_Africa  Region_Americas  \\\n",
       "0                 0              0                0   \n",
       "1                 0              0                0   \n",
       "2                 0              1                0   \n",
       "3                 0              0                0   \n",
       "4                 0              1                0   \n",
       "\n",
       "   Region_Eastern Mediterranean  Region_Europe  Region_South-East Asia  \\\n",
       "0                             1              0                       0   \n",
       "1                             0              1                       0   \n",
       "2                             0              0                       0   \n",
       "3                             0              1                       0   \n",
       "4                             0              0                       0   \n",
       "\n",
       "   Region_Western Pacific  \n",
       "0                       0  \n",
       "1                       0  \n",
       "2                       0  \n",
       "3                       0  \n",
       "4                       0  \n",
       "\n",
       "[5 rows x 163 columns]"
      ]
     },
     "execution_count": 35,
     "metadata": {},
     "output_type": "execute_result"
    }
   ],
   "source": [
    "dummy=x_d.select_dtypes('uint8')\n",
    "dummy.head()"
   ]
  },
  {
   "cell_type": "code",
   "execution_count": 36,
   "id": "25af80bb-c011-4b9b-8fb0-20368b156e5f",
   "metadata": {},
   "outputs": [],
   "source": [
    "x_n=x_d.select_dtypes(['float64','int64'])"
   ]
  },
  {
   "cell_type": "code",
   "execution_count": 39,
   "id": "d2fda50a-77aa-4780-a469-82a953f699fd",
   "metadata": {},
   "outputs": [],
   "source": [
    "sca=StandardScaler()\n",
    "x_new=pd.DataFrame(data=sca.fit_transform(x_n),columns=x_n.columns)"
   ]
  },
  {
   "cell_type": "code",
   "execution_count": 40,
   "id": "3fbb3421-3a04-4418-8895-445c5fa5c358",
   "metadata": {},
   "outputs": [
    {
     "data": {
      "text/html": [
       "<div>\n",
       "<style scoped>\n",
       "    .dataframe tbody tr th:only-of-type {\n",
       "        vertical-align: middle;\n",
       "    }\n",
       "\n",
       "    .dataframe tbody tr th {\n",
       "        vertical-align: top;\n",
       "    }\n",
       "\n",
       "    .dataframe thead th {\n",
       "        text-align: right;\n",
       "    }\n",
       "</style>\n",
       "<table border=\"1\" class=\"dataframe\">\n",
       "  <thead>\n",
       "    <tr style=\"text-align: right;\">\n",
       "      <th></th>\n",
       "      <th>Population</th>\n",
       "      <th>Under15</th>\n",
       "      <th>Over60</th>\n",
       "      <th>ChildMortality</th>\n",
       "      <th>CellularSubscribers</th>\n",
       "      <th>LiteracyRate</th>\n",
       "      <th>GNI</th>\n",
       "    </tr>\n",
       "  </thead>\n",
       "  <tbody>\n",
       "    <tr>\n",
       "      <th>0</th>\n",
       "      <td>1.440392</td>\n",
       "      <td>1.670178</td>\n",
       "      <td>-0.993452</td>\n",
       "      <td>1.544686</td>\n",
       "      <td>-0.679493</td>\n",
       "      <td>-1.130528</td>\n",
       "      <td>-0.732466</td>\n",
       "    </tr>\n",
       "    <tr>\n",
       "      <th>1</th>\n",
       "      <td>-0.586588</td>\n",
       "      <td>-0.867036</td>\n",
       "      <td>0.748069</td>\n",
       "      <td>-0.596698</td>\n",
       "      <td>0.249361</td>\n",
       "      <td>-1.130528</td>\n",
       "      <td>0.203917</td>\n",
       "    </tr>\n",
       "    <tr>\n",
       "      <th>2</th>\n",
       "      <td>2.098516</td>\n",
       "      <td>-0.274792</td>\n",
       "      <td>-0.468331</td>\n",
       "      <td>-0.510310</td>\n",
       "      <td>0.306684</td>\n",
       "      <td>-1.130528</td>\n",
       "      <td>0.141736</td>\n",
       "    </tr>\n",
       "    <tr>\n",
       "      <th>3</th>\n",
       "      <td>-0.821040</td>\n",
       "      <td>-1.463169</td>\n",
       "      <td>1.991117</td>\n",
       "      <td>-0.950105</td>\n",
       "      <td>-0.211428</td>\n",
       "      <td>-1.130528</td>\n",
       "      <td>-0.871460</td>\n",
       "    </tr>\n",
       "    <tr>\n",
       "      <th>4</th>\n",
       "      <td>0.755888</td>\n",
       "      <td>1.685738</td>\n",
       "      <td>-0.990317</td>\n",
       "      <td>3.246275</td>\n",
       "      <td>-0.809131</td>\n",
       "      <td>0.486609</td>\n",
       "      <td>-0.233793</td>\n",
       "    </tr>\n",
       "  </tbody>\n",
       "</table>\n",
       "</div>"
      ],
      "text/plain": [
       "   Population   Under15    Over60  ChildMortality  CellularSubscribers  \\\n",
       "0    1.440392  1.670178 -0.993452        1.544686            -0.679493   \n",
       "1   -0.586588 -0.867036  0.748069       -0.596698             0.249361   \n",
       "2    2.098516 -0.274792 -0.468331       -0.510310             0.306684   \n",
       "3   -0.821040 -1.463169  1.991117       -0.950105            -0.211428   \n",
       "4    0.755888  1.685738 -0.990317        3.246275            -0.809131   \n",
       "\n",
       "   LiteracyRate       GNI  \n",
       "0     -1.130528 -0.732466  \n",
       "1     -1.130528  0.203917  \n",
       "2     -1.130528  0.141736  \n",
       "3     -1.130528 -0.871460  \n",
       "4      0.486609 -0.233793  "
      ]
     },
     "execution_count": 40,
     "metadata": {},
     "output_type": "execute_result"
    }
   ],
   "source": [
    "x_new.head()"
   ]
  },
  {
   "cell_type": "code",
   "execution_count": 41,
   "id": "9960da38-cb3c-48c4-991e-5de3e1c1e82f",
   "metadata": {},
   "outputs": [],
   "source": [
    "final=pd.concat((x_new,dummy), axis=1)"
   ]
  },
  {
   "cell_type": "code",
   "execution_count": 45,
   "id": "2c4c92f7-2583-42ca-9880-b29a2305cf93",
   "metadata": {},
   "outputs": [
    {
     "data": {
      "text/html": [
       "<div>\n",
       "<style scoped>\n",
       "    .dataframe tbody tr th:only-of-type {\n",
       "        vertical-align: middle;\n",
       "    }\n",
       "\n",
       "    .dataframe tbody tr th {\n",
       "        vertical-align: top;\n",
       "    }\n",
       "\n",
       "    .dataframe thead th {\n",
       "        text-align: right;\n",
       "    }\n",
       "</style>\n",
       "<table border=\"1\" class=\"dataframe\">\n",
       "  <thead>\n",
       "    <tr style=\"text-align: right;\">\n",
       "      <th></th>\n",
       "      <th>Population</th>\n",
       "      <th>Under15</th>\n",
       "      <th>Over60</th>\n",
       "      <th>ChildMortality</th>\n",
       "      <th>CellularSubscribers</th>\n",
       "      <th>LiteracyRate</th>\n",
       "      <th>GNI</th>\n",
       "      <th>Country_Afghanistan</th>\n",
       "      <th>Country_Albania</th>\n",
       "      <th>Country_Algeria</th>\n",
       "      <th>...</th>\n",
       "      <th>Country_Venezuela (Bolivarian Republic of)</th>\n",
       "      <th>Country_Yemen</th>\n",
       "      <th>Country_Zambia</th>\n",
       "      <th>Country_Zimbabwe</th>\n",
       "      <th>Region_Africa</th>\n",
       "      <th>Region_Americas</th>\n",
       "      <th>Region_Eastern Mediterranean</th>\n",
       "      <th>Region_Europe</th>\n",
       "      <th>Region_South-East Asia</th>\n",
       "      <th>Region_Western Pacific</th>\n",
       "    </tr>\n",
       "  </thead>\n",
       "  <tbody>\n",
       "    <tr>\n",
       "      <th>0</th>\n",
       "      <td>1.440392</td>\n",
       "      <td>1.670178</td>\n",
       "      <td>-0.993452</td>\n",
       "      <td>1.544686</td>\n",
       "      <td>-0.679493</td>\n",
       "      <td>-1.130528</td>\n",
       "      <td>-0.732466</td>\n",
       "      <td>1</td>\n",
       "      <td>0</td>\n",
       "      <td>0</td>\n",
       "      <td>...</td>\n",
       "      <td>0</td>\n",
       "      <td>0</td>\n",
       "      <td>0</td>\n",
       "      <td>0</td>\n",
       "      <td>0</td>\n",
       "      <td>0</td>\n",
       "      <td>1</td>\n",
       "      <td>0</td>\n",
       "      <td>0</td>\n",
       "      <td>0</td>\n",
       "    </tr>\n",
       "    <tr>\n",
       "      <th>1</th>\n",
       "      <td>-0.586588</td>\n",
       "      <td>-0.867036</td>\n",
       "      <td>0.748069</td>\n",
       "      <td>-0.596698</td>\n",
       "      <td>0.249361</td>\n",
       "      <td>-1.130528</td>\n",
       "      <td>0.203917</td>\n",
       "      <td>0</td>\n",
       "      <td>1</td>\n",
       "      <td>0</td>\n",
       "      <td>...</td>\n",
       "      <td>0</td>\n",
       "      <td>0</td>\n",
       "      <td>0</td>\n",
       "      <td>0</td>\n",
       "      <td>0</td>\n",
       "      <td>0</td>\n",
       "      <td>0</td>\n",
       "      <td>1</td>\n",
       "      <td>0</td>\n",
       "      <td>0</td>\n",
       "    </tr>\n",
       "    <tr>\n",
       "      <th>2</th>\n",
       "      <td>2.098516</td>\n",
       "      <td>-0.274792</td>\n",
       "      <td>-0.468331</td>\n",
       "      <td>-0.510310</td>\n",
       "      <td>0.306684</td>\n",
       "      <td>-1.130528</td>\n",
       "      <td>0.141736</td>\n",
       "      <td>0</td>\n",
       "      <td>0</td>\n",
       "      <td>1</td>\n",
       "      <td>...</td>\n",
       "      <td>0</td>\n",
       "      <td>0</td>\n",
       "      <td>0</td>\n",
       "      <td>0</td>\n",
       "      <td>1</td>\n",
       "      <td>0</td>\n",
       "      <td>0</td>\n",
       "      <td>0</td>\n",
       "      <td>0</td>\n",
       "      <td>0</td>\n",
       "    </tr>\n",
       "    <tr>\n",
       "      <th>3</th>\n",
       "      <td>-0.821040</td>\n",
       "      <td>-1.463169</td>\n",
       "      <td>1.991117</td>\n",
       "      <td>-0.950105</td>\n",
       "      <td>-0.211428</td>\n",
       "      <td>-1.130528</td>\n",
       "      <td>-0.871460</td>\n",
       "      <td>0</td>\n",
       "      <td>0</td>\n",
       "      <td>0</td>\n",
       "      <td>...</td>\n",
       "      <td>0</td>\n",
       "      <td>0</td>\n",
       "      <td>0</td>\n",
       "      <td>0</td>\n",
       "      <td>0</td>\n",
       "      <td>0</td>\n",
       "      <td>0</td>\n",
       "      <td>1</td>\n",
       "      <td>0</td>\n",
       "      <td>0</td>\n",
       "    </tr>\n",
       "    <tr>\n",
       "      <th>4</th>\n",
       "      <td>0.755888</td>\n",
       "      <td>1.685738</td>\n",
       "      <td>-0.990317</td>\n",
       "      <td>3.246275</td>\n",
       "      <td>-0.809131</td>\n",
       "      <td>0.486609</td>\n",
       "      <td>-0.233793</td>\n",
       "      <td>0</td>\n",
       "      <td>0</td>\n",
       "      <td>0</td>\n",
       "      <td>...</td>\n",
       "      <td>0</td>\n",
       "      <td>0</td>\n",
       "      <td>0</td>\n",
       "      <td>0</td>\n",
       "      <td>1</td>\n",
       "      <td>0</td>\n",
       "      <td>0</td>\n",
       "      <td>0</td>\n",
       "      <td>0</td>\n",
       "      <td>0</td>\n",
       "    </tr>\n",
       "  </tbody>\n",
       "</table>\n",
       "<p>5 rows × 170 columns</p>\n",
       "</div>"
      ],
      "text/plain": [
       "   Population   Under15    Over60  ChildMortality  CellularSubscribers  \\\n",
       "0    1.440392  1.670178 -0.993452        1.544686            -0.679493   \n",
       "1   -0.586588 -0.867036  0.748069       -0.596698             0.249361   \n",
       "2    2.098516 -0.274792 -0.468331       -0.510310             0.306684   \n",
       "3   -0.821040 -1.463169  1.991117       -0.950105            -0.211428   \n",
       "4    0.755888  1.685738 -0.990317        3.246275            -0.809131   \n",
       "\n",
       "   LiteracyRate       GNI  Country_Afghanistan  Country_Albania  \\\n",
       "0     -1.130528 -0.732466                    1                0   \n",
       "1     -1.130528  0.203917                    0                1   \n",
       "2     -1.130528  0.141736                    0                0   \n",
       "3     -1.130528 -0.871460                    0                0   \n",
       "4      0.486609 -0.233793                    0                0   \n",
       "\n",
       "   Country_Algeria  ...  Country_Venezuela (Bolivarian Republic of)  \\\n",
       "0                0  ...                                           0   \n",
       "1                0  ...                                           0   \n",
       "2                1  ...                                           0   \n",
       "3                0  ...                                           0   \n",
       "4                0  ...                                           0   \n",
       "\n",
       "   Country_Yemen  Country_Zambia  Country_Zimbabwe  Region_Africa  \\\n",
       "0              0               0                 0              0   \n",
       "1              0               0                 0              0   \n",
       "2              0               0                 0              1   \n",
       "3              0               0                 0              0   \n",
       "4              0               0                 0              1   \n",
       "\n",
       "   Region_Americas  Region_Eastern Mediterranean  Region_Europe  \\\n",
       "0                0                             1              0   \n",
       "1                0                             0              1   \n",
       "2                0                             0              0   \n",
       "3                0                             0              1   \n",
       "4                0                             0              0   \n",
       "\n",
       "   Region_South-East Asia  Region_Western Pacific  \n",
       "0                       0                       0  \n",
       "1                       0                       0  \n",
       "2                       0                       0  \n",
       "3                       0                       0  \n",
       "4                       0                       0  \n",
       "\n",
       "[5 rows x 170 columns]"
      ]
     },
     "execution_count": 45,
     "metadata": {},
     "output_type": "execute_result"
    }
   ],
   "source": [
    "final.head()"
   ]
  },
  {
   "cell_type": "code",
   "execution_count": 50,
   "id": "223e6c43-9620-4a84-a182-ed935c55f1cb",
   "metadata": {},
   "outputs": [],
   "source": [
    "x_train,x_test,y_train,y_test=train_test_split(final,y,test_size=0.3,random_state=4)"
   ]
  },
  {
   "cell_type": "code",
   "execution_count": 51,
   "id": "9ae181bb-76f7-46f7-a08f-f9103cfdea23",
   "metadata": {},
   "outputs": [
    {
     "data": {
      "text/plain": [
       "LinearRegression()"
      ]
     },
     "execution_count": 51,
     "metadata": {},
     "output_type": "execute_result"
    }
   ],
   "source": [
    "model1=LinearRegression()\n",
    "model1.fit(x_train, y_train)"
   ]
  },
  {
   "cell_type": "code",
   "execution_count": 52,
   "id": "d6cf1913-bf3c-4dc9-a7e2-74e356e53430",
   "metadata": {},
   "outputs": [],
   "source": [
    "pre1=model1.predict(x_test)"
   ]
  },
  {
   "cell_type": "code",
   "execution_count": 53,
   "id": "becb45f3-bd49-44e9-9503-8e1ee6bd4190",
   "metadata": {},
   "outputs": [
    {
     "data": {
      "text/plain": [
       "1.0"
      ]
     },
     "execution_count": 53,
     "metadata": {},
     "output_type": "execute_result"
    }
   ],
   "source": [
    "model1.score(x_train, y_train)"
   ]
  },
  {
   "cell_type": "code",
   "execution_count": 54,
   "id": "16f15c91-d887-4917-bbe8-496c92e02e4e",
   "metadata": {},
   "outputs": [
    {
     "data": {
      "text/plain": [
       "0.8630415402569149"
      ]
     },
     "execution_count": 54,
     "metadata": {},
     "output_type": "execute_result"
    }
   ],
   "source": [
    "model1.score(x_test, y_test)"
   ]
  },
  {
   "cell_type": "code",
   "execution_count": null,
   "id": "1dc1e377-afb0-45b5-b1f9-0c93306aa830",
   "metadata": {},
   "outputs": [],
   "source": []
  },
  {
   "cell_type": "code",
   "execution_count": null,
   "id": "4994cf18",
   "metadata": {},
   "outputs": [],
   "source": []
  },
  {
   "cell_type": "code",
   "execution_count": 19,
   "id": "d87764f0",
   "metadata": {},
   "outputs": [],
   "source": [
    "import pandas as pd\n",
    "import numpy as np\n",
    "from matplotlib import pyplot as plt\n",
    "%matplotlib inline\n",
    "import seaborn as sns\n",
    "from sklearn.model_selection import train_test_split, GridSearchCV\n",
    "from sklearn.linear_model import LinearRegression, Ridge, Lasso\n",
    "from sklearn.preprocessing import StandardScaler, PolynomialFeatures\n",
    "from sklearn.datasets import load_boston\n",
    "import warnings \n",
    "warnings.filterwarnings('ignore')"
   ]
  },
  {
   "cell_type": "code",
   "execution_count": 20,
   "id": "cb379750",
   "metadata": {},
   "outputs": [
    {
     "data": {
      "text/plain": [
       "dict_keys(['data', 'target', 'feature_names', 'DESCR', 'filename', 'data_module'])"
      ]
     },
     "execution_count": 20,
     "metadata": {},
     "output_type": "execute_result"
    }
   ],
   "source": [
    "dataset = load_boston()\n",
    "dataset.keys()"
   ]
  },
  {
   "cell_type": "code",
   "execution_count": 21,
   "id": "8b44ee04",
   "metadata": {},
   "outputs": [
    {
     "data": {
      "text/html": [
       "<div>\n",
       "<style scoped>\n",
       "    .dataframe tbody tr th:only-of-type {\n",
       "        vertical-align: middle;\n",
       "    }\n",
       "\n",
       "    .dataframe tbody tr th {\n",
       "        vertical-align: top;\n",
       "    }\n",
       "\n",
       "    .dataframe thead th {\n",
       "        text-align: right;\n",
       "    }\n",
       "</style>\n",
       "<table border=\"1\" class=\"dataframe\">\n",
       "  <thead>\n",
       "    <tr style=\"text-align: right;\">\n",
       "      <th></th>\n",
       "      <th>CRIM</th>\n",
       "      <th>ZN</th>\n",
       "      <th>INDUS</th>\n",
       "      <th>CHAS</th>\n",
       "      <th>NOX</th>\n",
       "      <th>RM</th>\n",
       "      <th>AGE</th>\n",
       "      <th>DIS</th>\n",
       "      <th>RAD</th>\n",
       "      <th>TAX</th>\n",
       "      <th>PTRATIO</th>\n",
       "      <th>B</th>\n",
       "      <th>LSTAT</th>\n",
       "    </tr>\n",
       "  </thead>\n",
       "  <tbody>\n",
       "    <tr>\n",
       "      <th>0</th>\n",
       "      <td>0.00632</td>\n",
       "      <td>18.0</td>\n",
       "      <td>2.31</td>\n",
       "      <td>0.0</td>\n",
       "      <td>0.538</td>\n",
       "      <td>6.575</td>\n",
       "      <td>65.2</td>\n",
       "      <td>4.0900</td>\n",
       "      <td>1.0</td>\n",
       "      <td>296.0</td>\n",
       "      <td>15.3</td>\n",
       "      <td>396.90</td>\n",
       "      <td>4.98</td>\n",
       "    </tr>\n",
       "    <tr>\n",
       "      <th>1</th>\n",
       "      <td>0.02731</td>\n",
       "      <td>0.0</td>\n",
       "      <td>7.07</td>\n",
       "      <td>0.0</td>\n",
       "      <td>0.469</td>\n",
       "      <td>6.421</td>\n",
       "      <td>78.9</td>\n",
       "      <td>4.9671</td>\n",
       "      <td>2.0</td>\n",
       "      <td>242.0</td>\n",
       "      <td>17.8</td>\n",
       "      <td>396.90</td>\n",
       "      <td>9.14</td>\n",
       "    </tr>\n",
       "    <tr>\n",
       "      <th>2</th>\n",
       "      <td>0.02729</td>\n",
       "      <td>0.0</td>\n",
       "      <td>7.07</td>\n",
       "      <td>0.0</td>\n",
       "      <td>0.469</td>\n",
       "      <td>7.185</td>\n",
       "      <td>61.1</td>\n",
       "      <td>4.9671</td>\n",
       "      <td>2.0</td>\n",
       "      <td>242.0</td>\n",
       "      <td>17.8</td>\n",
       "      <td>392.83</td>\n",
       "      <td>4.03</td>\n",
       "    </tr>\n",
       "    <tr>\n",
       "      <th>3</th>\n",
       "      <td>0.03237</td>\n",
       "      <td>0.0</td>\n",
       "      <td>2.18</td>\n",
       "      <td>0.0</td>\n",
       "      <td>0.458</td>\n",
       "      <td>6.998</td>\n",
       "      <td>45.8</td>\n",
       "      <td>6.0622</td>\n",
       "      <td>3.0</td>\n",
       "      <td>222.0</td>\n",
       "      <td>18.7</td>\n",
       "      <td>394.63</td>\n",
       "      <td>2.94</td>\n",
       "    </tr>\n",
       "    <tr>\n",
       "      <th>4</th>\n",
       "      <td>0.06905</td>\n",
       "      <td>0.0</td>\n",
       "      <td>2.18</td>\n",
       "      <td>0.0</td>\n",
       "      <td>0.458</td>\n",
       "      <td>7.147</td>\n",
       "      <td>54.2</td>\n",
       "      <td>6.0622</td>\n",
       "      <td>3.0</td>\n",
       "      <td>222.0</td>\n",
       "      <td>18.7</td>\n",
       "      <td>396.90</td>\n",
       "      <td>5.33</td>\n",
       "    </tr>\n",
       "  </tbody>\n",
       "</table>\n",
       "</div>"
      ],
      "text/plain": [
       "      CRIM    ZN  INDUS  CHAS    NOX     RM   AGE     DIS  RAD    TAX  \\\n",
       "0  0.00632  18.0   2.31   0.0  0.538  6.575  65.2  4.0900  1.0  296.0   \n",
       "1  0.02731   0.0   7.07   0.0  0.469  6.421  78.9  4.9671  2.0  242.0   \n",
       "2  0.02729   0.0   7.07   0.0  0.469  7.185  61.1  4.9671  2.0  242.0   \n",
       "3  0.03237   0.0   2.18   0.0  0.458  6.998  45.8  6.0622  3.0  222.0   \n",
       "4  0.06905   0.0   2.18   0.0  0.458  7.147  54.2  6.0622  3.0  222.0   \n",
       "\n",
       "   PTRATIO       B  LSTAT  \n",
       "0     15.3  396.90   4.98  \n",
       "1     17.8  396.90   9.14  \n",
       "2     17.8  392.83   4.03  \n",
       "3     18.7  394.63   2.94  \n",
       "4     18.7  396.90   5.33  "
      ]
     },
     "execution_count": 21,
     "metadata": {},
     "output_type": "execute_result"
    }
   ],
   "source": [
    "x = pd.DataFrame(dataset.data, columns = dataset.feature_names)\n",
    "x.head()"
   ]
  },
  {
   "cell_type": "code",
   "execution_count": 22,
   "id": "e5cef644",
   "metadata": {},
   "outputs": [
    {
     "data": {
      "text/html": [
       "<div>\n",
       "<style scoped>\n",
       "    .dataframe tbody tr th:only-of-type {\n",
       "        vertical-align: middle;\n",
       "    }\n",
       "\n",
       "    .dataframe tbody tr th {\n",
       "        vertical-align: top;\n",
       "    }\n",
       "\n",
       "    .dataframe thead th {\n",
       "        text-align: right;\n",
       "    }\n",
       "</style>\n",
       "<table border=\"1\" class=\"dataframe\">\n",
       "  <thead>\n",
       "    <tr style=\"text-align: right;\">\n",
       "      <th></th>\n",
       "      <th>target</th>\n",
       "    </tr>\n",
       "  </thead>\n",
       "  <tbody>\n",
       "    <tr>\n",
       "      <th>0</th>\n",
       "      <td>24.0</td>\n",
       "    </tr>\n",
       "    <tr>\n",
       "      <th>1</th>\n",
       "      <td>21.6</td>\n",
       "    </tr>\n",
       "    <tr>\n",
       "      <th>2</th>\n",
       "      <td>34.7</td>\n",
       "    </tr>\n",
       "    <tr>\n",
       "      <th>3</th>\n",
       "      <td>33.4</td>\n",
       "    </tr>\n",
       "    <tr>\n",
       "      <th>4</th>\n",
       "      <td>36.2</td>\n",
       "    </tr>\n",
       "  </tbody>\n",
       "</table>\n",
       "</div>"
      ],
      "text/plain": [
       "   target\n",
       "0    24.0\n",
       "1    21.6\n",
       "2    34.7\n",
       "3    33.4\n",
       "4    36.2"
      ]
     },
     "execution_count": 22,
     "metadata": {},
     "output_type": "execute_result"
    }
   ],
   "source": [
    "y =  pd.DataFrame(dataset.target, columns = [\"target\"])\n",
    "y.head()"
   ]
  },
  {
   "cell_type": "code",
   "execution_count": 23,
   "id": "9b9bb5b5",
   "metadata": {},
   "outputs": [
    {
     "data": {
      "text/plain": [
       "array([ 0.63919994,  0.71386698,  0.58702344,  0.07923081, -0.25294154])"
      ]
     },
     "execution_count": 23,
     "metadata": {},
     "output_type": "execute_result"
    }
   ],
   "source": [
    "reg_model = LinearRegression()\n",
    "from sklearn.model_selection import cross_val_score\n",
    "all_scores = cross_val_score(reg_model, x, y, cv = 5)\n",
    "all_scores"
   ]
  },
  {
   "cell_type": "code",
   "execution_count": 24,
   "id": "7e3a6ce2",
   "metadata": {},
   "outputs": [
    {
     "data": {
      "text/plain": [
       "0.3532759243958806"
      ]
     },
     "execution_count": 24,
     "metadata": {},
     "output_type": "execute_result"
    }
   ],
   "source": [
    "mean_score = np.mean(all_scores)\n",
    "mean_score"
   ]
  },
  {
   "cell_type": "code",
   "execution_count": 27,
   "id": "ca0166b2",
   "metadata": {},
   "outputs": [
    {
     "data": {
      "text/plain": [
       "GridSearchCV(cv=5, estimator=Ridge(),\n",
       "             param_grid={'alpha': [1e-10, 1e-05, 0.001, 0.01, 1, 2, 3, 5, 7, 9,\n",
       "                                   10, 15, 20, 50, 100]})"
      ]
     },
     "execution_count": 27,
     "metadata": {},
     "output_type": "execute_result"
    }
   ],
   "source": [
    "ridge_model = Ridge()\n",
    "param = {\"alpha\":[1e-10,1e-5,1e-3,1e-2,1,2,3,5,7,9,10,15,20,50,100]}\n",
    "ridge_model_grid = GridSearchCV(ridge_model, param_grid = param, cv = 5)\n",
    "ridge_model_all_scores = ridge_model_grid.fit( x, y)\n",
    "ridge_model_all_scores"
   ]
  },
  {
   "cell_type": "code",
   "execution_count": 28,
   "id": "f2bba243",
   "metadata": {},
   "outputs": [
    {
     "name": "stdout",
     "output_type": "stream",
     "text": [
      "ridge_model_all_scores parameter {'alpha': 100}\n",
      "ridge_model_all_scores best_scor 0.49317490373430956\n",
      "ridge_model_all_scores best_estimator Ridge(alpha=100)\n"
     ]
    }
   ],
   "source": [
    "print(\"ridge_model_all_scores parameter\",ridge_model_all_scores.best_params_)\n",
    "print(\"ridge_model_all_scores best_scor\",ridge_model_all_scores.best_score_)\n",
    "print(\"ridge_model_all_scores best_estimator\",ridge_model_all_scores.best_estimator_)\n"
   ]
  },
  {
   "cell_type": "code",
   "execution_count": 30,
   "id": "882a6514",
   "metadata": {},
   "outputs": [
    {
     "data": {
      "text/plain": [
       "GridSearchCV(cv=5, estimator=Lasso(),\n",
       "             param_grid={'alpha': [1e-10, 1e-05, 0.001, 0.01, 1, 2, 3, 5, 7, 9,\n",
       "                                   10, 15, 20, 50, 100]})"
      ]
     },
     "execution_count": 30,
     "metadata": {},
     "output_type": "execute_result"
    }
   ],
   "source": [
    "lasso_model = Lasso()\n",
    "param = {\"alpha\":[1e-10,1e-5,1e-3,1e-2,1,2,3,5,7,9,10,15,20,50,100]}\n",
    "lasso_model_grid = GridSearchCV(lasso_model, param_grid = param, cv = 5)\n",
    "lasso_model_all_scores = lasso_model_grid.fit(x, y)\n",
    "lasso_model_all_scores"
   ]
  },
  {
   "cell_type": "code",
   "execution_count": 31,
   "id": "74447d8f",
   "metadata": {},
   "outputs": [
    {
     "name": "stdout",
     "output_type": "stream",
     "text": [
      "lasso_model_all_scores parameter {'alpha': 1}\n",
      "lasso_model_all_scores best_scor 0.431848787926522\n",
      "lasso_model_all_scores best_estimator Lasso(alpha=1)\n"
     ]
    }
   ],
   "source": [
    "print(\"lasso_model_all_scores parameter\",lasso_model_all_scores.best_params_)\n",
    "print(\"lasso_model_all_scores best_scor\",lasso_model_all_scores.best_score_)\n",
    "print(\"lasso_model_all_scores best_estimator\",lasso_model_all_scores.best_estimator_)\n"
   ]
  },
  {
   "cell_type": "code",
   "execution_count": 15,
   "id": "e1621278",
   "metadata": {},
   "outputs": [
    {
     "data": {
      "text/plain": [
       "((404, 13), (102, 13), (404, 1), (102, 1))"
      ]
     },
     "execution_count": 15,
     "metadata": {},
     "output_type": "execute_result"
    }
   ],
   "source": [
    "x_train,x_test,y_train,y_test=train_test_split(x,y,test_size=0.2,random_state=4,shuffle= True)\n",
    "x_train.shape ,x_test.shape,y_train.shape,y_test.shape"
   ]
  },
  {
   "cell_type": "code",
   "execution_count": 44,
   "id": "19f63094",
   "metadata": {},
   "outputs": [
    {
     "data": {
      "text/plain": [
       "(102,)"
      ]
     },
     "execution_count": 44,
     "metadata": {},
     "output_type": "execute_result"
    }
   ],
   "source": [
    "ridge_model = Ridge(alpha=100).fit(x_train,y_train)\n",
    "ridge_model_y_pred = ridge_model.predict(x_test)\n",
    "ridge_model_y_pred[:,-1].shape"
   ]
  },
  {
   "cell_type": "code",
   "execution_count": 42,
   "id": "86653e8a",
   "metadata": {},
   "outputs": [
    {
     "data": {
      "image/png": "[encoded data removed]",
      "text/plain": [
       "<Figure size 640x480 with 1 Axes>"
      ]
     },
     "metadata": {},
     "output_type": "display_data"
    }
   ],
   "source": [
    "sns.distplot(y_test-ridge_model_y_pred);"
   ]
  },
  {
   "cell_type": "code",
   "execution_count": 48,
   "id": "0c625fb8",
   "metadata": {},
   "outputs": [
    {
     "data": {
      "text/plain": [
       "(102,)"
      ]
     },
     "execution_count": 48,
     "metadata": {},
     "output_type": "execute_result"
    }
   ],
   "source": [
    "lasso_model = Lasso(alpha=1).fit(x_train,y_train)\n",
    "lasso_model_y_pred = lasso_model.predict(x_test)\n",
    "lasso_model_y_pred.shape"
   ]
  },
  {
   "cell_type": "code",
   "execution_count": 50,
   "id": "f70402ed",
   "metadata": {},
   "outputs": [
    {
     "data": {
      "image/png": "[encoded data removed]",
      "text/plain": [
       "<Figure size 640x480 with 1 Axes>"
      ]
     },
     "metadata": {},
     "output_type": "display_data"
    }
   ],
   "source": [
    "sns.distplot(y_test.to_numpy()-ridge_model_y_pred);"
   ]
  },
  {
   "cell_type": "code",
   "execution_count": 51,
   "id": "50e85a62",
   "metadata": {},
   "outputs": [
    {
     "data": {
      "text/plain": [
       "(102, 1)"
      ]
     },
     "execution_count": 51,
     "metadata": {},
     "output_type": "execute_result"
    }
   ],
   "source": [
    "y_test.to_numpy().shape"
   ]
  },
  {
   "cell_type": "code",
   "execution_count": null,
   "id": "388fbf1d",
   "metadata": {},
   "outputs": [],
   "source": []
  }
 ],
 "metadata": {
  "kernelspec": {
   "display_name": "Python 3 (ipykernel)",
   "language": "python",
   "name": "python3"
  },
  "language_info": {
   "codemirror_mode": {
    "name": "ipython",
    "version": 3
   },
   "file_extension": ".py",
   "mimetype": "text/x-python",
   "name": "python",
   "nbconvert_exporter": "python",
   "pygments_lexer": "ipython3",
   "version": "3.9.13"
  }
 },
 "nbformat": 4,
 "nbformat_minor": 5
}
