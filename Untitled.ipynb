{
 "cells": [
  {
   "cell_type": "code",
   "execution_count": null,
   "id": "7291b2f8-e25f-4b62-8335-09d284b43c2e",
   "metadata": {},
   "outputs": [],
   "source": [
    "pri=\"Hello world\"\n",
    "print(pri[-4:4])"
   ]
  },
  {
   "cell_type": "code",
   "execution_count": null,
   "id": "8ca46784-2a07-47b9-92e2-01090c54b9c4",
   "metadata": {},
   "outputs": [],
   "source": []
  }
 ],
 "metadata": {
  "kernelspec": {
   "display_name": "",
   "name": ""
  },
  "language_info": {
   "name": ""
  }
 },
 "nbformat": 4,
 "nbformat_minor": 5
}
