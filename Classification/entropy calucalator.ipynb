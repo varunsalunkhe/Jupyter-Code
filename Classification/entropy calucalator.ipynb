{
 "cells": [
  {
   "cell_type": "code",
   "execution_count": 1,
   "id": "9fc4d0bd-7371-4404-975d-d2de444ac7b5",
   "metadata": {},
   "outputs": [],
   "source": [
    "import numpy as np"
   ]
  },
  {
   "cell_type": "code",
   "execution_count": 2,
   "id": "1cf2eceb-d987-45d1-adfb-ae7a4eff7ed7",
   "metadata": {},
   "outputs": [],
   "source": [
    "def entropy(x1,x2):\n",
    "    if x1==0 & x2==0:\n",
    "        return 0\n",
    "    p1=x1/(x1+x2)\n",
    "    p2=x2/(x1+x2)\n",
    "    etp=-(p1*np.log2(p1)+p2*np.log2(p2))\n",
    "    return etp"
   ]
  },
  {
   "cell_type": "code",
   "execution_count": 4,
   "id": "7f2654f5-8254-464d-a34e-e191cd1ca866",
   "metadata": {},
   "outputs": [
    {
     "data": {
      "text/plain": [
       "0.94"
      ]
     },
     "execution_count": 4,
     "metadata": {},
     "output_type": "execute_result"
    }
   ],
   "source": [
    "round(entropy(9,5),3)"
   ]
  },
  {
   "cell_type": "code",
   "execution_count": null,
   "id": "e2a77db7-8e01-4de7-b3a9-058b0c12e8ff",
   "metadata": {},
   "outputs": [],
   "source": []
  }
 ],
 "metadata": {
  "kernelspec": {
   "display_name": "Python 3 (ipykernel)",
   "language": "python",
   "name": "python3"
  },
  "language_info": {
   "codemirror_mode": {
    "name": "ipython",
    "version": 3
   },
   "file_extension": ".py",
   "mimetype": "text/x-python",
   "name": "python",
   "nbconvert_exporter": "python",
   "pygments_lexer": "ipython3",
   "version": "3.9.7"
  }
 },
 "nbformat": 4,
 "nbformat_minor": 5
}
