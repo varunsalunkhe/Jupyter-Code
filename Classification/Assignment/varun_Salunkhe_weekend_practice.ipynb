{
 "cells": [
  {
   "cell_type": "code",
   "execution_count": 1,
   "id": "291179b9-632e-410d-b59c-5f750bdd6176",
   "metadata": {},
   "outputs": [],
   "source": [
    "import numpy as np\n",
    "import pandas as pd\n",
    "from matplotlib import pyplot as plt\n",
    "%matplotlib inline"
   ]
  },
  {
   "cell_type": "code",
   "execution_count": 2,
   "id": "5b7a0608-3d7c-4597-86bb-08b8aafab7fd",
   "metadata": {},
   "outputs": [],
   "source": [
    "data=pd.read_csv('pima-indian-diabetes.csv', index_col=0)"
   ]
  },
  {
   "cell_type": "code",
   "execution_count": 3,
   "id": "f9a4fc26-763f-4c28-899a-e9aeeceaa05d",
   "metadata": {},
   "outputs": [
    {
     "data": {
      "text/html": [
       "<div>\n",
       "<style scoped>\n",
       "    .dataframe tbody tr th:only-of-type {\n",
       "        vertical-align: middle;\n",
       "    }\n",
       "\n",
       "    .dataframe tbody tr th {\n",
       "        vertical-align: top;\n",
       "    }\n",
       "\n",
       "    .dataframe thead th {\n",
       "        text-align: right;\n",
       "    }\n",
       "</style>\n",
       "<table border=\"1\" class=\"dataframe\">\n",
       "  <thead>\n",
       "    <tr style=\"text-align: right;\">\n",
       "      <th></th>\n",
       "      <th>148</th>\n",
       "      <th>72</th>\n",
       "      <th>35</th>\n",
       "      <th>0</th>\n",
       "      <th>33.6</th>\n",
       "      <th>0.627</th>\n",
       "      <th>50</th>\n",
       "      <th>1</th>\n",
       "    </tr>\n",
       "    <tr>\n",
       "      <th>6</th>\n",
       "      <th></th>\n",
       "      <th></th>\n",
       "      <th></th>\n",
       "      <th></th>\n",
       "      <th></th>\n",
       "      <th></th>\n",
       "      <th></th>\n",
       "      <th></th>\n",
       "    </tr>\n",
       "  </thead>\n",
       "  <tbody>\n",
       "    <tr>\n",
       "      <th>1</th>\n",
       "      <td>85</td>\n",
       "      <td>66</td>\n",
       "      <td>29</td>\n",
       "      <td>0</td>\n",
       "      <td>26.6</td>\n",
       "      <td>0.351</td>\n",
       "      <td>31</td>\n",
       "      <td>0</td>\n",
       "    </tr>\n",
       "    <tr>\n",
       "      <th>8</th>\n",
       "      <td>183</td>\n",
       "      <td>64</td>\n",
       "      <td>0</td>\n",
       "      <td>0</td>\n",
       "      <td>23.3</td>\n",
       "      <td>0.672</td>\n",
       "      <td>32</td>\n",
       "      <td>1</td>\n",
       "    </tr>\n",
       "    <tr>\n",
       "      <th>1</th>\n",
       "      <td>89</td>\n",
       "      <td>66</td>\n",
       "      <td>23</td>\n",
       "      <td>94</td>\n",
       "      <td>28.1</td>\n",
       "      <td>0.167</td>\n",
       "      <td>21</td>\n",
       "      <td>0</td>\n",
       "    </tr>\n",
       "    <tr>\n",
       "      <th>0</th>\n",
       "      <td>137</td>\n",
       "      <td>40</td>\n",
       "      <td>35</td>\n",
       "      <td>168</td>\n",
       "      <td>43.1</td>\n",
       "      <td>2.288</td>\n",
       "      <td>33</td>\n",
       "      <td>1</td>\n",
       "    </tr>\n",
       "    <tr>\n",
       "      <th>5</th>\n",
       "      <td>116</td>\n",
       "      <td>74</td>\n",
       "      <td>0</td>\n",
       "      <td>0</td>\n",
       "      <td>25.6</td>\n",
       "      <td>0.201</td>\n",
       "      <td>30</td>\n",
       "      <td>0</td>\n",
       "    </tr>\n",
       "  </tbody>\n",
       "</table>\n",
       "</div>"
      ],
      "text/plain": [
       "   148  72  35    0  33.6  0.627  50  1\n",
       "6                                      \n",
       "1   85  66  29    0  26.6  0.351  31  0\n",
       "8  183  64   0    0  23.3  0.672  32  1\n",
       "1   89  66  23   94  28.1  0.167  21  0\n",
       "0  137  40  35  168  43.1  2.288  33  1\n",
       "5  116  74   0    0  25.6  0.201  30  0"
      ]
     },
     "execution_count": 3,
     "metadata": {},
     "output_type": "execute_result"
    }
   ],
   "source": [
    "data.head()"
   ]
  },
  {
   "cell_type": "code",
   "execution_count": 4,
   "id": "e97ab8c6-e9a6-4440-a0e6-a852c47d2aa3",
   "metadata": {},
   "outputs": [
    {
     "name": "stdout",
     "output_type": "stream",
     "text": [
      "<class 'pandas.core.frame.DataFrame'>\n",
      "Int64Index: 767 entries, 1 to 1\n",
      "Data columns (total 8 columns):\n",
      " #   Column  Non-Null Count  Dtype  \n",
      "---  ------  --------------  -----  \n",
      " 0   148     767 non-null    int64  \n",
      " 1   72      767 non-null    int64  \n",
      " 2   35      767 non-null    int64  \n",
      " 3   0       767 non-null    int64  \n",
      " 4   33.6    767 non-null    float64\n",
      " 5   0.627   767 non-null    float64\n",
      " 6   50      767 non-null    int64  \n",
      " 7   1       767 non-null    int64  \n",
      "dtypes: float64(2), int64(6)\n",
      "memory usage: 53.9 KB\n"
     ]
    }
   ],
   "source": [
    "data.info()"
   ]
  },
  {
   "cell_type": "code",
   "execution_count": 5,
   "id": "f3feeb99-1431-418a-af16-0173d83b9422",
   "metadata": {},
   "outputs": [
    {
     "data": {
      "text/plain": [
       "((767, 7), (767,))"
      ]
     },
     "execution_count": 5,
     "metadata": {},
     "output_type": "execute_result"
    }
   ],
   "source": [
    "x=data.iloc[:,:-1]\n",
    "y=data.iloc[:,-1]\n",
    "x.shape,y.shape"
   ]
  },
  {
   "cell_type": "code",
   "execution_count": 6,
   "id": "672738b0-942f-4260-a05f-4e3493d62bb3",
   "metadata": {},
   "outputs": [],
   "source": [
    "from sklearn.model_selection import train_test_split, GridSearchCV\n",
    "train_x,test_x,train_y,test_y=train_test_split(x,y,test_size=0.2, random_state=30)"
   ]
  },
  {
   "cell_type": "code",
   "execution_count": 7,
   "id": "b5de4259-c062-4cfb-a844-50fc9fd51a7d",
   "metadata": {},
   "outputs": [
    {
     "data": {
      "text/plain": [
       "((613, 7), (154, 7), (613,), (154,))"
      ]
     },
     "execution_count": 7,
     "metadata": {},
     "output_type": "execute_result"
    }
   ],
   "source": [
    "train_x.shape,test_x.shape,train_y.shape,test_y.shape"
   ]
  },
  {
   "cell_type": "code",
   "execution_count": 8,
   "id": "1bde585a-f8ef-467b-adff-84096595bb8d",
   "metadata": {},
   "outputs": [],
   "source": [
    "from sklearn.ensemble import AdaBoostClassifier\n",
    "from sklearn.tree import DecisionTreeClassifier\n",
    "from sklearn.metrics import precision_score, recall_score, confusion_matrix, classification_report ,accuracy_score"
   ]
  },
  {
   "cell_type": "code",
   "execution_count": 9,
   "id": "4e8b7cd3-efb2-4ca6-91b8-75f61ea3757f",
   "metadata": {},
   "outputs": [
    {
     "data": {
      "text/plain": [
       "AdaBoostClassifier(base_estimator=DecisionTreeClassifier())"
      ]
     },
     "execution_count": 9,
     "metadata": {},
     "output_type": "execute_result"
    }
   ],
   "source": [
    "model=AdaBoostClassifier(base_estimator=DecisionTreeClassifier())\n",
    "model.fit(train_x,train_y)\n"
   ]
  },
  {
   "cell_type": "code",
   "execution_count": 10,
   "id": "0e1209c4-c2d6-492d-9a0f-7506a003ef85",
   "metadata": {},
   "outputs": [],
   "source": [
    "y_pre=model.predict(test_x)"
   ]
  },
  {
   "cell_type": "code",
   "execution_count": 11,
   "id": "8e1f40c7-df16-4814-a898-6b688bd0037b",
   "metadata": {},
   "outputs": [
    {
     "data": {
      "text/plain": [
       "0.5172413793103449"
      ]
     },
     "execution_count": 11,
     "metadata": {},
     "output_type": "execute_result"
    }
   ],
   "source": [
    "recall_score(test_y, y_pre)"
   ]
  },
  {
   "cell_type": "code",
   "execution_count": 12,
   "id": "25d14bc7-0033-4562-9d66-22e7512c2682",
   "metadata": {},
   "outputs": [
    {
     "data": {
      "text/plain": [
       "0.6122448979591837"
      ]
     },
     "execution_count": 12,
     "metadata": {},
     "output_type": "execute_result"
    }
   ],
   "source": [
    "precision_score(test_y, y_pre)"
   ]
  },
  {
   "cell_type": "code",
   "execution_count": 13,
   "id": "aaddfee2-3dc7-4908-bfb4-3a89d5511ef9",
   "metadata": {},
   "outputs": [
    {
     "data": {
      "text/plain": [
       "array([[77, 19],\n",
       "       [28, 30]], dtype=int64)"
      ]
     },
     "execution_count": 13,
     "metadata": {},
     "output_type": "execute_result"
    }
   ],
   "source": [
    "cm=confusion_matrix(test_y, y_pre)\n",
    "cm"
   ]
  },
  {
   "cell_type": "code",
   "execution_count": 14,
   "id": "118b49b8-9c2c-4213-9895-e4cc293911a9",
   "metadata": {},
   "outputs": [
    {
     "name": "stdout",
     "output_type": "stream",
     "text": [
      "              precision    recall  f1-score   support\n",
      "\n",
      "           0       0.73      0.80      0.77        96\n",
      "           1       0.61      0.52      0.56        58\n",
      "\n",
      "    accuracy                           0.69       154\n",
      "   macro avg       0.67      0.66      0.66       154\n",
      "weighted avg       0.69      0.69      0.69       154\n",
      "\n"
     ]
    }
   ],
   "source": [
    "print(classification_report(test_y,y_pre))"
   ]
  },
  {
   "cell_type": "code",
   "execution_count": 15,
   "id": "404f90e6-0a4c-4cfb-be5a-a1e43cb6d5c6",
   "metadata": {},
   "outputs": [],
   "source": [
    "import seaborn as sns"
   ]
  },
  {
   "cell_type": "code",
   "execution_count": 16,
   "id": "b92a8462-fa40-419e-94cf-f254d6b2e36d",
   "metadata": {},
   "outputs": [
    {
     "data": {
      "text/plain": [
       "<AxesSubplot:>"
      ]
     },
     "execution_count": 16,
     "metadata": {},
     "output_type": "execute_result"
    },
    {
     "data": {
      "image/png": "[encoded data removed]",
      "text/plain": [
       "<Figure size 432x288 with 2 Axes>"
      ]
     },
     "metadata": {
      "needs_background": "light"
     },
     "output_type": "display_data"
    }
   ],
   "source": [
    "sns.heatmap(cm,annot=True )"
   ]
  },
  {
   "cell_type": "markdown",
   "id": "6a8a0956-1cf2-4eaa-8dc9-1c6976670c97",
   "metadata": {
    "tags": []
   },
   "source": [
    "# finding best base_estimator parameters"
   ]
  },
  {
   "cell_type": "code",
   "execution_count": 17,
   "id": "f16db088-604c-423b-a508-4a1f9c479c2a",
   "metadata": {},
   "outputs": [],
   "source": [
    "tree = DecisionTreeClassifier()\n",
    "clf1 = GridSearchCV(tree,{'criterion':['gini','entropy'],'min_samples_split':[2,3,4],'max_depth':[2,3,4]}, cv =3)"
   ]
  },
  {
   "cell_type": "code",
   "execution_count": 18,
   "id": "a561a912-58cf-458d-bc01-492dbe26622b",
   "metadata": {},
   "outputs": [
    {
     "data": {
      "text/plain": [
       "GridSearchCV(cv=3, estimator=DecisionTreeClassifier(),\n",
       "             param_grid={'criterion': ['gini', 'entropy'],\n",
       "                         'max_depth': [2, 3, 4],\n",
       "                         'min_samples_split': [2, 3, 4]})"
      ]
     },
     "execution_count": 18,
     "metadata": {},
     "output_type": "execute_result"
    }
   ],
   "source": [
    "clf1.fit(train_x,train_y)"
   ]
  },
  {
   "cell_type": "code",
   "execution_count": 19,
   "id": "5dc577a3-857c-4f23-9e24-c31c89d29768",
   "metadata": {},
   "outputs": [
    {
     "data": {
      "text/plain": [
       "DecisionTreeClassifier(max_depth=2)"
      ]
     },
     "execution_count": 19,
     "metadata": {},
     "output_type": "execute_result"
    }
   ],
   "source": [
    "clf1.best_estimator_"
   ]
  },
  {
   "cell_type": "markdown",
   "id": "8eda2463-dd38-45fc-9565-5446f7313956",
   "metadata": {},
   "source": [
    "# finding the best hyperparameters for our Adaboost"
   ]
  },
  {
   "cell_type": "code",
   "execution_count": 20,
   "id": "a3114942-a5b2-442f-bb30-7a200f2c5990",
   "metadata": {},
   "outputs": [
    {
     "data": {
      "text/plain": [
       "AdaBoostClassifier(base_estimator=DecisionTreeClassifier(max_depth=2))"
      ]
     },
     "execution_count": 20,
     "metadata": {},
     "output_type": "execute_result"
    }
   ],
   "source": [
    "model = AdaBoostClassifier(clf1.best_estimator_)\n",
    "model"
   ]
  },
  {
   "cell_type": "code",
   "execution_count": 21,
   "id": "a7e852ef-ffda-4529-a614-12d68d9c5ece",
   "metadata": {},
   "outputs": [
    {
     "data": {
      "text/plain": [
       "{'n_estimators': [10, 30, 60, 50, 110, 130],\n",
       " 'learning_rate': [0.001, 0.01, 0.05, 0.1, 0.5],\n",
       " 'algorithm': ['SAMME', 'SAMME.R']}"
      ]
     },
     "execution_count": 21,
     "metadata": {},
     "output_type": "execute_result"
    }
   ],
   "source": [
    "n_estimators = [10,30,60,50,110,130]\n",
    "learning_rate = [0.001,0.01,0.05,0.1,0.5]\n",
    "algorithm = ['SAMME','SAMME.R']\n",
    "params = dict(n_estimators=n_estimators,learning_rate=learning_rate,algorithm=algorithm)\n",
    "params"
   ]
  },
  {
   "cell_type": "code",
   "execution_count": 22,
   "id": "267c3a6d-f514-4dae-b05d-d01005da47a0",
   "metadata": {},
   "outputs": [],
   "source": [
    "clf = GridSearchCV(estimator=model,param_grid=params,cv=3)"
   ]
  },
  {
   "cell_type": "code",
   "execution_count": 23,
   "id": "32a8fba4-6dc8-4834-9999-7ce7deba651b",
   "metadata": {},
   "outputs": [
    {
     "data": {
      "text/plain": [
       "GridSearchCV(cv=3,\n",
       "             estimator=AdaBoostClassifier(base_estimator=DecisionTreeClassifier(max_depth=2)),\n",
       "             param_grid={'algorithm': ['SAMME', 'SAMME.R'],\n",
       "                         'learning_rate': [0.001, 0.01, 0.05, 0.1, 0.5],\n",
       "                         'n_estimators': [10, 30, 60, 50, 110, 130]})"
      ]
     },
     "execution_count": 23,
     "metadata": {},
     "output_type": "execute_result"
    }
   ],
   "source": [
    "clf.fit(train_x,train_y)"
   ]
  },
  {
   "cell_type": "code",
   "execution_count": 24,
   "id": "69608f2b-a34f-4d29-b153-a0fc8a4f2abe",
   "metadata": {},
   "outputs": [
    {
     "data": {
      "text/plain": [
       "AdaBoostClassifier(algorithm='SAMME',\n",
       "                   base_estimator=DecisionTreeClassifier(max_depth=2),\n",
       "                   learning_rate=0.5, n_estimators=30)"
      ]
     },
     "execution_count": 24,
     "metadata": {},
     "output_type": "execute_result"
    }
   ],
   "source": [
    "clf.best_estimator_"
   ]
  },
  {
   "cell_type": "code",
   "execution_count": 25,
   "id": "78ad3b10-f046-4d3a-a2a7-67d785e37b3f",
   "metadata": {},
   "outputs": [],
   "source": [
    "clf_pre = clf.best_estimator_.predict(test_x)"
   ]
  },
  {
   "cell_type": "code",
   "execution_count": 26,
   "id": "8baa2676-0313-4820-8ae2-0ec67b1c7fb8",
   "metadata": {},
   "outputs": [
    {
     "data": {
      "text/plain": [
       "0.62069"
      ]
     },
     "execution_count": 26,
     "metadata": {},
     "output_type": "execute_result"
    }
   ],
   "source": [
    "round(recall_score(test_y,clf_pre),5)"
   ]
  },
  {
   "cell_type": "code",
   "execution_count": 27,
   "id": "6546aabf-b9ca-461e-ae06-10afad55de74",
   "metadata": {},
   "outputs": [
    {
     "data": {
      "text/plain": [
       "0.75"
      ]
     },
     "execution_count": 27,
     "metadata": {},
     "output_type": "execute_result"
    }
   ],
   "source": [
    "precision_score(test_y,clf_pre)"
   ]
  },
  {
   "cell_type": "code",
   "execution_count": 28,
   "id": "74511a2c-5ff2-43d0-8ddf-51e0723ba5c5",
   "metadata": {},
   "outputs": [
    {
     "name": "stdout",
     "output_type": "stream",
     "text": [
      "              precision    recall  f1-score   support\n",
      "\n",
      "           0       0.79      0.88      0.83        96\n",
      "           1       0.75      0.62      0.68        58\n",
      "\n",
      "    accuracy                           0.78       154\n",
      "   macro avg       0.77      0.75      0.76       154\n",
      "weighted avg       0.78      0.78      0.77       154\n",
      "\n"
     ]
    }
   ],
   "source": [
    "print(classification_report(test_y,clf_pre))"
   ]
  },
  {
   "cell_type": "code",
   "execution_count": 29,
   "id": "dc875875-9b86-4c9b-b630-4300c6a67fed",
   "metadata": {},
   "outputs": [
    {
     "data": {
      "image/png": "[encoded data removed]",
      "text/plain": [
       "<Figure size 432x288 with 2 Axes>"
      ]
     },
     "metadata": {
      "needs_background": "light"
     },
     "output_type": "display_data"
    }
   ],
   "source": [
    "cm2 = confusion_matrix(test_y,clf_pre)\n",
    "\n",
    "sns.heatmap(cm2,annot=True);"
   ]
  },
  {
   "cell_type": "code",
   "execution_count": 30,
   "id": "24440963-8493-4850-92a9-4f7a6c0a14a5",
   "metadata": {},
   "outputs": [
    {
     "name": "stdout",
     "output_type": "stream",
     "text": [
      "0.80587\n",
      "0.77922\n"
     ]
    }
   ],
   "source": [
    "print(round(accuracy_score(train_y,clf.predict(train_x)),5))\n",
    "print(round(accuracy_score(test_y,clf_pre),5))"
   ]
  },
  {
   "cell_type": "code",
   "execution_count": null,
   "id": "f49ea8bf-3c7e-4934-bf3b-343b12ca868f",
   "metadata": {},
   "outputs": [],
   "source": []
  }
 ],
 "metadata": {
  "kernelspec": {
   "display_name": "Python 3 (ipykernel)",
   "language": "python",
   "name": "python3"
  },
  "language_info": {
   "codemirror_mode": {
    "name": "ipython",
    "version": 3
   },
   "file_extension": ".py",
   "mimetype": "text/x-python",
   "name": "python",
   "nbconvert_exporter": "python",
   "pygments_lexer": "ipython3",
   "version": "3.9.7"
  }
 },
 "nbformat": 4,
 "nbformat_minor": 5
}
