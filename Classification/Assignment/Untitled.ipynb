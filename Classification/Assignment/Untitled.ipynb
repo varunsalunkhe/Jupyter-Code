{
 "cells": [
  {
   "cell_type": "code",
   "execution_count": 9,
   "id": "44fbc858-18ea-492e-bbdb-60470a4e55ba",
   "metadata": {},
   "outputs": [
    {
     "name": "stdin",
     "output_type": "stream",
     "text": [
      " aga asdf asfasg\n"
     ]
    },
    {
     "data": {
      "text/plain": [
       "3"
      ]
     },
     "execution_count": 9,
     "metadata": {},
     "output_type": "execute_result"
    }
   ],
   "source": [
    "str=input()\n",
    "words=str.split()\n",
    "s=len(words)\n",
    "for i in words:\n",
    "    len(i)"
   ]
  },
  {
   "cell_type": "code",
   "execution_count": null,
   "id": "e751a259-f79f-41f0-b759-282fddce365f",
   "metadata": {},
   "outputs": [],
   "source": []
  }
 ],
 "metadata": {
  "kernelspec": {
   "display_name": "Python 3 (ipykernel)",
   "language": "python",
   "name": "python3"
  },
  "language_info": {
   "codemirror_mode": {
    "name": "ipython",
    "version": 3
   },
   "file_extension": ".py",
   "mimetype": "text/x-python",
   "name": "python",
   "nbconvert_exporter": "python",
   "pygments_lexer": "ipython3",
   "version": "3.9.7"
  }
 },
 "nbformat": 4,
 "nbformat_minor": 5
}
