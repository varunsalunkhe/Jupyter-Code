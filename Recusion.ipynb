{
  "nbformat": 4,
  "nbformat_minor": 0,
  "metadata": {
    "colab": {
      "provenance": []
    },
    "kernelspec": {
      "name": "python3",
      "display_name": "Python 3"
    },
    "language_info": {
      "name": "python"
    }
  },
  "cells": [
    {
      "cell_type": "code",
      "execution_count": 1,
      "metadata": {
        "colab": {
          "base_uri": "https://localhost:8080/"
        },
        "id": "odQXo8Fu-NPd",
        "outputId": "1b7fb2ca-0bca-4c94-8ed6-9cec446a1e7d"
      },
      "outputs": [
        {
          "output_type": "stream",
          "name": "stdout",
          "text": [
            "[5]\n",
            "[4, 5]\n",
            "[3, 4, 5]\n",
            "[2, 3, 4, 5]\n",
            "[1, 2, 3, 4, 5]\n",
            "[1, 2, 3, 4, 5]\n"
          ]
        }
      ],
      "source": [
        "#Printing N numbers with using recusion\n",
        "li= []\n",
        "\n",
        "def printNos(x):\n",
        "  if x==0:\n",
        "    return\n",
        "  else:\n",
        "\n",
        "    li.insert(0,x)\n",
        "    print(li)\n",
        "    x = x - 1\n",
        "    printNos(x)\n",
        "  return li\n",
        "\n",
        "print(printNos(5))"
      ]
    },
    {
      "cell_type": "code",
      "source": [
        "\n",
        "li = []\n",
        "def printnum(x):\n",
        "    if x==0:\n",
        "        return\n",
        "    else:\n",
        "        li.insert(0,x)\n",
        "        printnum(x-1)\n",
        "    return li\n",
        "print(printnum(10))"
      ],
      "metadata": {
        "colab": {
          "base_uri": "https://localhost:8080/"
        },
        "id": "eV1VBfJSOI95",
        "outputId": "7b949a41-1e7b-4f90-bce2-d5026c1e71a6"
      },
      "execution_count": 2,
      "outputs": [
        {
          "output_type": "stream",
          "name": "stdout",
          "text": [
            "[1, 2, 3, 4, 5, 6, 7, 8, 9, 10]\n"
          ]
        }
      ]
    },
    {
      "cell_type": "code",
      "source": [
        "#backtracking\n",
        "li =[]\n",
        "def backtrack(x):\n",
        "  if x<1:\n",
        "    return\n",
        "  else:\n",
        "    backtrack(x-1)\n",
        "    li.insert(0,x)\n",
        "    print(x)\n",
        "  return li\n",
        "print(backtrack(5))\n",
        "\n"
      ],
      "metadata": {
        "colab": {
          "base_uri": "https://localhost:8080/"
        },
        "id": "Bio99X8iQRKf",
        "outputId": "5e9635e2-4a48-4a3b-dd5a-5e38d1530d81"
      },
      "execution_count": 3,
      "outputs": [
        {
          "output_type": "stream",
          "name": "stdout",
          "text": [
            "1\n",
            "2\n",
            "3\n",
            "4\n",
            "5\n",
            "[5, 4, 3, 2, 1]\n"
          ]
        }
      ]
    },
    {
      "cell_type": "code",
      "source": [
        "#printing name without using loop\n",
        "li = []\n",
        "def printNtimes(n):\n",
        "    if n == 0:\n",
        "        return\n",
        "    else:\n",
        "        li.append(\"Coding Ninjas\")\n",
        "        printNtimes(n-1)\n",
        "    return li\n",
        "\n",
        "print(printNtimes(4))"
      ],
      "metadata": {
        "colab": {
          "base_uri": "https://localhost:8080/"
        },
        "id": "SunUpsJjQXbz",
        "outputId": "b6a805d7-9aa0-441f-dd1e-09e755d1ace9"
      },
      "execution_count": 4,
      "outputs": [
        {
          "output_type": "stream",
          "name": "stdout",
          "text": [
            "['Coding Ninjas', 'Coding Ninjas', 'Coding Ninjas', 'Coding Ninjas']\n"
          ]
        }
      ]
    },
    {
      "cell_type": "code",
      "source": [
        "#summation of first n numbers\n",
        "#functional way\n",
        "\n",
        "def summation(n):\n",
        "  if n==0:\n",
        "    return 0\n",
        "  return n + summation(n-1)\n",
        "\n",
        "print(summation(3))"
      ],
      "metadata": {
        "colab": {
          "base_uri": "https://localhost:8080/"
        },
        "id": "0E6fKle4ZWII",
        "outputId": "fd2241b8-c18d-428e-e4aa-3a4c8cd229c9"
      },
      "execution_count": 5,
      "outputs": [
        {
          "output_type": "stream",
          "name": "stdout",
          "text": [
            "6\n"
          ]
        }
      ]
    },
    {
      "cell_type": "code",
      "source": [
        "#factorial of first n numbers\n",
        "#functional way\n",
        "\n",
        "def fact(n):\n",
        "  if n==1:\n",
        "    return 1\n",
        "  return n * fact(n-1)\n",
        "\n",
        "print(fact(3))"
      ],
      "metadata": {
        "colab": {
          "base_uri": "https://localhost:8080/"
        },
        "id": "i6Od1A_EfRSU",
        "outputId": "fc09f76f-0ada-473b-de97-fb949c7ba203"
      },
      "execution_count": 6,
      "outputs": [
        {
          "output_type": "stream",
          "name": "stdout",
          "text": [
            "6\n"
          ]
        }
      ]
    }
  ]
}