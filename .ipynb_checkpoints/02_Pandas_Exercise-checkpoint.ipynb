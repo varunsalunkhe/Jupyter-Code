{
 "cells": [
  {
   "cell_type": "markdown",
   "metadata": {
    "id": "7xxvfbvfEik9"
   },
   "source": [
    "#Week 2 Exercises\n",
    "\n",
    "In this weeks exercises you will use Numpy/Scipy to impliment some numerical algorithms and then you will use Pandas to perform a rudamentary data analysis using the KDD 98 dataset.  Along the way you will use unix/basic python from the first week as well as git to save your work.\n",
    "\n",
    "As a first step we import the libraries we'll use later on.  This allows us to use numpy library calls by prefixing the call with np."
   ]
  },
  {
   "cell_type": "code",
   "execution_count": 2,
   "metadata": {
    "id": "LJ6Dwmu5EilD",
    "jupyter": {
     "outputs_hidden": false
    }
   },
   "outputs": [],
   "source": [
    "#Import the libraries \n",
    "import numpy as np\n",
    "import scipy as sp\n",
    "import pandas as pd"
   ]
  },
  {
   "cell_type": "markdown",
   "metadata": {
    "id": "LSHEIwtjEilE"
   },
   "source": [
    "##Matrix Manipulations\n",
    "Lets first create a matrix and perform some manipulations of it.\n",
    "\n",
    "Using numpy's matrix data structure, define the following matricies:\n",
    "\n",
    "$$A=\\left[ \\begin{array}{ccc} 3 & 5 & 9 \\\\ 3 & 3 & 4 \\\\ 5 & 9 & 17 \\end{array} \\right]$$\n",
    "\n",
    "$$B=\\left[ \\begin{array}{c} 2 \\\\ 1 \\\\ 4 \\end{array} \\right]$$\n",
    "\n",
    "After this solve the matrix equation:\n",
    "$$Ax = B$$"
   ]
  },
  {
   "cell_type": "markdown",
   "metadata": {
    "id": "KBKSn6ngEilF"
   },
   "source": [
    "Now write three functions for matrix multiply $C=AB$ in each of the following styles:\n",
    "\n",
    "1. By using nested for loops to impliment the naive algorithm ($C_{ij}=\\sum_{k=0}^{m-1}A_{ik}B_{kj}$)\n",
    "2. Using numpy's built in martrix multiplication  \n",
    "3. Using Cython\n",
    "\n",
    "The three methods should have the same answer"
   ]
  },
  {
   "cell_type": "code",
   "execution_count": 14,
   "metadata": {
    "colab": {
     "base_uri": "https://localhost:8080/"
    },
    "id": "5shQyifnEilF",
    "jupyter": {
     "outputs_hidden": false
    },
    "outputId": "736636df-5949-491e-e710-d9573f52ad78"
   },
   "outputs": [
    {
     "name": "stdout",
     "output_type": "stream",
     "text": [
      "Problem 1 \n",
      "\n",
      "[[47], [25], [87]]\n",
      "\n",
      "Problem 2 \n",
      "\n",
      "[[47]\n",
      " [25]\n",
      " [87]]\n"
     ]
    }
   ],
   "source": [
    "print (\"Problem 1 \\n\")\n",
    "# 3x3 matrix\n",
    "A = np.array([[3,5,9],\n",
    "              [3,3,4],\n",
    "              [5,9,17]])\n",
    "# 3x1 matrix\n",
    "B = np.array([[2],\n",
    "              [1],\n",
    "              [4]])\n",
    "\n",
    "def matrix_Mult(x,y):\n",
    "    x=np.array(x)\n",
    "    y=np.array(y)        \n",
    "    z=[]\n",
    "    #Number of rows in x is equal to the number of rows in y\n",
    "    for xj in range(x.shape[0]):            \n",
    "        #Repeat operation for each column of y\n",
    "        row=[]\n",
    "        for yi in range(y.shape[1]):\n",
    "            row.append(np.sum(x[xj]*y[:,yi]))\n",
    "        z.append(row)\n",
    "    return z\n",
    "\n",
    "A=[[3,5,9],[3,3,4],[5,9,17]]\n",
    "B=[[2],[1],[4]]\n",
    "print (matrix_Mult(A,B))\n",
    "\n",
    "def numpy_dot(x,y):\n",
    "    return np.dot(x,y)\n",
    "\n",
    "print (\"\\nProblem 2 \\n\")\n",
    "print(numpy_dot(A,B))"
   ]
  },
  {
   "cell_type": "markdown",
   "metadata": {
    "id": "1YFgIF5jEilG"
   },
   "source": [
    "Now we wish to evaluate the performance of these three methods.  Write a method that given three dmiensions (a,b,c) makes a random a x b and b x c matrix and computes the product using your three functions and reports the speed of each method.\n",
    "\n",
    "After this measure performance of each method for all $a,b,c \\in \\{10,100,1000,10000\\}$ and plot the results.  Is one method always the fastest?  Discuss why this is or is not the case."
   ]
  },
  {
   "cell_type": "code",
   "execution_count": 16,
   "metadata": {
    "colab": {
     "base_uri": "https://localhost:8080/"
    },
    "id": "rMIs0m7gEilG",
    "jupyter": {
     "outputs_hidden": false
    },
    "outputId": "58c91bd4-c45b-4172-f872-ed912126d622"
   },
   "outputs": [
    {
     "name": "stdout",
     "output_type": "stream",
     "text": [
      "N1\n",
      "N2\n",
      "N3\n",
      "N4\n",
      "L1\n",
      "L2\n",
      "L3\n",
      "L4\n"
     ]
    }
   ],
   "source": [
    "def genRand(a,b,c):\n",
    "    mat1=[[randint(0,9) for i in range(a)] for i in range(b)]\n",
    "    mat2=[[randint(0,9) for i in range(b)] for i in range(c)]\n",
    "    return mat1, mat2\n",
    "\n",
    "loopTime=[]\n",
    "numpyTime=[]\n",
    "\n",
    "#Numpy calculations\n",
    "numpyTime.append(time.time())\n",
    "print('N1')\n",
    "A,B=genRand(10,10,10)\n",
    "numpy_dot(A,B)\n",
    "numpyTime.append(time.time())\n",
    "print ('N2')\n",
    "A,B=genRand(10,100,10)\n",
    "numpy_dot(A,B)\n",
    "numpyTime.append(time.time())\n",
    "print ('N3')\n",
    "A,B=genRand(10,1000,10)\n",
    "numpy_dot(A,B)\n",
    "numpyTime.append(time.time())\n",
    "print ('N4')\n",
    "A,B=genRand(10,10000,10)\n",
    "numpy_dot(A,B)\n",
    "numpyTime.append(time.time())\n",
    "numpyTime=np.diff(numpyTime)\n",
    "\n",
    "#Loop calculations\n",
    "loopTime.append(time.time())\n",
    "print ('L1')\n",
    "A,B=genRand(10,10,10)\n",
    "matrix_Mult(A,B)\n",
    "loopTime.append(time.time())\n",
    "print ('L2')\n",
    "A,B=genRand(10,100,10)\n",
    "matrix_Mult(A,B)\n",
    "loopTime.append(time.time())\n",
    "print ('L3')\n",
    "A,B=genRand(10,1000,10)\n",
    "matrix_Mult(A,B)\n",
    "loopTime.append(time.time())\n",
    "print ('L4')\n",
    "A,B=genRand(10,10000,10)\n",
    "matrix_Mult(A,B)\n",
    "loopTime.append(time.time())\n",
    "loopTime=np.diff(loopTime)"
   ]
  },
  {
   "cell_type": "markdown",
   "metadata": {
    "id": "ZaOEEU75EilH"
   },
   "source": [
    "**BONUS** Now repeat the past two problems but instead of computing the matrix product, compute a matrix's [determinant](http://en.wikipedia.org/wiki/Determinant).  Measure performance for matricies of various sizes and discuss the results.  Determinant may get impractical to calculate for not too huge of matricies, so no need to goto 1000x1000 matricies."
   ]
  },
  {
   "cell_type": "code",
   "execution_count": 17,
   "metadata": {
    "colab": {
     "base_uri": "https://localhost:8080/",
     "height": 440
    },
    "id": "tMIkZNJqEilI",
    "jupyter": {
     "outputs_hidden": false
    },
    "outputId": "2b35c219-df16-4e6c-d2ac-7f39477ddc7f"
   },
   "outputs": [
    {
     "name": "stdout",
     "output_type": "stream",
     "text": [
      "             loopTime  numpyTime\n",
      "1000.0       0.001956   0.001214\n",
      "10000.0      0.062865   0.405106\n",
      "100000.0     6.075555   0.050280\n",
      "1000000.0  563.491288   2.263446\n"
     ]
    },
    {
     "name": "stderr",
     "output_type": "stream",
     "text": [
      "/usr/local/lib/python3.7/dist-packages/ipykernel_launcher.py:10: MatplotlibDeprecationWarning: Adding an axes using the same arguments as a previous axes currently reuses the earlier instance.  In a future version, a new instance will always be created and returned.  Meanwhile, this warning can be suppressed, and the future behavior ensured, by passing a unique label to each axes instance.\n",
      "  # Remove the CWD from sys.path while we load stuff.\n"
     ]
    },
    {
     "data": {
      "image/png": "[encoded data removed]",
      "text/plain": [
       "<Figure size 432x288 with 1 Axes>"
      ]
     },
     "metadata": {
      "needs_background": "light"
     },
     "output_type": "display_data"
    }
   ],
   "source": [
    "df = pd.DataFrame(data={'loopTime':loopTime,'numpyTime':numpyTime}, )\n",
    "matSize=[1e3,1e4,1e5,1e6]\n",
    "df.index = matSize               \n",
    "print (df)\n",
    "\n",
    "\n",
    "\n",
    "plt.plot(matSize,loopTime)\n",
    "plt.plot(matSize,numpyTime)\n",
    "plt.subplot(111)\n",
    "plt.xscale('log')\n",
    "#plt.legend?\n",
    "plt.legend(['Loop','Numpy'],loc='upper center', bbox_to_anchor=(1.3, .8),ncol=3, fancybox=True, shadow=True)\n",
    "plt.yscale('log')\n",
    "plt.xlabel('Matrix Size')\n",
    "plt.ylabel('Performance Time/s')\n",
    "plt.title('Numpy vs Loop Performance')\n",
    "plt.show()"
   ]
  },
  {
   "cell_type": "code",
   "execution_count": 18,
   "metadata": {
    "id": "gQZ1bCOaEilI",
    "jupyter": {
     "outputs_hidden": false
    }
   },
   "outputs": [],
   "source": [
    "dict_file = open(\"dict.dat\")\n",
    "col_types = [ (x.split(\"\\t\")[0], x.strip().split(\"\\t\")[1]) for x in dict_file.readlines() ]"
   ]
  },
  {
   "cell_type": "code",
   "execution_count": 20,
   "metadata": {
    "colab": {
     "base_uri": "https://localhost:8080/"
    },
    "id": "DDcO096GEilJ",
    "jupyter": {
     "outputs_hidden": false
    },
    "outputId": "d3e11140-2abd-4216-eca0-f4ec5e8e23f1"
   },
   "outputs": [
    {
     "name": "stdout",
     "output_type": "stream",
     "text": [
      "         Head Type\n",
      "470  TARGET_B  Num\n",
      "471  TARGET_D  Num\n",
      "         Head  Type\n",
      "0     ODATEDW   Num\n",
      "1     OSOURCE  Char\n",
      "2       TCODE   Num\n",
      "3       STATE  Char\n",
      "4         ZIP  Char\n",
      "..        ...   ...\n",
      "476  MDMAUD_R  Char\n",
      "477  MDMAUD_F  Char\n",
      "478  MDMAUD_A  Char\n",
      "479  CLUSTER2   Num\n",
      "480  GEOCODE2  Char\n",
      "\n",
      "[479 rows x 2 columns]\n"
     ]
    }
   ],
   "source": [
    "learn=pd.DataFrame(col_types, columns=['Head','Type'])\n",
    "dict_file.close()\n",
    "learn_x=learn[learn['Head'].isin(['TARGET_B','TARGET_D'])]\n",
    "learn_y=learn[np.logical_not(learn['Head'].isin(['TARGET_B','TARGET_D']))]\n",
    "print (learn_x)\n",
    "print (learn_y)"
   ]
  },
  {
   "cell_type": "markdown",
   "metadata": {
    "id": "Gznu4bSGEilJ"
   },
   "source": [
    "###Summarizing Data\n",
    "Now that we have loaded data into the learn table, we wish to to summarize the data.  \n",
    "Write a function called summary which takes a pandas data frame and prints a summary of each column containing the following:\n",
    "\n",
    "If the column is numeric:\n",
    "\n",
    "1. Mean\n",
    "2. Standard Deviation\n",
    "3. Min/Max\n",
    "4. Number of missing values (NaN, Inf, NA)\n",
    "\n",
    "If the column is non alphabetical:\n",
    "\n",
    "1. Number of distinct values\n",
    "2. Number of missing values (NaN, INF, NA, blank/all spaces)\n",
    "3. The frequency of the 3 most common values and 3 least common values\n",
    "\n",
    "Format the output to be human readable.\n",
    "\n",
    "For example:\n",
    "> Field_1  \n",
    "> mean: 50  \n",
    "> std_dev: 25  \n",
    "> min: 0  \n",
    "> max: 100  \n",
    "> missing: 5\n",
    ">  \n",
    "> Field_2  \n",
    "> distinct_values: 100  \n",
    "> missing: 10  \n",
    ">  \n",
    "> 3 most common:  \n",
    ">   the: 1000  \n",
    ">   cat: 950  \n",
    ">   meows: 900  \n",
    ">  \n",
    "> 3 least common:  \n",
    ">   dogs: 5  \n",
    ">   lizards: 4  \n",
    ">   eggs: 1  "
   ]
  },
  {
   "cell_type": "markdown",
   "metadata": {
    "id": "BDmtCcCcEilK"
   },
   "source": [
    " ### Pandas analysis on Calit2 data \n",
    "\n",
    "Import data from http://archive.ics.uci.edu/ml/machine-learning-databases/event-detection/CalIt2.data using curl\n",
    "\n",
    "This data comes from the main door of the CalIt2 building at UCI. Observations come from 2 data streams (people flow in and out of the building), over 15 weeks, 48 time slices per day (half hour count aggregates).\n",
    "\n",
    "Attribute Information:\n",
    "1. Flow ID: 7 is out flow, 9 is in flow\n",
    "2. Date: MM/DD/YY\n",
    "3. Time: HH:MM:SS\n",
    "4. Count: Number of counts reported for the previous half hour\n"
   ]
  },
  {
   "cell_type": "code",
   "execution_count": 21,
   "metadata": {
    "colab": {
     "base_uri": "https://localhost:8080/",
     "height": 432
    },
    "collapsed": true,
    "id": "2y6z9KE0EilK",
    "jupyter": {
     "outputs_hidden": true
    },
    "outputId": "a5156916-7ec9-42df-a2b6-8d4d9517c5a6"
   },
   "outputs": [
    {
     "name": "stdout",
     "output_type": "stream",
     "text": [
      "  % Total    % Received % Xferd  Average Speed   Time    Time     Time  Current\n",
      "                                 Dload  Upload   Total   Spent    Left  Speed\n",
      "100  218k  100  218k    0     0   209k      0  0:00:01  0:00:01 --:--:--  209k\n",
      "Selecting Data: Problem 1: 48 rows\n"
     ]
    },
    {
     "data": {
      "text/html": [
       "\n",
       "  <div id=\"df-c91c4974-6a9a-4e92-8402-eafe8deba31e\">\n",
       "    <div class=\"colab-df-container\">\n",
       "      <div>\n",
       "<style scoped>\n",
       "    .dataframe tbody tr th:only-of-type {\n",
       "        vertical-align: middle;\n",
       "    }\n",
       "\n",
       "    .dataframe tbody tr th {\n",
       "        vertical-align: top;\n",
       "    }\n",
       "\n",
       "    .dataframe thead th {\n",
       "        text-align: right;\n",
       "    }\n",
       "</style>\n",
       "<table border=\"1\" class=\"dataframe\">\n",
       "  <thead>\n",
       "    <tr style=\"text-align: right;\">\n",
       "      <th></th>\n",
       "      <th>Flow ID</th>\n",
       "      <th>Date</th>\n",
       "      <th>Time</th>\n",
       "      <th>Count</th>\n",
       "    </tr>\n",
       "  </thead>\n",
       "  <tbody>\n",
       "    <tr>\n",
       "      <th>0</th>\n",
       "      <td>7</td>\n",
       "      <td>07/24/05</td>\n",
       "      <td>00:00:00</td>\n",
       "      <td>0</td>\n",
       "    </tr>\n",
       "    <tr>\n",
       "      <th>2</th>\n",
       "      <td>7</td>\n",
       "      <td>07/24/05</td>\n",
       "      <td>00:30:00</td>\n",
       "      <td>1</td>\n",
       "    </tr>\n",
       "    <tr>\n",
       "      <th>4</th>\n",
       "      <td>7</td>\n",
       "      <td>07/24/05</td>\n",
       "      <td>01:00:00</td>\n",
       "      <td>0</td>\n",
       "    </tr>\n",
       "    <tr>\n",
       "      <th>6</th>\n",
       "      <td>7</td>\n",
       "      <td>07/24/05</td>\n",
       "      <td>01:30:00</td>\n",
       "      <td>0</td>\n",
       "    </tr>\n",
       "    <tr>\n",
       "      <th>8</th>\n",
       "      <td>7</td>\n",
       "      <td>07/24/05</td>\n",
       "      <td>02:00:00</td>\n",
       "      <td>0</td>\n",
       "    </tr>\n",
       "    <tr>\n",
       "      <th>10</th>\n",
       "      <td>7</td>\n",
       "      <td>07/24/05</td>\n",
       "      <td>02:30:00</td>\n",
       "      <td>2</td>\n",
       "    </tr>\n",
       "    <tr>\n",
       "      <th>12</th>\n",
       "      <td>7</td>\n",
       "      <td>07/24/05</td>\n",
       "      <td>03:00:00</td>\n",
       "      <td>0</td>\n",
       "    </tr>\n",
       "    <tr>\n",
       "      <th>14</th>\n",
       "      <td>7</td>\n",
       "      <td>07/24/05</td>\n",
       "      <td>03:30:00</td>\n",
       "      <td>0</td>\n",
       "    </tr>\n",
       "    <tr>\n",
       "      <th>16</th>\n",
       "      <td>7</td>\n",
       "      <td>07/24/05</td>\n",
       "      <td>04:00:00</td>\n",
       "      <td>0</td>\n",
       "    </tr>\n",
       "    <tr>\n",
       "      <th>18</th>\n",
       "      <td>7</td>\n",
       "      <td>07/24/05</td>\n",
       "      <td>04:30:00</td>\n",
       "      <td>0</td>\n",
       "    </tr>\n",
       "  </tbody>\n",
       "</table>\n",
       "</div>\n",
       "      <button class=\"colab-df-convert\" onclick=\"convertToInteractive('df-c91c4974-6a9a-4e92-8402-eafe8deba31e')\"\n",
       "              title=\"Convert this dataframe to an interactive table.\"\n",
       "              style=\"display:none;\">\n",
       "        \n",
       "  <svg xmlns=\"http://www.w3.org/2000/svg\" height=\"24px\"viewBox=\"0 0 24 24\"\n",
       "       width=\"24px\">\n",
       "    <path d=\"M0 0h24v24H0V0z\" fill=\"none\"/>\n",
       "    <path d=\"M18.56 5.44l.94 2.06.94-2.06 2.06-.94-2.06-.94-.94-2.06-.94 2.06-2.06.94zm-11 1L8.5 8.5l.94-2.06 2.06-.94-2.06-.94L8.5 2.5l-.94 2.06-2.06.94zm10 10l.94 2.06.94-2.06 2.06-.94-2.06-.94-.94-2.06-.94 2.06-2.06.94z\"/><path d=\"M17.41 7.96l-1.37-1.37c-.4-.4-.92-.59-1.43-.59-.52 0-1.04.2-1.43.59L10.3 9.45l-7.72 7.72c-.78.78-.78 2.05 0 2.83L4 21.41c.39.39.9.59 1.41.59.51 0 1.02-.2 1.41-.59l7.78-7.78 2.81-2.81c.8-.78.8-2.07 0-2.86zM5.41 20L4 18.59l7.72-7.72 1.47 1.35L5.41 20z\"/>\n",
       "  </svg>\n",
       "      </button>\n",
       "      \n",
       "  <style>\n",
       "    .colab-df-container {\n",
       "      display:flex;\n",
       "      flex-wrap:wrap;\n",
       "      gap: 12px;\n",
       "    }\n",
       "\n",
       "    .colab-df-convert {\n",
       "      background-color: #E8F0FE;\n",
       "      border: none;\n",
       "      border-radius: 50%;\n",
       "      cursor: pointer;\n",
       "      display: none;\n",
       "      fill: #1967D2;\n",
       "      height: 32px;\n",
       "      padding: 0 0 0 0;\n",
       "      width: 32px;\n",
       "    }\n",
       "\n",
       "    .colab-df-convert:hover {\n",
       "      background-color: #E2EBFA;\n",
       "      box-shadow: 0px 1px 2px rgba(60, 64, 67, 0.3), 0px 1px 3px 1px rgba(60, 64, 67, 0.15);\n",
       "      fill: #174EA6;\n",
       "    }\n",
       "\n",
       "    [theme=dark] .colab-df-convert {\n",
       "      background-color: #3B4455;\n",
       "      fill: #D2E3FC;\n",
       "    }\n",
       "\n",
       "    [theme=dark] .colab-df-convert:hover {\n",
       "      background-color: #434B5C;\n",
       "      box-shadow: 0px 1px 3px 1px rgba(0, 0, 0, 0.15);\n",
       "      filter: drop-shadow(0px 1px 2px rgba(0, 0, 0, 0.3));\n",
       "      fill: #FFFFFF;\n",
       "    }\n",
       "  </style>\n",
       "\n",
       "      <script>\n",
       "        const buttonEl =\n",
       "          document.querySelector('#df-c91c4974-6a9a-4e92-8402-eafe8deba31e button.colab-df-convert');\n",
       "        buttonEl.style.display =\n",
       "          google.colab.kernel.accessAllowed ? 'block' : 'none';\n",
       "\n",
       "        async function convertToInteractive(key) {\n",
       "          const element = document.querySelector('#df-c91c4974-6a9a-4e92-8402-eafe8deba31e');\n",
       "          const dataTable =\n",
       "            await google.colab.kernel.invokeFunction('convertToInteractive',\n",
       "                                                     [key], {});\n",
       "          if (!dataTable) return;\n",
       "\n",
       "          const docLinkHtml = 'Like what you see? Visit the ' +\n",
       "            '<a target=\"_blank\" href=https://colab.research.google.com/notebooks/data_table.ipynb>data table notebook</a>'\n",
       "            + ' to learn more about interactive tables.';\n",
       "          element.innerHTML = '';\n",
       "          dataTable['output_type'] = 'display_data';\n",
       "          await google.colab.output.renderOutput(dataTable, element);\n",
       "          const docLink = document.createElement('div');\n",
       "          docLink.innerHTML = docLinkHtml;\n",
       "          element.appendChild(docLink);\n",
       "        }\n",
       "      </script>\n",
       "    </div>\n",
       "  </div>\n",
       "  "
      ],
      "text/plain": [
       "   Flow ID      Date      Time Count\n",
       "0        7  07/24/05  00:00:00     0\n",
       "2        7  07/24/05  00:30:00     1\n",
       "4        7  07/24/05  01:00:00     0\n",
       "6        7  07/24/05  01:30:00     0\n",
       "8        7  07/24/05  02:00:00     0\n",
       "10       7  07/24/05  02:30:00     2\n",
       "12       7  07/24/05  03:00:00     0\n",
       "14       7  07/24/05  03:30:00     0\n",
       "16       7  07/24/05  04:00:00     0\n",
       "18       7  07/24/05  04:30:00     0"
      ]
     },
     "execution_count": 21,
     "metadata": {},
     "output_type": "execute_result"
    }
   ],
   "source": [
    "import pandas as pd\n",
    "! curl -O http://archive.ics.uci.edu/ml/machine-learning-databases/event-detection/CalIt2.data \n",
    "info = []\n",
    "CalIt_data= open('CalIt2.data')\n",
    "for line in CalIt_data:\n",
    "    info.append(line.rstrip('\\n').split(',')) # rstrip removes the endline\n",
    "#calit2_dataFrame = pd.DataFrame(data = info, columns=['Flow ID', 'Date', 'Time', 'Count'])   \n",
    "CalIt_data.close()\n",
    "#selectingDataQ2 = calit2_dataFrame\n",
    "#calit2_Copy = calit2_dataFrame\n",
    "calit2_dataFrame = pd.DataFrame(data = info, columns=['Flow ID', 'Date', 'Time', 'Count'])   \n",
    "CalIt_data.close()\n",
    "\n",
    "#\n",
    "\n",
    "date_select= calit2_dataFrame['Date'] == '07/24/05'\n",
    "flowID_select = calit2_dataFrame['Flow ID'] == '7'\n",
    "### 1. \n",
    "selecting_data1 = calit2_dataFrame[date_select & flowID_select]\n",
    "\n",
    "print ('Selecting Data: Problem 1: {0} rows'.format(len(selecting_data1)))\n",
    "selecting_data1.head(10)"
   ]
  },
  {
   "cell_type": "markdown",
   "metadata": {
    "id": "D7iVrneYEilL"
   },
   "source": [
    "#### Selecting Data ####\n",
    "1. Select all data for the date July 24 2005 having flow id=7. Also output the row count of results \n",
    "2. Select all rows whose count is greater than 5. Sort the result on count in descending order and output the top 10 rows"
   ]
  },
  {
   "cell_type": "code",
   "execution_count": 24,
   "metadata": {
    "colab": {
     "base_uri": "https://localhost:8080/",
     "height": 380
    },
    "collapsed": true,
    "id": "yUL_HnWbEilL",
    "jupyter": {
     "outputs_hidden": true
    },
    "outputId": "38a392f1-0151-4fff-f5fa-0ba2b69a0637"
   },
   "outputs": [
    {
     "name": "stdout",
     "output_type": "stream",
     "text": [
      "Selecting Data: Problem 2:\n"
     ]
    },
    {
     "data": {
      "text/html": [
       "\n",
       "  <div id=\"df-54ff9403-6dd7-4ed9-b95e-77b2c8cc6a70\">\n",
       "    <div class=\"colab-df-container\">\n",
       "      <div>\n",
       "<style scoped>\n",
       "    .dataframe tbody tr th:only-of-type {\n",
       "        vertical-align: middle;\n",
       "    }\n",
       "\n",
       "    .dataframe tbody tr th {\n",
       "        vertical-align: top;\n",
       "    }\n",
       "\n",
       "    .dataframe thead th {\n",
       "        text-align: right;\n",
       "    }\n",
       "</style>\n",
       "<table border=\"1\" class=\"dataframe\">\n",
       "  <thead>\n",
       "    <tr style=\"text-align: right;\">\n",
       "      <th></th>\n",
       "      <th>Flow ID</th>\n",
       "      <th>Date</th>\n",
       "      <th>Time</th>\n",
       "      <th>Count</th>\n",
       "    </tr>\n",
       "  </thead>\n",
       "  <tbody>\n",
       "    <tr>\n",
       "      <th>1110</th>\n",
       "      <td>7</td>\n",
       "      <td>08/04/05</td>\n",
       "      <td>13:30:00</td>\n",
       "      <td>9</td>\n",
       "    </tr>\n",
       "    <tr>\n",
       "      <th>1582</th>\n",
       "      <td>7</td>\n",
       "      <td>08/09/05</td>\n",
       "      <td>11:30:00</td>\n",
       "      <td>9</td>\n",
       "    </tr>\n",
       "    <tr>\n",
       "      <th>4456</th>\n",
       "      <td>7</td>\n",
       "      <td>09/08/05</td>\n",
       "      <td>10:00:00</td>\n",
       "      <td>9</td>\n",
       "    </tr>\n",
       "    <tr>\n",
       "      <th>4458</th>\n",
       "      <td>7</td>\n",
       "      <td>09/08/05</td>\n",
       "      <td>10:30:00</td>\n",
       "      <td>9</td>\n",
       "    </tr>\n",
       "    <tr>\n",
       "      <th>6870</th>\n",
       "      <td>7</td>\n",
       "      <td>10/03/05</td>\n",
       "      <td>13:30:00</td>\n",
       "      <td>9</td>\n",
       "    </tr>\n",
       "    <tr>\n",
       "      <th>4465</th>\n",
       "      <td>9</td>\n",
       "      <td>09/08/05</td>\n",
       "      <td>12:00:00</td>\n",
       "      <td>9</td>\n",
       "    </tr>\n",
       "    <tr>\n",
       "      <th>1502</th>\n",
       "      <td>7</td>\n",
       "      <td>08/08/05</td>\n",
       "      <td>15:30:00</td>\n",
       "      <td>9</td>\n",
       "    </tr>\n",
       "    <tr>\n",
       "      <th>6866</th>\n",
       "      <td>7</td>\n",
       "      <td>10/03/05</td>\n",
       "      <td>12:30:00</td>\n",
       "      <td>9</td>\n",
       "    </tr>\n",
       "    <tr>\n",
       "      <th>4478</th>\n",
       "      <td>7</td>\n",
       "      <td>09/08/05</td>\n",
       "      <td>15:30:00</td>\n",
       "      <td>9</td>\n",
       "    </tr>\n",
       "    <tr>\n",
       "      <th>1509</th>\n",
       "      <td>9</td>\n",
       "      <td>08/08/05</td>\n",
       "      <td>17:00:00</td>\n",
       "      <td>9</td>\n",
       "    </tr>\n",
       "  </tbody>\n",
       "</table>\n",
       "</div>\n",
       "      <button class=\"colab-df-convert\" onclick=\"convertToInteractive('df-54ff9403-6dd7-4ed9-b95e-77b2c8cc6a70')\"\n",
       "              title=\"Convert this dataframe to an interactive table.\"\n",
       "              style=\"display:none;\">\n",
       "        \n",
       "  <svg xmlns=\"http://www.w3.org/2000/svg\" height=\"24px\"viewBox=\"0 0 24 24\"\n",
       "       width=\"24px\">\n",
       "    <path d=\"M0 0h24v24H0V0z\" fill=\"none\"/>\n",
       "    <path d=\"M18.56 5.44l.94 2.06.94-2.06 2.06-.94-2.06-.94-.94-2.06-.94 2.06-2.06.94zm-11 1L8.5 8.5l.94-2.06 2.06-.94-2.06-.94L8.5 2.5l-.94 2.06-2.06.94zm10 10l.94 2.06.94-2.06 2.06-.94-2.06-.94-.94-2.06-.94 2.06-2.06.94z\"/><path d=\"M17.41 7.96l-1.37-1.37c-.4-.4-.92-.59-1.43-.59-.52 0-1.04.2-1.43.59L10.3 9.45l-7.72 7.72c-.78.78-.78 2.05 0 2.83L4 21.41c.39.39.9.59 1.41.59.51 0 1.02-.2 1.41-.59l7.78-7.78 2.81-2.81c.8-.78.8-2.07 0-2.86zM5.41 20L4 18.59l7.72-7.72 1.47 1.35L5.41 20z\"/>\n",
       "  </svg>\n",
       "      </button>\n",
       "      \n",
       "  <style>\n",
       "    .colab-df-container {\n",
       "      display:flex;\n",
       "      flex-wrap:wrap;\n",
       "      gap: 12px;\n",
       "    }\n",
       "\n",
       "    .colab-df-convert {\n",
       "      background-color: #E8F0FE;\n",
       "      border: none;\n",
       "      border-radius: 50%;\n",
       "      cursor: pointer;\n",
       "      display: none;\n",
       "      fill: #1967D2;\n",
       "      height: 32px;\n",
       "      padding: 0 0 0 0;\n",
       "      width: 32px;\n",
       "    }\n",
       "\n",
       "    .colab-df-convert:hover {\n",
       "      background-color: #E2EBFA;\n",
       "      box-shadow: 0px 1px 2px rgba(60, 64, 67, 0.3), 0px 1px 3px 1px rgba(60, 64, 67, 0.15);\n",
       "      fill: #174EA6;\n",
       "    }\n",
       "\n",
       "    [theme=dark] .colab-df-convert {\n",
       "      background-color: #3B4455;\n",
       "      fill: #D2E3FC;\n",
       "    }\n",
       "\n",
       "    [theme=dark] .colab-df-convert:hover {\n",
       "      background-color: #434B5C;\n",
       "      box-shadow: 0px 1px 3px 1px rgba(0, 0, 0, 0.15);\n",
       "      filter: drop-shadow(0px 1px 2px rgba(0, 0, 0, 0.3));\n",
       "      fill: #FFFFFF;\n",
       "    }\n",
       "  </style>\n",
       "\n",
       "      <script>\n",
       "        const buttonEl =\n",
       "          document.querySelector('#df-54ff9403-6dd7-4ed9-b95e-77b2c8cc6a70 button.colab-df-convert');\n",
       "        buttonEl.style.display =\n",
       "          google.colab.kernel.accessAllowed ? 'block' : 'none';\n",
       "\n",
       "        async function convertToInteractive(key) {\n",
       "          const element = document.querySelector('#df-54ff9403-6dd7-4ed9-b95e-77b2c8cc6a70');\n",
       "          const dataTable =\n",
       "            await google.colab.kernel.invokeFunction('convertToInteractive',\n",
       "                                                     [key], {});\n",
       "          if (!dataTable) return;\n",
       "\n",
       "          const docLinkHtml = 'Like what you see? Visit the ' +\n",
       "            '<a target=\"_blank\" href=https://colab.research.google.com/notebooks/data_table.ipynb>data table notebook</a>'\n",
       "            + ' to learn more about interactive tables.';\n",
       "          element.innerHTML = '';\n",
       "          dataTable['output_type'] = 'display_data';\n",
       "          await google.colab.output.renderOutput(dataTable, element);\n",
       "          const docLink = document.createElement('div');\n",
       "          docLink.innerHTML = docLinkHtml;\n",
       "          element.appendChild(docLink);\n",
       "        }\n",
       "      </script>\n",
       "    </div>\n",
       "  </div>\n",
       "  "
      ],
      "text/plain": [
       "     Flow ID      Date      Time Count\n",
       "1110       7  08/04/05  13:30:00     9\n",
       "1582       7  08/09/05  11:30:00     9\n",
       "4456       7  09/08/05  10:00:00     9\n",
       "4458       7  09/08/05  10:30:00     9\n",
       "6870       7  10/03/05  13:30:00     9\n",
       "4465       9  09/08/05  12:00:00     9\n",
       "1502       7  08/08/05  15:30:00     9\n",
       "6866       7  10/03/05  12:30:00     9\n",
       "4478       7  09/08/05  15:30:00     9\n",
       "1509       9  08/08/05  17:00:00     9"
      ]
     },
     "execution_count": 24,
     "metadata": {},
     "output_type": "execute_result"
    }
   ],
   "source": [
    "## Selecting Data 2. \n",
    "count_select = calit2_dataFrame['Count'] > '5'\n",
    "selecting_data2 = calit2_dataFrame[count_select].sort_values('Count', ascending=False)\n",
    "print ('Selecting Data: Problem 2:')\n",
    "selecting_data2.head(10)\n",
    "#calit2_dataFrame[(calit2_dataFrame['Date'] == '07/24/05')]"
   ]
  },
  {
   "cell_type": "markdown",
   "metadata": {
    "id": "qUkHKZLlEilL"
   },
   "source": [
    "#### Apply function ####\n",
    "1. For the 10 rows outputted above, use Pandas Apply function to subtract lowest value of the 10 from all of them and then output the average value of the resulting counts\n",
    "2. On the entire data, use apply function to sum all counts with flow_id=9 and date is 07/24/05"
   ]
  },
  {
   "cell_type": "code",
   "execution_count": 25,
   "metadata": {
    "colab": {
     "base_uri": "https://localhost:8080/"
    },
    "collapsed": true,
    "id": "WmumJ5N4EilL",
    "jupyter": {
     "outputs_hidden": true
    },
    "outputId": "6ce17922-2bdb-4827-da58-d875d24105e5"
   },
   "outputs": [
    {
     "name": "stdout",
     "output_type": "stream",
     "text": [
      "Apply Function: Problem 1: 0.0\n",
      "Apply Function: Problem 12: 16.0\n"
     ]
    },
    {
     "name": "stderr",
     "output_type": "stream",
     "text": [
      "/usr/local/lib/python3.7/dist-packages/pandas/core/generic.py:5516: SettingWithCopyWarning: \n",
      "A value is trying to be set on a copy of a slice from a DataFrame.\n",
      "Try using .loc[row_indexer,col_indexer] = value instead\n",
      "\n",
      "See the caveats in the documentation: https://pandas.pydata.org/pandas-docs/stable/user_guide/indexing.html#returning-a-view-versus-a-copy\n",
      "  self[name] = value\n"
     ]
    }
   ],
   "source": [
    "apply_function_1 = selecting_data2.head(10)\n",
    "apply_function_2 = apply_function_1.Count.apply(lambda x: float(x))\n",
    "min_Count = float(apply_function_1.Count.min())\n",
    "apply_function_1 = apply_function_1.Count.apply(lambda x: float(x) - min_Count).mean()\n",
    "print('Apply Function: Problem 1: {0}'.format(apply_function_1))\n",
    "#calit2_dataFrame\n",
    "date_select= calit2_dataFrame['Date'] == '07/24/05'\n",
    "flowID_select = calit2_dataFrame['Flow ID'] == '9'\n",
    "\n",
    "\n",
    "calit2_dataFrame = calit2_dataFrame[date_select & flowID_select]\n",
    "\n",
    "calit2_dataFrame.Count = calit2_dataFrame.Count.apply(lambda x: float(x))\n",
    "print ('Apply Function: Problem 12: {0}'.format(np.sum(calit2_dataFrame.Count.values.tolist())))"
   ]
  },
  {
   "cell_type": "markdown",
   "metadata": {
    "id": "Tb3e92y3EilM"
   },
   "source": [
    "#### Indexing an Selecting ####\n",
    "Exlain the following\n",
    "\n",
    "1. loc: \n",
    "2. iloc:\n",
    "3. ix:\n",
    "4. at:\n",
    "5. iat:\n",
    "\n",
    "Highlight the differences by providing usecases where one is more useful than the other\n",
    "\n",
    "\n",
    "Write a function to take two dates as input and return all flow ids and counts in that date range having both the dates inclusive. You can use pandas to_datetime function to convert the date to pandas datetime format "
   ]
  },
  {
   "cell_type": "markdown",
   "metadata": {
    "id": "RVi3tYW2EilM"
   },
   "source": [
    "#### Grouping ####\n",
    "1. Select data in the month of August 2005 having flow id=7\n",
    "2. Group the data based on date and get the max count per date"
   ]
  },
  {
   "cell_type": "code",
   "execution_count": 27,
   "metadata": {
    "colab": {
     "base_uri": "https://localhost:8080/"
    },
    "collapsed": true,
    "id": "62KAABjjEilN",
    "jupyter": {
     "outputs_hidden": true
    },
    "outputId": "cc5c01ed-5130-4b3e-d8e3-643ffe184d47"
   },
   "outputs": [
    {
     "name": "stdout",
     "output_type": "stream",
     "text": [
      "Empty DataFrame\n",
      "Columns: [Flow ID, Date, Time, Count]\n",
      "Index: []\n",
      "Empty DataFrame\n",
      "Columns: [Flow ID, Time, Count]\n",
      "Index: []\n"
     ]
    }
   ],
   "source": [
    "id_condition = calit2_dataFrame['Flow ID'] == 7\n",
    "part_date_condition = calit2_dataFrame.Date.str.startswith('08')\n",
    "part2_date_condition = calit2_dataFrame.Date.str.endswith('05')\n",
    "date_condition = part_date_condition & part2_date_condition\n",
    "grouping_1 = calit2_dataFrame[id_condition & date_condition]\n",
    "print (grouping_1)\n",
    "\n",
    "\n",
    "g2 = grouping_1.groupby('Date')\n",
    "print (g2.max())"
   ]
  },
  {
   "cell_type": "markdown",
   "metadata": {
    "id": "kr1vWNZIEilN"
   },
   "source": [
    "#### Stacking, Unstacking ####\n",
    "1. Stack the data with count and flow_id as indexes\n",
    "2. Use reset_index to reset the stacked hierarchy by 1 level. The index then will just be the counts\n",
    "3. Unstack the data to get back original data"
   ]
  },
  {
   "cell_type": "code",
   "execution_count": 30,
   "metadata": {
    "colab": {
     "base_uri": "https://localhost:8080/"
    },
    "collapsed": true,
    "id": "Tou6xVZdEilN",
    "jupyter": {
     "outputs_hidden": true
    },
    "outputId": "b9f54412-f5a0-4826-9ede-468a8ff9dd5b"
   },
   "outputs": [
    {
     "name": "stdout",
     "output_type": "stream",
     "text": [
      "Stacking 1. \n",
      "\n"
     ]
    },
    {
     "data": {
      "text/plain": [
       "Count  Flow ID      \n",
       "0.0    9        Date    07/24/05\n",
       "                Time    00:00:00\n",
       "                Date    07/24/05\n",
       "                Time    00:30:00\n",
       "                Date    07/24/05\n",
       "                          ...   \n",
       "                Time    22:30:00\n",
       "                Date    07/24/05\n",
       "                Time    23:00:00\n",
       "                Date    07/24/05\n",
       "                Time    23:30:00\n",
       "Length: 96, dtype: object"
      ]
     },
     "execution_count": 30,
     "metadata": {},
     "output_type": "execute_result"
    }
   ],
   "source": [
    "stack1 = calit2_dataFrame.set_index(['Count', 'Flow ID']).stack()\n",
    "print (\"Stacking 1. \\n\")\n",
    "stack1\n",
    "\n"
   ]
  },
  {
   "cell_type": "markdown",
   "metadata": {
    "id": "D638bzcVEilN"
   },
   "source": [
    "#### Pandas and Matplotlib\n",
    "\n",
    "Plot a histogram of date vs total counts for flow_id=7 and flow_id=9 for the month of July 2005"
   ]
  },
  {
   "cell_type": "code",
   "execution_count": 31,
   "metadata": {
    "colab": {
     "base_uri": "https://localhost:8080/",
     "height": 738
    },
    "collapsed": true,
    "id": "xojjFhi5EilO",
    "jupyter": {
     "outputs_hidden": true
    },
    "outputId": "244fe034-a494-4ad9-f5e1-e1d1db7b4612"
   },
   "outputs": [
    {
     "name": "stderr",
     "output_type": "stream",
     "text": [
      "/usr/local/lib/python3.7/dist-packages/ipykernel_launcher.py:8: SettingWithCopyWarning: \n",
      "A value is trying to be set on a copy of a slice from a DataFrame.\n",
      "Try using .loc[row_indexer,col_indexer] = value instead\n",
      "\n",
      "See the caveats in the documentation: https://pandas.pydata.org/pandas-docs/stable/user_guide/indexing.html#returning-a-view-versus-a-copy\n",
      "  \n"
     ]
    },
    {
     "data": {
      "text/plain": [
       "Text(0, 0.5, '# of Visitors')"
      ]
     },
     "execution_count": 31,
     "metadata": {},
     "output_type": "execute_result"
    },
    {
     "data": {
      "image/png": "[encoded data removed]",
      "text/plain": [
       "<Figure size 1440x720 with 1 Axes>"
      ]
     },
     "metadata": {
      "needs_background": "light"
     },
     "output_type": "display_data"
    }
   ],
   "source": [
    "mask = (calit2_dataFrame['Date'] >= '07/01/05') & (calit2_dataFrame['Date'] <= '07/31/05')\n",
    "#& (df['date'] <= '2000-6-10')\n",
    "#print np.shape((calit2_dataFrame.loc[mask]))\n",
    "calit2_dataFrame = calit2_dataFrame.loc[mask]\n",
    "#np.nansum(calit2_dataFrame['Count'])\n",
    "#df.hist(layout=(1,2))\n",
    "timeCount_df = calit2_dataFrame[['Time','Count']]\n",
    "timeCount_df['Time'] = timeCount_df['Time'].apply(lambda x: x[:5])\n",
    "ax = timeCount_df.plot(x='Time', y='Count', kind='bar', legend=False, figsize=(20, 10), title='July Entries to CALIT2')\n",
    "\n",
    "ax.yaxis.set_ticks(np.arange(0, 5, 1.0))\n",
    "ax.set_ylabel(\"# of Visitors\")"
   ]
  }
 ],
 "metadata": {
  "colab": {
   "collapsed_sections": [],
   "name": "02 Pandas Exercise.ipynb",
   "provenance": []
  },
  "kernelspec": {
   "display_name": "Python 3 (ipykernel)",
   "language": "python",
   "name": "python3"
  },
  "language_info": {
   "codemirror_mode": {
    "name": "ipython",
    "version": 3
   },
   "file_extension": ".py",
   "mimetype": "text/x-python",
   "name": "python",
   "nbconvert_exporter": "python",
   "pygments_lexer": "ipython3",
   "version": "3.9.7"
  }
 },
 "nbformat": 4,
 "nbformat_minor": 1
}
