{
 "cells": [
  {
   "cell_type": "code",
   "execution_count": null,
   "id": "6c04c4e7-bbe6-4798-b118-f31e8cc9788e",
   "metadata": {},
   "outputs": [
    {
     "name": "stdout",
     "output_type": "stream",
     "text": [
      " 7\n"
     ]
    },
    {
     "name": "stdout",
     "output_type": "stream",
     "text": [
      "count : 3\n",
      "[2, 3, 5]\n"
     ]
    }
   ],
   "source": [
    "# no of prime no. within  a range\n",
    "count = 1\n",
    "\n",
    "n = int(input())\n",
    "ls = [2]\n",
    "for i in range(3, n):\n",
    "    flag = 0\n",
    "    for j in range(2,i) :\n",
    "        if i % j == 0:\n",
    "            flag = 1\n",
    "            break\n",
    "    if flag == 0:\n",
    "        ls.append(i)\n",
    "        count += 1\n",
    "\n",
    "print(f'count : {count}')\n",
    "print(ls)\n"
   ]
  },
  {
   "cell_type": "code",
   "execution_count": 19,
   "id": "bc47b9e3-d737-49ea-b865-6a1dcdd35e43",
   "metadata": {},
   "outputs": [
    {
     "name": "stdout",
     "output_type": "stream",
     "text": [
      " 5\n"
     ]
    },
    {
     "name": "stdout",
     "output_type": "stream",
     "text": [
      "11\n"
     ]
    }
   ],
   "source": [
    "# nth prime num\n",
    "\n",
    "n = int(input())\n",
    "\n",
    "i = 3\n",
    "c = 1\n",
    "\n",
    "while True:\n",
    "    flag = 0\n",
    "    for j in range(2,i):\n",
    "        if i%j == 0:\n",
    "            flag = 1\n",
    "            break\n",
    "    if flag == 0:\n",
    "        c = c+1\n",
    "        if c == n:\n",
    "            break\n",
    "    i= i+1\n",
    "\n",
    "print(i)              # 2,3,5,7,11"
   ]
  },
  {
   "cell_type": "code",
   "execution_count": 11,
   "id": "864ddae1-9c9b-457c-ac5f-cb0217ee8e4d",
   "metadata": {},
   "outputs": [
    {
     "name": "stdout",
     "output_type": "stream",
     "text": [
      "3\n"
     ]
    }
   ],
   "source": [
    "# printing nth fibbo\n",
    "\n",
    "def fibbo(n):\n",
    "    if n == 0:\n",
    "        return 0\n",
    "    elif n == 1:\n",
    "        return 1\n",
    "    return fibbo(n-2) + fibbo(n-1)\n",
    "\n",
    "print(fibbo(5-1))"
   ]
  },
  {
   "cell_type": "code",
   "execution_count": 41,
   "id": "e4d247a2-eaa5-4376-896b-10c886a563e7",
   "metadata": {},
   "outputs": [
    {
     "name": "stdout",
     "output_type": "stream",
     "text": [
      " 7\n"
     ]
    },
    {
     "name": "stdout",
     "output_type": "stream",
     "text": [
      "8\n",
      "[0, 1, 1, 2, 3, 5, 8]\n"
     ]
    }
   ],
   "source": [
    "a = 0\n",
    "b = 1\n",
    "\n",
    "c = 2\n",
    "ls = [a,b ]\n",
    "n = int(input())\n",
    "\n",
    "while  n > c:\n",
    "    d = a+b\n",
    "    ls.append(d)\n",
    "    \n",
    "    a = b\n",
    "    b= d\n",
    "    c = c+1\n",
    "print(d)\n",
    "print(ls)\n",
    "\n"
   ]
  },
  {
   "cell_type": "code",
   "execution_count": 32,
   "id": "7459e8aa-6d79-4c32-b5cd-7e1f22ef8c7e",
   "metadata": {},
   "outputs": [
    {
     "name": "stdout",
     "output_type": "stream",
     "text": [
      "3\n"
     ]
    }
   ],
   "source": [
    "# cumelative sum\n",
    "\n",
    "def suma(n):        \n",
    "    if len(str(n)) == 1:\n",
    "        return n\n",
    "\n",
    "    return suma(sum([int(i) for i in str(n)]))\n",
    "\n",
    "print(suma(123456))\n",
    "        "
   ]
  },
  {
   "cell_type": "code",
   "execution_count": null,
   "id": "99cb6082-f680-4e3b-a87a-575052f4cb77",
   "metadata": {},
   "outputs": [],
   "source": [
    "\n",
    "            \n",
    "    "
   ]
  },
  {
   "cell_type": "code",
   "execution_count": 33,
   "id": "2333a14a-1809-427b-8594-746284e36dd0",
   "metadata": {},
   "outputs": [
    {
     "name": "stdout",
     "output_type": "stream",
     "text": [
      "[1 2 3 4 5]\n"
     ]
    }
   ],
   "source": [
    "import numpy\n",
    "\n",
    "arr = numpy.array([1, 2, 3, 4, 5])\n",
    "\n",
    "print(arr)\n"
   ]
  },
  {
   "cell_type": "code",
   "execution_count": 34,
   "id": "c3852b5e-0269-4016-8fd9-865f91ef8dcf",
   "metadata": {},
   "outputs": [
    {
     "data": {
      "text/plain": [
       "array([ 5, 10, 15, 20, 25])"
      ]
     },
     "execution_count": 34,
     "metadata": {},
     "output_type": "execute_result"
    }
   ],
   "source": [
    "arr *5"
   ]
  },
  {
   "cell_type": "code",
   "execution_count": 35,
   "id": "80e219c3-b42d-4e74-9e00-0faece3f23ab",
   "metadata": {},
   "outputs": [
    {
     "data": {
      "text/plain": [
       "array([ 1,  4,  9, 16, 25])"
      ]
     },
     "execution_count": 35,
     "metadata": {},
     "output_type": "execute_result"
    }
   ],
   "source": [
    "arr **2"
   ]
  },
  {
   "cell_type": "code",
   "execution_count": 36,
   "id": "81f4cd44-aa9a-41fa-8990-0b0be85804d7",
   "metadata": {},
   "outputs": [
    {
     "data": {
      "text/plain": [
       "[1, 3, 1, 3]"
      ]
     },
     "execution_count": 36,
     "metadata": {},
     "output_type": "execute_result"
    }
   ],
   "source": [
    "a=[1, 3]\n",
    "a*2"
   ]
  },
  {
   "cell_type": "code",
   "execution_count": 42,
   "id": "47b4f983-3727-42ea-9310-409eaf97c587",
   "metadata": {},
   "outputs": [
    {
     "name": "stdout",
     "output_type": "stream",
     "text": [
      "[42 44]\n"
     ]
    }
   ],
   "source": [
    "import numpy as np\n",
    "\n",
    "arr = np.array([41, 42, 43, 44])\n",
    "ms = (arr % 2 == 0)\n",
    "newarr = arr[ms]\n",
    "\n",
    "print(newarr)"
   ]
  },
  {
   "cell_type": "code",
   "execution_count": null,
   "id": "0499d29c-c201-4782-9e87-3892cb10d598",
   "metadata": {},
   "outputs": [],
   "source": []
  },
  {
   "cell_type": "code",
   "execution_count": 5,
   "id": "c66a8fb7-921f-4d08-a3f6-9241e4944229",
   "metadata": {},
   "outputs": [
    {
     "name": "stdout",
     "output_type": "stream",
     "text": [
      "[4, 5, 1, 2, 3]\n"
     ]
    }
   ],
   "source": [
    "# 1. Write a Python function to rotate a list to the right by k steps.\n",
    "# Input: [1, 2, 3, 4, 5], k=2\n",
    "# Output: [4, 5, 1, 2, 3]\n",
    "\n",
    "def rotete(n, k):\n",
    "    while k > 0:\n",
    "        new = n.pop()\n",
    "        n.insert(0,new)\n",
    "        k = k-1\n",
    "    return n\n",
    "\n",
    "print(rotete([1,2,3,4,5],2))\n",
    "    "
   ]
  },
  {
   "cell_type": "code",
   "execution_count": 8,
   "id": "f737f7c3-4ce6-469d-af32-d90a8e47d11e",
   "metadata": {},
   "outputs": [
    {
     "name": "stdout",
     "output_type": "stream",
     "text": [
      "w\n"
     ]
    }
   ],
   "source": [
    "# 2. Given a string, return the first non-repeating character.\n",
    "# Input: \"swiss\"\n",
    "# Output: 'w'\n",
    "\n",
    "def nonrep(n):\n",
    "    for i in n:\n",
    "        if n.count(i) == 1:\n",
    "            return i\n",
    "            break\n",
    "print(nonrep(\"swiss\"))"
   ]
  },
  {
   "cell_type": "code",
   "execution_count": 10,
   "id": "54f05e10-e1b9-44db-9a29-05fbd1fef32e",
   "metadata": {},
   "outputs": [
    {
     "name": "stdout",
     "output_type": "stream",
     "text": [
      "{'hello': 2, 'world': 1}\n"
     ]
    }
   ],
   "source": [
    "# 3. Write a Python program to count the frequency of words in a string.\n",
    "# Input: \"hello world hello\"\n",
    "# Output: {'hello': 2, 'world': 1}\n",
    "\n",
    "def cou(n):\n",
    "    n = n.split()\n",
    "    ans = {}\n",
    "    for i in n:\n",
    "        if i in ans:\n",
    "            ans[i] = ans[i] +1\n",
    "        else:\n",
    "            ans[i] = 1\n",
    "    return ans\n",
    "\n",
    "print(cou(\"hello world hello\"))\n",
    "        "
   ]
  },
  {
   "cell_type": "code",
   "execution_count": null,
   "id": "03f932ba-602a-450d-aff9-76275e2c5ba7",
   "metadata": {},
   "outputs": [],
   "source": [
    "# 4. Write Python code to read a file line by line and count the number of lines that contain the word \"error\".\n",
    "\n",
    "# def count_error_lines(file_path):\n",
    "#     error_count = 0\n",
    "#     with open(file_path, \"r\", encoding=\"utf-8\") as file:\n",
    "#         for line in file:\n",
    "#             if \"error\" in line.lower():  # Case-insensitive search\n",
    "#                 error_count += 1\n",
    "#     return error_count\n",
    "\n",
    "# # Example usage\n",
    "# file_path = \"logfile.txt\"  # Replace with your file path\n",
    "# error_lines = count_error_lines(file_path)\n",
    "# print(f\"Number of lines containing 'error': {error_lines}\")"
   ]
  },
  {
   "cell_type": "code",
   "execution_count": 16,
   "id": "8112d176-25de-47fd-baa1-60674d97b296",
   "metadata": {},
   "outputs": [
    {
     "name": "stdout",
     "output_type": "stream",
     "text": [
      "[ 0 15 30 45 60 75 90]\n"
     ]
    }
   ],
   "source": [
    "# 6. Generate a list of all numbers divisible by 3 and 5 between 1 and 100.\n",
    "import numpy as np\n",
    "ar = np.array([i for i in range(101)])\n",
    "\n",
    "mas = (ar%3 == 0)\n",
    "ss = (ar % 5 ==0 )\n",
    "\n",
    "print(ar[mas & ss])"
   ]
  },
  {
   "cell_type": "code",
   "execution_count": 17,
   "id": "11840d54-64bd-450d-8c27-49f50cce85d1",
   "metadata": {},
   "outputs": [
    {
     "name": "stdout",
     "output_type": "stream",
     "text": [
      "0\n",
      "15\n",
      "30\n",
      "45\n",
      "60\n",
      "75\n",
      "90\n"
     ]
    }
   ],
   "source": [
    "for i in range(101):\n",
    "    if i%3 == 0 and i%5 ==0:\n",
    "        print(i)"
   ]
  },
  {
   "cell_type": "code",
   "execution_count": 27,
   "id": "385dccb3-c5b4-41f6-adc3-d8b5d302086b",
   "metadata": {},
   "outputs": [
    {
     "name": "stdout",
     "output_type": "stream",
     "text": [
      "[(1, 3), (4, 2), (2, 1)]\n"
     ]
    }
   ],
   "source": [
    "# 7. Given a list of tuples, sort them by the second value in descending order.\n",
    "Input= [(1, 3), (2, 1), (4, 2)]\n",
    "# Output: [(1, 3), (4, 2), (2, 1)]\n",
    "\n",
    "def sortt(n):\n",
    "    ind = [i[-1] for i in n]\n",
    "    # print(ind)\n",
    "    ab = sorted(ind)[::-1]\n",
    "    # print(ab)\n",
    "    fil = [ind.index(i) for i in ab]\n",
    "    ans = []\n",
    "    for i in fil:\n",
    "        ans.append(n[i])\n",
    "    return ans\n",
    "\n",
    "print(sortt(Input))\n",
    "    "
   ]
  },
  {
   "cell_type": "code",
   "execution_count": 29,
   "id": "c125e2d6-9f7e-4d43-bd24-14ebbe4672bd",
   "metadata": {},
   "outputs": [
    {
     "data": {
      "text/plain": [
       "[(1, 3), (4, 2), (2, 1)]"
      ]
     },
     "execution_count": 29,
     "metadata": {},
     "output_type": "execute_result"
    }
   ],
   "source": [
    "# Input list of tuples\n",
    "data = [(1, 3), (2, 1), (4, 2)]\n",
    "\n",
    "# Sorting based on the second element in descending order\n",
    "sorted_data = sorted(data, key=lambda x: x[1], reverse=True)\n",
    "sorted_data"
   ]
  },
  {
   "cell_type": "code",
   "execution_count": null,
   "id": "21beb6c9-8045-40b8-9d88-fb78f9b1fd29",
   "metadata": {},
   "outputs": [],
   "source": [
    "# 8. Write a Python program to extract all email addresses from a given text.\n",
    "\n",
    "# import re\n",
    "\n",
    "# def extract_emails(text):\n",
    "#     # Regular expression pattern for extracting email addresses\n",
    "#     email_pattern = r'[a-zA-Z0-9._%+-]+@[a-zA-Z0-9.-]+\\.[a-zA-Z]{2,}'\n",
    "    \n",
    "#     # Find all email addresses in the text\n",
    "#     emails = re.findall(email_pattern, text)\n",
    "    \n",
    "#     return emails"
   ]
  },
  {
   "cell_type": "code",
   "execution_count": 35,
   "id": "a06406e7-7b2a-414c-9d83-67eb11a3aab8",
   "metadata": {},
   "outputs": [
    {
     "name": "stdout",
     "output_type": "stream",
     "text": [
      "[1, 2, 3, 4, 5, 6, 7]\n"
     ]
    }
   ],
   "source": [
    "def flatten_list(nested_list):\n",
    "    flat_list = []\n",
    "    for item in nested_list:\n",
    "        if isinstance(item, list):  # Check if item is a list\n",
    "            flat_list.extend(flatten_list(item))  # Recursively flatten\n",
    "        else:\n",
    "            flat_list.append(item)\n",
    "    return flat_list\n",
    "\n",
    "# Example usage\n",
    "nested_list = [[1, 2], [3, 4, [5, 6]], 7]\n",
    "flattened = flatten_list(nested_list)\n",
    "print(flattened)\n"
   ]
  },
  {
   "cell_type": "code",
   "execution_count": 36,
   "id": "9ca85d47-59b9-45aa-b48a-28c28343b8a8",
   "metadata": {},
   "outputs": [
    {
     "name": "stdout",
     "output_type": "stream",
     "text": [
      "[1, 2, 3, 4, 5, 6, 7]\n"
     ]
    }
   ],
   "source": [
    "# 10. Flatten a nested list into a single list.\n",
    "Input = [[1, 2], [3, 4, [5, 6]], 7]\n",
    "# Output: [1, 2, 3, 4, 5, 6, 7]\n",
    "\n",
    "def flat_list(Input1):\n",
    "    ans =[]\n",
    "    for i in Input1:\n",
    "        if isinstance(i, list):\n",
    "            ans.extend(flat_list(i))\n",
    "        else:\n",
    "            ans.append(i)\n",
    "    return ans\n",
    "\n",
    "print(flat_list(Input))"
   ]
  },
  {
   "cell_type": "code",
   "execution_count": null,
   "id": "27ca1701-4516-4bee-b251-e01f8f4e5898",
   "metadata": {},
   "outputs": [],
   "source": []
  },
  {
   "cell_type": "code",
   "execution_count": 40,
   "id": "b9a0ae02-3d04-423f-90e2-0e508df3e443",
   "metadata": {},
   "outputs": [
    {
     "data": {
      "text/plain": [
       "False"
      ]
     },
     "execution_count": 40,
     "metadata": {},
     "output_type": "execute_result"
    }
   ],
   "source": [
    "def pal(n, k):\n",
    "    if k > len(n)/2:\n",
    "        return\n",
    "    if n[k] == n[len(n)-k-1]:\n",
    "        pal(n,k+1)\n",
    "\n",
    "    else:\n",
    "        return False\n",
    "    return True\n",
    "\n",
    "pal(\"varun\",0)\n",
    "        "
   ]
  },
  {
   "cell_type": "code",
   "execution_count": 47,
   "id": "b40e0839-836e-409d-85e2-6984f8daa350",
   "metadata": {},
   "outputs": [
    {
     "name": "stdout",
     "output_type": "stream",
     "text": [
      "[2, 4, 5, 7, 8]\n"
     ]
    }
   ],
   "source": [
    "#selection sort\n",
    "\n",
    "a = [4,7,2,8,5]\n",
    "\n",
    "for i in range(len(a)):\n",
    "    mina = i\n",
    "    for j in range(i+1, len(a)):\n",
    "        if a[mina] > a[j]:\n",
    "            mina = j\n",
    "    (a[mina] , a[i]) = (a[i] , a[mina])\n",
    "\n",
    "print(a)"
   ]
  },
  {
   "cell_type": "code",
   "execution_count": 50,
   "id": "6c3124c5-8f7f-4cf5-95d9-5db5df2219a3",
   "metadata": {},
   "outputs": [
    {
     "name": "stdout",
     "output_type": "stream",
     "text": [
      "[2, 4, 5, 7, 8]\n"
     ]
    }
   ],
   "source": [
    "# bubble sort\n",
    "a = [4,7,2,8,5]\n",
    "\n",
    "l = len(a)\n",
    "swapped = 1\n",
    "while l > 0:\n",
    "    for i in range(l-1):\n",
    "        if a[i] > a[i+1]:\n",
    "            swapped = 0\n",
    "            (a[i], a[i+1]) = (a[i+1], a[i])\n",
    "    if swapped == 1:\n",
    "        break\n",
    "    l =l-1\n",
    "print(a)\n"
   ]
  },
  {
   "cell_type": "code",
   "execution_count": 52,
   "id": "91a7c3d2-7e75-4abe-885c-ddf0aac40950",
   "metadata": {},
   "outputs": [
    {
     "name": "stdout",
     "output_type": "stream",
     "text": [
      "[2, 4, 5, 7, 8]\n"
     ]
    }
   ],
   "source": [
    "# insertion sort\n",
    "a = [4,7,2,8,5]\n",
    "l = len(a)\n",
    "\n",
    "for i in range(1,l):\n",
    "    key = a[i]\n",
    "    j = i-1\n",
    "    while j>=0 and a[j] > key:\n",
    "        a[j+1] = a[j]\n",
    "        j =j-1\n",
    "    a[j+1] = key\n",
    "\n",
    "print(a)"
   ]
  },
  {
   "cell_type": "code",
   "execution_count": 2,
   "id": "08d03197-1b97-4af5-a2ff-ed954180637d",
   "metadata": {},
   "outputs": [
    {
     "name": "stdout",
     "output_type": "stream",
     "text": [
      "[2, 4, 5, 7, 8]\n"
     ]
    }
   ],
   "source": [
    "#merge sort\n",
    "\n",
    "a = [4,7,2,8,5]\n",
    "\n",
    "def merge_sort(a):\n",
    "    if len(a) <= 1:\n",
    "        return a\n",
    "\n",
    "    mid = len(a)//2\n",
    "    left_sort = merge_sort(a[:mid])\n",
    "    right_sort = merge_sort(a[mid:])\n",
    "\n",
    "    return merge(left_sort, right_sort)\n",
    "\n",
    "def merge(l , r):\n",
    "    res = []\n",
    "    c, d = 0, 0\n",
    "\n",
    "    while c < len(l) and d < len(r):\n",
    "        if l[c] < r[d]:\n",
    "            res.append(l[c])\n",
    "            c =c+1\n",
    "        else:\n",
    "            res.append(r[d])\n",
    "            d =d+1\n",
    "\n",
    "    res.extend(l[c:])\n",
    "    res.extend(r[d:])\n",
    "\n",
    "    return res\n",
    "\n",
    "print(merge_sort(a))"
   ]
  },
  {
   "cell_type": "code",
   "execution_count": 6,
   "id": "d36004f9-a8fb-4f8c-8bac-2e4c5f4a4011",
   "metadata": {},
   "outputs": [
    {
     "name": "stdout",
     "output_type": "stream",
     "text": [
      "2\n",
      "2\n",
      "5\n",
      "[2, 3, 5, 6, 6, 53]\n"
     ]
    }
   ],
   "source": [
    "#selecti\n",
    "\n",
    "a = [3,5,2,6,53,6]\n",
    "\n",
    "for i in range(len(a)):\n",
    "    mina = i\n",
    "    for j in range(i, len(a)):\n",
    "        if a[mina] > a[j]:\n",
    "            print(j)\n",
    "            mina =j\n",
    "\n",
    "    (a[mina] , a[i]) = (a[i], a[mina])\n",
    "    \n",
    "\n",
    "print(a)"
   ]
  },
  {
   "cell_type": "code",
   "execution_count": 58,
   "id": "19cfeb30-d66a-4719-a6f7-a4cc4228991f",
   "metadata": {},
   "outputs": [
    {
     "name": "stdout",
     "output_type": "stream",
     "text": [
      "[2, 3, 5, 6, 6, 53]\n"
     ]
    }
   ],
   "source": [
    "# bb\n",
    "a = [3,5,2,6,53,6]\n",
    "\n",
    "l = len(a)\n",
    "\n",
    "while l>0:\n",
    "    for i in range(l-1):\n",
    "        if a[i] > a[i+1]:\n",
    "            (a[i], a[i+1]) = (a[i+1],a[i])\n",
    "\n",
    "    l = l-1\n",
    "\n",
    "print(a)\n"
   ]
  },
  {
   "cell_type": "code",
   "execution_count": 61,
   "id": "d03492ee-23e7-406e-8cd8-7adf27443e56",
   "metadata": {},
   "outputs": [
    {
     "name": "stdout",
     "output_type": "stream",
     "text": [
      "not fount\n"
     ]
    }
   ],
   "source": [
    "# linear serch\n",
    "\n",
    "a = [3,4,12,33,14,21]\n",
    "key = 1\n",
    "\n",
    "for i in range(len(a)):\n",
    "    if a[i] == key:\n",
    "        print(i)\n",
    "        break\n",
    "if i ==len(a)-1:\n",
    "    print(\"not fount\")"
   ]
  },
  {
   "cell_type": "code",
   "execution_count": 10,
   "id": "0db117fb-0e9e-4bad-a9ee-4a5e5f098a03",
   "metadata": {},
   "outputs": [
    {
     "name": "stdout",
     "output_type": "stream",
     "text": [
      "Element is present at index 1\n"
     ]
    }
   ],
   "source": [
    "# Binary Search in python\n",
    "\n",
    "\n",
    "def binarySearch(array, x, low, high):\n",
    "\n",
    "    if high >= low:\n",
    "\n",
    "        mid = low + (high - low)//2\n",
    "\n",
    "        # If found at mid, then return it\n",
    "        if x == array[mid]:\n",
    "            return mid\n",
    "\n",
    "        # Search the right half\n",
    "        elif x > array[mid]:\n",
    "            return binarySearch(array, x, mid + 1, high)\n",
    "\n",
    "        # Search the left half\n",
    "        else:\n",
    "            return binarySearch(array, x, low, mid - 1)\n",
    "\n",
    "    else:\n",
    "        return -1\n",
    "\n",
    "\n",
    "array = [3, 4, 5, 6, 7, 8, 9]\n",
    "x = 4\n",
    "\n",
    "result = binarySearch(array, x, 0, len(array)-1)\n",
    "\n",
    "if result != -1:\n",
    "    print(\"Element is present at index \" + str(result))\n",
    "else:\n",
    "    print(\"Not found\")\n",
    "    "
   ]
  },
  {
   "cell_type": "code",
   "execution_count": 9,
   "id": "511c2c13-b746-4ea3-9246-9eb3e4dd8303",
   "metadata": {},
   "outputs": [
    {
     "name": "stdout",
     "output_type": "stream",
     "text": [
      "Element is present at index 1\n"
     ]
    }
   ],
   "source": [
    "# Binary Search in python\n",
    "\n",
    "\n",
    "def binarySearch(array, x, low, high):\n",
    "\n",
    "    # Repeat until the pointers low and high meet each other\n",
    "    while low <= high:\n",
    "\n",
    "        mid = low + (high - low)//2\n",
    "\n",
    "        if x == array[mid]:\n",
    "            return mid\n",
    "\n",
    "        elif x > array[mid]:\n",
    "            low = mid + 1\n",
    "\n",
    "        else:\n",
    "            high = mid - 1\n",
    "\n",
    "    return -1\n",
    "\n",
    "\n",
    "array = [3, 4, 5, 6, 7, 8, 9]\n",
    "x = 4\n",
    "\n",
    "result = binarySearch(array, x, 0, len(array)-1)\n",
    "\n",
    "if result != -1:\n",
    "    print(\"Element is present at index \" + str(result))\n",
    "else:\n",
    "    print(\"Not found\")"
   ]
  },
  {
   "cell_type": "code",
   "execution_count": null,
   "id": "2cef22f6-7980-4245-9c10-1571302fe900",
   "metadata": {},
   "outputs": [],
   "source": []
  }
 ],
 "metadata": {
  "kernelspec": {
   "display_name": "Python 3 (ipykernel)",
   "language": "python",
   "name": "python3"
  },
  "language_info": {
   "codemirror_mode": {
    "name": "ipython",
    "version": 3
   },
   "file_extension": ".py",
   "mimetype": "text/x-python",
   "name": "python",
   "nbconvert_exporter": "python",
   "pygments_lexer": "ipython3",
   "version": "3.12.7"
  }
 },
 "nbformat": 4,
 "nbformat_minor": 5
}
