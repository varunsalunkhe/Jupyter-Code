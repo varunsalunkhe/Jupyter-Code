{
 "cells": [
  {
   "cell_type": "code",
   "execution_count": 1,
   "id": "16f60480-10e4-4f7d-8597-dcdce699d0c7",
   "metadata": {},
   "outputs": [
    {
     "name": "stdout",
     "output_type": "stream",
     "text": [
      "[0, 1, 2, 4, 5, 7, 34, 56]\n"
     ]
    }
   ],
   "source": [
    "a = [4,5,2,7,34,56,1,0]\n",
    "\n",
    "def sel_sort(a):\n",
    "    for i in range(len(a)):\n",
    "        mina = i\n",
    "        for j in range(i, len(a)):\n",
    "            if a[mina] > a[j]:\n",
    "                mina = j\n",
    "        a[mina], a[i] = a[i], a[mina]\n",
    "    return a\n",
    "\n",
    "print(sel_sort(a))"
   ]
  },
  {
   "cell_type": "code",
   "execution_count": null,
   "id": "7630b443-b8e2-4811-bca6-6991331b66d1",
   "metadata": {},
   "outputs": [
    {
     "name": "stdout",
     "output_type": "stream",
     "text": [
      "[0, 1, 2, 4, 5, 7, 34, 56]\n"
     ]
    }
   ],
   "source": [
    "def bub_sort(a):\n",
    "    swp = 0\n",
    "    l = len(a)\n",
    "    while l>0:\n",
    "        for i in range(l-1):\n",
    "            if a[i] > a[i+1]:\n",
    "                a[i], a[i+1] = a[i+1], a[i]\n",
    "                swp = 1\n",
    "        if swp == 1:\n",
    "            break\n",
    "        \n",
    "        l = l-1\n",
    "    return a\n",
    "print(bub_sort(a))\n"
   ]
  },
  {
   "cell_type": "code",
   "execution_count": 5,
   "id": "db1d91a3-8af0-417f-84cd-c8feefbf6bc4",
   "metadata": {},
   "outputs": [
    {
     "name": "stdout",
     "output_type": "stream",
     "text": [
      "[0, 1, 2, 4, 5, 7, 34, 56]\n"
     ]
    }
   ],
   "source": [
    "def ins_sort(a):\n",
    "    for i in range(1,len(a)):\n",
    "        key = a[i]\n",
    "        j = i-1\n",
    "        while j>=0 and a[j] > key:\n",
    "            a[j+1] = a[j]\n",
    "        a[j+1] = key\n",
    "    return a\n",
    "\n",
    "print(ins_sort(a))"
   ]
  },
  {
   "cell_type": "code",
   "execution_count": 7,
   "id": "dcf3cc4c-9fff-4abf-b232-fb7f20a2dd98",
   "metadata": {},
   "outputs": [
    {
     "name": "stdout",
     "output_type": "stream",
     "text": [
      "[]\n"
     ]
    }
   ],
   "source": [
    "def merr_sort(a):\n",
    "    if len(a)<=0:\n",
    "        return a\n",
    "    mid = len(a)//2\n",
    "\n",
    "    first = merr_sort(a[:mid])\n",
    "    last = merr_sort(a[mid+1:])\n",
    "\n",
    "    return merge(first, last)\n",
    "\n",
    "def merge(a,b):\n",
    "    x,y = 0, 0\n",
    "    res = []\n",
    "    while len(a) > x and len(b) > y:\n",
    "        if a[x] < a[y]:\n",
    "            res.append(a[x])\n",
    "            x = x+1\n",
    "        else:\n",
    "            res.append(a[y])\n",
    "            y = y+1\n",
    "\n",
    "    res.extend(a[x:])\n",
    "    res.extend(a[y:])\n",
    "    return res\n",
    "\n",
    "print(merr_sort(a))"
   ]
  },
  {
   "cell_type": "code",
   "execution_count": null,
   "id": "89be4229-3ad3-4197-b0f5-0e9c2f6b1813",
   "metadata": {},
   "outputs": [],
   "source": []
  }
 ],
 "metadata": {
  "kernelspec": {
   "display_name": "Python 3 (ipykernel)",
   "language": "python",
   "name": "python3"
  },
  "language_info": {
   "codemirror_mode": {
    "name": "ipython",
    "version": 3
   },
   "file_extension": ".py",
   "mimetype": "text/x-python",
   "name": "python",
   "nbconvert_exporter": "python",
   "pygments_lexer": "ipython3",
   "version": "3.12.7"
  }
 },
 "nbformat": 4,
 "nbformat_minor": 5
}
