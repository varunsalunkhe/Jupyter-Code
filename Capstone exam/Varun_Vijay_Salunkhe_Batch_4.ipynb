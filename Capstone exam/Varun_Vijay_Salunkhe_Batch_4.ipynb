{
 "cells": [
  {
   "cell_type": "markdown",
   "id": "a33399cd-9560-4d06-8706-57a72cfa07a9",
   "metadata": {},
   "source": [
    "# Que. 4"
   ]
  },
  {
   "cell_type": "code",
   "execution_count": 45,
   "id": "7460d60c-8228-42fe-a2c6-0ee1bc1b9020",
   "metadata": {},
   "outputs": [
    {
     "name": "stdin",
     "output_type": "stream",
     "text": [
      "Enter the number of terms:  3\n"
     ]
    },
    {
     "name": "stdout",
     "output_type": "stream",
     "text": [
      "The sum of series is 1.83\n"
     ]
    }
   ],
   "source": [
    "n=int(input(\"Enter the number of terms: \"))\n",
    "s=0\n",
    "for i in range(1,n+1):\n",
    "    s=s+(1/i)\n",
    "print(\"The sum of series is\", round(s,2))"
   ]
  },
  {
   "cell_type": "markdown",
   "id": "d2b43ac3-9c37-4422-82b1-dfdfbde2474e",
   "metadata": {},
   "source": [
    "# Que. 5"
   ]
  },
  {
   "cell_type": "code",
   "execution_count": 8,
   "id": "5ffe4988-19d5-4530-bca5-ba7d65ca5804",
   "metadata": {},
   "outputs": [
    {
     "name": "stdout",
     "output_type": "stream",
     "text": [
      "[[20 41 30]\n",
      " [25 25 28]]\n",
      "[[ 400 1681  900]\n",
      " [ 625  625  784]]\n",
      "[[ 400  625  784]\n",
      " [ 625 1681  900]]\n"
     ]
    }
   ],
   "source": [
    "import numpy as np\n",
    "arr1 = np.array([[5, 8, 6], [21,20, 27]]) \n",
    "arr2 = np.array([[15,33, 24], [4,5, 1]])\n",
    "arr3 = np.add(arr1,arr2)\n",
    "print(arr3)\n",
    "arr4 = np.square(arr3)\n",
    "print(arr4)\n",
    "for i in range(0,len(arr4[0])):\n",
    "    arr4[arr4[:, i].sort()]\n",
    "print(arr4)"
   ]
  },
  {
   "cell_type": "markdown",
   "id": "69c55cc7-83aa-44ee-bef7-394aa5955522",
   "metadata": {},
   "source": [
    "# Que. 6\n",
    "Histogram and Bar plot in Seaborn\n",
    "\n",
    "Seaborn is a Python data visualization library based on Matplotlib. It provides a high-level interface for drawing attractive and informative statistical graphics.\n",
    "\n",
    "# Histogram in Seaborn\n",
    "Histograms represent the data distribution by forming bins along the range of the data and then drawing bars to show the number of observations that fall in each bin.\n",
    "\n",
    "Seaborn comes with some datasets and we have used few datasets in our previous chapters. We have learnt how to load the dataset and how to lookup the list of available datasets.\n",
    "\n",
    "Seaborn comes with some datasets and we have used few datasets in our previous chapters. We have learnt how to load the dataset and how to lookup the list of available datasets.\n",
    "\n",
    "# Bar plot in Seaborn\n",
    "A barplot is basically used to aggregate the categorical data according to some methods and by default it’s the mean.\n",
    "\n",
    "It can also be understood as a visualization of the group by action. \n",
    "\n",
    "To use this plot we choose a categorical column for the x-axis and a numerical column for the y-axis, and we see that it creates a plot taking a mean per categorical column.\n",
    "\n"
   ]
  },
  {
   "cell_type": "markdown",
   "id": "16f136e2-9daf-45d8-a0a3-5d6a8db02002",
   "metadata": {},
   "source": [
    "# Que. 7:"
   ]
  },
  {
   "cell_type": "code",
   "execution_count": 11,
   "id": "e8177283-c6a7-4d54-a645-a5e2dbcaa26d",
   "metadata": {},
   "outputs": [
    {
     "name": "stdout",
     "output_type": "stream",
     "text": [
      "  key1 key2    P    Q    R    S\n",
      "0   K0   K0   P0   Q0  NaN  NaN\n",
      "1   K0   K1   P1   Q1  NaN  NaN\n",
      "2   K1   K0   P2   Q2  NaN  NaN\n",
      "3   K2   K1   P3   Q3  NaN  NaN\n",
      "4   K0   K0  NaN  NaN   R0   S0\n",
      "5   K1   K0  NaN  NaN   R1   S1\n",
      "6   K1   K0  NaN  NaN   R2   S2\n",
      "7   K2   K0  NaN  NaN   R3   S3\n"
     ]
    }
   ],
   "source": [
    "import pandas as pd\n",
    "data1 = pd.DataFrame({'key1': ['K0', 'K0', 'K1', 'K2'],\n",
    "                     'key2': ['K0', 'K1', 'K0', 'K1'],\n",
    "                     'P': ['P0', 'P1', 'P2', 'P3'],\n",
    "                     'Q': ['Q0', 'Q1', 'Q2', 'Q3']}) \n",
    "data2 = pd.DataFrame({'key1': ['K0', 'K1', 'K1', 'K2'],\n",
    "                      'key2': ['K0', 'K0', 'K0', 'K0'],\n",
    "                      'R': ['R0', 'R1', 'R2', 'R3'],\n",
    "                      'S': ['S0', 'S1', 'S2', 'S3']})\n",
    "result = pd.concat([data1,data2], axis=0, ignore_index=True)\n",
    "print(result)"
   ]
  },
  {
   "cell_type": "markdown",
   "id": "14868800-5f87-4bcd-841d-713ae8bc6e2f",
   "metadata": {},
   "source": [
    "# Que. 8:-"
   ]
  },
  {
   "cell_type": "code",
   "execution_count": 13,
   "id": "675d9345-900c-447a-91f2-08f11d984ccc",
   "metadata": {},
   "outputs": [
    {
     "name": "stdout",
     "output_type": "stream",
     "text": [
      "  key1 key2   P   Q   R   S\n",
      "0   K0   K0  P0  Q0  R0  S0\n",
      "1   K1   K0  P2  Q2  R1  S1\n",
      "2   K1   K0  P2  Q2  R2  S2\n"
     ]
    }
   ],
   "source": [
    "import pandas as pd\n",
    "data1 = pd.DataFrame({'key1': ['K0', 'K0', 'K1', 'K2'],\n",
    "                     'key2': ['K0', 'K1', 'K0', 'K1'],\n",
    "                     'P': ['P0', 'P1', 'P2', 'P3'],\n",
    "                     'Q': ['Q0', 'Q1', 'Q2', 'Q3']}) \n",
    "data2 = pd.DataFrame({'key1': ['K0', 'K1', 'K1', 'K2'],\n",
    "                      'key2': ['K0', 'K0', 'K0', 'K0'],\n",
    "                      'R': ['R0', 'R1', 'R2', 'R3'],\n",
    "                      'S': ['S0', 'S1', 'S2', 'S3']})\n",
    "merged_data = pd.merge(data1, data2, on=['key1', 'key2'])\n",
    "print(merged_data)"
   ]
  },
  {
   "cell_type": "markdown",
   "id": "f839a893-8789-4927-b920-33102f1a4123",
   "metadata": {},
   "source": [
    "# Que. 9:-"
   ]
  },
  {
   "cell_type": "code",
   "execution_count": 1,
   "id": "e80e9847-4e9e-4724-a130-8181e555f88b",
   "metadata": {},
   "outputs": [],
   "source": [
    "import pandas as pd\n",
    "import numpy as np\n",
    "import seaborn as sns\n",
    "from sklearn.datasets import make_moons\n",
    "import matplotlib.pyplot as plt"
   ]
  },
  {
   "cell_type": "code",
   "execution_count": 2,
   "id": "ed9226a6-57da-412a-af34-ce53a5f97dc0",
   "metadata": {},
   "outputs": [],
   "source": [
    "X,y=make_moons(n_samples=500,noise=0.1)"
   ]
  },
  {
   "cell_type": "code",
   "execution_count": 3,
   "id": "607133cd-56cc-4add-8ddc-d8541756eb48",
   "metadata": {},
   "outputs": [
    {
     "data": {
      "image/png": "[encoded data removed]",
      "text/plain": [
       "<Figure size 432x288 with 1 Axes>"
      ]
     },
     "metadata": {
      "needs_background": "light"
     },
     "output_type": "display_data"
    }
   ],
   "source": [
    "df=pd.DataFrame(dict(x=X[:,0],y=X[:,1],label=y))\n",
    "colors={0:'red',1:'blue'}\n",
    "fig,ax=plt.subplots()\n",
    "grouped=df.groupby('label')\n",
    "for key,group in grouped:\n",
    "  group.plot(ax=ax,kind='scatter',x='x',y='y',label=key,color=colors[key])\n",
    "  plt.show()"
   ]
  },
  {
   "cell_type": "code",
   "execution_count": 4,
   "id": "e0714dbd-e770-478b-b651-a58e4d38527b",
   "metadata": {},
   "outputs": [],
   "source": [
    "target=df.label\n",
    "df.drop(['label'],axis=1,inplace=True)"
   ]
  },
  {
   "cell_type": "code",
   "execution_count": 5,
   "id": "cec04486-55a0-4183-8091-4412e93c998d",
   "metadata": {},
   "outputs": [],
   "source": [
    "y=target\n",
    "X=df"
   ]
  },
  {
   "cell_type": "code",
   "execution_count": 6,
   "id": "8b68a12b-583c-47d8-95ea-8e9ed1d395fc",
   "metadata": {},
   "outputs": [],
   "source": [
    "from sklearn.model_selection import train_test_split\n",
    "x_train,x_val,y_train,y_val=train_test_split(X,y,test_size=0.2,random_state=1)"
   ]
  },
  {
   "cell_type": "code",
   "execution_count": 7,
   "id": "28300f6d-ccae-4483-ac80-e66d4e07359a",
   "metadata": {},
   "outputs": [
    {
     "name": "stdout",
     "output_type": "stream",
     "text": [
      "1.0\n"
     ]
    }
   ],
   "source": [
    "#Dicision tree\n",
    "from sklearn.tree import DecisionTreeClassifier\n",
    "model = DecisionTreeClassifier(random_state=0)\n",
    "model.fit(x_train,y_train)\n",
    "print(model.score(x_train,y_train))\n"
   ]
  },
  {
   "cell_type": "code",
   "execution_count": 8,
   "id": "544084c2-095c-45d2-a057-c2894749ed3b",
   "metadata": {},
   "outputs": [
    {
     "name": "stdout",
     "output_type": "stream",
     "text": [
      "0.98\n"
     ]
    }
   ],
   "source": [
    "y_pred=model.predict(x_val)\n",
    "print(model.score(x_val,y_val))"
   ]
  },
  {
   "cell_type": "code",
   "execution_count": 15,
   "id": "da94ed80-a5f6-49a1-8f2d-ad5dfd138a59",
   "metadata": {},
   "outputs": [
    {
     "data": {
      "text/plain": [
       "BaggingClassifier()"
      ]
     },
     "execution_count": 15,
     "metadata": {},
     "output_type": "execute_result"
    }
   ],
   "source": [
    "# Bagging classifier\n",
    "from sklearn.ensemble import BaggingClassifier\n",
    "\n",
    "classifier = BaggingClassifier()\n",
    "classifier.fit(x_train, y_train)"
   ]
  },
  {
   "cell_type": "code",
   "execution_count": 19,
   "id": "630317c0-2d15-4333-9abc-b52842e25576",
   "metadata": {},
   "outputs": [],
   "source": [
    "train_predictions = classifier.predict(x_train)\n",
    "test_predictions = classifier.predict(x_val)"
   ]
  },
  {
   "cell_type": "code",
   "execution_count": 20,
   "id": "d0caf9ae-b231-4f0f-8ca2-d82708d75737",
   "metadata": {},
   "outputs": [
    {
     "name": "stdout",
     "output_type": "stream",
     "text": [
      "The Testing F1 Score is 1.0\n"
     ]
    }
   ],
   "source": [
    "from sklearn.metrics import f1_score\n",
    "print('The Testing F1 Score is', f1_score(test_predictions, y_val))"
   ]
  },
  {
   "cell_type": "code",
   "execution_count": 9,
   "id": "9fd8305a-2c15-4cc5-a33f-529b06da0a11",
   "metadata": {},
   "outputs": [
    {
     "data": {
      "text/plain": [
       "RandomForestClassifier(max_depth=2, random_state=0)"
      ]
     },
     "execution_count": 9,
     "metadata": {},
     "output_type": "execute_result"
    }
   ],
   "source": [
    "from sklearn.ensemble import RandomForestClassifier\n",
    "model1 = RandomForestClassifier(max_depth=2, random_state=0)\n",
    "model1.fit(x_train,y_train)"
   ]
  },
  {
   "cell_type": "code",
   "execution_count": 10,
   "id": "f4926c18-5353-44c3-af56-aa76f18407b6",
   "metadata": {},
   "outputs": [
    {
     "name": "stdout",
     "output_type": "stream",
     "text": [
      "0.91\n"
     ]
    }
   ],
   "source": [
    "y_pred=model1.predict(x_val)\n",
    "print(model1.score(x_val,y_val))"
   ]
  },
  {
   "cell_type": "code",
   "execution_count": 11,
   "id": "f2d88e68-2937-40d5-9c34-9bd0c6fee372",
   "metadata": {},
   "outputs": [
    {
     "data": {
      "text/plain": [
       "LogisticRegression()"
      ]
     },
     "execution_count": 11,
     "metadata": {},
     "output_type": "execute_result"
    }
   ],
   "source": [
    "from sklearn.linear_model import LogisticRegression\n",
    "model2 = LogisticRegression()\n",
    "model2.fit(x_train,y_train)"
   ]
  },
  {
   "cell_type": "code",
   "execution_count": 12,
   "id": "9fec0aee-4ca5-429a-b62d-5c4b6b1b8f90",
   "metadata": {},
   "outputs": [
    {
     "name": "stdout",
     "output_type": "stream",
     "text": [
      "0.89\n"
     ]
    }
   ],
   "source": [
    "y_pred=model2.predict(x_val)\n",
    "print(model2.score(x_val,y_val))"
   ]
  },
  {
   "cell_type": "code",
   "execution_count": 13,
   "id": "8b987d84-eecc-404f-9cfd-5023405745ca",
   "metadata": {},
   "outputs": [
    {
     "name": "stdout",
     "output_type": "stream",
     "text": [
      "0.92\n"
     ]
    }
   ],
   "source": [
    "# Random forest and voting Classifier\n",
    "from sklearn.ensemble import RandomForestClassifier, VotingClassifier\n",
    "eclf1 = VotingClassifier(estimators=[\n",
    "         ('dt', model), ('rf', model1), ('lr', model2)], voting='hard')\n",
    "eclf1 = eclf1.fit(x_train, y_train)\n",
    "y_pred=eclf1.predict(x_val)\n",
    "print(eclf1.score(x_val,y_val))"
   ]
  },
  {
   "cell_type": "markdown",
   "id": "b8cb0631-de0c-4629-929e-a3692abf7bb9",
   "metadata": {},
   "source": [
    "# Que.10"
   ]
  },
  {
   "cell_type": "code",
   "execution_count": 31,
   "id": "3cf3c5c8-a599-45f0-8371-7e9be8b8e424",
   "metadata": {},
   "outputs": [],
   "source": [
    "import numpy as np\n",
    "import matplotlib.pyplot as plt\n",
    "# Generating Randomized dataset\n",
    "X = 2*np.random.rand(100,1)\n",
    "y = 4 + 3*X+np.random.rand(100,1)"
   ]
  },
  {
   "cell_type": "code",
   "execution_count": 32,
   "id": "e7887fa0-f2ad-4180-b777-e0a8c4af3347",
   "metadata": {},
   "outputs": [
    {
     "data": {
      "text/plain": [
       "<Figure size 1080x1800 with 0 Axes>"
      ]
     },
     "execution_count": 32,
     "metadata": {},
     "output_type": "execute_result"
    },
    {
     "data": {
      "image/png": "[encoded data removed]",
      "text/plain": [
       "<Figure size 432x288 with 1 Axes>"
      ]
     },
     "metadata": {
      "needs_background": "light"
     },
     "output_type": "display_data"
    },
    {
     "data": {
      "text/plain": [
       "<Figure size 1080x1800 with 0 Axes>"
      ]
     },
     "metadata": {},
     "output_type": "display_data"
    }
   ],
   "source": [
    "# Scatter plot\n",
    "plt.scatter(X,y)\n",
    "plt.xlabel('X')\n",
    "plt.ylabel('y')\n",
    "plt.title('X vs y')\n",
    "plt.figure(figsize=(15,25))"
   ]
  },
  {
   "cell_type": "code",
   "execution_count": 33,
   "id": "013b860b-cb82-4e16-9554-8866c47b26db",
   "metadata": {},
   "outputs": [],
   "source": [
    "mean_x = X.mean()\n",
    "mean_y = y.mean()\n",
    "# calculating cross-deviation and deviation about x\n",
    "sum_yx = (X*y).sum()\n",
    "x_sq = (X**2).sum()\n",
    "ssxy = sum_yx - (len(X)*mean_x*mean_y)\n",
    "ssxx = ((X - mean_x)**2).sum()"
   ]
  },
  {
   "cell_type": "code",
   "execution_count": 34,
   "id": "d9b5f506-6d0f-46f4-93b2-fc15cddfd4e6",
   "metadata": {},
   "outputs": [
    {
     "name": "stdout",
     "output_type": "stream",
     "text": [
      "Theta 0: 4.569\n",
      "Theta 1: 3.003\n"
     ]
    }
   ],
   "source": [
    "# calculating regression coefficients\n",
    "theta_1 = ssxy/ssxx\n",
    "theta_0 = mean_y - (theta_1*mean_x)\n",
    "# printing both the values\n",
    "print('Theta 0: {:0.3f}'.format(theta_0))\n",
    "print('Theta 1: {:0.3f}'.format(theta_1))"
   ]
  },
  {
   "cell_type": "code",
   "execution_count": 41,
   "id": "5a3129ec-03eb-427f-b56c-b59e9603dc39",
   "metadata": {},
   "outputs": [],
   "source": [
    "def cost(theta,X,y):\n",
    "    '''\n",
    "    Calculates cost of the function.\n",
    "    X & y have their usual meaning.\n",
    "    theta - vector of coefficients.\n",
    "    '''\n",
    "    m = len(y)\n",
    "    # Calculating Cost\n",
    "    c = (1/2*m) * np.sum(np.square((X.dot(theta))-y))  \n",
    "    return c\n",
    "def gradient_descent(X,y,theta,alpha,iterations):\n",
    "    '''\n",
    "    returns array of thetas, cost of every iteration\n",
    "    X - X matrix with added bias.\n",
    "    y - target variable matrix\n",
    "    theta - matrix of regression coefficients\n",
    "    alpha - learning rate\n",
    "    iteration - number of iteration to be run\n",
    "    '''\n",
    "    #Getting number of observations.\n",
    "    m = len(y)\n",
    "    \n",
    "    # Initializing cost and theta's arrays with zeroes.\n",
    "    thetas = np.zeros((iterations,2))\n",
    "    costs = np.zeros(iterations)\n",
    "    \n",
    "    # Calculating theta for every iteration.\n",
    "    for i in range(iterations):\n",
    "            theta = theta - (1/m)*alpha*(X.T.dot((X.dot(theta))-y))\n",
    "            thetas[i,:] = theta.T\n",
    "            costs[i] = cost(theta,X,y)\n",
    "            \n",
    "    return theta,thetas,costs\n"
   ]
  },
  {
   "cell_type": "code",
   "execution_count": 42,
   "id": "5657a96f-cc46-4599-a26b-c50c36787c04",
   "metadata": {},
   "outputs": [
    {
     "name": "stdout",
     "output_type": "stream",
     "text": [
      "Final Theta 0 value: 4.562\n",
      "Final Theta 1 value: 3.009\n",
      "Final Cost/MSE(L2 Loss) Value: 457.254\n"
     ]
    }
   ],
   "source": [
    "# Learning Rate\n",
    "alpha = 0.01\n",
    "# Number of iterations\n",
    "iterations = 3000\n",
    "# Initializing a random value to give algorithm a base value.\n",
    "theta = np.random.randn(2,1)\n",
    "# Adding a biasing constant of value 1 to the features array.\n",
    "X_bias = np.c_[np.ones((len(X),1)),X]\n",
    "# Running Gradient Descent\n",
    "theta,thetas,costs = gradient_descent(X_bias,y,theta,alpha,iterations)\n",
    "# printing final values.\n",
    "print('Final Theta 0 value: {:0.3f}\\nFinal Theta 1 value: {:0.3f}'.format(theta[0][0],theta[1][0]))\n",
    "print('Final Cost/MSE(L2 Loss) Value: {:0.3f}'.format(costs[-1]))"
   ]
  },
  {
   "cell_type": "code",
   "execution_count": null,
   "id": "303e2eae-7403-4704-8994-c231ed11e94d",
   "metadata": {},
   "outputs": [],
   "source": []
  }
 ],
 "metadata": {
  "kernelspec": {
   "display_name": "Python 3 (ipykernel)",
   "language": "python",
   "name": "python3"
  },
  "language_info": {
   "codemirror_mode": {
    "name": "ipython",
    "version": 3
   },
   "file_extension": ".py",
   "mimetype": "text/x-python",
   "name": "python",
   "nbconvert_exporter": "python",
   "pygments_lexer": "ipython3",
   "version": "3.9.7"
  }
 },
 "nbformat": 4,
 "nbformat_minor": 5
}
