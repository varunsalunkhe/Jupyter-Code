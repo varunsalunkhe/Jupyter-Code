{
 "cells": [
  {
   "cell_type": "code",
   "execution_count": 4,
   "id": "e31d3060-8a66-4eec-aa1b-d5bb606ee0c8",
   "metadata": {},
   "outputs": [
    {
     "name": "stdout",
     "output_type": "stream",
     "text": [
      "Theta 0: 4.494\n",
      "Theta 1: 3.015\n"
     ]
    },
    {
     "data": {
      "image/png": "[encoded data removed]",
      "text/plain": [
       "<Figure size 432x288 with 1 Axes>"
      ]
     },
     "metadata": {
      "needs_background": "light"
     },
     "output_type": "display_data"
    },
    {
     "data": {
      "text/plain": [
       "<Figure size 1080x1800 with 0 Axes>"
      ]
     },
     "metadata": {},
     "output_type": "display_data"
    }
   ],
   "source": [
    "import numpy as np\n",
    "import matplotlib.pyplot as plt\n",
    "# Generating Randomized dataset\n",
    "X = 2*np.random.rand(100,1)\n",
    "y = 4 + 3*X+np.random.rand(100,1)\n",
    "# Scatter plot\n",
    "plt.scatter(X,y)\n",
    "plt.xlabel('X')\n",
    "plt.ylabel('y')\n",
    "plt.title('X vs y')\n",
    "plt.figure(figsize=(15,25))\n",
    "\n",
    "mean_x = X.mean()\n",
    "mean_y = y.mean()\n",
    "# calculating cross-deviation and deviation about x\n",
    "sum_yx = (X*y).sum()\n",
    "x_sq = (X**2).sum()\n",
    "ssxy = sum_yx - (len(X)*mean_x*mean_y)\n",
    "ssxx = ((X - mean_x)**2).sum()\n",
    "# calculating regression coefficients\n",
    "theta_1 = ssxy/ssxx\n",
    "theta_0 = mean_y - (theta_1*mean_x)\n",
    "# printing both the values\n",
    "print('Theta 0: {:0.3f}'.format(theta_0))\n",
    "print('Theta 1: {:0.3f}'.format(theta_1))"
   ]
  },
  {
   "cell_type": "code",
   "execution_count": 5,
   "id": "fc5091fd-b10a-4e4a-b2f7-a29066724dd5",
   "metadata": {},
   "outputs": [
    {
     "name": "stdout",
     "output_type": "stream",
     "text": [
      "Final Theta 0 value: 4.491\n",
      "Final Theta 1 value: 3.017\n",
      "Final Cost/MSE(L2 Loss) Value: 414.942\n"
     ]
    }
   ],
   "source": [
    "def cost(theta,X,y):\n",
    "    '''\n",
    "    Calculates cost of the function.\n",
    "    X & y have their usual meaning.\n",
    "    theta - vector of coefficients.\n",
    "    '''\n",
    "    m = len(y)\n",
    "    # Calculating Cost\n",
    "    c = (1/2*m) * np.sum(np.square((X.dot(theta))-y))  \n",
    "    return c\n",
    "def gradient_descent(X,y,theta,alpha,iterations):\n",
    "    '''\n",
    "    returns array of thetas, cost of every iteration\n",
    "    X - X matrix with added bias.\n",
    "    y - target variable matrix\n",
    "    theta - matrix of regression coefficients\n",
    "    alpha - learning rate\n",
    "    iteration - number of iteration to be run\n",
    "    '''\n",
    "    #Getting number of observations.\n",
    "    m = len(y)\n",
    "    \n",
    "    # Initializing cost and theta's arrays with zeroes.\n",
    "    thetas = np.zeros((iterations,2))\n",
    "    costs = np.zeros(iterations)\n",
    "    \n",
    "    # Calculating theta for every iteration.\n",
    "    for i in range(iterations):\n",
    "            theta = theta - (1/m)*alpha*(X.T.dot((X.dot(theta))-y))\n",
    "            thetas[i,:] = theta.T\n",
    "            costs[i] = cost(theta,X,y)\n",
    "            \n",
    "    return theta,thetas,costs\n",
    "# Learning Rate\n",
    "alpha = 0.01\n",
    "# Number of iterations\n",
    "iterations = 3000\n",
    "# Initializing a random value to give algorithm a base value.\n",
    "theta = np.random.randn(2,1)\n",
    "# Adding a biasing constant of value 1 to the features array.\n",
    "X_bias = np.c_[np.ones((len(X),1)),X]\n",
    "# Running Gradient Descent\n",
    "theta,thetas,costs = gradient_descent(X_bias,y,theta,alpha,iterations)\n",
    "# printing final values.\n",
    "print('Final Theta 0 value: {:0.3f}\\nFinal Theta 1 value: {:0.3f}'.format(theta[0][0],theta[1][0]))\n",
    "print('Final Cost/MSE(L2 Loss) Value: {:0.3f}'.format(costs[-1]))"
   ]
  },
  {
   "cell_type": "code",
   "execution_count": null,
   "id": "bc921419-94b4-4dd2-8436-c6b89054e7c8",
   "metadata": {},
   "outputs": [],
   "source": []
  }
 ],
 "metadata": {
  "kernelspec": {
   "display_name": "Python 3 (ipykernel)",
   "language": "python",
   "name": "python3"
  },
  "language_info": {
   "codemirror_mode": {
    "name": "ipython",
    "version": 3
   },
   "file_extension": ".py",
   "mimetype": "text/x-python",
   "name": "python",
   "nbconvert_exporter": "python",
   "pygments_lexer": "ipython3",
   "version": "3.9.7"
  }
 },
 "nbformat": 4,
 "nbformat_minor": 5
}
