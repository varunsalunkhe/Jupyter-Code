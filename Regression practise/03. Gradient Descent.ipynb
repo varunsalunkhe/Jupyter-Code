{
 "cells": [
  {
   "cell_type": "code",
   "execution_count": 1,
   "id": "8ab33f74-fa5b-4301-b427-d23ea6908684",
   "metadata": {},
   "outputs": [],
   "source": [
    "import numpy as np\n",
    "import matplotlib\n",
    "import matplotlib.pyplot as plt\n",
    "%matplotlib inline"
   ]
  },
  {
   "cell_type": "code",
   "execution_count": 2,
   "id": "5e33d726-d96c-48bf-a421-9711f71f5f4a",
   "metadata": {},
   "outputs": [],
   "source": [
    "rng = np.random.RandomState(25)\n",
    "\n",
    "m = 100\n",
    "\n",
    "X = 2 * rng.rand(m, 1)\n",
    "X_b = np.c_[np.ones((m, 1)), X]\n",
    "\n",
    "y = 4 + 3 * X + rng.rand(m, 1)"
   ]
  },
  {
   "cell_type": "code",
   "execution_count": 3,
   "id": "e0fe83f6-3b45-41ab-a2e0-92f841ba84dc",
   "metadata": {},
   "outputs": [],
   "source": [
    "def gradient_descent():\n",
    "    n_iterations = 1000\n",
    "    learning_rate = 0.05\n",
    "    \n",
    "    thetas = np.random.randn(2, 1)\n",
    "    thetas_path = [thetas]\n",
    "    \n",
    "    for i in range(n_iterations):\n",
    "        gradients = 2 * X_b.T @ (X_b @ thetas - y) / m\n",
    "        thetas = thetas - learning_rate * gradients\n",
    "        thetas_path.append(thetas)\n",
    "\n",
    "    return thetas_path"
   ]
  },
  {
   "cell_type": "code",
   "execution_count": 4,
   "id": "595c8783-5476-4eda-bfad-9108ae06a709",
   "metadata": {},
   "outputs": [],
   "source": [
    "def compute_mse(theta):\n",
    "    return ((X_b @ theta - y) ** 2).sum() / m"
   ]
  },
  {
   "cell_type": "code",
   "execution_count": 5,
   "id": "2aa8e140-46bc-49c7-9e5b-6f717ff9b9d8",
   "metadata": {},
   "outputs": [
    {
     "data": {
      "text/plain": [
       "(50, 50)"
      ]
     },
     "execution_count": 5,
     "metadata": {},
     "output_type": "execute_result"
    }
   ],
   "source": [
    "theta0, theta1 = np.meshgrid(np.arange(0, 5, 0.1), np.arange(0, 5, 0.1))\n",
    "r, c = theta0.shape\n",
    "r, c"
   ]
  },
  {
   "cell_type": "code",
   "execution_count": 6,
   "id": "563d56d6-dbc5-4ddb-b3d1-be8137d1c103",
   "metadata": {},
   "outputs": [
    {
     "data": {
      "text/plain": [
       "array([[5760, 5613, 5468, ..., 1003,  950,  899],\n",
       "       [5616, 5471, 5327, ...,  951,  900,  851],\n",
       "       [5474, 5331, 5190, ...,  902,  852,  805],\n",
       "       ...,\n",
       "       [1675, 1620, 1568, ..., 1254, 1293, 1334],\n",
       "       [1648, 1595, 1544, ..., 1319, 1360, 1403],\n",
       "       [1624, 1573, 1524, ..., 1387, 1430, 1475]])"
      ]
     },
     "execution_count": 6,
     "metadata": {},
     "output_type": "execute_result"
    }
   ],
   "source": [
    "cost_map = np.array([[0 for x in range(c)] for x in range(r)])\n",
    "for i in range(r):\n",
    "    for j in range(c):\n",
    "        theta = np.array([theta0[i,j], theta1[i,j]])\n",
    "        cost_map[i,j] = compute_mse(theta)\n",
    "        \n",
    "cost_map"
   ]
  },
  {
   "cell_type": "code",
   "execution_count": 7,
   "id": "739ea9ee-e4b1-43b3-997a-9c468fdd86c3",
   "metadata": {},
   "outputs": [],
   "source": [
    "exact_solution = np.linalg.inv(X_b.T @ X_b) @ X_b.T @ y\n",
    "thetas = np.array(gradient_descent())"
   ]
  },
  {
   "cell_type": "code",
   "execution_count": 8,
   "id": "d7ec10d2-aa02-4811-95a8-fdef6b0fd586",
   "metadata": {},
   "outputs": [
    {
     "data": {
      "text/plain": [
       "(array([4.43647008, 3.0305456 ]),)"
      ]
     },
     "execution_count": 8,
     "metadata": {},
     "output_type": "execute_result"
    }
   ],
   "source": [
    "thetas[-1].ravel(), "
   ]
  },
  {
   "cell_type": "code",
   "execution_count": 9,
   "id": "1234ca34-6e83-4d50-829e-a3d2d8cab101",
   "metadata": {},
   "outputs": [
    {
     "data": {
      "text/plain": [
       "[4.436470965632662, 3.030544809954586]"
      ]
     },
     "execution_count": 9,
     "metadata": {},
     "output_type": "execute_result"
    }
   ],
   "source": [
    "[exact_solution[0,0], exact_solution[1,0]]"
   ]
  },
  {
   "cell_type": "code",
   "execution_count": 10,
   "id": "cf276271-77d1-4e08-833c-7baae1d60f93",
   "metadata": {},
   "outputs": [
    {
     "data": {
      "image/png": "[encoded data removed]",
      "text/plain": [
       "<Figure size 720x360 with 2 Axes>"
      ]
     },
     "metadata": {
      "needs_background": "light"
     },
     "output_type": "display_data"
    }
   ],
   "source": [
    "fig = plt.figure(figsize=(10, 5))\n",
    "data_ax = fig.add_subplot(121)\n",
    "cost_ax = fig.add_subplot(122)\n",
    "\n",
    "data_ax.plot(X, y, 'b.')\n",
    "\n",
    "\n",
    "\n",
    "i = -1\n",
    "[data_plot] = data_ax.plot(X, X_b @ thetas[-1,:], 'r-')\n",
    "[cost_plot] = cost_ax.plot(thetas[:,0], thetas[:,1], 'r--')\n",
    "cost_ax.plot(exact_solution[0,0], exact_solution[1,0], 'y*')\n",
    "\n",
    "data_ax.set_xlim([0, 2])\n",
    "data_ax.set_ylim([0, 15])\n",
    "cost_ax.set_xlim([0, 5])\n",
    "cost_ax.set_ylim([0, 5])\n",
    "\n",
    "data_ax.set_xlabel(r'$x_1$')\n",
    "data_ax.set_ylabel(r'$y$', rotation=0)\n",
    "cost_ax.set_xlabel(r'$\\theta_0$')\n",
    "cost_ax.set_ylabel(r'$\\theta_1$')\n",
    "\n",
    "plt.show()"
   ]
  },
  {
   "cell_type": "code",
   "execution_count": null,
   "id": "1ae8f58f-cb72-4f19-ba64-8ec60c9c04fc",
   "metadata": {},
   "outputs": [],
   "source": []
  }
 ],
 "metadata": {
  "kernelspec": {
   "display_name": "Python 3 (ipykernel)",
   "language": "python",
   "name": "python3"
  },
  "language_info": {
   "codemirror_mode": {
    "name": "ipython",
    "version": 3
   },
   "file_extension": ".py",
   "mimetype": "text/x-python",
   "name": "python",
   "nbconvert_exporter": "python",
   "pygments_lexer": "ipython3",
   "version": "3.9.7"
  }
 },
 "nbformat": 4,
 "nbformat_minor": 5
}
