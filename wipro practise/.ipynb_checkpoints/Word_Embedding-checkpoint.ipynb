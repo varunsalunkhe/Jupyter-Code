{
  "nbformat": 4,
  "nbformat_minor": 0,
  "metadata": {
    "colab": {
      "provenance": []
    },
    "kernelspec": {
      "name": "python3",
      "display_name": "Python 3"
    },
    "language_info": {
      "name": "python"
    }
  },
  "cells": [
    {
      "cell_type": "code",
      "execution_count": 9,
      "metadata": {
        "id": "bFHBrV-uBySf"
      },
      "outputs": [],
      "source": [
        "from keras.preprocessing.text import one_hot\n",
        "from keras.layers import Embedding\n",
        "from keras.utils import pad_sequences\n",
        "from keras.models import Sequential"
      ]
    },
    {
      "cell_type": "code",
      "source": [
        "sentences = [\"mu name is varun\",\n",
        "             \"my name is vivek\",\n",
        "             \"i want to eat cake\",\n",
        "             \"I want to eat banana\",\n",
        "             \"please forgive me\",\n",
        "             \"i love you\",\n",
        "             \"I hate you\"]\n"
      ],
      "metadata": {
        "id": "4r_kXHx4CEfN"
      },
      "execution_count": 10,
      "outputs": []
    },
    {
      "cell_type": "code",
      "source": [
        "#One hot representation\n",
        "\n",
        "voc_size = 10000\n",
        "one_hot_repre = [one_hot(sen,voc_size) for sen in sentences]\n",
        "one_hot_repre"
      ],
      "metadata": {
        "colab": {
          "base_uri": "https://localhost:8080/"
        },
        "id": "QERavtJLC93A",
        "outputId": "2276c2e3-d55e-4fe4-e68a-d52b3cbe8032"
      },
      "execution_count": 11,
      "outputs": [
        {
          "output_type": "execute_result",
          "data": {
            "text/plain": [
              "[[3715, 5223, 5145, 4643],\n",
              " [8759, 5223, 5145, 8235],\n",
              " [6644, 9865, 1722, 221, 7823],\n",
              " [6644, 9865, 1722, 221, 9888],\n",
              " [4173, 3867, 7028],\n",
              " [6644, 3425, 4104],\n",
              " [6644, 9511, 4104]]"
            ]
          },
          "metadata": {},
          "execution_count": 11
        }
      ]
    },
    {
      "cell_type": "code",
      "source": [
        "#Word embedding reprentation\n",
        "sen_len = 7\n",
        "embedding_repre = pad_sequences(one_hot_repre,\n",
        "    maxlen=sen_len,\n",
        "    padding='pre',)\n",
        "embedding_repre"
      ],
      "metadata": {
        "colab": {
          "base_uri": "https://localhost:8080/"
        },
        "id": "csjEAa2WDEWY",
        "outputId": "49f60865-6ba1-4ad7-ddd9-d7c4d68375c6"
      },
      "execution_count": 12,
      "outputs": [
        {
          "output_type": "execute_result",
          "data": {
            "text/plain": [
              "array([[   0,    0,    0, 3715, 5223, 5145, 4643],\n",
              "       [   0,    0,    0, 8759, 5223, 5145, 8235],\n",
              "       [   0,    0, 6644, 9865, 1722,  221, 7823],\n",
              "       [   0,    0, 6644, 9865, 1722,  221, 9888],\n",
              "       [   0,    0,    0,    0, 4173, 3867, 7028],\n",
              "       [   0,    0,    0,    0, 6644, 3425, 4104],\n",
              "       [   0,    0,    0,    0, 6644, 9511, 4104]], dtype=int32)"
            ]
          },
          "metadata": {},
          "execution_count": 12
        }
      ]
    },
    {
      "cell_type": "code",
      "source": [
        "# Creating model\n",
        "\n",
        "model= Sequential()\n",
        "model.add(Embedding(voc_size, 10, input_length =sen_len))\n",
        "model.compile(\"adam\",\"mse\")\n",
        "model.summary()"
      ],
      "metadata": {
        "colab": {
          "base_uri": "https://localhost:8080/"
        },
        "id": "e0vNTnztHCwW",
        "outputId": "8c7110e7-808f-4faf-f89d-f924ec5db474"
      },
      "execution_count": 18,
      "outputs": [
        {
          "output_type": "stream",
          "name": "stdout",
          "text": [
            "Model: \"sequential_5\"\n",
            "_________________________________________________________________\n",
            " Layer (type)                Output Shape              Param #   \n",
            "=================================================================\n",
            " embedding (Embedding)       (None, 7, 10)             100000    \n",
            "                                                                 \n",
            "=================================================================\n",
            "Total params: 100000 (390.62 KB)\n",
            "Trainable params: 100000 (390.62 KB)\n",
            "Non-trainable params: 0 (0.00 Byte)\n",
            "_________________________________________________________________\n"
          ]
        }
      ]
    },
    {
      "cell_type": "code",
      "source": [
        "model.predict(embedding_repre[0])"
      ],
      "metadata": {
        "colab": {
          "base_uri": "https://localhost:8080/"
        },
        "id": "Wo7ONpdPH18I",
        "outputId": "9897551e-a9e6-44e2-e6fa-661051ca5134"
      },
      "execution_count": 21,
      "outputs": [
        {
          "output_type": "stream",
          "name": "stdout",
          "text": [
            "1/1 [==============================] - 0s 42ms/step\n"
          ]
        },
        {
          "output_type": "execute_result",
          "data": {
            "text/plain": [
              "array([[-0.01878628, -0.00569415,  0.03117286, -0.02104745,  0.02724132,\n",
              "        -0.01642019, -0.0445432 , -0.00223202, -0.02909727,  0.02913469],\n",
              "       [-0.01878628, -0.00569415,  0.03117286, -0.02104745,  0.02724132,\n",
              "        -0.01642019, -0.0445432 , -0.00223202, -0.02909727,  0.02913469],\n",
              "       [-0.01878628, -0.00569415,  0.03117286, -0.02104745,  0.02724132,\n",
              "        -0.01642019, -0.0445432 , -0.00223202, -0.02909727,  0.02913469],\n",
              "       [ 0.04964714, -0.02037836,  0.0068777 ,  0.0183677 , -0.0027095 ,\n",
              "        -0.01975833, -0.0403131 ,  0.04187182, -0.02127382, -0.02358574],\n",
              "       [ 0.01209236, -0.02165524, -0.02403947,  0.02688074,  0.01117599,\n",
              "        -0.03738539,  0.04721792,  0.00579611, -0.00530843, -0.04499676],\n",
              "       [ 0.02342996, -0.03177989,  0.00965911,  0.03055259,  0.03241111,\n",
              "         0.02738588, -0.04211953, -0.01940157,  0.04876233,  0.04753003],\n",
              "       [-0.03367933, -0.04114456,  0.0177424 , -0.02443169,  0.04945798,\n",
              "        -0.00312239,  0.03977582,  0.02506716, -0.00195505, -0.03755604]],\n",
              "      dtype=float32)"
            ]
          },
          "metadata": {},
          "execution_count": 21
        }
      ]
    },
    {
      "cell_type": "code",
      "source": [
        "embedding_repre[0]"
      ],
      "metadata": {
        "colab": {
          "base_uri": "https://localhost:8080/"
        },
        "id": "SRz1TsraIdLF",
        "outputId": "76df77c0-f68f-405e-9abb-f262302c51ba"
      },
      "execution_count": 22,
      "outputs": [
        {
          "output_type": "execute_result",
          "data": {
            "text/plain": [
              "array([   0,    0,    0, 3715, 5223, 5145, 4643], dtype=int32)"
            ]
          },
          "metadata": {},
          "execution_count": 22
        }
      ]
    },
    {
      "cell_type": "code",
      "source": [],
      "metadata": {
        "id": "WmuF_e3KIzSX"
      },
      "execution_count": null,
      "outputs": []
    }
  ]
}