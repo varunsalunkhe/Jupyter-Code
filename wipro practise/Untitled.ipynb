{
 "cells": [
  {
   "cell_type": "code",
   "execution_count": 1,
   "id": "cc43e555-016f-4482-8252-10095d594df3",
   "metadata": {},
   "outputs": [
    {
     "name": "stdout",
     "output_type": "stream",
     "text": [
      "hello\n"
     ]
    }
   ],
   "source": [
    "print(\"hello\")"
   ]
  },
  {
   "cell_type": "code",
   "execution_count": 9,
   "id": "89ea3fba",
   "metadata": {},
   "outputs": [
    {
     "name": "stdout",
     "output_type": "stream",
     "text": [
      "5\n",
      "1 \n",
      "\n",
      "1 2 \n",
      "\n",
      "2 3 4 \n",
      "\n",
      "4 5 6 7 \n",
      "\n",
      "7 8 9 10 11 \n",
      "\n"
     ]
    }
   ],
   "source": [
    "num = int(input())\n",
    "\n",
    "n = [i for i in  range(1,100)]\n",
    "\n",
    "t= 0\n",
    "\n",
    "for i in range(1,num+1):\n",
    "    for j in range(0,i):\n",
    "        \n",
    "        print(n[t], end = \" \")\n",
    "        t=t+1\n",
    "    print(\"\\n\")    \n",
    "    t=t-1\n",
    "    "
   ]
  },
  {
   "cell_type": "code",
   "execution_count": 11,
   "id": "5f135689",
   "metadata": {},
   "outputs": [
    {
     "name": "stdout",
     "output_type": "stream",
     "text": [
      "\n",
      "2 \n",
      "3 4 \n",
      "4 5 6 \n",
      "5 6 7 8 \n"
     ]
    }
   ],
   "source": [
    "n = [i for i in  range(1,100)]\n",
    "\n",
    "for i in range(0, 5):\n",
    "    for j in range(i):\n",
    "        print(n[j+i], end=\" \")\n",
    "        \n",
    "    print()"
   ]
  },
  {
   "cell_type": "code",
   "execution_count": 14,
   "id": "f25d6749",
   "metadata": {},
   "outputs": [
    {
     "name": "stdout",
     "output_type": "stream",
     "text": [
      "1\n",
      "8\n"
     ]
    }
   ],
   "source": [
    "def x(a):\n",
    "    print(a)\n",
    "    \n",
    "x(a=1)\n",
    "x(8)"
   ]
  },
  {
   "cell_type": "code",
   "execution_count": 17,
   "id": "962cdcff",
   "metadata": {},
   "outputs": [
    {
     "name": "stdout",
     "output_type": "stream",
     "text": [
      "8\n"
     ]
    }
   ],
   "source": [
    "def x(a,/):\n",
    "    print(a)\n",
    "    \n",
    "# x(a=1)  giving error\n",
    "x(8)"
   ]
  },
  {
   "cell_type": "code",
   "execution_count": 20,
   "id": "85a2351f",
   "metadata": {},
   "outputs": [
    {
     "name": "stdout",
     "output_type": "stream",
     "text": [
      "1\n"
     ]
    }
   ],
   "source": [
    "def x(*,a):\n",
    "    print(a)\n",
    "    \n",
    "x(a=1)\n",
    "# x(8)  giving error"
   ]
  },
  {
   "cell_type": "code",
   "execution_count": 23,
   "id": "be430d6a",
   "metadata": {},
   "outputs": [
    {
     "name": "stdout",
     "output_type": "stream",
     "text": [
      "(8, 5, 6) 6\n"
     ]
    }
   ],
   "source": [
    "def t(*a,b):\n",
    "    print(a,b)\n",
    "    \n",
    "t(8,5,6,b=6)"
   ]
  },
  {
   "cell_type": "code",
   "execution_count": 24,
   "id": "da48744e",
   "metadata": {},
   "outputs": [
    {
     "name": "stdout",
     "output_type": "stream",
     "text": [
      "(3, 4, 5, 6, 9)\n"
     ]
    }
   ],
   "source": [
    "def t(*a):\n",
    "    print(a)\n",
    "    \n",
    "t(3,4,5,6,9)"
   ]
  },
  {
   "cell_type": "code",
   "execution_count": 26,
   "id": "399723e4",
   "metadata": {},
   "outputs": [
    {
     "name": "stdout",
     "output_type": "stream",
     "text": [
      "{'m': 1, 'h': 5, 'k': 6, 'p': 8, 'r': 7}\n"
     ]
    }
   ],
   "source": [
    "def my_fun(**a):\n",
    "    print(a)\n",
    "    \n",
    "my_fun(m=1,h=5,k=6,p=8,r=7)"
   ]
  },
  {
   "cell_type": "code",
   "execution_count": 29,
   "id": "5451f641",
   "metadata": {},
   "outputs": [
    {
     "name": "stdout",
     "output_type": "stream",
     "text": [
      "[0, 2, 4, 6, 8]\n"
     ]
    }
   ],
   "source": [
    "n= [ i for i in range(10)]\n",
    "\n",
    "ans=[i for i in n if i%2 == 0]\n",
    "print(ans)"
   ]
  },
  {
   "cell_type": "code",
   "execution_count": 33,
   "id": "c60ba717",
   "metadata": {},
   "outputs": [
    {
     "name": "stdout",
     "output_type": "stream",
     "text": [
      "[[1, 4, 7, 0], [2, 5, 8, 0], [3, 6, 9, 0]]\n"
     ]
    }
   ],
   "source": [
    "mat=[[1,2,3],[4,5,6],[7,8,9],[0,0,0]]\n",
    "\n",
    "last=[]\n",
    "for i in range(0,3):\n",
    "    t = []\n",
    "    for row in mat:\n",
    "        \n",
    "        t.append(row[i])\n",
    "    last.append(t)\n",
    "    \n",
    "print(last)\n"
   ]
  },
  {
   "cell_type": "code",
   "execution_count": 34,
   "id": "16369f1e",
   "metadata": {},
   "outputs": [
    {
     "data": {
      "text/plain": [
       "[[1, 4, 7, 0], [2, 5, 8, 0], [3, 6, 9, 0]]"
      ]
     },
     "execution_count": 34,
     "metadata": {},
     "output_type": "execute_result"
    }
   ],
   "source": [
    "[[row[i] for row in mat] for i in range(3)]"
   ]
  },
  {
   "cell_type": "code",
   "execution_count": 51,
   "id": "f5966764",
   "metadata": {},
   "outputs": [
    {
     "data": {
      "text/plain": [
       "['r', 'u', 'v']"
      ]
     },
     "execution_count": 51,
     "metadata": {},
     "output_type": "execute_result"
    }
   ],
   "source": [
    "import random\n",
    "a=\"vAruna\"\n",
    "random.sample(a,3)"
   ]
  },
  {
   "cell_type": "code",
   "execution_count": 53,
   "id": "3d3865b8",
   "metadata": {},
   "outputs": [
    {
     "name": "stdout",
     "output_type": "stream",
     "text": [
      "varuna\n",
      "b'vAruna'\n",
      "1\n",
      "5\n",
      "vAruna\n"
     ]
    }
   ],
   "source": [
    "print(a.casefold())\n",
    "print(a.encode())\n",
    "print(a.count(a))\n",
    "print(a.find(\"a\",1))\n",
    "print(a.format())\n",
    "a.swapcase()\n"
   ]
  },
  {
   "cell_type": "code",
   "execution_count": null,
   "id": "82e85329",
   "metadata": {},
   "outputs": [],
   "source": []
  }
 ],
 "metadata": {
  "kernelspec": {
   "display_name": "Python 3 (ipykernel)",
   "language": "python",
   "name": "python3"
  },
  "language_info": {
   "codemirror_mode": {
    "name": "ipython",
    "version": 3
   },
   "file_extension": ".py",
   "mimetype": "text/x-python",
   "name": "python",
   "nbconvert_exporter": "python",
   "pygments_lexer": "ipython3",
   "version": "3.12.7"
  }
 },
 "nbformat": 4,
 "nbformat_minor": 5
}
