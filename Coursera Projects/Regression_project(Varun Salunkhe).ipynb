{
 "cells": [
  {
   "cell_type": "code",
   "execution_count": null,
   "id": "8ab85e1b-6c4a-4d2b-9dd5-63d9306e4709",
   "metadata": {},
   "outputs": [],
   "source": []
  },
  {
   "cell_type": "code",
   "execution_count": 1,
   "id": "969c8662-e0a5-4ad2-b504-6161c623fe16",
   "metadata": {},
   "outputs": [],
   "source": [
    "import numpy as np\n",
    "import pandas as pd\n",
    "from matplotlib import pyplot as plt\n",
    "%matplotlib inline"
   ]
  },
  {
   "cell_type": "code",
   "execution_count": 2,
   "id": "3c501f8f-df24-4ba2-84b1-79b65a06748e",
   "metadata": {},
   "outputs": [
    {
     "data": {
      "text/plain": [
       "dict_keys(['data', 'target', 'frame', 'DESCR', 'feature_names', 'data_filename', 'target_filename', 'data_module'])"
      ]
     },
     "execution_count": 2,
     "metadata": {},
     "output_type": "execute_result"
    }
   ],
   "source": [
    "from sklearn import linear_model, datasets\n",
    "die_data=datasets.load_diabetes()\n",
    "die_data.keys()\n"
   ]
  },
  {
   "cell_type": "code",
   "execution_count": 3,
   "id": "ac01e3c2-3af3-4444-828f-ad1c5f2663ab",
   "metadata": {},
   "outputs": [
    {
     "data": {
      "text/plain": [
       "(442, 10)"
      ]
     },
     "execution_count": 3,
     "metadata": {},
     "output_type": "execute_result"
    }
   ],
   "source": [
    "die_data.data.shape"
   ]
  },
  {
   "cell_type": "code",
   "execution_count": 4,
   "id": "c9a7355c-6788-4409-b961-727d38013224",
   "metadata": {},
   "outputs": [
    {
     "data": {
      "text/plain": [
       "array([[-0.05147406],\n",
       "       [ 0.04445121],\n",
       "       [-0.01159501],\n",
       "       [-0.03638469]])"
      ]
     },
     "execution_count": 4,
     "metadata": {},
     "output_type": "execute_result"
    }
   ],
   "source": [
    "data=die_data.data[:,np.newaxis,2]\n",
    "data[1:5]"
   ]
  },
  {
   "cell_type": "code",
   "execution_count": 5,
   "id": "2d6f77d3-b9ad-40fc-ab62-4e16413d6567",
   "metadata": {},
   "outputs": [
    {
     "data": {
      "text/plain": [
       "(442, 1)"
      ]
     },
     "execution_count": 5,
     "metadata": {},
     "output_type": "execute_result"
    }
   ],
   "source": [
    "data.shape"
   ]
  },
  {
   "cell_type": "code",
   "execution_count": 6,
   "id": "912cd124-c162-41cf-b1cc-5e66016354f4",
   "metadata": {},
   "outputs": [],
   "source": [
    "data_x_train=data[:-30]\n",
    "data_x_test=data[-20:]"
   ]
  },
  {
   "cell_type": "code",
   "execution_count": 7,
   "id": "9c06bdd8-522b-4bee-b166-6f7ec4ac6e3a",
   "metadata": {},
   "outputs": [
    {
     "data": {
      "text/plain": [
       "((412, 1), (20, 1))"
      ]
     },
     "execution_count": 7,
     "metadata": {},
     "output_type": "execute_result"
    }
   ],
   "source": [
    "data_x_train.shape,data_x_test.shape"
   ]
  },
  {
   "cell_type": "code",
   "execution_count": 8,
   "id": "0e6da678-ac63-4071-8ec2-fa10ad32f2f3",
   "metadata": {},
   "outputs": [],
   "source": [
    "data_y_train=die_data.target[:-30]\n",
    "data_y_test=die_data.target[-20:]"
   ]
  },
  {
   "cell_type": "code",
   "execution_count": 9,
   "id": "9199a2fa-7091-43e1-8f45-07b04cac1dff",
   "metadata": {},
   "outputs": [
    {
     "data": {
      "text/plain": [
       "((412,), (20,))"
      ]
     },
     "execution_count": 9,
     "metadata": {},
     "output_type": "execute_result"
    }
   ],
   "source": [
    "data_y_train.shape,data_y_test.shape"
   ]
  },
  {
   "cell_type": "code",
   "execution_count": 10,
   "id": "cc263dd4-ca3e-4a1c-b894-c111e0e3c987",
   "metadata": {},
   "outputs": [],
   "source": [
    "model=linear_model.LinearRegression()\n",
    "model.fit(data_x_train,data_y_train)\n",
    "predicted_x=model.predict(data_x_test)"
   ]
  },
  {
   "cell_type": "code",
   "execution_count": 11,
   "id": "304c348a-e4e2-4198-a352-45eef640d0ec",
   "metadata": {},
   "outputs": [
    {
     "name": "stdout",
     "output_type": "stream",
     "text": [
      "mse 2561.3204277283858\n"
     ]
    }
   ],
   "source": [
    "from sklearn.metrics import mean_squared_error\n",
    "print('mse',mean_squared_error(predicted_x,data_y_test))"
   ]
  },
  {
   "cell_type": "code",
   "execution_count": 12,
   "id": "f9f92216-6b6e-4132-95ef-c1928cd1c4f3",
   "metadata": {},
   "outputs": [
    {
     "data": {
      "text/plain": [
       "<matplotlib.legend.Legend at 0x19ad818eb50>"
      ]
     },
     "execution_count": 12,
     "metadata": {},
     "output_type": "execute_result"
    },
    {
     "data": {
      "image/png": "[encoded data removed]",
      "text/plain": [
       "<Figure size 432x288 with 1 Axes>"
      ]
     },
     "metadata": {},
     "output_type": "display_data"
    }
   ],
   "source": [
    "plt.style.use('ggplot')\n",
    "plt.scatter(data_x_test,data_y_test,color='red',label='datapoints')\n",
    "plt.plot(data_x_test,predicted_x, color='black',label='Regression-line')\n",
    "plt.legend()"
   ]
  }
 ],
 "metadata": {
  "kernelspec": {
   "display_name": "Python 3 (ipykernel)",
   "language": "python",
   "name": "python3"
  },
  "language_info": {
   "codemirror_mode": {
    "name": "ipython",
    "version": 3
   },
   "file_extension": ".py",
   "mimetype": "text/x-python",
   "name": "python",
   "nbconvert_exporter": "python",
   "pygments_lexer": "ipython3",
   "version": "3.9.13"
  }
 },
 "nbformat": 4,
 "nbformat_minor": 5
}
