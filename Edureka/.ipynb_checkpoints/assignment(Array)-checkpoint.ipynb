{
 "cells": [
  {
   "cell_type": "markdown",
   "id": "ff3dce5d-70b1-4932-8ab6-8211506aae0a",
   "metadata": {},
   "source": [
    "Problem Statement 1: Write a Python program to multiply a 𝑀 × 𝑁 matrix by 𝑁 × 𝐴 matrix and\n",
    "create a real matrix product.\n",
    "\n",
    "Example:\n",
    "Input:\n",
    "Enter value M: 5\n",
    "Enter value N: 3\n",
    "Enter value A: 2\n",
    "Output:\n",
    "First array:\n",
    "\n",
    "[[0.92825664 0.62790011 0.80130199]\n",
    "[0.64283876 0.16558409 0.54573802]\n",
    "[0.04319311 0.80229079 0.72512472]\n",
    "[0.8005622 0.98844625 0.6982794 ]\n",
    "[0.46600134 0.51451131 0.6415925 ]]\n",
    "\n",
    "Second array:\n",
    "\n",
    "[[0.31898348 0.49050318]\n",
    "[0.53845583 0.48259499]\n",
    "[0.89102055 0.35539951]]\n",
    "\n",
    "Dot product of two arrays:\n",
    "[[1.34817154 1.04311661]\n",
    "[0.78047845 0.58917954]\n",
    "[1.09187707 0.66607684]\n",
    "[1.40978205 1.11786566]\n",
    "[0.99736045 0.70489738]]"
   ]
  },
  {
   "cell_type": "code",
   "execution_count": 64,
   "id": "c7097e23-d95c-4f24-b589-1040d52c6ef9",
   "metadata": {},
   "outputs": [
    {
     "name": "stdin",
     "output_type": "stream",
     "text": [
      "Enter value of M 5\n",
      "Enter value of N 3\n",
      "Enter value of A 2\n"
     ]
    },
    {
     "name": "stdout",
     "output_type": "stream",
     "text": [
      "First array:\n",
      " [[0.27360688 0.10714463 0.3426758 ]\n",
      " [0.30849157 0.81669848 0.39053228]\n",
      " [0.3408479  0.78063967 0.10750092]\n",
      " [0.63321482 0.16726563 0.92035565]\n",
      " [0.74978383 0.9065478  0.51058699]]\n",
      "Second array:\n",
      " [[0.0386255  0.0358664 ]\n",
      " [0.64233896 0.94593181]\n",
      " [0.88341968 0.15911197]]\n",
      "Dot product of two arrays:\n",
      " [[0.38211792 0.16568863]\n",
      " [0.8815168  0.84574392]\n",
      " [0.60956913 0.76776157]\n",
      " [0.94495977 0.32737262]\n",
      " [1.06233435 0.96566495]]\n"
     ]
    }
   ],
   "source": [
    "import numpy as np\n",
    "\n",
    "M = int(input(\"Enter value of M\"))\n",
    "N = int(input(\"Enter value of N\"))\n",
    "A = int(input(\"Enter value of A\"))\n",
    "\n",
    "mat1= np.random.random((M,N))\n",
    "print(\"First array:\\n\", mat1)\n",
    "\n",
    "mat2= np.random.random((N,A))\n",
    "print(\"Second array:\\n\", mat2)\n",
    "\n",
    "mul =np.dot(mat1, mat2)\n",
    "print(\"Dot product of two arrays:\\n\",mul)"
   ]
  },
  {
   "cell_type": "code",
   "execution_count": null,
   "id": "73d866e2-ac5d-4a1c-896c-0dab53ccd8a0",
   "metadata": {},
   "outputs": [],
   "source": []
  },
  {
   "cell_type": "markdown",
   "id": "b6bb423a-a3ae-4b85-bff8-3417ad8fe881",
   "metadata": {},
   "source": [
    "Problem Statement 2: Write a NumPy program to check if each element of an array of your\n",
    "choice is composed of digits, lower case letters, and upper case letters only.\n",
    "Hint: You can use isdigit(),islower(), and isupper() function.\n",
    "Example:\n",
    " Input: Original Array:\n",
    " ['Python' 'PHP' 'JS' 'Examples' 'html5' '5']\n",
    " \n",
    " Output: Digits only = [False False False False False True]\n",
    " Lower cases only = [False False False False True False]\n",
    " Upper cases only = [False True True False False False]\n",
    " "
   ]
  },
  {
   "cell_type": "code",
   "execution_count": 65,
   "id": "e6525fa7-44b1-4a4d-9a45-0e09f59624f9",
   "metadata": {},
   "outputs": [
    {
     "name": "stdout",
     "output_type": "stream",
     "text": [
      "Digits only =  [False, False, False, False, False, True]\n",
      "Lower cases only =  [False, False, False, False, True, False]\n",
      "Upper cases only =  [False, True, True, False, False, False]\n"
     ]
    }
   ],
   "source": [
    "import numpy as np\n",
    "arr = np.array(['Python', 'PHP', 'JS', 'Examples' ,'html5', '5'])\n",
    "\n",
    "digits = [i.isdigit() for i in arr ]\n",
    "print(\"Digits only = \", digits)\n",
    "\n",
    "lower = [i.islower() for i in arr ]\n",
    "print(\"Lower cases only = \", lower)\n",
    "\n",
    "upper = [i.isupper() for i in arr ]\n",
    "print(\"Upper cases only = \", upper)"
   ]
  },
  {
   "cell_type": "code",
   "execution_count": null,
   "id": "f1663f0e-fcff-480c-95a2-c884f40605f6",
   "metadata": {},
   "outputs": [],
   "source": []
  },
  {
   "cell_type": "markdown",
   "id": "a139e743-9801-40cc-8007-44a361048a74",
   "metadata": {},
   "source": [
    "Problem Statement 3: Write a program that reads two space-separated positive integers 𝑋 and\n",
    "𝑌 as input and perform the following tasks:\n",
    "Tasks to be performed:\n",
    "1. Create a list (lst1) starting at one (1) with 16 elements at a step of 𝑋\n",
    "2. Create a list (lst2) starting at one (1) with 16 elements at a step of 𝑌\n",
    "3. Create two NumPy arrays np1 and np2 using lst1 and lst2 respectively\n",
    "4. Reshape both the NumPy arrays to (4,4)\n",
    "5. Create a new np array (np3) with values obtained by subtracting both the arrays (np1 -\n",
    "np2)\n",
    "6. Print all the elements of np3 in a single dimension list like the format as shown below:\n",
    "a. [n0 n1 n2 n3 n4 n5 n6 n7 n8]\n",
    "Example:\n",
    "Input:\n",
    "7 9\n",
    "Output:\n",
    "[ 0 -2 -4 -6 -8 -10 -12 -14 -16 -18 -20 -22 -24 -26 -28 -30]"
   ]
  },
  {
   "cell_type": "code",
   "execution_count": 55,
   "id": "c79726be-937e-4410-bbd2-88e87e8f4df6",
   "metadata": {},
   "outputs": [
    {
     "name": "stdin",
     "output_type": "stream",
     "text": [
      " 7 9\n"
     ]
    },
    {
     "name": "stdout",
     "output_type": "stream",
     "text": [
      "Output [  0  -2  -4  -6  -8 -10 -12 -14 -16 -18 -20 -22 -24 -26 -28 -30]\n"
     ]
    }
   ],
   "source": [
    "import numpy as np\n",
    "\n",
    "X,Y= input().split()\n",
    "\n",
    "list1=[1]\n",
    "list2 =[1]\n",
    "su1=1\n",
    "su2=1\n",
    "for i in range(15):\n",
    "    su1=su1+int(X)\n",
    "    list1.append(su1)\n",
    "\n",
    "    \n",
    "for i in range(15):\n",
    "    su2=su2+int(Y)\n",
    "    list2.append(su2)\n",
    "\n",
    "np1 = np.array(list1).reshape(4,4)\n",
    "np2 = np.array(list2).reshape(4,4)\n",
    "\n",
    "np3= np1 - np2 \n",
    "\n",
    "print(\"Output\", np3.flatten())\n",
    "\n"
   ]
  },
  {
   "cell_type": "code",
   "execution_count": null,
   "id": "d9f3a345-1907-4cf4-b929-9c468840085f",
   "metadata": {},
   "outputs": [],
   "source": [
    "\n"
   ]
  },
  {
   "cell_type": "markdown",
   "id": "1869ce98-5c46-4ae6-aa24-0edd07a3ed5e",
   "metadata": {},
   "source": [
    "Problem Statement 4: Write a Python program that takes two integer-NumPy arrays, 𝑃 and 𝑄 of\n",
    "shape [3 ∗ 3] and perform the following task:\n",
    "Task to be performed:\n",
    "Print the element-wise difference of the matrix 𝑃 and 𝑄 (𝑃 − 𝑄).\n",
    "Example:\n",
    "Input:\n",
    "23 56 87 3 6 96 4 6 78\n",
    "12 34 54 7 2 54 6 2 78\n",
    "Output:\n",
    "[[11 22 33]\n",
    "[-4 4 42]\n",
    "[-2 4 0]]"
   ]
  },
  {
   "cell_type": "code",
   "execution_count": 63,
   "id": "05b2b3a5-b5b1-48bb-8f83-f7f35467a753",
   "metadata": {},
   "outputs": [
    {
     "name": "stdin",
     "output_type": "stream",
     "text": [
      " 23 56 87 3 6 96 4 6 78\n",
      " 12 34 54 7 2 54 6 2 78\n"
     ]
    },
    {
     "name": "stdout",
     "output_type": "stream",
     "text": [
      "[[11 22 33]\n",
      " [-4  4 42]\n",
      " [-2  4  0]]\n"
     ]
    }
   ],
   "source": [
    "\n",
    "\n",
    "P = np.array([int(i) for i in input().split()]).reshape(3,3)\n",
    "Q = np.array([int(i) for i in input().split()]).reshape(3,3)\n",
    "\n",
    "print(P-Q)\n",
    "\n"
   ]
  },
  {
   "cell_type": "code",
   "execution_count": null,
   "id": "01c89eac-9c82-4d5c-906d-2d5067284cf9",
   "metadata": {},
   "outputs": [],
   "source": []
  },
  {
   "cell_type": "code",
   "execution_count": null,
   "id": "cbbeddff-23bf-4a8a-91d2-7c84c5b013c8",
   "metadata": {},
   "outputs": [],
   "source": []
  }
 ],
 "metadata": {
  "kernelspec": {
   "display_name": "Python 3 (ipykernel)",
   "language": "python",
   "name": "python3"
  },
  "language_info": {
   "codemirror_mode": {
    "name": "ipython",
    "version": 3
   },
   "file_extension": ".py",
   "mimetype": "text/x-python",
   "name": "python",
   "nbconvert_exporter": "python",
   "pygments_lexer": "ipython3",
   "version": "3.9.7"
  }
 },
 "nbformat": 4,
 "nbformat_minor": 5
}
