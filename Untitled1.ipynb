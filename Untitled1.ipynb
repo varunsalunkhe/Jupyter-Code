{
 "cells": [
  {
   "cell_type": "code",
   "execution_count": 1,
   "id": "3c4d960e-3fc2-49cf-9e68-e3d7f89c451e",
   "metadata": {},
   "outputs": [
    {
     "name": "stdout",
     "output_type": "stream",
     "text": [
      "\n"
     ]
    }
   ],
   "source": [
    "pri=\"Hello world\"\n",
    "print(pri[-4:4])"
   ]
  },
  {
   "cell_type": "code",
   "execution_count": null,
   "id": "db217783-50e2-447a-9670-c57e61aeb873",
   "metadata": {},
   "outputs": [],
   "source": []
  }
 ],
 "metadata": {
  "kernelspec": {
   "display_name": "Python 3 (ipykernel)",
   "language": "python",
   "name": "python3"
  },
  "language_info": {
   "codemirror_mode": {
    "name": "ipython",
    "version": 3
   },
   "file_extension": ".py",
   "mimetype": "text/x-python",
   "name": "python",
   "nbconvert_exporter": "python",
   "pygments_lexer": "ipython3",
   "version": "3.9.7"
  }
 },
 "nbformat": 4,
 "nbformat_minor": 5
}
