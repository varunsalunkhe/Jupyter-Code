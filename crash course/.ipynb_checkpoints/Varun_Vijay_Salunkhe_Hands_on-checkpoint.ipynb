{
 "cells": [
  {
   "cell_type": "markdown",
   "id": "32ce6b38-0389-42d0-bb06-5b69ad6d17cb",
   "metadata": {},
   "source": [
    "# Formative \n",
    "\n",
    "<img src=\"music.jpg\">\n",
    "\n",
    "Music Experts have been trying for a long time to understand sound and what differentiates one song from another. How to visualize sound. What makes a tone different from another. This dataset consists of the features extracted from a music audio file. for simplicity sake we have considered classifying the music into 3 categories: classical, disco and jazz.\n",
    "\n",
    "Attributes:\n",
    "1.\tlen : Length of the music\n",
    "2.\tcs_mean: Mean of intensity of pitches\n",
    "3.\tcs_var: Variance of Intensity of pitches\n",
    "4.\trms_mean: Mean of RMS of voltage\n",
    "5.\trms_var: Variance of RMS of voltage\n",
    "6.\tsb_mean: Mean of spectral bandwidth\n",
    "7.\tsb_var: Variance of spectral bandwidth\n",
    "8.\tro_var: Mean of roll off frequency filter\n",
    "9.\tro_mean: Variance of roll off frequency filter\n",
    "10.\tzcr_mean: Mean of zero crossing rate\n",
    "11.\tzcr_var: Variance of zero crossing rate\n",
    "12.\thar_mean: Mean of harmony\n",
    "13.\thar_var: Variance of harmony\n",
    "14.\ttempo: Music tempo\n",
    "15.\tlabel: classical, disco and jazz are 3 types of music\n"
   ]
  },
  {
   "cell_type": "code",
   "execution_count": 1,
   "id": "c389f775-0f14-489a-ab5d-96876bbd6a8b",
   "metadata": {},
   "outputs": [],
   "source": [
    "import numpy as np\n",
    "import pandas as pd\n",
    "import matplotlib as plt"
   ]
  },
  {
   "cell_type": "code",
   "execution_count": 2,
   "id": "d8319dc4-5a23-4b1c-b6e7-1907d42849a2",
   "metadata": {},
   "outputs": [
    {
     "data": {
      "text/html": [
       "<div>\n",
       "<style scoped>\n",
       "    .dataframe tbody tr th:only-of-type {\n",
       "        vertical-align: middle;\n",
       "    }\n",
       "\n",
       "    .dataframe tbody tr th {\n",
       "        vertical-align: top;\n",
       "    }\n",
       "\n",
       "    .dataframe thead th {\n",
       "        text-align: right;\n",
       "    }\n",
       "</style>\n",
       "<table border=\"1\" class=\"dataframe\">\n",
       "  <thead>\n",
       "    <tr style=\"text-align: right;\">\n",
       "      <th></th>\n",
       "      <th>len</th>\n",
       "      <th>cs_mean</th>\n",
       "      <th>cs_var</th>\n",
       "      <th>rms_mean</th>\n",
       "      <th>rms_var</th>\n",
       "      <th>sb_mean</th>\n",
       "      <th>sb_var</th>\n",
       "      <th>ro_mean</th>\n",
       "      <th>ro_var</th>\n",
       "      <th>zcr_mean</th>\n",
       "      <th>zcr_var</th>\n",
       "      <th>har_mean</th>\n",
       "      <th>har_var</th>\n",
       "      <th>tempo</th>\n",
       "      <th>label</th>\n",
       "    </tr>\n",
       "  </thead>\n",
       "  <tbody>\n",
       "    <tr>\n",
       "      <th>0</th>\n",
       "      <td>661794</td>\n",
       "      <td>0.252392</td>\n",
       "      <td>0.084153</td>\n",
       "      <td>0.036245</td>\n",
       "      <td>0.000221</td>\n",
       "      <td>1559.005740</td>\n",
       "      <td>43682.97327</td>\n",
       "      <td>2716.306158</td>\n",
       "      <td>299398.3072</td>\n",
       "      <td>0.098223</td>\n",
       "      <td>0.000431</td>\n",
       "      <td>-0.000047</td>\n",
       "      <td>0.001230</td>\n",
       "      <td>95.703125</td>\n",
       "      <td>classical</td>\n",
       "    </tr>\n",
       "    <tr>\n",
       "      <th>1</th>\n",
       "      <td>661794</td>\n",
       "      <td>0.214995</td>\n",
       "      <td>0.085010</td>\n",
       "      <td>0.030625</td>\n",
       "      <td>0.000161</td>\n",
       "      <td>1441.243134</td>\n",
       "      <td>32378.72969</td>\n",
       "      <td>2387.729130</td>\n",
       "      <td>368797.1379</td>\n",
       "      <td>0.087766</td>\n",
       "      <td>0.000630</td>\n",
       "      <td>-0.000051</td>\n",
       "      <td>0.001047</td>\n",
       "      <td>112.347147</td>\n",
       "      <td>classical</td>\n",
       "    </tr>\n",
       "    <tr>\n",
       "      <th>2</th>\n",
       "      <td>661794</td>\n",
       "      <td>0.277958</td>\n",
       "      <td>0.083759</td>\n",
       "      <td>0.043860</td>\n",
       "      <td>0.000193</td>\n",
       "      <td>1600.115744</td>\n",
       "      <td>31200.89904</td>\n",
       "      <td>2785.294011</td>\n",
       "      <td>274835.3889</td>\n",
       "      <td>0.090046</td>\n",
       "      <td>0.000395</td>\n",
       "      <td>-0.000020</td>\n",
       "      <td>0.001638</td>\n",
       "      <td>99.384014</td>\n",
       "      <td>classical</td>\n",
       "    </tr>\n",
       "    <tr>\n",
       "      <th>3</th>\n",
       "      <td>661794</td>\n",
       "      <td>0.234229</td>\n",
       "      <td>0.083451</td>\n",
       "      <td>0.029442</td>\n",
       "      <td>0.000357</td>\n",
       "      <td>1499.439342</td>\n",
       "      <td>60196.22756</td>\n",
       "      <td>2916.000387</td>\n",
       "      <td>499393.9317</td>\n",
       "      <td>0.108946</td>\n",
       "      <td>0.001161</td>\n",
       "      <td>-0.000035</td>\n",
       "      <td>0.001164</td>\n",
       "      <td>71.777344</td>\n",
       "      <td>classical</td>\n",
       "    </tr>\n",
       "    <tr>\n",
       "      <th>4</th>\n",
       "      <td>661794</td>\n",
       "      <td>0.221574</td>\n",
       "      <td>0.085000</td>\n",
       "      <td>0.042316</td>\n",
       "      <td>0.000209</td>\n",
       "      <td>1646.064010</td>\n",
       "      <td>25963.45828</td>\n",
       "      <td>3174.931743</td>\n",
       "      <td>333266.8791</td>\n",
       "      <td>0.112857</td>\n",
       "      <td>0.000835</td>\n",
       "      <td>-0.000059</td>\n",
       "      <td>0.001838</td>\n",
       "      <td>161.499023</td>\n",
       "      <td>classical</td>\n",
       "    </tr>\n",
       "  </tbody>\n",
       "</table>\n",
       "</div>"
      ],
      "text/plain": [
       "      len   cs_mean    cs_var  rms_mean   rms_var      sb_mean       sb_var  \\\n",
       "0  661794  0.252392  0.084153  0.036245  0.000221  1559.005740  43682.97327   \n",
       "1  661794  0.214995  0.085010  0.030625  0.000161  1441.243134  32378.72969   \n",
       "2  661794  0.277958  0.083759  0.043860  0.000193  1600.115744  31200.89904   \n",
       "3  661794  0.234229  0.083451  0.029442  0.000357  1499.439342  60196.22756   \n",
       "4  661794  0.221574  0.085000  0.042316  0.000209  1646.064010  25963.45828   \n",
       "\n",
       "       ro_mean       ro_var  zcr_mean   zcr_var  har_mean   har_var  \\\n",
       "0  2716.306158  299398.3072  0.098223  0.000431 -0.000047  0.001230   \n",
       "1  2387.729130  368797.1379  0.087766  0.000630 -0.000051  0.001047   \n",
       "2  2785.294011  274835.3889  0.090046  0.000395 -0.000020  0.001638   \n",
       "3  2916.000387  499393.9317  0.108946  0.001161 -0.000035  0.001164   \n",
       "4  3174.931743  333266.8791  0.112857  0.000835 -0.000059  0.001838   \n",
       "\n",
       "        tempo      label  \n",
       "0   95.703125  classical  \n",
       "1  112.347147  classical  \n",
       "2   99.384014  classical  \n",
       "3   71.777344  classical  \n",
       "4  161.499023  classical  "
      ]
     },
     "execution_count": 2,
     "metadata": {},
     "output_type": "execute_result"
    }
   ],
   "source": [
    "music = pd.read_csv('music.csv')\n",
    "music.head()"
   ]
  },
  {
   "cell_type": "markdown",
   "id": "f53a1636-a91e-4221-8a71-5171721536a3",
   "metadata": {},
   "source": [
    "Q1: Check for missing values. Impute with mean if any missing values are present. (5 Marks)\n",
    "\n",
    "Hint: Use SimpleImputer"
   ]
  },
  {
   "cell_type": "code",
   "execution_count": 3,
   "id": "c98f0072-8217-4d9a-adc4-d7641e3ac48b",
   "metadata": {},
   "outputs": [
    {
     "data": {
      "text/plain": [
       "len          0\n",
       "cs_mean      0\n",
       "cs_var       0\n",
       "rms_mean     0\n",
       "rms_var     16\n",
       "sb_mean      0\n",
       "sb_var       0\n",
       "ro_mean      0\n",
       "ro_var       0\n",
       "zcr_mean     0\n",
       "zcr_var      0\n",
       "har_mean     0\n",
       "har_var      0\n",
       "tempo        0\n",
       "label        0\n",
       "dtype: int64"
      ]
     },
     "execution_count": 3,
     "metadata": {},
     "output_type": "execute_result"
    }
   ],
   "source": [
    "music.isnull().sum()"
   ]
  },
  {
   "cell_type": "code",
   "execution_count": 4,
   "id": "8eaf30fd-6514-49f3-9fc1-bce40e127fd6",
   "metadata": {},
   "outputs": [],
   "source": [
    "# Write the answer here\n"
   ]
  },
  {
   "cell_type": "markdown",
   "id": "af61e429-e0fa-4405-8da6-6f42b9d2d913",
   "metadata": {},
   "source": [
    "Q2: Apply min max scaling for all the attributes. (5 Marks)"
   ]
  },
  {
   "cell_type": "code",
   "execution_count": 5,
   "id": "3168eff8-6519-42d3-a8b3-70a150c2b6f2",
   "metadata": {},
   "outputs": [],
   "source": [
    "# Write the answer here\n",
    "\n"
   ]
  },
  {
   "cell_type": "markdown",
   "id": "72354e6a-21bb-4911-93ef-437645408010",
   "metadata": {},
   "source": [
    "Q3: Split the data into test and train and apply Logistic Regression to predict the category of the music. (10 Marks)"
   ]
  },
  {
   "cell_type": "code",
   "execution_count": 6,
   "id": "38d3cde2-3e57-4b27-941e-24b4bb79a877",
   "metadata": {},
   "outputs": [],
   "source": [
    "from sklearn.model_selection import train_test_split\n",
    "X = music.drop('label', axis=1)\n",
    "y = music.label\n",
    "X_train, X_train, y_train, y_test = train_test_split(X, y, test_size=0.25, random_state=10)"
   ]
  },
  {
   "cell_type": "code",
   "execution_count": 7,
   "id": "415ff81c-83c4-4a64-a89f-478a6744571f",
   "metadata": {},
   "outputs": [],
   "source": [
    "# Write the answer here\n",
    "\n"
   ]
  },
  {
   "cell_type": "markdown",
   "id": "66ff7f09-9460-4cef-ab2a-8b2f7e1f7f8f",
   "metadata": {},
   "source": [
    "Q4: Find out the best regularization parameters for Logistic Regression using GridSearchCV. (10 Marks)\n",
    "\n",
    "Hint: use the penalty and solver parameters"
   ]
  },
  {
   "cell_type": "code",
   "execution_count": 8,
   "id": "31031b59-3ab7-41a2-9f18-9d87dad946c8",
   "metadata": {},
   "outputs": [],
   "source": [
    "# Write the answer here\n",
    "\n"
   ]
  },
  {
   "cell_type": "markdown",
   "id": "3442e8f6-c0e6-4b82-9850-70889396857d",
   "metadata": {},
   "source": [
    "Q5: Apply Decision Tree Classifier, Bagging Classifier and Random Forest Classifier and compare it with Logistic regression (10 marks)"
   ]
  },
  {
   "cell_type": "code",
   "execution_count": 9,
   "id": "6f363219-5dec-4c55-a9af-528266024507",
   "metadata": {},
   "outputs": [],
   "source": [
    "# Write the answer here\n",
    "\n"
   ]
  }
 ],
 "metadata": {
  "kernelspec": {
   "display_name": "Python 3 (ipykernel)",
   "language": "python",
   "name": "python3"
  },
  "language_info": {
   "codemirror_mode": {
    "name": "ipython",
    "version": 3
   },
   "file_extension": ".py",
   "mimetype": "text/x-python",
   "name": "python",
   "nbconvert_exporter": "python",
   "pygments_lexer": "ipython3",
   "version": "3.10.0"
  }
 },
 "nbformat": 4,
 "nbformat_minor": 5
}
