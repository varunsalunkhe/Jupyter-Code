{
 "cells": [
  {
   "cell_type": "code",
   "execution_count": 1,
   "id": "29088bc0-4b03-491d-84c8-c186ac87a53c",
   "metadata": {},
   "outputs": [
    {
     "data": {
      "text/plain": [
       "'hhgkjfgkjfgj'"
      ]
     },
     "execution_count": 1,
     "metadata": {},
     "output_type": "execute_result"
    }
   ],
   "source": [
    "test='hhgkj fgkj fgj'\n",
    "test.replace(' ','')"
   ]
  },
  {
   "cell_type": "code",
   "execution_count": null,
   "id": "b7bb9f8e-dba4-4556-8339-c07decde6018",
   "metadata": {},
   "outputs": [],
   "source": []
  }
 ],
 "metadata": {
  "kernelspec": {
   "display_name": "Python 3 (ipykernel)",
   "language": "python",
   "name": "python3"
  },
  "language_info": {
   "codemirror_mode": {
    "name": "ipython",
    "version": 3
   },
   "file_extension": ".py",
   "mimetype": "text/x-python",
   "name": "python",
   "nbconvert_exporter": "python",
   "pygments_lexer": "ipython3",
   "version": "3.9.7"
  }
 },
 "nbformat": 4,
 "nbformat_minor": 5
}
