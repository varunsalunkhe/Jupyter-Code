{
 "cells": [
  {
   "cell_type": "code",
   "execution_count": 8,
   "id": "c8cc9118-7e8a-4d3a-b6b7-3143360534f0",
   "metadata": {},
   "outputs": [],
   "source": [
    "# !pip install ctransformers\n",
    "# !pip install chromadb\n",
    "# !pip install langchain\n",
    "# !pip install sentence_transformers\n",
    "# !pip install bitsandbytes\n",
    "# !pip install unstructured\n",
    "# !pip install transformers"
   ]
  },
  {
   "cell_type": "code",
   "execution_count": 3,
   "id": "d60583aa-d9e0-49e9-92e0-ea045ee2aff2",
   "metadata": {},
   "outputs": [
    {
     "name": "stdout",
     "output_type": "stream",
     "text": [
      "['https://www.understandingwar.org/backgrounder/russian-offensive-campaign-assessment-february-8-2023', 'https://www.understandingwar.org/backgrounder/russian-offensive-campaign-assessment-february-9-2023']\n"
     ]
    }
   ],
   "source": [
    "#loading URL's\n",
    "import pandas\n",
    "from langchain_community.document_loaders import UnstructuredURLLoader\n",
    "\n",
    "urls = [\n",
    "    \"https://www.understandingwar.org/backgrounder/russian-offensive-campaign-assessment-february-8-2023\",\n",
    "    \"https://www.understandingwar.org/backgrounder/russian-offensive-campaign-assessment-february-9-2023\",\n",
    "]\n",
    "\n",
    "print(urls)"
   ]
  },
  {
   "cell_type": "code",
   "execution_count": 9,
   "id": "507860a5-6941-4627-ad37-2d17a29c45d4",
   "metadata": {},
   "outputs": [
    {
     "name": "stdout",
     "output_type": "stream",
     "text": [
      "<langchain_community.document_loaders.url.UnstructuredURLLoader object at 0x00000289F5028EF0>\n"
     ]
    }
   ],
   "source": [
    "#Loading the data from URLs\n",
    "\n",
    "loader = UnstructuredURLLoader(urls=urls)\n",
    "\n",
    "print(loader)\n",
    "\n",
    "data = loader.load()\n",
    "\n",
    "# print(data)"
   ]
  },
  {
   "cell_type": "code",
   "execution_count": 5,
   "id": "8a3dee75-afc1-4d51-ac4b-088c0c461c70",
   "metadata": {},
   "outputs": [],
   "source": [
    "# LangChain\n",
    "from langchain.llms import HuggingFacePipeline\n",
    "from langchain.document_loaders import DataFrameLoader\n",
    "from langchain.text_splitter import RecursiveCharacterTextSplitter\n",
    "from langchain.embeddings import HuggingFaceEmbeddings\n",
    "from langchain.chains import RetrievalQA\n",
    "from langchain.vectorstores import Chroma\n",
    "from langchain.llms import CTransformers\n",
    "\n",
    "from transformers import AutoModelForCausalLM\n",
    "\n",
    "# Hiding warnings\n",
    "import warnings\n",
    "warnings.filterwarnings(\"ignore\")"
   ]
  },
  {
   "cell_type": "code",
   "execution_count": 10,
   "id": "8cc5082a-2cb6-4e02-93c8-45c3d298fc3a",
   "metadata": {},
   "outputs": [
    {
     "data": {
      "text/plain": [
       "88"
      ]
     },
     "execution_count": 10,
     "metadata": {},
     "output_type": "execute_result"
    }
   ],
   "source": [
    "# Splitting the data into the chunks\n",
    "\n",
    "splitter = RecursiveCharacterTextSplitter(separators = [\"\\n\\n\",\"\\n\",\" \"], chunk_size = 1000 , chunk_overlap = 50 )\n",
    "chunks = splitter.split_documents(data)\n",
    "len(chunks)"
   ]
  },
  {
   "cell_type": "code",
   "execution_count": null,
   "id": "262e723e-7c7d-45d1-a300-c87019599ff7",
   "metadata": {},
   "outputs": [],
   "source": []
  }
 ],
 "metadata": {
  "kernelspec": {
   "display_name": "Python 3 (ipykernel)",
   "language": "python",
   "name": "python3"
  },
  "language_info": {
   "codemirror_mode": {
    "name": "ipython",
    "version": 3
   },
   "file_extension": ".py",
   "mimetype": "text/x-python",
   "name": "python",
   "nbconvert_exporter": "python",
   "pygments_lexer": "ipython3",
   "version": "3.12.7"
  }
 },
 "nbformat": 4,
 "nbformat_minor": 5
}
