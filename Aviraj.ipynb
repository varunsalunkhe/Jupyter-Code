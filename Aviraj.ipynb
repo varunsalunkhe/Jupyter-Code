{
 "cells": [
  {
   "cell_type": "code",
   "execution_count": null,
   "id": "a8f9332b-56c0-49da-b03f-af83f4aa8f4b",
   "metadata": {},
   "outputs": [],
   "source": []
  },
  {
   "cell_type": "code",
   "execution_count": null,
   "id": "3c1cefb8-52d7-43a6-b9d0-72a8e46e3442",
   "metadata": {},
   "outputs": [],
   "source": []
  },
  {
   "cell_type": "code",
   "execution_count": null,
   "id": "7510c1f8-cbe1-4340-9b14-6eaa3d0c95b6",
   "metadata": {},
   "outputs": [],
   "source": []
  },
  {
   "cell_type": "code",
   "execution_count": 1,
   "id": "5329000a-bb91-4294-a85b-87f48fe9278c",
   "metadata": {},
   "outputs": [
    {
     "name": "stdin",
     "output_type": "stream",
     "text": [
      " jfj\n"
     ]
    },
    {
     "name": "stdout",
     "output_type": "stream",
     "text": [
      "z\n",
      "z\n"
     ]
    }
   ],
   "source": [
    "str=input()\n",
    "\n",
    "\n",
    "for i in str:\n",
    "    a=i+str\n",
    "    check=a[::-1]\n",
    "    if check==a:\n",
    "        print(i)\n",
    "        break\n",
    "    if (i==str[-1]):\n",
    "        print('z')\n",
    " "
   ]
  },
  {
   "cell_type": "code",
   "execution_count": null,
   "id": "25b5a45e-a074-450b-834b-db4ae119c3f8",
   "metadata": {},
   "outputs": [],
   "source": []
  }
 ],
 "metadata": {
  "kernelspec": {
   "display_name": "Python 3 (ipykernel)",
   "language": "python",
   "name": "python3"
  },
  "language_info": {
   "codemirror_mode": {
    "name": "ipython",
    "version": 3
   },
   "file_extension": ".py",
   "mimetype": "text/x-python",
   "name": "python",
   "nbconvert_exporter": "python",
   "pygments_lexer": "ipython3",
   "version": "3.9.7"
  }
 },
 "nbformat": 4,
 "nbformat_minor": 5
}
