{
 "cells": [
  {
   "cell_type": "code",
   "execution_count": 1,
   "id": "de1c2121-a725-46eb-a945-b0462a7b4860",
   "metadata": {},
   "outputs": [
    {
     "name": "stdout",
     "output_type": "stream",
     "text": [
      "this is palindrome\n",
      "Length 4\n",
      "3rd position character  o\n"
     ]
    }
   ],
   "source": [
    "str= 'noon'\n",
    "pale=str[::-1]\n",
    "if str==pale:\n",
    "    print(\"this is palindrome\")\n",
    "print(\"Length\", len(str))\n",
    "print(\"3rd position character \", str[2])"
   ]
  },
  {
   "cell_type": "code",
   "execution_count": null,
   "id": "35db064e-f96b-45f6-921c-6f51701263dd",
   "metadata": {},
   "outputs": [],
   "source": []
  },
  {
   "cell_type": "code",
   "execution_count": 2,
   "id": "29aebf4b-2687-4500-a6f4-15700eb6ff59",
   "metadata": {},
   "outputs": [
    {
     "name": "stdout",
     "output_type": "stream",
     "text": [
      "sfs\n",
      "this is palindrome\n",
      "Length 3\n",
      "3rd position character  s\n"
     ]
    }
   ],
   "source": [
    "str= input()\n",
    "pale=''\n",
    "for i in str:\n",
    "    pale=pale+i\n",
    "\n",
    "if str==pale:\n",
    "    print(\"this is palindrome\")\n",
    "print(\"Length\", len(str))\n",
    "print(\"3rd position character \", str[2])"
   ]
  },
  {
   "cell_type": "code",
   "execution_count": null,
   "id": "f9684ed0-1b76-47b5-84c2-d2416280dbc8",
   "metadata": {},
   "outputs": [],
   "source": []
  }
 ],
 "metadata": {
  "kernelspec": {
   "display_name": "Python 3 (ipykernel)",
   "language": "python",
   "name": "python3"
  },
  "language_info": {
   "codemirror_mode": {
    "name": "ipython",
    "version": 3
   },
   "file_extension": ".py",
   "mimetype": "text/x-python",
   "name": "python",
   "nbconvert_exporter": "python",
   "pygments_lexer": "ipython3",
   "version": "3.9.13"
  }
 },
 "nbformat": 4,
 "nbformat_minor": 5
}
